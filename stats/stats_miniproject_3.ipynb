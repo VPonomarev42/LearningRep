{
  "nbformat": 4,
  "nbformat_minor": 0,
  "metadata": {
    "colab": {
      "name": "stats_miniproject_3.ipynb",
      "provenance": [],
      "authorship_tag": "ABX9TyPcZAcwdjMFDixJ+5M5ls87",
      "include_colab_link": true
    },
    "kernelspec": {
      "name": "python3",
      "display_name": "Python 3"
    }
  },
  "cells": [
    {
      "cell_type": "markdown",
      "metadata": {
        "id": "view-in-github",
        "colab_type": "text"
      },
      "source": [
        "<a href=\"https://colab.research.google.com/github/VPonomarev42/LearningRep/blob/miniproject_3/stats/stats_miniproject_3.ipynb\" target=\"_parent\"><img src=\"https://colab.research.google.com/assets/colab-badge.svg\" alt=\"Open In Colab\"/></a>"
      ]
    },
    {
      "cell_type": "code",
      "metadata": {
        "id": "jq7HU2rFXtTS"
      },
      "source": [
        "import pandas as pd\r\n",
        "import numpy as np\r\n",
        "import seaborn as sns\r\n",
        "import matplotlib.pylab as plt\r\n",
        "from scipy.stats import iqr\r\n",
        "%matplotlib inline"
      ],
      "execution_count": 1,
      "outputs": []
    },
    {
      "cell_type": "markdown",
      "metadata": {
        "id": "jXrDShUJX6vj"
      },
      "source": [
        "Представьте, что вы работаете аналитиком в компании, которая занимается арендой велосипедов. Коллега из офиса в Лондоне прислал вам данные за два года: с 4 января 2015 по 3 января 2017. Вам предстоит изучить динамику числа аренд, наличие связи с погодными условиями и выходными, а также объяснить несколько аномалий на графике.\r\n",
        "\r\n",
        "**Задания**\r\n",
        "1. Загрузите данные, проверьте число наблюдений и столбцов, наличие пропусков. Убедитесь, что типы данных были прочитаны правильно. При необходимости – приведите переменные к нужным типам.\r\n",
        "2. Постройте график по числу поездок по дате и времени.\r\n",
        "3. Преобразуйте данные и посчитайте число поездок по дням. Визуализируйте результат.\r\n",
        "4. Используйте агрегированные данные по дням и посчитайте скользящее среднее с окном 3. В качестве ответа укажите полученное число аренд за 2015-07-09, округлив значение до целого.\r\n",
        "5. Посчитайте разницу между наблюдаемыми и значениями, подсчитанными с помощью скользящего среднего. Далее – найдите стандартное отклонение.\r\n",
        "6. Определите границы 99% доверительного интервала, добавьте данную информацию в датафрейм.\r\n",
        "7. Изучите аномально высокие значения и укажите день, когда число аренд было наибольшим. Найдите причину данной аномалии.\r\n",
        "8. Изучите аномально низкие значения, найдите день с наименьшим числом аренд.Найдите причину данной аномалии."
      ]
    },
    {
      "cell_type": "markdown",
      "metadata": {
        "id": "f7K1P8WiYRsY"
      },
      "source": [
        "**Описание данных**\r\n",
        "* **timestamp** – дата и время (точность до часа) \r\n",
        "**cnt** – количество аренд велосипедов за этот час\r\n",
        "**t1** – температура, в С\r\n",
        "**t2** – температура \"ощущается как\", в С \r\n",
        "**hum** – влажность (%)\r\n",
        "**wind_speed** – скорость ветра, км/ч\r\n",
        "**weather_code** – погодные условия\r\n",
        "1 – ясно (SKC)\r\n",
        "2 – преимущественно ясно / встречаются отдельные облака (SCT)\r\n",
        "3 – облачно / значительные облака (BKN)\r\n",
        "4 – пасмурно (OVC)\r\n",
        "7 – небольшой дождь Rain/ light Rain shower/ Light rain \r\n",
        "10 – дождь с грозой\r\n",
        "26 – снегопад \r\n",
        "94 – ледяной туман (да, такое бывает!)\r\n",
        "**isholiday** – является ли день праздником (1 – праздник, 0 – нет)\r\n",
        "**isweekend** –  является ли день выходным (1 – выходной, 0 – нет)\r\n",
        "**season** – метеорологический сезон (0 – весна, 1 – лето, 2 – осень, 3 – зима)\r\n"
      ]
    },
    {
      "cell_type": "markdown",
      "metadata": {
        "id": "aHFhZdbWY6jD"
      },
      "source": [
        "\r\n",
        "\r\n",
        "---\r\n",
        "\r\n",
        "---\r\n",
        "\r\n",
        "\r\n",
        "\r\n"
      ]
    },
    {
      "cell_type": "markdown",
      "metadata": {
        "id": "9Z7eeDT1Y9Wy"
      },
      "source": [
        "1. Загрузите [данные](https://stepik.org/media/attachments/lesson/384464/london.csv), проверьте число наблюдений и столбцов, наличие пропусков. Убедитесь, что типы данных были прочитаны правильно. При необходимости – приведите переменные к нужным типам.\r\n"
      ]
    },
    {
      "cell_type": "code",
      "metadata": {
        "id": "7l74l5tlbDMm"
      },
      "source": [
        "sns.set(rc={'figure.figsize':(10,5)}, style='whitegrid')"
      ],
      "execution_count": 21,
      "outputs": []
    },
    {
      "cell_type": "code",
      "metadata": {
        "colab": {
          "base_uri": "https://localhost:8080/",
          "height": 195
        },
        "id": "HL44AI-PX1Kp",
        "outputId": "f5ef41ad-4128-4f5d-fe47-91c469068890"
      },
      "source": [
        "data = pd.read_csv('https://stepik.org/media/attachments/lesson/384464/london.csv', parse_dates=[0])\r\n",
        "data.head()"
      ],
      "execution_count": 9,
      "outputs": [
        {
          "output_type": "execute_result",
          "data": {
            "text/html": [
              "<div>\n",
              "<style scoped>\n",
              "    .dataframe tbody tr th:only-of-type {\n",
              "        vertical-align: middle;\n",
              "    }\n",
              "\n",
              "    .dataframe tbody tr th {\n",
              "        vertical-align: top;\n",
              "    }\n",
              "\n",
              "    .dataframe thead th {\n",
              "        text-align: right;\n",
              "    }\n",
              "</style>\n",
              "<table border=\"1\" class=\"dataframe\">\n",
              "  <thead>\n",
              "    <tr style=\"text-align: right;\">\n",
              "      <th></th>\n",
              "      <th>timestamp</th>\n",
              "      <th>cnt</th>\n",
              "      <th>t1</th>\n",
              "      <th>t2</th>\n",
              "      <th>hum</th>\n",
              "      <th>wind_speed</th>\n",
              "      <th>weather_code</th>\n",
              "      <th>is_holiday</th>\n",
              "      <th>is_weekend</th>\n",
              "      <th>season</th>\n",
              "    </tr>\n",
              "  </thead>\n",
              "  <tbody>\n",
              "    <tr>\n",
              "      <th>0</th>\n",
              "      <td>2015-01-04 00:00:00</td>\n",
              "      <td>182</td>\n",
              "      <td>3.0</td>\n",
              "      <td>2.0</td>\n",
              "      <td>93.0</td>\n",
              "      <td>6.0</td>\n",
              "      <td>3.0</td>\n",
              "      <td>0.0</td>\n",
              "      <td>1.0</td>\n",
              "      <td>3.0</td>\n",
              "    </tr>\n",
              "    <tr>\n",
              "      <th>1</th>\n",
              "      <td>2015-01-04 01:00:00</td>\n",
              "      <td>138</td>\n",
              "      <td>3.0</td>\n",
              "      <td>2.5</td>\n",
              "      <td>93.0</td>\n",
              "      <td>5.0</td>\n",
              "      <td>1.0</td>\n",
              "      <td>0.0</td>\n",
              "      <td>1.0</td>\n",
              "      <td>3.0</td>\n",
              "    </tr>\n",
              "    <tr>\n",
              "      <th>2</th>\n",
              "      <td>2015-01-04 02:00:00</td>\n",
              "      <td>134</td>\n",
              "      <td>2.5</td>\n",
              "      <td>2.5</td>\n",
              "      <td>96.5</td>\n",
              "      <td>0.0</td>\n",
              "      <td>1.0</td>\n",
              "      <td>0.0</td>\n",
              "      <td>1.0</td>\n",
              "      <td>3.0</td>\n",
              "    </tr>\n",
              "    <tr>\n",
              "      <th>3</th>\n",
              "      <td>2015-01-04 03:00:00</td>\n",
              "      <td>72</td>\n",
              "      <td>2.0</td>\n",
              "      <td>2.0</td>\n",
              "      <td>100.0</td>\n",
              "      <td>0.0</td>\n",
              "      <td>1.0</td>\n",
              "      <td>0.0</td>\n",
              "      <td>1.0</td>\n",
              "      <td>3.0</td>\n",
              "    </tr>\n",
              "    <tr>\n",
              "      <th>4</th>\n",
              "      <td>2015-01-04 04:00:00</td>\n",
              "      <td>47</td>\n",
              "      <td>2.0</td>\n",
              "      <td>0.0</td>\n",
              "      <td>93.0</td>\n",
              "      <td>6.5</td>\n",
              "      <td>1.0</td>\n",
              "      <td>0.0</td>\n",
              "      <td>1.0</td>\n",
              "      <td>3.0</td>\n",
              "    </tr>\n",
              "  </tbody>\n",
              "</table>\n",
              "</div>"
            ],
            "text/plain": [
              "            timestamp  cnt   t1  ...  is_holiday  is_weekend  season\n",
              "0 2015-01-04 00:00:00  182  3.0  ...         0.0         1.0     3.0\n",
              "1 2015-01-04 01:00:00  138  3.0  ...         0.0         1.0     3.0\n",
              "2 2015-01-04 02:00:00  134  2.5  ...         0.0         1.0     3.0\n",
              "3 2015-01-04 03:00:00   72  2.0  ...         0.0         1.0     3.0\n",
              "4 2015-01-04 04:00:00   47  2.0  ...         0.0         1.0     3.0\n",
              "\n",
              "[5 rows x 10 columns]"
            ]
          },
          "metadata": {
            "tags": []
          },
          "execution_count": 9
        }
      ]
    },
    {
      "cell_type": "code",
      "metadata": {
        "colab": {
          "base_uri": "https://localhost:8080/"
        },
        "id": "PrlcRUkhZD5E",
        "outputId": "dd604094-0af9-446e-ab9d-bbd4568d68e8"
      },
      "source": [
        "data.dtypes"
      ],
      "execution_count": 10,
      "outputs": [
        {
          "output_type": "execute_result",
          "data": {
            "text/plain": [
              "timestamp       datetime64[ns]\n",
              "cnt                      int64\n",
              "t1                     float64\n",
              "t2                     float64\n",
              "hum                    float64\n",
              "wind_speed             float64\n",
              "weather_code           float64\n",
              "is_holiday             float64\n",
              "is_weekend             float64\n",
              "season                 float64\n",
              "dtype: object"
            ]
          },
          "metadata": {
            "tags": []
          },
          "execution_count": 10
        }
      ]
    },
    {
      "cell_type": "code",
      "metadata": {
        "colab": {
          "base_uri": "https://localhost:8080/"
        },
        "id": "HArJV8MHZOF1",
        "outputId": "d46b6cbf-b340-46b8-94da-3530b7e31708"
      },
      "source": [
        "data.shape"
      ],
      "execution_count": 11,
      "outputs": [
        {
          "output_type": "execute_result",
          "data": {
            "text/plain": [
              "(17414, 10)"
            ]
          },
          "metadata": {
            "tags": []
          },
          "execution_count": 11
        }
      ]
    },
    {
      "cell_type": "code",
      "metadata": {
        "colab": {
          "base_uri": "https://localhost:8080/"
        },
        "id": "GYllkK6iZloL",
        "outputId": "5b7b39c0-b2f4-4f75-b865-e51ceef547d5"
      },
      "source": [
        "data.isna().value_counts()"
      ],
      "execution_count": 12,
      "outputs": [
        {
          "output_type": "execute_result",
          "data": {
            "text/plain": [
              "timestamp  cnt    t1     t2     hum    wind_speed  weather_code  is_holiday  is_weekend  season\n",
              "False      False  False  False  False  False       False         False       False       False     17414\n",
              "dtype: int64"
            ]
          },
          "metadata": {
            "tags": []
          },
          "execution_count": 12
        }
      ]
    },
    {
      "cell_type": "markdown",
      "metadata": {
        "id": "tzjwHPGgZrrt"
      },
      "source": [
        "Пропусков в данных нет"
      ]
    },
    {
      "cell_type": "markdown",
      "metadata": {
        "id": "zjIbqV7AaxDS"
      },
      "source": [
        "Немного сэкономим памяти. Преобразуем столбцы 'weather_code', 'is_holiday', 'is_weekend', 'season' в тип UInt8."
      ]
    },
    {
      "cell_type": "code",
      "metadata": {
        "id": "zTiGbmIaZqbW"
      },
      "source": [
        "data[['weather_code', 'is_holiday', 'is_weekend', 'season']] = data[['weather_code', 'is_holiday', 'is_weekend', 'season']].astype('uint8')"
      ],
      "execution_count": 19,
      "outputs": []
    },
    {
      "cell_type": "code",
      "metadata": {
        "colab": {
          "base_uri": "https://localhost:8080/"
        },
        "id": "v7Z00dBOaAuW",
        "outputId": "1ca17ecc-283d-4080-e807-80a736912e38"
      },
      "source": [
        "data.dtypes"
      ],
      "execution_count": 20,
      "outputs": [
        {
          "output_type": "execute_result",
          "data": {
            "text/plain": [
              "timestamp       datetime64[ns]\n",
              "cnt                      int64\n",
              "t1                     float64\n",
              "t2                     float64\n",
              "hum                    float64\n",
              "wind_speed             float64\n",
              "weather_code             uint8\n",
              "is_holiday               uint8\n",
              "is_weekend               uint8\n",
              "season                   uint8\n",
              "dtype: object"
            ]
          },
          "metadata": {
            "tags": []
          },
          "execution_count": 20
        }
      ]
    },
    {
      "cell_type": "markdown",
      "metadata": {
        "id": "lrBni2Toa8Fv"
      },
      "source": [
        "2. Постройте график по числу поездок по дате и времени"
      ]
    },
    {
      "cell_type": "code",
      "metadata": {
        "colab": {
          "base_uri": "https://localhost:8080/",
          "height": 195
        },
        "id": "6H5kFW9KbnXq",
        "outputId": "4f5e7c52-a694-4dc1-c4de-e5c8b9bd9633"
      },
      "source": [
        "count_by_date = data.groupby('timestamp').sum()[['cnt']].reset_index()\r\n",
        "count_by_date.head()"
      ],
      "execution_count": 33,
      "outputs": [
        {
          "output_type": "execute_result",
          "data": {
            "text/html": [
              "<div>\n",
              "<style scoped>\n",
              "    .dataframe tbody tr th:only-of-type {\n",
              "        vertical-align: middle;\n",
              "    }\n",
              "\n",
              "    .dataframe tbody tr th {\n",
              "        vertical-align: top;\n",
              "    }\n",
              "\n",
              "    .dataframe thead th {\n",
              "        text-align: right;\n",
              "    }\n",
              "</style>\n",
              "<table border=\"1\" class=\"dataframe\">\n",
              "  <thead>\n",
              "    <tr style=\"text-align: right;\">\n",
              "      <th></th>\n",
              "      <th>timestamp</th>\n",
              "      <th>cnt</th>\n",
              "    </tr>\n",
              "  </thead>\n",
              "  <tbody>\n",
              "    <tr>\n",
              "      <th>0</th>\n",
              "      <td>2015-01-04 00:00:00</td>\n",
              "      <td>182</td>\n",
              "    </tr>\n",
              "    <tr>\n",
              "      <th>1</th>\n",
              "      <td>2015-01-04 01:00:00</td>\n",
              "      <td>138</td>\n",
              "    </tr>\n",
              "    <tr>\n",
              "      <th>2</th>\n",
              "      <td>2015-01-04 02:00:00</td>\n",
              "      <td>134</td>\n",
              "    </tr>\n",
              "    <tr>\n",
              "      <th>3</th>\n",
              "      <td>2015-01-04 03:00:00</td>\n",
              "      <td>72</td>\n",
              "    </tr>\n",
              "    <tr>\n",
              "      <th>4</th>\n",
              "      <td>2015-01-04 04:00:00</td>\n",
              "      <td>47</td>\n",
              "    </tr>\n",
              "  </tbody>\n",
              "</table>\n",
              "</div>"
            ],
            "text/plain": [
              "            timestamp  cnt\n",
              "0 2015-01-04 00:00:00  182\n",
              "1 2015-01-04 01:00:00  138\n",
              "2 2015-01-04 02:00:00  134\n",
              "3 2015-01-04 03:00:00   72\n",
              "4 2015-01-04 04:00:00   47"
            ]
          },
          "metadata": {
            "tags": []
          },
          "execution_count": 33
        }
      ]
    },
    {
      "cell_type": "code",
      "metadata": {
        "colab": {
          "base_uri": "https://localhost:8080/",
          "height": 356
        },
        "id": "1yBmLzNxbtT8",
        "outputId": "9fc498f7-5d05-4b51-ee28-6b229f79163b"
      },
      "source": [
        "sns.lineplot(data=count_by_date, x='timestamp', y='cnt')"
      ],
      "execution_count": 34,
      "outputs": [
        {
          "output_type": "execute_result",
          "data": {
            "text/plain": [
              "<matplotlib.axes._subplots.AxesSubplot at 0x7f2fdefac9e8>"
            ]
          },
          "metadata": {
            "tags": []
          },
          "execution_count": 34
        },
        {
          "output_type": "display_data",
          "data": {
            "image/png": "[encoded data removed]",
            "text/plain": [
              "<Figure size 720x360 with 1 Axes>"
            ]
          },
          "metadata": {
            "tags": []
          }
        }
      ]
    },
    {
      "cell_type": "code",
      "metadata": {
        "id": "ZjOkrvK-bLDj"
      },
      "source": [
        ""
      ],
      "execution_count": null,
      "outputs": []
    }
  ]
}