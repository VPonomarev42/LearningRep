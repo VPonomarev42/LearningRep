{
  "nbformat": 4,
  "nbformat_minor": 0,
  "metadata": {
    "colab": {
      "name": "stats_miniproject_1.ipynb",
      "provenance": [],
      "authorship_tag": "ABX9TyOTzM+mxJc4+jf1FY0UGlor",
      "include_colab_link": true
    },
    "kernelspec": {
      "name": "python3",
      "display_name": "Python 3"
    }
  },
  "cells": [
    {
      "cell_type": "markdown",
      "metadata": {
        "id": "view-in-github",
        "colab_type": "text"
      },
      "source": [
        "<a href=\"https://colab.research.google.com/github/VPonomarev42/LearningRep/blob/miniproject_1/stats/stats_miniproject_1.ipynb\" target=\"_parent\"><img src=\"https://colab.research.google.com/assets/colab-badge.svg\" alt=\"Open In Colab\"/></a>"
      ]
    },
    {
      "cell_type": "code",
      "metadata": {
        "id": "_HxtBFXXkAlc"
      },
      "source": [
        "import pandas as pd\r\n",
        "import numpy as np\r\n",
        "import seaborn as snb"
      ],
      "execution_count": 1,
      "outputs": []
    },
    {
      "cell_type": "code",
      "metadata": {
        "id": "WO-KxiPjk0VU"
      },
      "source": [
        ""
      ],
      "execution_count": null,
      "outputs": []
    },
    {
      "cell_type": "markdown",
      "metadata": {
        "id": "ZcumKqKYk76m"
      },
      "source": [
        "#**Задания** \r\n",
        "1. Первый шаг – загрузить данные и убедиться, что всё считалось правильно: посмотреть на столбцы, размер, наличие пропущенных значений (если есть – удалить). Также изучите типы переменных.\r\n",
        "2. Постройте график распределения количества выпущенных игр по годам и выведите описательные характеристики переменной Year.\r\n",
        "3. На каких платформах произошло больше всего релизов?\r\n",
        "4. Игры каких издателей (Publisher) встречаются в датасете чаще всего?\r\n",
        "5. В каком регионе медианное значение объема продаж игр Nintendo является наибольшим? (Регионы: NA, EU, JP, Other)\r\n",
        "6. Изучите объемы продаж игр Nintendo в Японии с разбивкой жанрам. Посмотрите на медиану, среднее, межквартильный размах.\r\n",
        "7. Визуализируйте динамику изменения объема мировых продаж (Global_Sales) по годам для игр Nintendo следующих жанров: Fighting, Simulation, Platform, Racing, Sports. В какие моменты времени было продано больше всего игр жанра Sports?\r\n"
      ]
    },
    {
      "cell_type": "markdown",
      "metadata": {
        "id": "gZPFgfzHl17c"
      },
      "source": [
        "\r\n",
        "\r\n",
        "---\r\n",
        "\r\n",
        "---\r\n",
        "\r\n",
        "\r\n",
        "\r\n"
      ]
    },
    {
      "cell_type": "markdown",
      "metadata": {
        "id": "V18MK480lsBj"
      },
      "source": [
        "1. Первый шаг – загрузить данные и убедиться, что всё считалось правильно: посмотреть на столбцы, размер, наличие пропущенных значений (если есть – удалить). Также изучите типы переменных."
      ]
    },
    {
      "cell_type": "code",
      "metadata": {
        "colab": {
          "base_uri": "https://localhost:8080/",
          "height": 202
        },
        "id": "XQ2APMS4lbL0",
        "outputId": "069290e7-e781-49ef-8841-18fd1cabda3a"
      },
      "source": [
        "data = pd.read_csv('https://stepik.org/media/attachments/lesson/383837/games.csv')\r\n",
        "data.head()"
      ],
      "execution_count": 4,
      "outputs": [
        {
          "output_type": "execute_result",
          "data": {
            "text/html": [
              "<div>\n",
              "<style scoped>\n",
              "    .dataframe tbody tr th:only-of-type {\n",
              "        vertical-align: middle;\n",
              "    }\n",
              "\n",
              "    .dataframe tbody tr th {\n",
              "        vertical-align: top;\n",
              "    }\n",
              "\n",
              "    .dataframe thead th {\n",
              "        text-align: right;\n",
              "    }\n",
              "</style>\n",
              "<table border=\"1\" class=\"dataframe\">\n",
              "  <thead>\n",
              "    <tr style=\"text-align: right;\">\n",
              "      <th></th>\n",
              "      <th>Rank</th>\n",
              "      <th>Name</th>\n",
              "      <th>Platform</th>\n",
              "      <th>Year</th>\n",
              "      <th>Genre</th>\n",
              "      <th>Publisher</th>\n",
              "      <th>NA_Sales</th>\n",
              "      <th>EU_Sales</th>\n",
              "      <th>JP_Sales</th>\n",
              "      <th>Other_Sales</th>\n",
              "      <th>Global_Sales</th>\n",
              "    </tr>\n",
              "  </thead>\n",
              "  <tbody>\n",
              "    <tr>\n",
              "      <th>0</th>\n",
              "      <td>1</td>\n",
              "      <td>Wii Sports</td>\n",
              "      <td>Wii</td>\n",
              "      <td>2006.0</td>\n",
              "      <td>Sports</td>\n",
              "      <td>Nintendo</td>\n",
              "      <td>41.49</td>\n",
              "      <td>29.02</td>\n",
              "      <td>3.77</td>\n",
              "      <td>8.46</td>\n",
              "      <td>82.74</td>\n",
              "    </tr>\n",
              "    <tr>\n",
              "      <th>1</th>\n",
              "      <td>2</td>\n",
              "      <td>Super Mario Bros.</td>\n",
              "      <td>NES</td>\n",
              "      <td>1985.0</td>\n",
              "      <td>Platform</td>\n",
              "      <td>Nintendo</td>\n",
              "      <td>29.08</td>\n",
              "      <td>3.58</td>\n",
              "      <td>6.81</td>\n",
              "      <td>0.77</td>\n",
              "      <td>40.24</td>\n",
              "    </tr>\n",
              "    <tr>\n",
              "      <th>2</th>\n",
              "      <td>3</td>\n",
              "      <td>Mario Kart Wii</td>\n",
              "      <td>Wii</td>\n",
              "      <td>2008.0</td>\n",
              "      <td>Racing</td>\n",
              "      <td>Nintendo</td>\n",
              "      <td>15.85</td>\n",
              "      <td>12.88</td>\n",
              "      <td>3.79</td>\n",
              "      <td>3.31</td>\n",
              "      <td>35.82</td>\n",
              "    </tr>\n",
              "    <tr>\n",
              "      <th>3</th>\n",
              "      <td>4</td>\n",
              "      <td>Wii Sports Resort</td>\n",
              "      <td>Wii</td>\n",
              "      <td>2009.0</td>\n",
              "      <td>Sports</td>\n",
              "      <td>Nintendo</td>\n",
              "      <td>15.75</td>\n",
              "      <td>11.01</td>\n",
              "      <td>3.28</td>\n",
              "      <td>2.96</td>\n",
              "      <td>33.00</td>\n",
              "    </tr>\n",
              "    <tr>\n",
              "      <th>4</th>\n",
              "      <td>5</td>\n",
              "      <td>Pokemon Red/Pokemon Blue</td>\n",
              "      <td>GB</td>\n",
              "      <td>1996.0</td>\n",
              "      <td>Role-Playing</td>\n",
              "      <td>Nintendo</td>\n",
              "      <td>11.27</td>\n",
              "      <td>8.89</td>\n",
              "      <td>10.22</td>\n",
              "      <td>1.00</td>\n",
              "      <td>31.37</td>\n",
              "    </tr>\n",
              "  </tbody>\n",
              "</table>\n",
              "</div>"
            ],
            "text/plain": [
              "   Rank                      Name Platform  ...  JP_Sales Other_Sales Global_Sales\n",
              "0     1                Wii Sports      Wii  ...      3.77        8.46        82.74\n",
              "1     2         Super Mario Bros.      NES  ...      6.81        0.77        40.24\n",
              "2     3            Mario Kart Wii      Wii  ...      3.79        3.31        35.82\n",
              "3     4         Wii Sports Resort      Wii  ...      3.28        2.96        33.00\n",
              "4     5  Pokemon Red/Pokemon Blue       GB  ...     10.22        1.00        31.37\n",
              "\n",
              "[5 rows x 11 columns]"
            ]
          },
          "metadata": {
            "tags": []
          },
          "execution_count": 4
        }
      ]
    },
    {
      "cell_type": "code",
      "metadata": {
        "colab": {
          "base_uri": "https://localhost:8080/"
        },
        "id": "GCMJugu8mNsl",
        "outputId": "ff9a4947-62eb-4a71-d903-0a22551929c3"
      },
      "source": [
        "data.shape"
      ],
      "execution_count": 7,
      "outputs": [
        {
          "output_type": "execute_result",
          "data": {
            "text/plain": [
              "(16598, 11)"
            ]
          },
          "metadata": {
            "tags": []
          },
          "execution_count": 7
        }
      ]
    },
    {
      "cell_type": "code",
      "metadata": {
        "colab": {
          "base_uri": "https://localhost:8080/"
        },
        "id": "sSbwWshVliyF",
        "outputId": "516eb78c-5212-4ea4-b06e-8ee8ec22de43"
      },
      "source": [
        "data.dtypes"
      ],
      "execution_count": 5,
      "outputs": [
        {
          "output_type": "execute_result",
          "data": {
            "text/plain": [
              "Rank              int64\n",
              "Name             object\n",
              "Platform         object\n",
              "Year            float64\n",
              "Genre            object\n",
              "Publisher        object\n",
              "NA_Sales        float64\n",
              "EU_Sales        float64\n",
              "JP_Sales        float64\n",
              "Other_Sales     float64\n",
              "Global_Sales    float64\n",
              "dtype: object"
            ]
          },
          "metadata": {
            "tags": []
          },
          "execution_count": 5
        }
      ]
    },
    {
      "cell_type": "code",
      "metadata": {
        "colab": {
          "base_uri": "https://localhost:8080/"
        },
        "id": "4sVlQerAl9E1",
        "outputId": "0aeef22a-4597-46bb-835d-ec4de8fa7b3a"
      },
      "source": [
        "data.isna().value_counts()"
      ],
      "execution_count": 6,
      "outputs": [
        {
          "output_type": "execute_result",
          "data": {
            "text/plain": [
              "Rank   Name   Platform  Year   Genre  Publisher  NA_Sales  EU_Sales  JP_Sales  Other_Sales  Global_Sales\n",
              "False  False  False     False  False  False      False     False     False     False        False           16291\n",
              "                        True   False  False      False     False     False     False        False             249\n",
              "                        False  False  True       False     False     False     False        False              36\n",
              "                        True   False  True       False     False     False     False        False              22\n",
              "dtype: int64"
            ]
          },
          "metadata": {
            "tags": []
          },
          "execution_count": 6
        }
      ]
    },
    {
      "cell_type": "markdown",
      "metadata": {
        "id": "ZxATejaEnptm"
      },
      "source": [
        "Видно, что присутствуют пропущенные значения в стобцах Year и Publisher. В сумме - 307 строк. Удалим эти строки\r\n",
        "\r\n",
        "\r\n",
        "\r\n"
      ]
    },
    {
      "cell_type": "code",
      "metadata": {
        "id": "S8o-Bjx9mDjF"
      },
      "source": [
        "data.dropna(axis=0, how='any', inplace=True)"
      ],
      "execution_count": 8,
      "outputs": []
    },
    {
      "cell_type": "markdown",
      "metadata": {
        "id": "uB7AS2igoFiI"
      },
      "source": [
        "Проверим, что пропусков не осталось"
      ]
    },
    {
      "cell_type": "code",
      "metadata": {
        "colab": {
          "base_uri": "https://localhost:8080/"
        },
        "id": "pG4foX6qmMaY",
        "outputId": "bd83b08d-521c-4e59-c281-ee3cdcb06f39"
      },
      "source": [
        "data.isna().value_counts()"
      ],
      "execution_count": 9,
      "outputs": [
        {
          "output_type": "execute_result",
          "data": {
            "text/plain": [
              "Rank   Name   Platform  Year   Genre  Publisher  NA_Sales  EU_Sales  JP_Sales  Other_Sales  Global_Sales\n",
              "False  False  False     False  False  False      False     False     False     False        False           16291\n",
              "dtype: int64"
            ]
          },
          "metadata": {
            "tags": []
          },
          "execution_count": 9
        }
      ]
    },
    {
      "cell_type": "markdown",
      "metadata": {
        "id": "89Wla9xQm6js"
      },
      "source": [
        "2. Постройте график распределения количества выпущенных игр по годам и выведите описательные характеристики переменной Year."
      ]
    },
    {
      "cell_type": "code",
      "metadata": {
        "colab": {
          "base_uri": "https://localhost:8080/"
        },
        "id": "vBg03dOYmxJd",
        "outputId": "920d1268-e89f-45c7-80b6-dc2cc83c0872"
      },
      "source": [
        "data.Year.describe()"
      ],
      "execution_count": 10,
      "outputs": [
        {
          "output_type": "execute_result",
          "data": {
            "text/plain": [
              "count    16291.000000\n",
              "mean      2006.405561\n",
              "std          5.832412\n",
              "min       1980.000000\n",
              "25%       2003.000000\n",
              "50%       2007.000000\n",
              "75%       2010.000000\n",
              "max       2020.000000\n",
              "Name: Year, dtype: float64"
            ]
          },
          "metadata": {
            "tags": []
          },
          "execution_count": 10
        }
      ]
    },
    {
      "cell_type": "code",
      "metadata": {
        "colab": {
          "base_uri": "https://localhost:8080/",
          "height": 351
        },
        "id": "jHRmbMbynBrI",
        "outputId": "78c7f376-a2fb-411e-b4dc-2a6052b2fa15"
      },
      "source": [
        "data.groupby('Year').count().plot(figsize=(10,5), legend=False)"
      ],
      "execution_count": 15,
      "outputs": [
        {
          "output_type": "execute_result",
          "data": {
            "text/plain": [
              "<matplotlib.axes._subplots.AxesSubplot at 0x7f6b96672400>"
            ]
          },
          "metadata": {
            "tags": []
          },
          "execution_count": 15
        },
        {
          "output_type": "display_data",
          "data": {
            "image/png": "[encoded data removed]",
            "text/plain": [
              "<Figure size 720x360 with 1 Axes>"
            ]
          },
          "metadata": {
            "tags": [],
            "needs_background": "light"
          }
        }
      ]
    },
    {
      "cell_type": "markdown",
      "metadata": {
        "id": "2gtTSUZ8oPQ7"
      },
      "source": [
        "3. На каких платформах произошло больше всего релизов?"
      ]
    },
    {
      "cell_type": "code",
      "metadata": {
        "colab": {
          "base_uri": "https://localhost:8080/",
          "height": 233
        },
        "id": "84cog7EOnPAY",
        "outputId": "212517c7-0110-4e2d-b8b2-af50089c09d8"
      },
      "source": [
        "top_platforms = data.groupby('Platform')\\\r\n",
        "            .count()\\\r\n",
        "            .rename(columns={'Rank':'count'})\\\r\n",
        "            .sort_values(by='count', ascending=False)[['count']]\r\n",
        "top_platforms.head()"
      ],
      "execution_count": 31,
      "outputs": [
        {
          "output_type": "execute_result",
          "data": {
            "text/html": [
              "<div>\n",
              "<style scoped>\n",
              "    .dataframe tbody tr th:only-of-type {\n",
              "        vertical-align: middle;\n",
              "    }\n",
              "\n",
              "    .dataframe tbody tr th {\n",
              "        vertical-align: top;\n",
              "    }\n",
              "\n",
              "    .dataframe thead th {\n",
              "        text-align: right;\n",
              "    }\n",
              "</style>\n",
              "<table border=\"1\" class=\"dataframe\">\n",
              "  <thead>\n",
              "    <tr style=\"text-align: right;\">\n",
              "      <th></th>\n",
              "      <th>count</th>\n",
              "    </tr>\n",
              "    <tr>\n",
              "      <th>Platform</th>\n",
              "      <th></th>\n",
              "    </tr>\n",
              "  </thead>\n",
              "  <tbody>\n",
              "    <tr>\n",
              "      <th>DS</th>\n",
              "      <td>2131</td>\n",
              "    </tr>\n",
              "    <tr>\n",
              "      <th>PS2</th>\n",
              "      <td>2127</td>\n",
              "    </tr>\n",
              "    <tr>\n",
              "      <th>PS3</th>\n",
              "      <td>1304</td>\n",
              "    </tr>\n",
              "    <tr>\n",
              "      <th>Wii</th>\n",
              "      <td>1290</td>\n",
              "    </tr>\n",
              "    <tr>\n",
              "      <th>X360</th>\n",
              "      <td>1234</td>\n",
              "    </tr>\n",
              "  </tbody>\n",
              "</table>\n",
              "</div>"
            ],
            "text/plain": [
              "          count\n",
              "Platform       \n",
              "DS         2131\n",
              "PS2        2127\n",
              "PS3        1304\n",
              "Wii        1290\n",
              "X360       1234"
            ]
          },
          "metadata": {
            "tags": []
          },
          "execution_count": 31
        }
      ]
    },
    {
      "cell_type": "code",
      "metadata": {
        "colab": {
          "base_uri": "https://localhost:8080/",
          "height": 367
        },
        "id": "8fS8KVFooZRw",
        "outputId": "7ca65b02-267f-4dbb-db7b-cb631a06c67e"
      },
      "source": [
        "top_platforms.plot.bar(figsize=(10,5))"
      ],
      "execution_count": 33,
      "outputs": [
        {
          "output_type": "execute_result",
          "data": {
            "text/plain": [
              "<matplotlib.axes._subplots.AxesSubplot at 0x7f6b8e5ad780>"
            ]
          },
          "metadata": {
            "tags": []
          },
          "execution_count": 33
        },
        {
          "output_type": "display_data",
          "data": {
            "image/png": "[encoded data removed]",
            "text/plain": [
              "<Figure size 720x360 with 1 Axes>"
            ]
          },
          "metadata": {
            "tags": [],
            "needs_background": "light"
          }
        }
      ]
    },
    {
      "cell_type": "markdown",
      "metadata": {
        "id": "fZBO_xEoqGl6"
      },
      "source": [
        "Как видно из графика и распределения, наибольшее количество релизов пришлось на платформы DS и PS2"
      ]
    },
    {
      "cell_type": "markdown",
      "metadata": {
        "id": "sKvPsUL6qWtE"
      },
      "source": [
        "4. Игры каких издателей (Publisher) встречаются в датасете чаще всего?"
      ]
    },
    {
      "cell_type": "code",
      "metadata": {
        "colab": {
          "base_uri": "https://localhost:8080/",
          "height": 233
        },
        "id": "XVcxb_cGpsb7",
        "outputId": "ed3f09bf-64fc-4901-9aea-11846f5a39f4"
      },
      "source": [
        "top_pubplishers = data.groupby('Publisher')\\\r\n",
        "            .count()\\\r\n",
        "            .rename(columns={'Rank':'count'})\\\r\n",
        "            .sort_values(by='count', ascending=False)[['count']]\r\n",
        "top_pubplishers.head()"
      ],
      "execution_count": 34,
      "outputs": [
        {
          "output_type": "execute_result",
          "data": {
            "text/html": [
              "<div>\n",
              "<style scoped>\n",
              "    .dataframe tbody tr th:only-of-type {\n",
              "        vertical-align: middle;\n",
              "    }\n",
              "\n",
              "    .dataframe tbody tr th {\n",
              "        vertical-align: top;\n",
              "    }\n",
              "\n",
              "    .dataframe thead th {\n",
              "        text-align: right;\n",
              "    }\n",
              "</style>\n",
              "<table border=\"1\" class=\"dataframe\">\n",
              "  <thead>\n",
              "    <tr style=\"text-align: right;\">\n",
              "      <th></th>\n",
              "      <th>count</th>\n",
              "    </tr>\n",
              "    <tr>\n",
              "      <th>Publisher</th>\n",
              "      <th></th>\n",
              "    </tr>\n",
              "  </thead>\n",
              "  <tbody>\n",
              "    <tr>\n",
              "      <th>Electronic Arts</th>\n",
              "      <td>1339</td>\n",
              "    </tr>\n",
              "    <tr>\n",
              "      <th>Activision</th>\n",
              "      <td>966</td>\n",
              "    </tr>\n",
              "    <tr>\n",
              "      <th>Namco Bandai Games</th>\n",
              "      <td>928</td>\n",
              "    </tr>\n",
              "    <tr>\n",
              "      <th>Ubisoft</th>\n",
              "      <td>918</td>\n",
              "    </tr>\n",
              "    <tr>\n",
              "      <th>Konami Digital Entertainment</th>\n",
              "      <td>823</td>\n",
              "    </tr>\n",
              "  </tbody>\n",
              "</table>\n",
              "</div>"
            ],
            "text/plain": [
              "                              count\n",
              "Publisher                          \n",
              "Electronic Arts                1339\n",
              "Activision                      966\n",
              "Namco Bandai Games              928\n",
              "Ubisoft                         918\n",
              "Konami Digital Entertainment    823"
            ]
          },
          "metadata": {
            "tags": []
          },
          "execution_count": 34
        }
      ]
    },
    {
      "cell_type": "code",
      "metadata": {
        "colab": {
          "base_uri": "https://localhost:8080/",
          "height": 541
        },
        "id": "Kfr5zA10qdaV",
        "outputId": "6e20f6da-9b67-4159-899b-8b9c76293259"
      },
      "source": [
        "top_pubplishers.iloc[:20,:].plot.bar(figsize=(10,5))"
      ],
      "execution_count": 38,
      "outputs": [
        {
          "output_type": "execute_result",
          "data": {
            "text/plain": [
              "<matplotlib.axes._subplots.AxesSubplot at 0x7f6b8d9fb2b0>"
            ]
          },
          "metadata": {
            "tags": []
          },
          "execution_count": 38
        },
        {
          "output_type": "display_data",
          "data": {
            "image/png": "[encoded data removed]",
            "text/plain": [
              "<Figure size 720x360 with 1 Axes>"
            ]
          },
          "metadata": {
            "tags": [],
            "needs_background": "light"
          }
        }
      ]
    },
    {
      "cell_type": "markdown",
      "metadata": {
        "id": "sKmavBQFq1P2"
      },
      "source": [
        "Наибольшее количество игр приходится на издальство Electronic Arts"
      ]
    },
    {
      "cell_type": "markdown",
      "metadata": {
        "id": "x8-ss9YfrA8U"
      },
      "source": [
        "5. В каком регионе медианное значение объема продаж игр Nintendo является наибольшим? (Регионы: NA, EU, JP, Other)"
      ]
    },
    {
      "cell_type": "code",
      "metadata": {
        "colab": {
          "base_uri": "https://localhost:8080/",
          "height": 294
        },
        "id": "MtWs5Ejgqii0",
        "outputId": "fa82008c-5d91-46d7-b4c3-4c3a2ac501df"
      },
      "source": [
        "data.query(\"Publisher == 'Nintendo'\")[['NA_Sales', 'EU_Sales', 'JP_Sales', 'Other_Sales']].describe()"
      ],
      "execution_count": 44,
      "outputs": [
        {
          "output_type": "execute_result",
          "data": {
            "text/html": [
              "<div>\n",
              "<style scoped>\n",
              "    .dataframe tbody tr th:only-of-type {\n",
              "        vertical-align: middle;\n",
              "    }\n",
              "\n",
              "    .dataframe tbody tr th {\n",
              "        vertical-align: top;\n",
              "    }\n",
              "\n",
              "    .dataframe thead th {\n",
              "        text-align: right;\n",
              "    }\n",
              "</style>\n",
              "<table border=\"1\" class=\"dataframe\">\n",
              "  <thead>\n",
              "    <tr style=\"text-align: right;\">\n",
              "      <th></th>\n",
              "      <th>NA_Sales</th>\n",
              "      <th>EU_Sales</th>\n",
              "      <th>JP_Sales</th>\n",
              "      <th>Other_Sales</th>\n",
              "    </tr>\n",
              "  </thead>\n",
              "  <tbody>\n",
              "    <tr>\n",
              "      <th>count</th>\n",
              "      <td>696.000000</td>\n",
              "      <td>696.000000</td>\n",
              "      <td>696.000000</td>\n",
              "      <td>696.000000</td>\n",
              "    </tr>\n",
              "    <tr>\n",
              "      <th>mean</th>\n",
              "      <td>1.172055</td>\n",
              "      <td>0.601006</td>\n",
              "      <td>0.653721</td>\n",
              "      <td>0.136767</td>\n",
              "    </tr>\n",
              "    <tr>\n",
              "      <th>std</th>\n",
              "      <td>2.989913</td>\n",
              "      <td>1.743953</td>\n",
              "      <td>1.063110</td>\n",
              "      <td>0.464170</td>\n",
              "    </tr>\n",
              "    <tr>\n",
              "      <th>min</th>\n",
              "      <td>0.000000</td>\n",
              "      <td>0.000000</td>\n",
              "      <td>0.000000</td>\n",
              "      <td>0.000000</td>\n",
              "    </tr>\n",
              "    <tr>\n",
              "      <th>25%</th>\n",
              "      <td>0.010000</td>\n",
              "      <td>0.007500</td>\n",
              "      <td>0.090000</td>\n",
              "      <td>0.000000</td>\n",
              "    </tr>\n",
              "    <tr>\n",
              "      <th>50%</th>\n",
              "      <td>0.375000</td>\n",
              "      <td>0.120000</td>\n",
              "      <td>0.280000</td>\n",
              "      <td>0.030000</td>\n",
              "    </tr>\n",
              "    <tr>\n",
              "      <th>75%</th>\n",
              "      <td>0.972500</td>\n",
              "      <td>0.482500</td>\n",
              "      <td>0.740000</td>\n",
              "      <td>0.090000</td>\n",
              "    </tr>\n",
              "    <tr>\n",
              "      <th>max</th>\n",
              "      <td>41.490000</td>\n",
              "      <td>29.020000</td>\n",
              "      <td>10.220000</td>\n",
              "      <td>8.460000</td>\n",
              "    </tr>\n",
              "  </tbody>\n",
              "</table>\n",
              "</div>"
            ],
            "text/plain": [
              "         NA_Sales    EU_Sales    JP_Sales  Other_Sales\n",
              "count  696.000000  696.000000  696.000000   696.000000\n",
              "mean     1.172055    0.601006    0.653721     0.136767\n",
              "std      2.989913    1.743953    1.063110     0.464170\n",
              "min      0.000000    0.000000    0.000000     0.000000\n",
              "25%      0.010000    0.007500    0.090000     0.000000\n",
              "50%      0.375000    0.120000    0.280000     0.030000\n",
              "75%      0.972500    0.482500    0.740000     0.090000\n",
              "max     41.490000   29.020000   10.220000     8.460000"
            ]
          },
          "metadata": {
            "tags": []
          },
          "execution_count": 44
        }
      ]
    },
    {
      "cell_type": "code",
      "metadata": {
        "colab": {
          "base_uri": "https://localhost:8080/"
        },
        "id": "bChBgtUur7Or",
        "outputId": "c3a58b55-4459-4830-9368-fa8b807b5c52"
      },
      "source": [
        "data.query(\"Publisher == 'Nintendo'\")[['NA_Sales', 'EU_Sales', 'JP_Sales', 'Other_Sales']].median()"
      ],
      "execution_count": 45,
      "outputs": [
        {
          "output_type": "execute_result",
          "data": {
            "text/plain": [
              "NA_Sales       0.375\n",
              "EU_Sales       0.120\n",
              "JP_Sales       0.280\n",
              "Other_Sales    0.030\n",
              "dtype: float64"
            ]
          },
          "metadata": {
            "tags": []
          },
          "execution_count": 45
        }
      ]
    },
    {
      "cell_type": "markdown",
      "metadata": {
        "id": "9QbE2FpQsD7H"
      },
      "source": [
        "Как видно из описательной статистики и данных о медиане продаж, в Северной Америке (NA_sales) медианное значение объема продаж выше чем в остальных регионах"
      ]
    },
    {
      "cell_type": "markdown",
      "metadata": {
        "id": "R_hcxKPIs2MI"
      },
      "source": [
        "6. Изучите объемы продаж игр Nintendo в Японии с разбивкой жанрам. Посмотрите на медиану, среднее, межквартильный размах."
      ]
    },
    {
      "cell_type": "code",
      "metadata": {
        "colab": {
          "base_uri": "https://localhost:8080/",
          "height": 478
        },
        "id": "QKV9_rNhrokv",
        "outputId": "8a239c5c-76d7-4950-d549-ac8eafa15f49"
      },
      "source": [
        "nintendo_japan_genre = data.query(\"Publisher == 'Nintendo'\")[['Genre','JP_Sales']]\r\n",
        "nintendo_japan_genre.groupby('Genre')\\\r\n",
        "                        .describe()\\\r\n",
        "                        [[('JP_Sales',   '25%'), ('JP_Sales',   '50%'), ('JP_Sales',   '75%')]]"
      ],
      "execution_count": 66,
      "outputs": [
        {
          "output_type": "execute_result",
          "data": {
            "text/html": [
              "<div>\n",
              "<style scoped>\n",
              "    .dataframe tbody tr th:only-of-type {\n",
              "        vertical-align: middle;\n",
              "    }\n",
              "\n",
              "    .dataframe tbody tr th {\n",
              "        vertical-align: top;\n",
              "    }\n",
              "\n",
              "    .dataframe thead tr th {\n",
              "        text-align: left;\n",
              "    }\n",
              "\n",
              "    .dataframe thead tr:last-of-type th {\n",
              "        text-align: right;\n",
              "    }\n",
              "</style>\n",
              "<table border=\"1\" class=\"dataframe\">\n",
              "  <thead>\n",
              "    <tr>\n",
              "      <th></th>\n",
              "      <th colspan=\"3\" halign=\"left\">JP_Sales</th>\n",
              "    </tr>\n",
              "    <tr>\n",
              "      <th></th>\n",
              "      <th>25%</th>\n",
              "      <th>50%</th>\n",
              "      <th>75%</th>\n",
              "    </tr>\n",
              "    <tr>\n",
              "      <th>Genre</th>\n",
              "      <th></th>\n",
              "      <th></th>\n",
              "      <th></th>\n",
              "    </tr>\n",
              "  </thead>\n",
              "  <tbody>\n",
              "    <tr>\n",
              "      <th>Action</th>\n",
              "      <td>0.0800</td>\n",
              "      <td>0.170</td>\n",
              "      <td>0.4600</td>\n",
              "    </tr>\n",
              "    <tr>\n",
              "      <th>Adventure</th>\n",
              "      <td>0.0300</td>\n",
              "      <td>0.090</td>\n",
              "      <td>0.2300</td>\n",
              "    </tr>\n",
              "    <tr>\n",
              "      <th>Fighting</th>\n",
              "      <td>0.1325</td>\n",
              "      <td>0.500</td>\n",
              "      <td>1.3650</td>\n",
              "    </tr>\n",
              "    <tr>\n",
              "      <th>Misc</th>\n",
              "      <td>0.0500</td>\n",
              "      <td>0.250</td>\n",
              "      <td>0.7300</td>\n",
              "    </tr>\n",
              "    <tr>\n",
              "      <th>Platform</th>\n",
              "      <td>0.2250</td>\n",
              "      <td>0.540</td>\n",
              "      <td>1.0800</td>\n",
              "    </tr>\n",
              "    <tr>\n",
              "      <th>Puzzle</th>\n",
              "      <td>0.0800</td>\n",
              "      <td>0.255</td>\n",
              "      <td>0.6025</td>\n",
              "    </tr>\n",
              "    <tr>\n",
              "      <th>Racing</th>\n",
              "      <td>0.1000</td>\n",
              "      <td>0.340</td>\n",
              "      <td>0.8900</td>\n",
              "    </tr>\n",
              "    <tr>\n",
              "      <th>Role-Playing</th>\n",
              "      <td>0.1600</td>\n",
              "      <td>0.360</td>\n",
              "      <td>0.7400</td>\n",
              "    </tr>\n",
              "    <tr>\n",
              "      <th>Shooter</th>\n",
              "      <td>0.0775</td>\n",
              "      <td>0.130</td>\n",
              "      <td>0.2825</td>\n",
              "    </tr>\n",
              "    <tr>\n",
              "      <th>Simulation</th>\n",
              "      <td>0.0725</td>\n",
              "      <td>0.390</td>\n",
              "      <td>0.9675</td>\n",
              "    </tr>\n",
              "    <tr>\n",
              "      <th>Sports</th>\n",
              "      <td>0.0600</td>\n",
              "      <td>0.250</td>\n",
              "      <td>0.7150</td>\n",
              "    </tr>\n",
              "    <tr>\n",
              "      <th>Strategy</th>\n",
              "      <td>0.0600</td>\n",
              "      <td>0.190</td>\n",
              "      <td>0.4450</td>\n",
              "    </tr>\n",
              "  </tbody>\n",
              "</table>\n",
              "</div>"
            ],
            "text/plain": [
              "             JP_Sales               \n",
              "                  25%    50%     75%\n",
              "Genre                               \n",
              "Action         0.0800  0.170  0.4600\n",
              "Adventure      0.0300  0.090  0.2300\n",
              "Fighting       0.1325  0.500  1.3650\n",
              "Misc           0.0500  0.250  0.7300\n",
              "Platform       0.2250  0.540  1.0800\n",
              "Puzzle         0.0800  0.255  0.6025\n",
              "Racing         0.1000  0.340  0.8900\n",
              "Role-Playing   0.1600  0.360  0.7400\n",
              "Shooter        0.0775  0.130  0.2825\n",
              "Simulation     0.0725  0.390  0.9675\n",
              "Sports         0.0600  0.250  0.7150\n",
              "Strategy       0.0600  0.190  0.4450"
            ]
          },
          "metadata": {
            "tags": []
          },
          "execution_count": 66
        }
      ]
    },
    {
      "cell_type": "code",
      "metadata": {
        "colab": {
          "base_uri": "https://localhost:8080/",
          "height": 339
        },
        "id": "XTpRS8SetL00",
        "outputId": "18cc9819-9b64-4fa1-fe89-e229ec38ebb3"
      },
      "source": [
        "snb.set_theme(style=\"whitegrid\")\r\n",
        "snb.set(rc={'figure.figsize':(10,5)})\r\n",
        "\r\n",
        "ax = snb.boxplot(y=\"Genre\", x=\"JP_Sales\", data=nintendo_japan_genre, orient='h')"
      ],
      "execution_count": 84,
      "outputs": [
        {
          "output_type": "display_data",
          "data": {
            "image/png": "[encoded data removed]",
            "text/plain": [
              "<Figure size 720x360 with 1 Axes>"
            ]
          },
          "metadata": {
            "tags": []
          }
        }
      ]
    },
    {
      "cell_type": "code",
      "metadata": {
        "id": "FLEEJXCmw8VU"
      },
      "source": [
        ""
      ],
      "execution_count": null,
      "outputs": []
    }
  ]
}