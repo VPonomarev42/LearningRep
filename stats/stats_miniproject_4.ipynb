{
  "nbformat": 4,
  "nbformat_minor": 0,
  "metadata": {
    "colab": {
      "name": "stats_miniproject_4.ipynb",
      "provenance": [],
      "authorship_tag": "ABX9TyNAQYowwl8NEIIIKFsY5qcG",
      "include_colab_link": true
    },
    "kernelspec": {
      "name": "python3",
      "display_name": "Python 3"
    }
  },
  "cells": [
    {
      "cell_type": "markdown",
      "metadata": {
        "id": "view-in-github",
        "colab_type": "text"
      },
      "source": [
        "<a href=\"https://colab.research.google.com/github/VPonomarev42/LearningRep/blob/stats_miniproject3/stats_miniproject_4.ipynb\" target=\"_parent\"><img src=\"https://colab.research.google.com/assets/colab-badge.svg\" alt=\"Open In Colab\"/></a>"
      ]
    },
    {
      "cell_type": "code",
      "metadata": {
        "id": "FJmGzYaSd7zl"
      },
      "source": [
        "import pandas as pd\r\n",
        "import numpy as np\r\n",
        "import seaborn as sns\r\n",
        "import matplotlib.pylab as plt\r\n",
        "from scipy.stats import iqr\r\n",
        "from scipy.stats import shapiro\r\n",
        "from scipy.stats import ttest_ind\r\n",
        "%matplotlib inline"
      ],
      "execution_count": null,
      "outputs": []
    },
    {
      "cell_type": "markdown",
      "metadata": {
        "id": "4GSRptdJeJOC"
      },
      "source": [
        "# **Задание**\r\n",
        "Представьте, что вы работаете аналитиком в очень крупной компании по доставке пиццы над приложением для курьеров (да, обычно в таких компаниях есть приложение для курьеров и отдельно приложение для потребителей).\r\n",
        "\r\n",
        "У вас есть несколько ресторанов в разных частях города и целый штат курьеров. Но есть одна проблема, к вечеру скорость доставки падает из-за того, что курьеры уходят домой после рабочего дня, а количество заказов лишь растет. Это приводит к тому, что в момент пересмены наша доставка очень сильно проседает в эффективности. \r\n",
        "\r\n",
        "Наши data scientist-ы придумали новый алгоритм, который позволяет курьерам запланировать свои последние заказы перед окончанием рабочего дня так, чтобы их маршрут доставки совпадал с маршрутом до дома. То есть, чтобы курьеры доставляли последние свои заказы за день как бы \"по пути\" домой. \r\n",
        "\r\n",
        "Вы вместе с командой решили раскатить A/B тест на две равные группы курьеров. Часть курьеров использует старый алгоритм без опции \"по пути\", другие видят в своем приложении эту опцию и могут ее выбрать. Ваша задача – проанализировать данные эксперимента и помочь бизнесу принять решение о раскатке новой фичи на всех курьеров.\r\n",
        "\r\n"
      ]
    },
    {
      "cell_type": "markdown",
      "metadata": {
        "id": "i1lMG3A0eJKw"
      },
      "source": [
        "**Описание данных**\r\n",
        "* order_id - id заказа\r\n",
        "* delivery_time - время доставки в минутах \r\n",
        "* district - район доставки\r\n",
        "* experiment_group - экспериментальная группа\r\n",
        "\r\n",
        "\r\n",
        "\r\n"
      ]
    },
    {
      "cell_type": "markdown",
      "metadata": {
        "id": "S47V3zOreyYN"
      },
      "source": [
        "\r\n",
        "\r\n",
        "---\r\n",
        "\r\n",
        "---\r\n",
        "\r\n",
        "\r\n",
        "\r\n"
      ]
    },
    {
      "cell_type": "markdown",
      "metadata": {
        "id": "rnEU_9aFglru"
      },
      "source": [
        "1.Загрузим данные, построим графики"
      ]
    },
    {
      "cell_type": "code",
      "metadata": {
        "id": "jCoSOkEYeFtT"
      },
      "source": [
        "sns.set(rc={'figure.figsize':(10,5)}, style='whitegrid')"
      ],
      "execution_count": null,
      "outputs": []
    },
    {
      "cell_type": "code",
      "metadata": {
        "colab": {
          "base_uri": "https://localhost:8080/",
          "height": 195
        },
        "id": "vEayTq1Qe3ok",
        "outputId": "e99b0dd0-09e1-4099-f470-23c3f0207244"
      },
      "source": [
        "data = pd.read_csv('https://stepik.org/media/attachments/lesson/385916/experiment_lesson_4.csv')\r\n",
        "data.head()"
      ],
      "execution_count": null,
      "outputs": [
        {
          "output_type": "execute_result",
          "data": {
            "text/html": [
              "<div>\n",
              "<style scoped>\n",
              "    .dataframe tbody tr th:only-of-type {\n",
              "        vertical-align: middle;\n",
              "    }\n",
              "\n",
              "    .dataframe tbody tr th {\n",
              "        vertical-align: top;\n",
              "    }\n",
              "\n",
              "    .dataframe thead th {\n",
              "        text-align: right;\n",
              "    }\n",
              "</style>\n",
              "<table border=\"1\" class=\"dataframe\">\n",
              "  <thead>\n",
              "    <tr style=\"text-align: right;\">\n",
              "      <th></th>\n",
              "      <th>order_id</th>\n",
              "      <th>delivery_time</th>\n",
              "      <th>district</th>\n",
              "      <th>experiment_group</th>\n",
              "    </tr>\n",
              "  </thead>\n",
              "  <tbody>\n",
              "    <tr>\n",
              "      <th>0</th>\n",
              "      <td>3159</td>\n",
              "      <td>44.0</td>\n",
              "      <td>Purlieus</td>\n",
              "      <td>control</td>\n",
              "    </tr>\n",
              "    <tr>\n",
              "      <th>1</th>\n",
              "      <td>10426</td>\n",
              "      <td>51.0</td>\n",
              "      <td>Purlieus</td>\n",
              "      <td>control</td>\n",
              "    </tr>\n",
              "    <tr>\n",
              "      <th>2</th>\n",
              "      <td>9155</td>\n",
              "      <td>46.0</td>\n",
              "      <td>Purlieus</td>\n",
              "      <td>control</td>\n",
              "    </tr>\n",
              "    <tr>\n",
              "      <th>3</th>\n",
              "      <td>10699</td>\n",
              "      <td>34.0</td>\n",
              "      <td>Purlieus</td>\n",
              "      <td>control</td>\n",
              "    </tr>\n",
              "    <tr>\n",
              "      <th>4</th>\n",
              "      <td>10061</td>\n",
              "      <td>43.0</td>\n",
              "      <td>Purlieus</td>\n",
              "      <td>control</td>\n",
              "    </tr>\n",
              "  </tbody>\n",
              "</table>\n",
              "</div>"
            ],
            "text/plain": [
              "   order_id  delivery_time  district experiment_group\n",
              "0      3159           44.0  Purlieus          control\n",
              "1     10426           51.0  Purlieus          control\n",
              "2      9155           46.0  Purlieus          control\n",
              "3     10699           34.0  Purlieus          control\n",
              "4     10061           43.0  Purlieus          control"
            ]
          },
          "metadata": {
            "tags": []
          },
          "execution_count": 4
        }
      ]
    },
    {
      "cell_type": "code",
      "metadata": {
        "colab": {
          "base_uri": "https://localhost:8080/"
        },
        "id": "1G9J9Snqe-Yi",
        "outputId": "262f7f97-3036-4f68-b425-499ae23288f3"
      },
      "source": [
        "data.shape"
      ],
      "execution_count": null,
      "outputs": [
        {
          "output_type": "execute_result",
          "data": {
            "text/plain": [
              "(20196, 4)"
            ]
          },
          "metadata": {
            "tags": []
          },
          "execution_count": 5
        }
      ]
    },
    {
      "cell_type": "code",
      "metadata": {
        "colab": {
          "base_uri": "https://localhost:8080/"
        },
        "id": "6IKJuYzkgulx",
        "outputId": "a2634d02-8a12-41bf-ea0b-d6f9c7f15206"
      },
      "source": [
        "data.isna().value_counts()"
      ],
      "execution_count": null,
      "outputs": [
        {
          "output_type": "execute_result",
          "data": {
            "text/plain": [
              "order_id  delivery_time  district  experiment_group\n",
              "False     False          False     False               20196\n",
              "dtype: int64"
            ]
          },
          "metadata": {
            "tags": []
          },
          "execution_count": 9
        }
      ]
    },
    {
      "cell_type": "code",
      "metadata": {
        "colab": {
          "base_uri": "https://localhost:8080/",
          "height": 382
        },
        "id": "MHqsygWue_8L",
        "outputId": "74296343-473e-4d93-eaeb-58d1bd532d2a"
      },
      "source": [
        "sns.displot(data=data, x='delivery_time', hue='experiment_group')"
      ],
      "execution_count": null,
      "outputs": [
        {
          "output_type": "execute_result",
          "data": {
            "text/plain": [
              "<seaborn.axisgrid.FacetGrid at 0x7fd4687ec4e0>"
            ]
          },
          "metadata": {
            "tags": []
          },
          "execution_count": 6
        },
        {
          "output_type": "display_data",
          "data": {
            "image/png": "[encoded data removed]",
            "text/plain": [
              "<Figure size 478.8x360 with 1 Axes>"
            ]
          },
          "metadata": {
            "tags": []
          }
        }
      ]
    },
    {
      "cell_type": "code",
      "metadata": {
        "id": "DAgFLvT4uOPN"
      },
      "source": [
        "test_data = data[data['experiment_group'] == 'test']\r\n",
        "control_data = data[data['experiment_group'] == 'control']"
      ],
      "execution_count": null,
      "outputs": []
    },
    {
      "cell_type": "code",
      "metadata": {
        "colab": {
          "base_uri": "https://localhost:8080/",
          "height": 302
        },
        "id": "NAkwTLi8fphq",
        "outputId": "6e28e62d-3f58-49e4-fdd3-56567cec6241"
      },
      "source": [
        "sns.histplot(data=control_data.delivery_time)"
      ],
      "execution_count": null,
      "outputs": [
        {
          "output_type": "execute_result",
          "data": {
            "text/plain": [
              "<matplotlib.axes._subplots.AxesSubplot at 0x7fd43ef4ce80>"
            ]
          },
          "metadata": {
            "tags": []
          },
          "execution_count": 25
        },
        {
          "output_type": "display_data",
          "data": {
            "image/png": "[encoded data removed]",
            "text/plain": [
              "<Figure size 432x288 with 1 Axes>"
            ]
          },
          "metadata": {
            "tags": [],
            "needs_background": "light"
          }
        }
      ]
    },
    {
      "cell_type": "code",
      "metadata": {
        "colab": {
          "base_uri": "https://localhost:8080/",
          "height": 303
        },
        "id": "4B7DZzB_gClU",
        "outputId": "e35f2195-9083-447f-8021-a5bd40dd3d0e"
      },
      "source": [
        "sns.histplot(data=test_data.delivery_time)"
      ],
      "execution_count": null,
      "outputs": [
        {
          "output_type": "execute_result",
          "data": {
            "text/plain": [
              "<matplotlib.axes._subplots.AxesSubplot at 0x7fd43ec8a9e8>"
            ]
          },
          "metadata": {
            "tags": []
          },
          "execution_count": 26
        },
        {
          "output_type": "display_data",
          "data": {
            "image/png": "[encoded data removed]",
            "text/plain": [
              "<Figure size 432x288 with 1 Axes>"
            ]
          },
          "metadata": {
            "tags": [],
            "needs_background": "light"
          }
        }
      ]
    },
    {
      "cell_type": "markdown",
      "metadata": {
        "id": "eL65sz0whKbD"
      },
      "source": [
        "2. Посмотрим количество данных в каждой группе и посчитаем разность"
      ]
    },
    {
      "cell_type": "code",
      "metadata": {
        "colab": {
          "base_uri": "https://localhost:8080/"
        },
        "id": "FpCMa7PzhR-x",
        "outputId": "ce1c6d0b-72c8-4c54-ef58-c48421e96eea"
      },
      "source": [
        "data.experiment_group.value_counts()"
      ],
      "execution_count": null,
      "outputs": [
        {
          "output_type": "execute_result",
          "data": {
            "text/plain": [
              "test       10104\n",
              "control    10092\n",
              "Name: experiment_group, dtype: int64"
            ]
          },
          "metadata": {
            "tags": []
          },
          "execution_count": 13
        }
      ]
    },
    {
      "cell_type": "code",
      "metadata": {
        "colab": {
          "base_uri": "https://localhost:8080/"
        },
        "id": "9Y-2yIFuguIw",
        "outputId": "c12dc58b-4b6a-4580-f225-759852d1e8e1"
      },
      "source": [
        "data.experiment_group.value_counts()[0] - data.experiment_group.value_counts()[1]"
      ],
      "execution_count": null,
      "outputs": [
        {
          "output_type": "execute_result",
          "data": {
            "text/plain": [
              "12"
            ]
          },
          "metadata": {
            "tags": []
          },
          "execution_count": 14
        }
      ]
    },
    {
      "cell_type": "markdown",
      "metadata": {
        "id": "mFjLca-_sjBv"
      },
      "source": [
        "3.Проверим данные экспериментов на нормальность. Для этого выделим подвыборки по 1000 случайных элементов и применим критерий Шапиро-Вилка "
      ]
    },
    {
      "cell_type": "code",
      "metadata": {
        "id": "alHwN0SbhDqB"
      },
      "source": [
        "test_subgroup = test_data['delivery_time'].sample(1000, random_state=17)\r\n",
        "control_subgroup = control_data['delivery_time'].sample(1000, random_state=17)\r\n"
      ],
      "execution_count": null,
      "outputs": []
    },
    {
      "cell_type": "code",
      "metadata": {
        "colab": {
          "base_uri": "https://localhost:8080/"
        },
        "id": "UE-j0kLHs8lK",
        "outputId": "d26c78d5-b52a-4072-8ecb-a4ecd9b7692b"
      },
      "source": [
        "shapiro(test_subgroup)"
      ],
      "execution_count": null,
      "outputs": [
        {
          "output_type": "execute_result",
          "data": {
            "text/plain": [
              "(0.9975479245185852, 0.14013493061065674)"
            ]
          },
          "metadata": {
            "tags": []
          },
          "execution_count": 28
        }
      ]
    },
    {
      "cell_type": "code",
      "metadata": {
        "colab": {
          "base_uri": "https://localhost:8080/"
        },
        "id": "9YHddDTztHLO",
        "outputId": "e85e03cd-b3cd-4daa-eda7-fc98c1bf9dc3"
      },
      "source": [
        "shapiro(control_subgroup)"
      ],
      "execution_count": null,
      "outputs": [
        {
          "output_type": "execute_result",
          "data": {
            "text/plain": [
              "(0.9974725842475891, 0.12411931157112122)"
            ]
          },
          "metadata": {
            "tags": []
          },
          "execution_count": 29
        }
      ]
    },
    {
      "cell_type": "markdown",
      "metadata": {
        "id": "rDYdXc9CtS7v"
      },
      "source": [
        "Как видим, p-value в обоих подвыборках значительно выше 0.05, поэтому мы не можем отклонить нулевую гипотезу о том, что наши распределения не являются нормальными"
      ]
    },
    {
      "cell_type": "code",
      "metadata": {
        "colab": {
          "base_uri": "https://localhost:8080/"
        },
        "id": "33DvQIfZtJY7",
        "outputId": "78c85e8b-ce77-4e83-df89-5e1650c02dbd"
      },
      "source": [
        "np.round(np.std(test_data.delivery_time),2)"
      ],
      "execution_count": null,
      "outputs": [
        {
          "output_type": "execute_result",
          "data": {
            "text/plain": [
              "9.88"
            ]
          },
          "metadata": {
            "tags": []
          },
          "execution_count": 35
        }
      ]
    },
    {
      "cell_type": "code",
      "metadata": {
        "colab": {
          "base_uri": "https://localhost:8080/"
        },
        "id": "hsApIihOttph",
        "outputId": "3df5473b-56c9-447f-b339-56443165a393"
      },
      "source": [
        "np.round(np.std(control_data.delivery_time),2)"
      ],
      "execution_count": null,
      "outputs": [
        {
          "output_type": "execute_result",
          "data": {
            "text/plain": [
              "9.99"
            ]
          },
          "metadata": {
            "tags": []
          },
          "execution_count": 34
        }
      ]
    },
    {
      "cell_type": "markdown",
      "metadata": {
        "id": "n8AYM0-zvdOJ"
      },
      "source": [
        "4.Пришло время сравнить средние в тесте и контроле. Для этого исползуем t-test для двух независимых переменных"
      ]
    },
    {
      "cell_type": "code",
      "metadata": {
        "colab": {
          "base_uri": "https://localhost:8080/"
        },
        "id": "_HHGRXBNtviY",
        "outputId": "443ddb03-c299-4a06-9cf1-d22d4165f5fe"
      },
      "source": [
        "ttest = ttest_ind(test_data.delivery_time, control_data.delivery_time)\r\n",
        "ttest.pvalue"
      ],
      "execution_count": null,
      "outputs": [
        {
          "output_type": "execute_result",
          "data": {
            "text/plain": [
              "0.0"
            ]
          },
          "metadata": {
            "tags": []
          },
          "execution_count": 40
        }
      ]
    },
    {
      "cell_type": "markdown",
      "metadata": {
        "id": "yfZKfxiB2auh"
      },
      "source": [
        "Видим, что p-value значительно меньше 0.05, следовательно мы можем отклонить нулевую гипотезу о том, что средние в двух выборках не имеют различий. "
      ]
    },
    {
      "cell_type": "markdown",
      "metadata": {
        "id": "TvJOUj6C2pLj"
      },
      "source": [
        "Отклонив нулевую гипотезу мы принимаем альтернативную гипотезу о том, что различия между выборками значимые и проведенный эксперимент можно назвать успешным"
      ]
    },
    {
      "cell_type": "code",
      "metadata": {
        "colab": {
          "base_uri": "https://localhost:8080/"
        },
        "id": "uVdp_yFyzIzf",
        "outputId": "085b4ece-9776-483f-f2cf-ffd155f61a12"
      },
      "source": [
        "control_data.delivery_time.mean()"
      ],
      "execution_count": null,
      "outputs": [
        {
          "output_type": "execute_result",
          "data": {
            "text/plain": [
              "45.065101070154576"
            ]
          },
          "metadata": {
            "tags": []
          },
          "execution_count": 41
        }
      ]
    },
    {
      "cell_type": "code",
      "metadata": {
        "colab": {
          "base_uri": "https://localhost:8080/"
        },
        "id": "RIbpudzX3cA2",
        "outputId": "3ba43b96-71a7-4b98-f016-bfb5f1258a4c"
      },
      "source": [
        "test_data.delivery_time.mean()"
      ],
      "execution_count": null,
      "outputs": [
        {
          "output_type": "execute_result",
          "data": {
            "text/plain": [
              "39.04681314330958"
            ]
          },
          "metadata": {
            "tags": []
          },
          "execution_count": 42
        }
      ]
    },
    {
      "cell_type": "code",
      "metadata": {
        "colab": {
          "base_uri": "https://localhost:8080/"
        },
        "id": "OOfoa1nZ3eiv",
        "outputId": "c0407841-a4c3-444b-93fd-18763b55315f"
      },
      "source": [
        " (test_data.delivery_time.mean() - control_data.delivery_time.mean()) /  control_data.delivery_time.mean() * 100"
      ],
      "execution_count": null,
      "outputs": [
        {
          "output_type": "execute_result",
          "data": {
            "text/plain": [
              "-13.354653121660812"
            ]
          },
          "metadata": {
            "tags": []
          },
          "execution_count": 51
        }
      ]
    },
    {
      "cell_type": "markdown",
      "metadata": {
        "id": "wb3_KDGfUQIc"
      },
      "source": [
        "Среднее время доставки после внедрения нового алгоритма уменьшилось на 13.35%"
      ]
    },
    {
      "cell_type": "code",
      "metadata": {
        "id": "qVGaBFu_3g3Z"
      },
      "source": [
        ""
      ],
      "execution_count": null,
      "outputs": []
    }
  ]
}
