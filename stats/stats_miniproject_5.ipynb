{
  "nbformat": 4,
  "nbformat_minor": 0,
  "metadata": {
    "colab": {
      "name": "stats_miniproject_5.ipynb",
      "provenance": [],
      "authorship_tag": "ABX9TyMe0dtqAD+e2dTxM1vArP06",
      "include_colab_link": true
    },
    "kernelspec": {
      "name": "python3",
      "display_name": "Python 3"
    }
  },
  "cells": [
    {
      "cell_type": "markdown",
      "metadata": {
        "id": "view-in-github",
        "colab_type": "text"
      },
      "source": [
        "<a href=\"https://colab.research.google.com/github/VPonomarev42/LearningRep/blob/stats_miniproject_5/stats/stats_miniproject_5.ipynb\" target=\"_parent\"><img src=\"https://colab.research.google.com/assets/colab-badge.svg\" alt=\"Open In Colab\"/></a>"
      ]
    },
    {
      "cell_type": "code",
      "metadata": {
        "id": "5dm0kHrOGQoB"
      },
      "source": [
        "import pandas as pd\r\n",
        "import numpy as np\r\n",
        "import seaborn as sns\r\n",
        "import matplotlib.pylab as plt\r\n",
        "from scipy.stats import iqr\r\n",
        "from scipy.stats import shapiro\r\n",
        "from scipy.stats import ttest_ind\r\n",
        "from scipy.stats import levene\r\n",
        "from scipy.stats import f_oneway\r\n",
        "%matplotlib inline"
      ],
      "execution_count": 35,
      "outputs": []
    },
    {
      "cell_type": "markdown",
      "metadata": {
        "id": "BE7EbNKOGdrt"
      },
      "source": [
        "На этот раз ситуация следующая: вы работаете в приложении по доставке готовых продуктов. К вам пришел коллега с результатами двух тестов:\r\n",
        "\r\n",
        "* В первом тестировали разрешение фотографий блюд в приложении: пользователям показывались либо прямоугольные, либо новые квадратные \r\n",
        "* Во втором: была обновлена кнопка заказа, и часть юзеров видела старый вариант, а часть – новый \r\n",
        "\r\n",
        "Коллега пришел к вам с просьбой: он посмотрел на графики и предположил, что среди групп могут встретиться различия. Ваша задача – помочь ему проверить гипотезы, сделать соответствующие выводы на основе статистических тестов и принять решения"
      ]
    },
    {
      "cell_type": "markdown",
      "metadata": {
        "id": "-z0YSyKnGkGq"
      },
      "source": [
        "# **Задания**:\r\n",
        "1. Выберите метод, который предположительно подойдет в первом вопросе.\r\n",
        "2. Проверьте, являются ли дисперсии внутри групп гомогенными.\r\n",
        "3. Проведите тест на нормальность распределения.\r\n",
        "4. Сравните средние в представленных группах.\r\n",
        "5. Используйте критерий Тьюки и определите, между какими группами есть статистически значимые различия. \r\n",
        "6. Примите решение: какие картинки в итоге будем использовать?\r\n",
        "7. Выберите метод для второго теста.\r\n",
        "8. Визуализируйте распределение events для контрольной и тестовой групп. \r\n",
        "9. Посмотрите на описательные статистики events в разбивке по группе и по сегменту пользователя. \r\n",
        "10. Выберите формулу для модели, проведите тест.\r\n"
      ]
    },
    {
      "cell_type": "markdown",
      "metadata": {
        "id": "5JVSUIFzHMKN"
      },
      "source": [
        "# **Описание данных**\r\n",
        "**[5_task_1](https://stepik.org/media/attachments/lesson/385920/5_task_1.csv \"5_task_1\"):**\r\n",
        "\r\n",
        "**id** – id клиента в эксперименте  \r\n",
        "**group** – в каком разрешении показывались картинки (A – прямоугольные 16:9, B – квадратные, C – прямоугольные 12:4)  \r\n",
        "**events** – сколько блюд суммарно было заказано за период\r\n",
        "\r\n",
        "**[5_task_2](https://stepik.org/media/attachments/lesson/385920/5_task_2.csv \"5_task_2\"):**  \r\n",
        "**id** – id клиента в эксперименте  \r\n",
        "**segment** – сегмент (high/low)  \r\n",
        "**group** – вид кнопки (control – старая версия, test – новая версия)  \r\n",
        "**events** – сколько блюд суммарно было заказано за период"
      ]
    },
    {
      "cell_type": "markdown",
      "metadata": {
        "id": "oUO77rvgI7Mc"
      },
      "source": [
        "1. Выберите метод, который предположительно подойдет в первом вопросе."
      ]
    },
    {
      "cell_type": "markdown",
      "metadata": {
        "id": "3fbx3co6JB9q"
      },
      "source": [
        "Уточнение условия задачи: пользователю показываются 2 вида прямоугольных и квадратные изображения. Имеем 3 группы для сравнения. Для исследования будем использовать дисперсионный анализ, метод ANOVA. "
      ]
    },
    {
      "cell_type": "markdown",
      "metadata": {
        "id": "FI-ilH_QJeZd"
      },
      "source": [
        "2.Проверьте, являются ли дисперсии внутри групп гомогенными."
      ]
    },
    {
      "cell_type": "code",
      "metadata": {
        "colab": {
          "base_uri": "https://localhost:8080/",
          "height": 195
        },
        "id": "9FbOa0gGGYq6",
        "outputId": "f5b69086-6954-46d7-c83b-f7da6a38a70d"
      },
      "source": [
        "task1 = pd.read_csv('https://stepik.org/media/attachments/lesson/385920/5_task_1.csv')\r\n",
        "task1.head()"
      ],
      "execution_count": 2,
      "outputs": [
        {
          "output_type": "execute_result",
          "data": {
            "text/html": [
              "<div>\n",
              "<style scoped>\n",
              "    .dataframe tbody tr th:only-of-type {\n",
              "        vertical-align: middle;\n",
              "    }\n",
              "\n",
              "    .dataframe tbody tr th {\n",
              "        vertical-align: top;\n",
              "    }\n",
              "\n",
              "    .dataframe thead th {\n",
              "        text-align: right;\n",
              "    }\n",
              "</style>\n",
              "<table border=\"1\" class=\"dataframe\">\n",
              "  <thead>\n",
              "    <tr style=\"text-align: right;\">\n",
              "      <th></th>\n",
              "      <th>id</th>\n",
              "      <th>group</th>\n",
              "      <th>events</th>\n",
              "    </tr>\n",
              "  </thead>\n",
              "  <tbody>\n",
              "    <tr>\n",
              "      <th>0</th>\n",
              "      <td>16046</td>\n",
              "      <td>A</td>\n",
              "      <td>14</td>\n",
              "    </tr>\n",
              "    <tr>\n",
              "      <th>1</th>\n",
              "      <td>18712</td>\n",
              "      <td>A</td>\n",
              "      <td>41</td>\n",
              "    </tr>\n",
              "    <tr>\n",
              "      <th>2</th>\n",
              "      <td>3268</td>\n",
              "      <td>A</td>\n",
              "      <td>30</td>\n",
              "    </tr>\n",
              "    <tr>\n",
              "      <th>3</th>\n",
              "      <td>22633</td>\n",
              "      <td>A</td>\n",
              "      <td>37</td>\n",
              "    </tr>\n",
              "    <tr>\n",
              "      <th>4</th>\n",
              "      <td>28071</td>\n",
              "      <td>A</td>\n",
              "      <td>38</td>\n",
              "    </tr>\n",
              "  </tbody>\n",
              "</table>\n",
              "</div>"
            ],
            "text/plain": [
              "      id group  events\n",
              "0  16046     A      14\n",
              "1  18712     A      41\n",
              "2   3268     A      30\n",
              "3  22633     A      37\n",
              "4  28071     A      38"
            ]
          },
          "metadata": {
            "tags": []
          },
          "execution_count": 2
        }
      ]
    },
    {
      "cell_type": "code",
      "metadata": {
        "colab": {
          "base_uri": "https://localhost:8080/"
        },
        "id": "mXGW7G8mIq0E",
        "outputId": "367432bf-bbe0-4c62-8ab4-a6f0d808e519"
      },
      "source": [
        "task1.shape"
      ],
      "execution_count": 3,
      "outputs": [
        {
          "output_type": "execute_result",
          "data": {
            "text/plain": [
              "(30000, 3)"
            ]
          },
          "metadata": {
            "tags": []
          },
          "execution_count": 3
        }
      ]
    },
    {
      "cell_type": "code",
      "metadata": {
        "colab": {
          "base_uri": "https://localhost:8080/"
        },
        "id": "LPor-bafIujG",
        "outputId": "47eaea4d-c7da-4632-e9cc-66bcd5670802"
      },
      "source": [
        "task1.isna().value_counts()"
      ],
      "execution_count": 4,
      "outputs": [
        {
          "output_type": "execute_result",
          "data": {
            "text/plain": [
              "id     group  events\n",
              "False  False  False     30000\n",
              "dtype: int64"
            ]
          },
          "metadata": {
            "tags": []
          },
          "execution_count": 4
        }
      ]
    },
    {
      "cell_type": "code",
      "metadata": {
        "id": "BpsA9LtXKJfS"
      },
      "source": [
        "group_a = task1[task1.group == 'A']"
      ],
      "execution_count": 12,
      "outputs": []
    },
    {
      "cell_type": "code",
      "metadata": {
        "id": "LuHbYsMlKJcS"
      },
      "source": [
        "group_b = task1[task1.group == 'B']"
      ],
      "execution_count": 10,
      "outputs": []
    },
    {
      "cell_type": "code",
      "metadata": {
        "id": "kA9IXrnRLZYy"
      },
      "source": [
        "group_c = task1[task1.group == 'C']"
      ],
      "execution_count": 20,
      "outputs": []
    },
    {
      "cell_type": "code",
      "metadata": {
        "colab": {
          "base_uri": "https://localhost:8080/"
        },
        "id": "USXduiNqJnCm",
        "outputId": "75155d56-fbda-420c-d754-8e92c888bbfc"
      },
      "source": [
        "np.var(group_a.events, ddof=1)"
      ],
      "execution_count": 18,
      "outputs": [
        {
          "output_type": "execute_result",
          "data": {
            "text/plain": [
              "101.59382322232213"
            ]
          },
          "metadata": {
            "tags": []
          },
          "execution_count": 18
        }
      ]
    },
    {
      "cell_type": "code",
      "metadata": {
        "colab": {
          "base_uri": "https://localhost:8080/"
        },
        "id": "cXct4P-xKGW8",
        "outputId": "e03b4865-e685-4e69-c678-f80953883aa3"
      },
      "source": [
        "np.var(group_b.events, ddof=1)"
      ],
      "execution_count": 19,
      "outputs": [
        {
          "output_type": "execute_result",
          "data": {
            "text/plain": [
              "96.99019405940611"
            ]
          },
          "metadata": {
            "tags": []
          },
          "execution_count": 19
        }
      ]
    },
    {
      "cell_type": "code",
      "metadata": {
        "colab": {
          "base_uri": "https://localhost:8080/"
        },
        "id": "S632bM5BLjMp",
        "outputId": "a95d691e-c6d5-4fe7-db1e-869d46df48b4"
      },
      "source": [
        "np.var(group_c.events, ddof=1)"
      ],
      "execution_count": 23,
      "outputs": [
        {
          "output_type": "execute_result",
          "data": {
            "text/plain": [
              "99.1826361736163"
            ]
          },
          "metadata": {
            "tags": []
          },
          "execution_count": 23
        }
      ]
    },
    {
      "cell_type": "code",
      "metadata": {
        "colab": {
          "base_uri": "https://localhost:8080/"
        },
        "id": "8lV8GJvnJu_M",
        "outputId": "31082435-f8e0-4c2b-c616-5c657188d678"
      },
      "source": [
        "levene(group_a.events, group_b.events, group_c.events)"
      ],
      "execution_count": 22,
      "outputs": [
        {
          "output_type": "execute_result",
          "data": {
            "text/plain": [
              "LeveneResult(statistic=2.2622596339318037, pvalue=0.1041327199523974)"
            ]
          },
          "metadata": {
            "tags": []
          },
          "execution_count": 22
        }
      ]
    },
    {
      "cell_type": "markdown",
      "metadata": {
        "id": "OHiMlQafKn-E"
      },
      "source": [
        "Тест на гомогенность дисперсии Левена показал p-value > 0.05, это позволяет нам сделать вывод о том, что нулевую гипотезу о гомогенности(приблизительном равенстве) дисперсии в трех группах мы отклонить не можем."
      ]
    },
    {
      "cell_type": "markdown",
      "metadata": {
        "id": "lXrCqwB3RLX_"
      },
      "source": [
        "3.Проведите тест на нормальность распределения."
      ]
    },
    {
      "cell_type": "markdown",
      "metadata": {
        "id": "vXnJU-axRP3J"
      },
      "source": [
        "Для этого возьмём случайные выборки по 1000 элементов из каждой группы и проведём проверку с помощью метода Шапиро-Уилка."
      ]
    },
    {
      "cell_type": "code",
      "metadata": {
        "id": "KxzJ43DnKiNG"
      },
      "source": [
        "gr_a_sample = group_a['events'].sample(1000,random_state=17)\r\n",
        "gr_b_sample = group_b['events'].sample(1000,random_state=17)\r\n",
        "gr_c_sample = group_c['events'].sample(1000,random_state=17)"
      ],
      "execution_count": 31,
      "outputs": []
    },
    {
      "cell_type": "code",
      "metadata": {
        "colab": {
          "base_uri": "https://localhost:8080/"
        },
        "id": "yO8BxN-9NMUV",
        "outputId": "29ee3b3d-0b64-4752-ba94-79175182a33b"
      },
      "source": [
        "shapiro(gr_a_sample)"
      ],
      "execution_count": 32,
      "outputs": [
        {
          "output_type": "execute_result",
          "data": {
            "text/plain": [
              "(0.9973153471946716, 0.09609563648700714)"
            ]
          },
          "metadata": {
            "tags": []
          },
          "execution_count": 32
        }
      ]
    },
    {
      "cell_type": "code",
      "metadata": {
        "colab": {
          "base_uri": "https://localhost:8080/"
        },
        "id": "OII0eG-6OU8l",
        "outputId": "df7e1993-4680-49d9-b1cb-e27bf0f96d38"
      },
      "source": [
        "shapiro(gr_b_sample)"
      ],
      "execution_count": 33,
      "outputs": [
        {
          "output_type": "execute_result",
          "data": {
            "text/plain": [
              "(0.9980798363685608, 0.31768906116485596)"
            ]
          },
          "metadata": {
            "tags": []
          },
          "execution_count": 33
        }
      ]
    },
    {
      "cell_type": "code",
      "metadata": {
        "colab": {
          "base_uri": "https://localhost:8080/"
        },
        "id": "17SJmx1oOWxD",
        "outputId": "3460bc53-3ce0-4682-e2ea-63f8fb23d226"
      },
      "source": [
        "shapiro(gr_c_sample)"
      ],
      "execution_count": 34,
      "outputs": [
        {
          "output_type": "execute_result",
          "data": {
            "text/plain": [
              "(0.9981185793876648, 0.3359004259109497)"
            ]
          },
          "metadata": {
            "tags": []
          },
          "execution_count": 34
        }
      ]
    },
    {
      "cell_type": "markdown",
      "metadata": {
        "id": "-WQa_N68OkUQ"
      },
      "source": [
        "Тест Шапиро-Уилка показал для всех групп p-value > 0.05, что не дает нам отклонить нулевые гипотезу о нормальном распределение этих групп."
      ]
    },
    {
      "cell_type": "markdown",
      "metadata": {
        "id": "5ks6hoEyR4fb"
      },
      "source": [
        "4.Сравните средние в представленных группах."
      ]
    },
    {
      "cell_type": "markdown",
      "metadata": {
        "id": "rh72sn_WR6X8"
      },
      "source": [
        "Для сравнения среднего в этих группах будем использовать однофакторный метод дисперсионного анализа F_oneway"
      ]
    },
    {
      "cell_type": "code",
      "metadata": {
        "colab": {
          "base_uri": "https://localhost:8080/"
        },
        "id": "i9kN7BcNOYfM",
        "outputId": "c8a3ae55-810e-403b-fcce-aa4c6059ef69"
      },
      "source": [
        "f_oneway(group_a.events, group_b.events, group_c.events)"
      ],
      "execution_count": 37,
      "outputs": [
        {
          "output_type": "execute_result",
          "data": {
            "text/plain": [
              "F_onewayResult(statistic=2886.166657438961, pvalue=0.0)"
            ]
          },
          "metadata": {
            "tags": []
          },
          "execution_count": 37
        }
      ]
    },
    {
      "cell_type": "markdown",
      "metadata": {
        "id": "tqPUAYu5SEtj"
      },
      "source": [
        "Результат тестирования показал p-value близкое к 0, что не позволяет отбросить нулевую гипотезу о равенстве средних в этих группах "
      ]
    },
    {
      "cell_type": "markdown",
      "metadata": {
        "id": "Dbsvmq5eSrFy"
      },
      "source": [
        "5. Используйте критерий Тьюки и определите, между какими группами есть статистически значимые различия."
      ]
    },
    {
      "cell_type": "code",
      "metadata": {
        "colab": {
          "base_uri": "https://localhost:8080/"
        },
        "id": "Q3GSQQpYQo57",
        "outputId": "9ef82f0a-52b6-46a0-9d5f-f553abb8747a"
      },
      "source": [
        "from statsmodels.stats.multicomp import (pairwise_tukeyhsd,\r\n",
        "                                         MultiComparison)"
      ],
      "execution_count": 38,
      "outputs": [
        {
          "output_type": "stream",
          "text": [
            "/usr/local/lib/python3.6/dist-packages/statsmodels/tools/_testing.py:19: FutureWarning: pandas.util.testing is deprecated. Use the functions in the public API at pandas.testing instead.\n",
            "  import pandas.util.testing as tm\n"
          ],
          "name": "stderr"
        }
      ]
    },
    {
      "cell_type": "code",
      "metadata": {
        "id": "0zia5Zd9Svce"
      },
      "source": [
        "tukey_result = pairwise_tukeyhsd(task1.events, task1.group)"
      ],
      "execution_count": 41,
      "outputs": []
    },
    {
      "cell_type": "code",
      "metadata": {
        "colab": {
          "base_uri": "https://localhost:8080/",
          "height": 115
        },
        "id": "QjpSfmc3SlW9",
        "outputId": "655d6988-e8a2-48b6-c433-334a491df0bf"
      },
      "source": [
        "tukey_result.summary()"
      ],
      "execution_count": 44,
      "outputs": [
        {
          "output_type": "execute_result",
          "data": {
            "text/html": [
              "<table class=\"simpletable\">\n",
              "<caption>Multiple Comparison of Means - Tukey HSD, FWER=0.05</caption>\n",
              "<tr>\n",
              "  <th>group1</th> <th>group2</th> <th>meandiff</th> <th>p-adj</th>   <th>lower</th>   <th>upper</th>  <th>reject</th>\n",
              "</tr>\n",
              "<tr>\n",
              "     <td>A</td>      <td>B</td>     <td>8.034</td>  <td>0.001</td>  <td>7.7038</td>  <td>8.3642</td>   <td>True</td> \n",
              "</tr>\n",
              "<tr>\n",
              "     <td>A</td>      <td>C</td>    <td>-2.1093</td> <td>0.001</td>  <td>-2.4395</td> <td>-1.7791</td>  <td>True</td> \n",
              "</tr>\n",
              "<tr>\n",
              "     <td>B</td>      <td>C</td>   <td>-10.1433</td> <td>0.001</td> <td>-10.4735</td> <td>-9.8131</td>  <td>True</td> \n",
              "</tr>\n",
              "</table>"
            ],
            "text/plain": [
              "<class 'statsmodels.iolib.table.SimpleTable'>"
            ]
          },
          "metadata": {
            "tags": []
          },
          "execution_count": 44
        }
      ]
    },
    {
      "cell_type": "code",
      "metadata": {
        "colab": {
          "base_uri": "https://localhost:8080/",
          "height": 372
        },
        "id": "AH_vEOH1TwjB",
        "outputId": "64545df7-e722-445b-de43-415a9de816da"
      },
      "source": [
        "sns.set(rc={'figure.figsize':(10,5)}, style='whitegrid')\r\n",
        "sns.pointplot(data=task1, x='group', y='events', capsize=0.1)\r\n",
        "plt.xlabel('Тестовые группы')\r\n",
        "plt.ylabel('Количество покупок')\r\n",
        "plt.title('Сравнение групп')"
      ],
      "execution_count": 48,
      "outputs": [
        {
          "output_type": "execute_result",
          "data": {
            "text/plain": [
              "Text(0.5, 1.0, 'Сравнение групп')"
            ]
          },
          "metadata": {
            "tags": []
          },
          "execution_count": 48
        },
        {
          "output_type": "display_data",
          "data": {
            "image/png": "[encoded data removed]",
            "text/plain": [
              "<Figure size 720x360 with 1 Axes>"
            ]
          },
          "metadata": {
            "tags": []
          }
        }
      ]
    },
    {
      "cell_type": "markdown",
      "metadata": {
        "id": "3og3hGglWy1E"
      },
      "source": [
        "Тест Тьюки показывает, что при попарном взаимодествии мы отвергаем нулевую гипотезу о равенстве средних между всеми тремя группами.  \r\n",
        "График также показывает явные различия в количестве покупок между группами"
      ]
    },
    {
      "cell_type": "markdown",
      "metadata": {
        "id": "v2jgmcM3XeXE"
      },
      "source": [
        "6.Примите решение: какие картинки в итоге будем использовать?"
      ]
    },
    {
      "cell_type": "markdown",
      "metadata": {
        "id": "KCXvPRb5Xge3"
      },
      "source": [
        "Картинки, которые использовались в группе B оказали наибольшее влияние на среднее количество покупок в приложении. Следовательно, лучше использовать именно их."
      ]
    },
    {
      "cell_type": "markdown",
      "metadata": {
        "id": "RXJ2sZE2YHeX"
      },
      "source": [
        "7.Выберите метод для второго теста."
      ]
    },
    {
      "cell_type": "markdown",
      "metadata": {
        "id": "O8WwoBYEYxcy"
      },
      "source": [
        "Уточнение к условию: помимо контрольной и тестовой групп необходимо учитывать сегмент пользователя: высокий или низкий.\r\n",
        "Получается, что в эксперименте присутствует зависимая переменная - количество покупок и две независимые - сегмент и группа.\r\n",
        "Для анализа будем использовать многофакторный дисперсионный анализ"
      ]
    },
    {
      "cell_type": "markdown",
      "metadata": {
        "id": "DnVlssADY6V0"
      },
      "source": [
        "8.Визуализируйте распределение events для контрольной и тестовой групп."
      ]
    },
    {
      "cell_type": "code",
      "metadata": {
        "colab": {
          "base_uri": "https://localhost:8080/",
          "height": 402
        },
        "id": "EEI5LJdkWXO9",
        "outputId": "69d3dc74-643c-4db0-ffe7-45261956ab28"
      },
      "source": [
        "task2 = pd.read_csv('https://stepik.org/media/attachments/lesson/385920/5_task_2.csv')\r\n",
        "task2"
      ],
      "execution_count": 51,
      "outputs": [
        {
          "output_type": "execute_result",
          "data": {
            "text/html": [
              "<div>\n",
              "<style scoped>\n",
              "    .dataframe tbody tr th:only-of-type {\n",
              "        vertical-align: middle;\n",
              "    }\n",
              "\n",
              "    .dataframe tbody tr th {\n",
              "        vertical-align: top;\n",
              "    }\n",
              "\n",
              "    .dataframe thead th {\n",
              "        text-align: right;\n",
              "    }\n",
              "</style>\n",
              "<table border=\"1\" class=\"dataframe\">\n",
              "  <thead>\n",
              "    <tr style=\"text-align: right;\">\n",
              "      <th></th>\n",
              "      <th>id</th>\n",
              "      <th>group</th>\n",
              "      <th>segment</th>\n",
              "      <th>events</th>\n",
              "    </tr>\n",
              "  </thead>\n",
              "  <tbody>\n",
              "    <tr>\n",
              "      <th>0</th>\n",
              "      <td>83440</td>\n",
              "      <td>test</td>\n",
              "      <td>high</td>\n",
              "      <td>78.0</td>\n",
              "    </tr>\n",
              "    <tr>\n",
              "      <th>1</th>\n",
              "      <td>96723</td>\n",
              "      <td>test</td>\n",
              "      <td>high</td>\n",
              "      <td>71.0</td>\n",
              "    </tr>\n",
              "    <tr>\n",
              "      <th>2</th>\n",
              "      <td>68719</td>\n",
              "      <td>test</td>\n",
              "      <td>high</td>\n",
              "      <td>80.0</td>\n",
              "    </tr>\n",
              "    <tr>\n",
              "      <th>3</th>\n",
              "      <td>50399</td>\n",
              "      <td>test</td>\n",
              "      <td>high</td>\n",
              "      <td>80.0</td>\n",
              "    </tr>\n",
              "    <tr>\n",
              "      <th>4</th>\n",
              "      <td>95613</td>\n",
              "      <td>test</td>\n",
              "      <td>high</td>\n",
              "      <td>78.0</td>\n",
              "    </tr>\n",
              "    <tr>\n",
              "      <th>...</th>\n",
              "      <td>...</td>\n",
              "      <td>...</td>\n",
              "      <td>...</td>\n",
              "      <td>...</td>\n",
              "    </tr>\n",
              "    <tr>\n",
              "      <th>99995</th>\n",
              "      <td>60695</td>\n",
              "      <td>control</td>\n",
              "      <td>low</td>\n",
              "      <td>15.0</td>\n",
              "    </tr>\n",
              "    <tr>\n",
              "      <th>99996</th>\n",
              "      <td>5934</td>\n",
              "      <td>control</td>\n",
              "      <td>low</td>\n",
              "      <td>16.0</td>\n",
              "    </tr>\n",
              "    <tr>\n",
              "      <th>99997</th>\n",
              "      <td>30046</td>\n",
              "      <td>control</td>\n",
              "      <td>low</td>\n",
              "      <td>22.0</td>\n",
              "    </tr>\n",
              "    <tr>\n",
              "      <th>99998</th>\n",
              "      <td>26474</td>\n",
              "      <td>control</td>\n",
              "      <td>low</td>\n",
              "      <td>21.0</td>\n",
              "    </tr>\n",
              "    <tr>\n",
              "      <th>99999</th>\n",
              "      <td>42649</td>\n",
              "      <td>control</td>\n",
              "      <td>low</td>\n",
              "      <td>23.0</td>\n",
              "    </tr>\n",
              "  </tbody>\n",
              "</table>\n",
              "<p>100000 rows × 4 columns</p>\n",
              "</div>"
            ],
            "text/plain": [
              "          id    group segment  events\n",
              "0      83440     test    high    78.0\n",
              "1      96723     test    high    71.0\n",
              "2      68719     test    high    80.0\n",
              "3      50399     test    high    80.0\n",
              "4      95613     test    high    78.0\n",
              "...      ...      ...     ...     ...\n",
              "99995  60695  control     low    15.0\n",
              "99996   5934  control     low    16.0\n",
              "99997  30046  control     low    22.0\n",
              "99998  26474  control     low    21.0\n",
              "99999  42649  control     low    23.0\n",
              "\n",
              "[100000 rows x 4 columns]"
            ]
          },
          "metadata": {
            "tags": []
          },
          "execution_count": 51
        }
      ]
    },
    {
      "cell_type": "code",
      "metadata": {
        "colab": {
          "base_uri": "https://localhost:8080/",
          "height": 398
        },
        "id": "g0X5UJs9YwWq",
        "outputId": "bfc15dea-a5f9-4809-c11f-b30d3ab34f27"
      },
      "source": [
        "sns.displot(task2[task2.group == 'test'].events, kde=False, aspect=2)\r\n",
        "plt.title('Тестовая группа')"
      ],
      "execution_count": 62,
      "outputs": [
        {
          "output_type": "execute_result",
          "data": {
            "text/plain": [
              "Text(0.5, 1.0, 'Тестовая группа')"
            ]
          },
          "metadata": {
            "tags": []
          },
          "execution_count": 62
        },
        {
          "output_type": "display_data",
          "data": {
            "image/png": "[encoded data removed]",
            "text/plain": [
              "<Figure size 720x360 with 1 Axes>"
            ]
          },
          "metadata": {
            "tags": []
          }
        }
      ]
    },
    {
      "cell_type": "code",
      "metadata": {
        "colab": {
          "base_uri": "https://localhost:8080/",
          "height": 398
        },
        "id": "C_qVQTXWaEfK",
        "outputId": "a6dbd594-038e-496b-9680-43bae2222af6"
      },
      "source": [
        "sns.displot(x='events', hue='segment', data=task2[task2.group == 'control'], kde=False, aspect=2)\r\n",
        "plt.title('Контрльная группа')"
      ],
      "execution_count": 71,
      "outputs": [
        {
          "output_type": "execute_result",
          "data": {
            "text/plain": [
              "Text(0.5, 1.0, 'Контрльная группа')"
            ]
          },
          "metadata": {
            "tags": []
          },
          "execution_count": 71
        },
        {
          "output_type": "display_data",
          "data": {
            "image/png": "[encoded data removed]",
            "text/plain": [
              "<Figure size 783.725x360 with 1 Axes>"
            ]
          },
          "metadata": {
            "tags": []
          }
        }
      ]
    },
    {
      "cell_type": "markdown",
      "metadata": {
        "id": "KUHC5K-dbITb"
      },
      "source": [
        "Как видим из графиков оба набора имеют бимодальное распределение. В Тествой группе средние мод имеют более высокие значения."
      ]
    },
    {
      "cell_type": "markdown",
      "metadata": {
        "id": "xHVAdSR6bFiN"
      },
      "source": [
        "9.Посмотрите на описательные статистики events в разбивке по группе и по сегменту пользователя."
      ]
    },
    {
      "cell_type": "code",
      "metadata": {
        "colab": {
          "base_uri": "https://localhost:8080/",
          "height": 195
        },
        "id": "3EfYXOJ7abjo",
        "outputId": "ae66973c-e820-4895-a831-5c030c6f8f0b"
      },
      "source": [
        "task2.groupby(['group', 'segment']).events.describe()#.style.background_gradient(cmap ='autumn')"
      ],
      "execution_count": 68,
      "outputs": [
        {
          "output_type": "execute_result",
          "data": {
            "text/html": [
              "<div>\n",
              "<style scoped>\n",
              "    .dataframe tbody tr th:only-of-type {\n",
              "        vertical-align: middle;\n",
              "    }\n",
              "\n",
              "    .dataframe tbody tr th {\n",
              "        vertical-align: top;\n",
              "    }\n",
              "\n",
              "    .dataframe thead th {\n",
              "        text-align: right;\n",
              "    }\n",
              "</style>\n",
              "<table border=\"1\" class=\"dataframe\">\n",
              "  <thead>\n",
              "    <tr style=\"text-align: right;\">\n",
              "      <th></th>\n",
              "      <th></th>\n",
              "      <th>count</th>\n",
              "      <th>mean</th>\n",
              "      <th>std</th>\n",
              "      <th>min</th>\n",
              "      <th>25%</th>\n",
              "      <th>50%</th>\n",
              "      <th>75%</th>\n",
              "      <th>max</th>\n",
              "    </tr>\n",
              "    <tr>\n",
              "      <th>group</th>\n",
              "      <th>segment</th>\n",
              "      <th></th>\n",
              "      <th></th>\n",
              "      <th></th>\n",
              "      <th></th>\n",
              "      <th></th>\n",
              "      <th></th>\n",
              "      <th></th>\n",
              "      <th></th>\n",
              "    </tr>\n",
              "  </thead>\n",
              "  <tbody>\n",
              "    <tr>\n",
              "      <th rowspan=\"2\" valign=\"top\">control</th>\n",
              "      <th>high</th>\n",
              "      <td>10000.0</td>\n",
              "      <td>59.970800</td>\n",
              "      <td>7.805347</td>\n",
              "      <td>31.0</td>\n",
              "      <td>55.0</td>\n",
              "      <td>60.0</td>\n",
              "      <td>65.0</td>\n",
              "      <td>89.0</td>\n",
              "    </tr>\n",
              "    <tr>\n",
              "      <th>low</th>\n",
              "      <td>40000.0</td>\n",
              "      <td>20.031575</td>\n",
              "      <td>4.473576</td>\n",
              "      <td>4.0</td>\n",
              "      <td>17.0</td>\n",
              "      <td>20.0</td>\n",
              "      <td>23.0</td>\n",
              "      <td>41.0</td>\n",
              "    </tr>\n",
              "    <tr>\n",
              "      <th rowspan=\"2\" valign=\"top\">test</th>\n",
              "      <th>high</th>\n",
              "      <td>10000.0</td>\n",
              "      <td>69.938500</td>\n",
              "      <td>8.403974</td>\n",
              "      <td>40.0</td>\n",
              "      <td>64.0</td>\n",
              "      <td>70.0</td>\n",
              "      <td>76.0</td>\n",
              "      <td>102.0</td>\n",
              "    </tr>\n",
              "    <tr>\n",
              "      <th>low</th>\n",
              "      <td>40000.0</td>\n",
              "      <td>33.025925</td>\n",
              "      <td>5.720845</td>\n",
              "      <td>13.0</td>\n",
              "      <td>29.0</td>\n",
              "      <td>33.0</td>\n",
              "      <td>37.0</td>\n",
              "      <td>59.0</td>\n",
              "    </tr>\n",
              "  </tbody>\n",
              "</table>\n",
              "</div>"
            ],
            "text/plain": [
              "                   count       mean       std   min   25%   50%   75%    max\n",
              "group   segment                                                             \n",
              "control high     10000.0  59.970800  7.805347  31.0  55.0  60.0  65.0   89.0\n",
              "        low      40000.0  20.031575  4.473576   4.0  17.0  20.0  23.0   41.0\n",
              "test    high     10000.0  69.938500  8.403974  40.0  64.0  70.0  76.0  102.0\n",
              "        low      40000.0  33.025925  5.720845  13.0  29.0  33.0  37.0   59.0"
            ]
          },
          "metadata": {
            "tags": []
          },
          "execution_count": 68
        }
      ]
    },
    {
      "cell_type": "markdown",
      "metadata": {
        "id": "PhAIeAhccqkb"
      },
      "source": [
        "Cтандартное отклонение для пользователей из сегмента high и контрольной группы, с точностью до 2 знаков после точки: 7.81\r\n",
        "\r\n"
      ]
    },
    {
      "cell_type": "markdown",
      "metadata": {
        "id": "n20oic8nmnqL"
      },
      "source": [
        "10.Выберите формулу для модели, проведите тест."
      ]
    },
    {
      "cell_type": "markdown",
      "metadata": {
        "id": "C152ViYX8a2N"
      },
      "source": [
        "- **Как сделать многофакторный дисперсионный анализ?**\r\n",
        "\r\n",
        "    Сначала мы используем функцию `smf.ols()` из `statsmodels` , где первым аргументом мы указываем формулу из прошлого задания, вторым - набор данных, а затем используем на ней метод `.fit()` .\r\n",
        "\r\n",
        "    Результат мы даём в функцию `anova_lm` оттуда же и указываем аргумент `typ = 2` ."
      ]
    },
    {
      "cell_type": "code",
      "metadata": {
        "id": "8SvzhQ0ebpMn"
      },
      "source": [
        ""
      ],
      "execution_count": 73,
      "outputs": []
    },
    {
      "cell_type": "code",
      "metadata": {
        "id": "sQTi5KGOmmJy"
      },
      "source": [
        ""
      ],
      "execution_count": null,
      "outputs": []
    }
  ]
}