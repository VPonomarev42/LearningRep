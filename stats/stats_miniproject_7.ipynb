{
  "nbformat": 4,
  "nbformat_minor": 0,
  "metadata": {
    "colab": {
      "name": "stats_miniproject_7.ipynb",
      "provenance": [],
      "authorship_tag": "ABX9TyO2dz03sn5csG/dXNLQyDxC",
      "include_colab_link": true
    },
    "kernelspec": {
      "name": "python3",
      "display_name": "Python 3"
    }
  },
  "cells": [
    {
      "cell_type": "markdown",
      "metadata": {
        "id": "view-in-github",
        "colab_type": "text"
      },
      "source": [
        "<a href=\"https://colab.research.google.com/github/VPonomarev42/LearningRep/blob/main/stats/stats_miniproject_7.ipynb\" target=\"_parent\"><img src=\"https://colab.research.google.com/assets/colab-badge.svg\" alt=\"Open In Colab\"/></a>"
      ]
    },
    {
      "cell_type": "markdown",
      "metadata": {
        "id": "RTGu9jbS-T1m"
      },
      "source": [
        "### Задание\r\n",
        "В этом занятии предстоит протестировать несколько гипотез.\r\n",
        "\r\n",
        "Есть данные о такси-компании, которая хочет изучить отток водителей и посмотреть, какие есть различия между водителями, которые покидают сервис, и которые остаются. Нужно сформулировать и протестировать гипотезы, выделить группы водителей, которые наиболее подвержены \"оттоку\". На основе результатов сделать выводы о том, что можно улучшить в сервисе, чтобы в дальнейшем внести изменения.\r\n",
        "\r\n",
        "### Вопросы для проверки:\r\n",
        "* Есть ли различия в размерах оттока клиентов в разных городах (churn, city)\r\n",
        "* Есть ли разница в активности в первые 30 дней с момента регистрации между водителями из разных городов? (city, trips_in_first_30_days)\r\n",
        "* Может ли отток быть связан с активностью в первые 30 дней после регистрации? (churn, trips_in_first_30_days)\r\n",
        "\r\n",
        "### Описание данных\r\n",
        "* city – город\r\n",
        "* phone – основное устройство, которое использует водитель\r\n",
        "* signup_date – дата регистрации аккаунта (YYYYMMDD)\r\n",
        "* last_trip_date – дата последней поездки (YYYYMMDD)\r\n",
        "* avg_dist – среднее расстояние (в милях) за поездку в первые 30 дней после регистрации\r\n",
        "* avg_rating_by_driver – средняя оценка поездок водителем\r\n",
        "* avg_rating_of_driver – средняя оценка поездок водителя\r\n",
        "* surge_pct – процент поездок, совершенных с множителем > 1 (кажется когда большая загруженность и тд)\r\n",
        "* avg_surge – средний множитель всплеска за все поездки этого водителя\r\n",
        "* trips_in_first_30_days – количество поездок, которые совершил водитель в первые 30 дней после регистрации\r\n",
        "* luxury_car_user – TRUE, если пользователь в первые 30 дней использовал премиум-автомобиль\r\n",
        "* weekday_pct – процент поездок пользователя, совершенных в будние дни\r\n"
      ]
    },
    {
      "cell_type": "code",
      "metadata": {
        "id": "jQqCIUSy-G6T"
      },
      "source": [
        "import numpy as np\r\n",
        "import pandas as pd\r\n",
        "from scipy.stats import norm\r\n",
        "import seaborn as sns\r\n",
        "import matplotlib.pylab as plt\r\n",
        "\r\n",
        "from scipy.stats import iqr\r\n",
        "from scipy.stats import shapiro\r\n",
        "from scipy.stats import chi2_contingency\r\n",
        "from scipy.stats import mannwhitneyu\r\n",
        "\r\n",
        "from tqdm.auto import tqdm\r\n",
        "\r\n",
        "%matplotlib inline\r\n",
        "sns.set(rc={'figure.figsize':(10,5)}, style='whitegrid')"
      ],
      "execution_count": null,
      "outputs": []
    },
    {
      "cell_type": "markdown",
      "metadata": {
        "id": "bgvQlHyX-TUi"
      },
      "source": [
        "## 1. Загрузим данные и посмотрим на них"
      ]
    },
    {
      "cell_type": "code",
      "metadata": {
        "colab": {
          "base_uri": "https://localhost:8080/",
          "height": 452
        },
        "id": "MP-6rqgf-NCb",
        "outputId": "9b9acab8-cf8f-4471-e040-12cd966726d3"
      },
      "source": [
        "data = pd.read_csv('https://stepik.org/media/attachments/lesson/406362/churn.csv', parse_dates=['signup_date', 'last_trip_date'])\r\n",
        "data"
      ],
      "execution_count": null,
      "outputs": [
        {
          "output_type": "execute_result",
          "data": {
            "text/html": [
              "<div>\n",
              "<style scoped>\n",
              "    .dataframe tbody tr th:only-of-type {\n",
              "        vertical-align: middle;\n",
              "    }\n",
              "\n",
              "    .dataframe tbody tr th {\n",
              "        vertical-align: top;\n",
              "    }\n",
              "\n",
              "    .dataframe thead th {\n",
              "        text-align: right;\n",
              "    }\n",
              "</style>\n",
              "<table border=\"1\" class=\"dataframe\">\n",
              "  <thead>\n",
              "    <tr style=\"text-align: right;\">\n",
              "      <th></th>\n",
              "      <th>avg_dist</th>\n",
              "      <th>avg_rating_by_driver</th>\n",
              "      <th>avg_rating_of_driver</th>\n",
              "      <th>avg_surge</th>\n",
              "      <th>city</th>\n",
              "      <th>last_trip_date</th>\n",
              "      <th>phone</th>\n",
              "      <th>signup_date</th>\n",
              "      <th>surge_pct</th>\n",
              "      <th>trips_in_first_30_days</th>\n",
              "      <th>luxury_car_user</th>\n",
              "      <th>weekday_pct</th>\n",
              "    </tr>\n",
              "  </thead>\n",
              "  <tbody>\n",
              "    <tr>\n",
              "      <th>0</th>\n",
              "      <td>3.67</td>\n",
              "      <td>5.0</td>\n",
              "      <td>4.7</td>\n",
              "      <td>1.10</td>\n",
              "      <td>King's Landing</td>\n",
              "      <td>2014-06-17</td>\n",
              "      <td>iPhone</td>\n",
              "      <td>2014-01-25</td>\n",
              "      <td>15.4</td>\n",
              "      <td>4</td>\n",
              "      <td>True</td>\n",
              "      <td>46.2</td>\n",
              "    </tr>\n",
              "    <tr>\n",
              "      <th>1</th>\n",
              "      <td>8.26</td>\n",
              "      <td>5.0</td>\n",
              "      <td>5.0</td>\n",
              "      <td>1.00</td>\n",
              "      <td>Astapor</td>\n",
              "      <td>2014-05-05</td>\n",
              "      <td>Android</td>\n",
              "      <td>2014-01-29</td>\n",
              "      <td>0.0</td>\n",
              "      <td>0</td>\n",
              "      <td>False</td>\n",
              "      <td>50.0</td>\n",
              "    </tr>\n",
              "    <tr>\n",
              "      <th>2</th>\n",
              "      <td>0.77</td>\n",
              "      <td>5.0</td>\n",
              "      <td>4.3</td>\n",
              "      <td>1.00</td>\n",
              "      <td>Astapor</td>\n",
              "      <td>2014-01-07</td>\n",
              "      <td>iPhone</td>\n",
              "      <td>2014-01-06</td>\n",
              "      <td>0.0</td>\n",
              "      <td>3</td>\n",
              "      <td>False</td>\n",
              "      <td>100.0</td>\n",
              "    </tr>\n",
              "    <tr>\n",
              "      <th>3</th>\n",
              "      <td>2.36</td>\n",
              "      <td>4.9</td>\n",
              "      <td>4.6</td>\n",
              "      <td>1.14</td>\n",
              "      <td>King's Landing</td>\n",
              "      <td>2014-06-29</td>\n",
              "      <td>iPhone</td>\n",
              "      <td>2014-01-10</td>\n",
              "      <td>20.0</td>\n",
              "      <td>9</td>\n",
              "      <td>True</td>\n",
              "      <td>80.0</td>\n",
              "    </tr>\n",
              "    <tr>\n",
              "      <th>4</th>\n",
              "      <td>3.13</td>\n",
              "      <td>4.9</td>\n",
              "      <td>4.4</td>\n",
              "      <td>1.19</td>\n",
              "      <td>Winterfell</td>\n",
              "      <td>2014-03-15</td>\n",
              "      <td>Android</td>\n",
              "      <td>2014-01-27</td>\n",
              "      <td>11.8</td>\n",
              "      <td>14</td>\n",
              "      <td>False</td>\n",
              "      <td>82.4</td>\n",
              "    </tr>\n",
              "    <tr>\n",
              "      <th>...</th>\n",
              "      <td>...</td>\n",
              "      <td>...</td>\n",
              "      <td>...</td>\n",
              "      <td>...</td>\n",
              "      <td>...</td>\n",
              "      <td>...</td>\n",
              "      <td>...</td>\n",
              "      <td>...</td>\n",
              "      <td>...</td>\n",
              "      <td>...</td>\n",
              "      <td>...</td>\n",
              "      <td>...</td>\n",
              "    </tr>\n",
              "    <tr>\n",
              "      <th>49995</th>\n",
              "      <td>5.63</td>\n",
              "      <td>4.2</td>\n",
              "      <td>5.0</td>\n",
              "      <td>1.00</td>\n",
              "      <td>King's Landing</td>\n",
              "      <td>2014-06-05</td>\n",
              "      <td>iPhone</td>\n",
              "      <td>2014-01-25</td>\n",
              "      <td>0.0</td>\n",
              "      <td>0</td>\n",
              "      <td>False</td>\n",
              "      <td>100.0</td>\n",
              "    </tr>\n",
              "    <tr>\n",
              "      <th>49996</th>\n",
              "      <td>0.00</td>\n",
              "      <td>4.0</td>\n",
              "      <td>NaN</td>\n",
              "      <td>1.00</td>\n",
              "      <td>Astapor</td>\n",
              "      <td>2014-01-25</td>\n",
              "      <td>iPhone</td>\n",
              "      <td>2014-01-24</td>\n",
              "      <td>0.0</td>\n",
              "      <td>1</td>\n",
              "      <td>False</td>\n",
              "      <td>0.0</td>\n",
              "    </tr>\n",
              "    <tr>\n",
              "      <th>49997</th>\n",
              "      <td>3.86</td>\n",
              "      <td>5.0</td>\n",
              "      <td>5.0</td>\n",
              "      <td>1.00</td>\n",
              "      <td>Winterfell</td>\n",
              "      <td>2014-05-22</td>\n",
              "      <td>Android</td>\n",
              "      <td>2014-01-31</td>\n",
              "      <td>0.0</td>\n",
              "      <td>0</td>\n",
              "      <td>True</td>\n",
              "      <td>100.0</td>\n",
              "    </tr>\n",
              "    <tr>\n",
              "      <th>49998</th>\n",
              "      <td>4.58</td>\n",
              "      <td>3.5</td>\n",
              "      <td>3.0</td>\n",
              "      <td>1.00</td>\n",
              "      <td>Astapor</td>\n",
              "      <td>2014-01-15</td>\n",
              "      <td>iPhone</td>\n",
              "      <td>2014-01-14</td>\n",
              "      <td>0.0</td>\n",
              "      <td>2</td>\n",
              "      <td>False</td>\n",
              "      <td>100.0</td>\n",
              "    </tr>\n",
              "    <tr>\n",
              "      <th>49999</th>\n",
              "      <td>3.49</td>\n",
              "      <td>5.0</td>\n",
              "      <td>NaN</td>\n",
              "      <td>1.00</td>\n",
              "      <td>Astapor</td>\n",
              "      <td>2014-04-20</td>\n",
              "      <td>Android</td>\n",
              "      <td>2014-01-18</td>\n",
              "      <td>0.0</td>\n",
              "      <td>0</td>\n",
              "      <td>False</td>\n",
              "      <td>0.0</td>\n",
              "    </tr>\n",
              "  </tbody>\n",
              "</table>\n",
              "<p>50000 rows × 12 columns</p>\n",
              "</div>"
            ],
            "text/plain": [
              "       avg_dist  avg_rating_by_driver  ...  luxury_car_user  weekday_pct\n",
              "0          3.67                   5.0  ...             True         46.2\n",
              "1          8.26                   5.0  ...            False         50.0\n",
              "2          0.77                   5.0  ...            False        100.0\n",
              "3          2.36                   4.9  ...             True         80.0\n",
              "4          3.13                   4.9  ...            False         82.4\n",
              "...         ...                   ...  ...              ...          ...\n",
              "49995      5.63                   4.2  ...            False        100.0\n",
              "49996      0.00                   4.0  ...            False          0.0\n",
              "49997      3.86                   5.0  ...             True        100.0\n",
              "49998      4.58                   3.5  ...            False        100.0\n",
              "49999      3.49                   5.0  ...            False          0.0\n",
              "\n",
              "[50000 rows x 12 columns]"
            ]
          },
          "metadata": {
            "tags": []
          },
          "execution_count": 3
        }
      ]
    },
    {
      "cell_type": "code",
      "metadata": {
        "colab": {
          "base_uri": "https://localhost:8080/"
        },
        "id": "wmTNdxScDnY3",
        "outputId": "efd65905-5e5d-4339-9ee8-5f24c9409045"
      },
      "source": [
        "data.dtypes"
      ],
      "execution_count": null,
      "outputs": [
        {
          "output_type": "execute_result",
          "data": {
            "text/plain": [
              "avg_dist                         float64\n",
              "avg_rating_by_driver             float64\n",
              "avg_rating_of_driver             float64\n",
              "avg_surge                        float64\n",
              "city                              object\n",
              "last_trip_date            datetime64[ns]\n",
              "phone                             object\n",
              "signup_date               datetime64[ns]\n",
              "surge_pct                        float64\n",
              "trips_in_first_30_days             int64\n",
              "luxury_car_user                     bool\n",
              "weekday_pct                      float64\n",
              "dtype: object"
            ]
          },
          "metadata": {
            "tags": []
          },
          "execution_count": 4
        }
      ]
    },
    {
      "cell_type": "code",
      "metadata": {
        "colab": {
          "base_uri": "https://localhost:8080/"
        },
        "id": "6gAh4G6-Dveh",
        "outputId": "bf15faaa-dd75-4d53-fc14-0b4d17d908ec"
      },
      "source": [
        "data.isna().sum()"
      ],
      "execution_count": null,
      "outputs": [
        {
          "output_type": "execute_result",
          "data": {
            "text/plain": [
              "avg_dist                     0\n",
              "avg_rating_by_driver       201\n",
              "avg_rating_of_driver      8122\n",
              "avg_surge                    0\n",
              "city                         0\n",
              "last_trip_date               0\n",
              "phone                      396\n",
              "signup_date                  0\n",
              "surge_pct                    0\n",
              "trips_in_first_30_days       0\n",
              "luxury_car_user              0\n",
              "weekday_pct                  0\n",
              "dtype: int64"
            ]
          },
          "metadata": {
            "tags": []
          },
          "execution_count": 5
        }
      ]
    },
    {
      "cell_type": "markdown",
      "metadata": {
        "id": "qxgbETr4HXDl"
      },
      "source": [
        "## 2. Разметим водителей как churn, если они не пользовались сервисом больше 30 дней"
      ]
    },
    {
      "cell_type": "code",
      "metadata": {
        "colab": {
          "base_uri": "https://localhost:8080/"
        },
        "id": "fnco_vgQD0MS",
        "outputId": "6424b2e5-0346-4645-9711-465461d5aacc"
      },
      "source": [
        "data.last_trip_date.max()"
      ],
      "execution_count": null,
      "outputs": [
        {
          "output_type": "execute_result",
          "data": {
            "text/plain": [
              "Timestamp('2014-07-01 00:00:00')"
            ]
          },
          "metadata": {
            "tags": []
          },
          "execution_count": 6
        }
      ]
    },
    {
      "cell_type": "code",
      "metadata": {
        "id": "uU2cRAXQFKkj"
      },
      "source": [
        "data['last_activity'] = data.last_trip_date.max() - data.last_trip_date"
      ],
      "execution_count": null,
      "outputs": []
    },
    {
      "cell_type": "code",
      "metadata": {
        "colab": {
          "base_uri": "https://localhost:8080/",
          "height": 249
        },
        "id": "sdhfe6n6F8C3",
        "outputId": "0b0f503f-602c-44b7-da15-96bd610e0fc1"
      },
      "source": [
        "data.head()"
      ],
      "execution_count": null,
      "outputs": [
        {
          "output_type": "execute_result",
          "data": {
            "text/html": [
              "<div>\n",
              "<style scoped>\n",
              "    .dataframe tbody tr th:only-of-type {\n",
              "        vertical-align: middle;\n",
              "    }\n",
              "\n",
              "    .dataframe tbody tr th {\n",
              "        vertical-align: top;\n",
              "    }\n",
              "\n",
              "    .dataframe thead th {\n",
              "        text-align: right;\n",
              "    }\n",
              "</style>\n",
              "<table border=\"1\" class=\"dataframe\">\n",
              "  <thead>\n",
              "    <tr style=\"text-align: right;\">\n",
              "      <th></th>\n",
              "      <th>avg_dist</th>\n",
              "      <th>avg_rating_by_driver</th>\n",
              "      <th>avg_rating_of_driver</th>\n",
              "      <th>avg_surge</th>\n",
              "      <th>city</th>\n",
              "      <th>last_trip_date</th>\n",
              "      <th>phone</th>\n",
              "      <th>signup_date</th>\n",
              "      <th>surge_pct</th>\n",
              "      <th>trips_in_first_30_days</th>\n",
              "      <th>luxury_car_user</th>\n",
              "      <th>weekday_pct</th>\n",
              "      <th>last_activity</th>\n",
              "    </tr>\n",
              "  </thead>\n",
              "  <tbody>\n",
              "    <tr>\n",
              "      <th>0</th>\n",
              "      <td>3.67</td>\n",
              "      <td>5.0</td>\n",
              "      <td>4.7</td>\n",
              "      <td>1.10</td>\n",
              "      <td>King's Landing</td>\n",
              "      <td>2014-06-17</td>\n",
              "      <td>iPhone</td>\n",
              "      <td>2014-01-25</td>\n",
              "      <td>15.4</td>\n",
              "      <td>4</td>\n",
              "      <td>True</td>\n",
              "      <td>46.2</td>\n",
              "      <td>14 days</td>\n",
              "    </tr>\n",
              "    <tr>\n",
              "      <th>1</th>\n",
              "      <td>8.26</td>\n",
              "      <td>5.0</td>\n",
              "      <td>5.0</td>\n",
              "      <td>1.00</td>\n",
              "      <td>Astapor</td>\n",
              "      <td>2014-05-05</td>\n",
              "      <td>Android</td>\n",
              "      <td>2014-01-29</td>\n",
              "      <td>0.0</td>\n",
              "      <td>0</td>\n",
              "      <td>False</td>\n",
              "      <td>50.0</td>\n",
              "      <td>57 days</td>\n",
              "    </tr>\n",
              "    <tr>\n",
              "      <th>2</th>\n",
              "      <td>0.77</td>\n",
              "      <td>5.0</td>\n",
              "      <td>4.3</td>\n",
              "      <td>1.00</td>\n",
              "      <td>Astapor</td>\n",
              "      <td>2014-01-07</td>\n",
              "      <td>iPhone</td>\n",
              "      <td>2014-01-06</td>\n",
              "      <td>0.0</td>\n",
              "      <td>3</td>\n",
              "      <td>False</td>\n",
              "      <td>100.0</td>\n",
              "      <td>175 days</td>\n",
              "    </tr>\n",
              "    <tr>\n",
              "      <th>3</th>\n",
              "      <td>2.36</td>\n",
              "      <td>4.9</td>\n",
              "      <td>4.6</td>\n",
              "      <td>1.14</td>\n",
              "      <td>King's Landing</td>\n",
              "      <td>2014-06-29</td>\n",
              "      <td>iPhone</td>\n",
              "      <td>2014-01-10</td>\n",
              "      <td>20.0</td>\n",
              "      <td>9</td>\n",
              "      <td>True</td>\n",
              "      <td>80.0</td>\n",
              "      <td>2 days</td>\n",
              "    </tr>\n",
              "    <tr>\n",
              "      <th>4</th>\n",
              "      <td>3.13</td>\n",
              "      <td>4.9</td>\n",
              "      <td>4.4</td>\n",
              "      <td>1.19</td>\n",
              "      <td>Winterfell</td>\n",
              "      <td>2014-03-15</td>\n",
              "      <td>Android</td>\n",
              "      <td>2014-01-27</td>\n",
              "      <td>11.8</td>\n",
              "      <td>14</td>\n",
              "      <td>False</td>\n",
              "      <td>82.4</td>\n",
              "      <td>108 days</td>\n",
              "    </tr>\n",
              "  </tbody>\n",
              "</table>\n",
              "</div>"
            ],
            "text/plain": [
              "   avg_dist  avg_rating_by_driver  ...  weekday_pct  last_activity\n",
              "0      3.67                   5.0  ...         46.2        14 days\n",
              "1      8.26                   5.0  ...         50.0        57 days\n",
              "2      0.77                   5.0  ...        100.0       175 days\n",
              "3      2.36                   4.9  ...         80.0         2 days\n",
              "4      3.13                   4.9  ...         82.4       108 days\n",
              "\n",
              "[5 rows x 13 columns]"
            ]
          },
          "metadata": {
            "tags": []
          },
          "execution_count": 8
        }
      ]
    },
    {
      "cell_type": "code",
      "metadata": {
        "id": "0DiRvpiDHDcr"
      },
      "source": [
        "data['last_activity'] = data['last_activity'].dt.days"
      ],
      "execution_count": null,
      "outputs": []
    },
    {
      "cell_type": "code",
      "metadata": {
        "id": "Ir6sbbRNF_sJ"
      },
      "source": [
        "data['churn'] = data.last_activity.apply(lambda x: 'churn' if x > 30 else 'not churn')"
      ],
      "execution_count": null,
      "outputs": []
    },
    {
      "cell_type": "code",
      "metadata": {
        "colab": {
          "base_uri": "https://localhost:8080/",
          "height": 249
        },
        "id": "kjP-dGJPGPZm",
        "outputId": "152285f0-075e-4c52-c797-61ff2fdb153d"
      },
      "source": [
        "data.head()"
      ],
      "execution_count": null,
      "outputs": [
        {
          "output_type": "execute_result",
          "data": {
            "text/html": [
              "<div>\n",
              "<style scoped>\n",
              "    .dataframe tbody tr th:only-of-type {\n",
              "        vertical-align: middle;\n",
              "    }\n",
              "\n",
              "    .dataframe tbody tr th {\n",
              "        vertical-align: top;\n",
              "    }\n",
              "\n",
              "    .dataframe thead th {\n",
              "        text-align: right;\n",
              "    }\n",
              "</style>\n",
              "<table border=\"1\" class=\"dataframe\">\n",
              "  <thead>\n",
              "    <tr style=\"text-align: right;\">\n",
              "      <th></th>\n",
              "      <th>avg_dist</th>\n",
              "      <th>avg_rating_by_driver</th>\n",
              "      <th>avg_rating_of_driver</th>\n",
              "      <th>avg_surge</th>\n",
              "      <th>city</th>\n",
              "      <th>last_trip_date</th>\n",
              "      <th>phone</th>\n",
              "      <th>signup_date</th>\n",
              "      <th>surge_pct</th>\n",
              "      <th>trips_in_first_30_days</th>\n",
              "      <th>luxury_car_user</th>\n",
              "      <th>weekday_pct</th>\n",
              "      <th>last_activity</th>\n",
              "      <th>churn</th>\n",
              "    </tr>\n",
              "  </thead>\n",
              "  <tbody>\n",
              "    <tr>\n",
              "      <th>0</th>\n",
              "      <td>3.67</td>\n",
              "      <td>5.0</td>\n",
              "      <td>4.7</td>\n",
              "      <td>1.10</td>\n",
              "      <td>King's Landing</td>\n",
              "      <td>2014-06-17</td>\n",
              "      <td>iPhone</td>\n",
              "      <td>2014-01-25</td>\n",
              "      <td>15.4</td>\n",
              "      <td>4</td>\n",
              "      <td>True</td>\n",
              "      <td>46.2</td>\n",
              "      <td>14</td>\n",
              "      <td>not churn</td>\n",
              "    </tr>\n",
              "    <tr>\n",
              "      <th>1</th>\n",
              "      <td>8.26</td>\n",
              "      <td>5.0</td>\n",
              "      <td>5.0</td>\n",
              "      <td>1.00</td>\n",
              "      <td>Astapor</td>\n",
              "      <td>2014-05-05</td>\n",
              "      <td>Android</td>\n",
              "      <td>2014-01-29</td>\n",
              "      <td>0.0</td>\n",
              "      <td>0</td>\n",
              "      <td>False</td>\n",
              "      <td>50.0</td>\n",
              "      <td>57</td>\n",
              "      <td>churn</td>\n",
              "    </tr>\n",
              "    <tr>\n",
              "      <th>2</th>\n",
              "      <td>0.77</td>\n",
              "      <td>5.0</td>\n",
              "      <td>4.3</td>\n",
              "      <td>1.00</td>\n",
              "      <td>Astapor</td>\n",
              "      <td>2014-01-07</td>\n",
              "      <td>iPhone</td>\n",
              "      <td>2014-01-06</td>\n",
              "      <td>0.0</td>\n",
              "      <td>3</td>\n",
              "      <td>False</td>\n",
              "      <td>100.0</td>\n",
              "      <td>175</td>\n",
              "      <td>churn</td>\n",
              "    </tr>\n",
              "    <tr>\n",
              "      <th>3</th>\n",
              "      <td>2.36</td>\n",
              "      <td>4.9</td>\n",
              "      <td>4.6</td>\n",
              "      <td>1.14</td>\n",
              "      <td>King's Landing</td>\n",
              "      <td>2014-06-29</td>\n",
              "      <td>iPhone</td>\n",
              "      <td>2014-01-10</td>\n",
              "      <td>20.0</td>\n",
              "      <td>9</td>\n",
              "      <td>True</td>\n",
              "      <td>80.0</td>\n",
              "      <td>2</td>\n",
              "      <td>not churn</td>\n",
              "    </tr>\n",
              "    <tr>\n",
              "      <th>4</th>\n",
              "      <td>3.13</td>\n",
              "      <td>4.9</td>\n",
              "      <td>4.4</td>\n",
              "      <td>1.19</td>\n",
              "      <td>Winterfell</td>\n",
              "      <td>2014-03-15</td>\n",
              "      <td>Android</td>\n",
              "      <td>2014-01-27</td>\n",
              "      <td>11.8</td>\n",
              "      <td>14</td>\n",
              "      <td>False</td>\n",
              "      <td>82.4</td>\n",
              "      <td>108</td>\n",
              "      <td>churn</td>\n",
              "    </tr>\n",
              "  </tbody>\n",
              "</table>\n",
              "</div>"
            ],
            "text/plain": [
              "   avg_dist  avg_rating_by_driver  ...  last_activity      churn\n",
              "0      3.67                   5.0  ...             14  not churn\n",
              "1      8.26                   5.0  ...             57      churn\n",
              "2      0.77                   5.0  ...            175      churn\n",
              "3      2.36                   4.9  ...              2  not churn\n",
              "4      3.13                   4.9  ...            108      churn\n",
              "\n",
              "[5 rows x 14 columns]"
            ]
          },
          "metadata": {
            "tags": []
          },
          "execution_count": 11
        }
      ]
    },
    {
      "cell_type": "code",
      "metadata": {
        "colab": {
          "base_uri": "https://localhost:8080/"
        },
        "id": "4-cFNxmFHNsV",
        "outputId": "6acde88b-a322-41fe-f403-05616b297fd9"
      },
      "source": [
        "data['churn'].value_counts()"
      ],
      "execution_count": null,
      "outputs": [
        {
          "output_type": "execute_result",
          "data": {
            "text/plain": [
              "churn        31196\n",
              "not churn    18804\n",
              "Name: churn, dtype: int64"
            ]
          },
          "metadata": {
            "tags": []
          },
          "execution_count": 12
        }
      ]
    },
    {
      "cell_type": "code",
      "metadata": {
        "colab": {
          "base_uri": "https://localhost:8080/",
          "height": 360
        },
        "id": "ty2jBl9OHsc6",
        "outputId": "12690102-bf0d-42ac-dcf4-2bdf140563e9"
      },
      "source": [
        "sns.histplot(data=data, x='churn', hue='phone')"
      ],
      "execution_count": null,
      "outputs": [
        {
          "output_type": "execute_result",
          "data": {
            "text/plain": [
              "<matplotlib.axes._subplots.AxesSubplot at 0x7f8e55a67518>"
            ]
          },
          "metadata": {
            "tags": []
          },
          "execution_count": 13
        },
        {
          "output_type": "display_data",
          "data": {
            "image/png": "[encoded data removed]",
            "text/plain": [
              "<Figure size 720x360 with 1 Axes>"
            ]
          },
          "metadata": {
            "tags": []
          }
        }
      ]
    },
    {
      "cell_type": "code",
      "metadata": {
        "id": "pSf0WsnUvBD9"
      },
      "source": [
        ""
      ],
      "execution_count": null,
      "outputs": []
    },
    {
      "cell_type": "code",
      "metadata": {
        "id": "dSENAQxBvBBZ"
      },
      "source": [
        ""
      ],
      "execution_count": null,
      "outputs": []
    },
    {
      "cell_type": "code",
      "metadata": {
        "id": "DnhLyq1bvA98"
      },
      "source": [
        ""
      ],
      "execution_count": null,
      "outputs": []
    },
    {
      "cell_type": "markdown",
      "metadata": {
        "id": "bK7hCblURCMb"
      },
      "source": [
        "## 2. Проверим, есть ли различия в размерах оттока клиентов в разных городах (churn, city)\r\n"
      ]
    },
    {
      "cell_type": "code",
      "metadata": {
        "colab": {
          "base_uri": "https://localhost:8080/"
        },
        "id": "HNh_6MNuYRoq",
        "outputId": "59ff87dc-5a39-4b95-bed5-0289d07c23a5"
      },
      "source": [
        "data.city.value_counts()"
      ],
      "execution_count": null,
      "outputs": [
        {
          "output_type": "execute_result",
          "data": {
            "text/plain": [
              "Winterfell        23336\n",
              "Astapor           16534\n",
              "King's Landing    10130\n",
              "Name: city, dtype: int64"
            ]
          },
          "metadata": {
            "tags": []
          },
          "execution_count": 14
        }
      ]
    },
    {
      "cell_type": "code",
      "metadata": {
        "colab": {
          "base_uri": "https://localhost:8080/",
          "height": 225
        },
        "id": "n58ZEmAGqH_9",
        "outputId": "13a6f8bc-0f62-4765-ac90-05486848a708"
      },
      "source": [
        "city_churn = data.groupby(['city','churn'], as_index=False).agg({'avg_dist':'count'}).rename(columns={'avg_dist':'count'})\r\n",
        "city_churn"
      ],
      "execution_count": null,
      "outputs": [
        {
          "output_type": "execute_result",
          "data": {
            "text/html": [
              "<div>\n",
              "<style scoped>\n",
              "    .dataframe tbody tr th:only-of-type {\n",
              "        vertical-align: middle;\n",
              "    }\n",
              "\n",
              "    .dataframe tbody tr th {\n",
              "        vertical-align: top;\n",
              "    }\n",
              "\n",
              "    .dataframe thead th {\n",
              "        text-align: right;\n",
              "    }\n",
              "</style>\n",
              "<table border=\"1\" class=\"dataframe\">\n",
              "  <thead>\n",
              "    <tr style=\"text-align: right;\">\n",
              "      <th></th>\n",
              "      <th>city</th>\n",
              "      <th>churn</th>\n",
              "      <th>count</th>\n",
              "    </tr>\n",
              "  </thead>\n",
              "  <tbody>\n",
              "    <tr>\n",
              "      <th>0</th>\n",
              "      <td>Astapor</td>\n",
              "      <td>churn</td>\n",
              "      <td>12306</td>\n",
              "    </tr>\n",
              "    <tr>\n",
              "      <th>1</th>\n",
              "      <td>Astapor</td>\n",
              "      <td>not churn</td>\n",
              "      <td>4228</td>\n",
              "    </tr>\n",
              "    <tr>\n",
              "      <th>2</th>\n",
              "      <td>King's Landing</td>\n",
              "      <td>churn</td>\n",
              "      <td>3767</td>\n",
              "    </tr>\n",
              "    <tr>\n",
              "      <th>3</th>\n",
              "      <td>King's Landing</td>\n",
              "      <td>not churn</td>\n",
              "      <td>6363</td>\n",
              "    </tr>\n",
              "    <tr>\n",
              "      <th>4</th>\n",
              "      <td>Winterfell</td>\n",
              "      <td>churn</td>\n",
              "      <td>15123</td>\n",
              "    </tr>\n",
              "    <tr>\n",
              "      <th>5</th>\n",
              "      <td>Winterfell</td>\n",
              "      <td>not churn</td>\n",
              "      <td>8213</td>\n",
              "    </tr>\n",
              "  </tbody>\n",
              "</table>\n",
              "</div>"
            ],
            "text/plain": [
              "             city      churn  count\n",
              "0         Astapor      churn  12306\n",
              "1         Astapor  not churn   4228\n",
              "2  King's Landing      churn   3767\n",
              "3  King's Landing  not churn   6363\n",
              "4      Winterfell      churn  15123\n",
              "5      Winterfell  not churn   8213"
            ]
          },
          "metadata": {
            "tags": []
          },
          "execution_count": 40
        }
      ]
    },
    {
      "cell_type": "code",
      "metadata": {
        "colab": {
          "base_uri": "https://localhost:8080/",
          "height": 382
        },
        "id": "KMmCF4D_NzPe",
        "outputId": "a0489416-9d33-4340-aba3-466adfadcdc6"
      },
      "source": [
        "sns.catplot(x=\"city\", y=\"count\",\r\n",
        "                hue=\"churn\", \r\n",
        "                data=city_churn, kind=\"bar\");"
      ],
      "execution_count": null,
      "outputs": [
        {
          "output_type": "display_data",
          "data": {
            "image/png": "[encoded data removed]",
            "text/plain": [
              "<Figure size 452.6x360 with 1 Axes>"
            ]
          },
          "metadata": {
            "tags": []
          }
        }
      ]
    },
    {
      "cell_type": "code",
      "metadata": {
        "colab": {
          "base_uri": "https://localhost:8080/",
          "height": 166
        },
        "id": "OzqiZkTAMz23",
        "outputId": "59f70aa2-ff8e-488c-9af9-1b1ee29639fa"
      },
      "source": [
        "city_churn.pivot(index='city', columns='churn', values='count')"
      ],
      "execution_count": null,
      "outputs": [
        {
          "output_type": "execute_result",
          "data": {
            "text/html": [
              "<div>\n",
              "<style scoped>\n",
              "    .dataframe tbody tr th:only-of-type {\n",
              "        vertical-align: middle;\n",
              "    }\n",
              "\n",
              "    .dataframe tbody tr th {\n",
              "        vertical-align: top;\n",
              "    }\n",
              "\n",
              "    .dataframe thead th {\n",
              "        text-align: right;\n",
              "    }\n",
              "</style>\n",
              "<table border=\"1\" class=\"dataframe\">\n",
              "  <thead>\n",
              "    <tr style=\"text-align: right;\">\n",
              "      <th>churn</th>\n",
              "      <th>churn</th>\n",
              "      <th>not churn</th>\n",
              "    </tr>\n",
              "    <tr>\n",
              "      <th>city</th>\n",
              "      <th></th>\n",
              "      <th></th>\n",
              "    </tr>\n",
              "  </thead>\n",
              "  <tbody>\n",
              "    <tr>\n",
              "      <th>Astapor</th>\n",
              "      <td>12306</td>\n",
              "      <td>4228</td>\n",
              "    </tr>\n",
              "    <tr>\n",
              "      <th>King's Landing</th>\n",
              "      <td>3767</td>\n",
              "      <td>6363</td>\n",
              "    </tr>\n",
              "    <tr>\n",
              "      <th>Winterfell</th>\n",
              "      <td>15123</td>\n",
              "      <td>8213</td>\n",
              "    </tr>\n",
              "  </tbody>\n",
              "</table>\n",
              "</div>"
            ],
            "text/plain": [
              "churn           churn  not churn\n",
              "city                            \n",
              "Astapor         12306       4228\n",
              "King's Landing   3767       6363\n",
              "Winterfell      15123       8213"
            ]
          },
          "metadata": {
            "tags": []
          },
          "execution_count": 24
        }
      ]
    },
    {
      "cell_type": "markdown",
      "metadata": {
        "id": "ST2ESkJGRQX6"
      },
      "source": [
        "Нам необходимо сравнить различия между 2-мя номинативные группами: city, churn. Будем это делать с помощью кси-квадрат. "
      ]
    },
    {
      "cell_type": "code",
      "metadata": {
        "id": "LC7BgQS9vG1f"
      },
      "source": [
        "chi2_stat, p, ddof, epctd = chi2_contingency(city_churn.pivot(index='city', columns='churn', values='count'))"
      ],
      "execution_count": null,
      "outputs": []
    },
    {
      "cell_type": "code",
      "metadata": {
        "colab": {
          "base_uri": "https://localhost:8080/"
        },
        "id": "_eTYdd8WTVMC",
        "outputId": "8b2d5881-9511-484e-81d7-8a4193158771"
      },
      "source": [
        "chi2_stat, p"
      ],
      "execution_count": null,
      "outputs": [
        {
          "output_type": "execute_result",
          "data": {
            "text/plain": [
              "(3821.5510225559638, 0.0)"
            ]
          },
          "metadata": {
            "tags": []
          },
          "execution_count": 38
        }
      ]
    },
    {
      "cell_type": "markdown",
      "metadata": {
        "id": "0_CLJJRIU4Jl"
      },
      "source": [
        "Метод показал p-value < 0.05, что позволяет нам отбросить нулевую гипотезу об отсутствии различий между этими группами. Значит взаимосвязь  между оттоком и город присутствует. Правда мы не можем говорить о том, что именно город является причиной такого оттока. Скорее всего, на это влияет какой-то другой фактор или совокупность факторов"
      ]
    },
    {
      "cell_type": "markdown",
      "metadata": {
        "id": "JsgTUJnPV0Dj"
      },
      "source": [
        "## 3. Проверим различия между активностью в первые 30 дней с момента регистрации между водителями из разных городов"
      ]
    },
    {
      "cell_type": "code",
      "metadata": {
        "colab": {
          "base_uri": "https://localhost:8080/",
          "height": 359
        },
        "id": "nfwm7jXqWuO4",
        "outputId": "400f5c86-837e-4ef4-a8a9-0d76f0b791e9"
      },
      "source": [
        "sns.histplot(data=data[data.trips_in_first_30_days < 20], x='trips_in_first_30_days', hue='city', common_bins=False)"
      ],
      "execution_count": null,
      "outputs": [
        {
          "output_type": "execute_result",
          "data": {
            "text/plain": [
              "<matplotlib.axes._subplots.AxesSubplot at 0x7f8e3e968358>"
            ]
          },
          "metadata": {
            "tags": []
          },
          "execution_count": 51
        },
        {
          "output_type": "display_data",
          "data": {
            "image/png": "[encoded data removed]",
            "text/plain": [
              "<Figure size 720x360 with 1 Axes>"
            ]
          },
          "metadata": {
            "tags": []
          }
        }
      ]
    },
    {
      "cell_type": "code",
      "metadata": {
        "colab": {
          "base_uri": "https://localhost:8080/",
          "height": 382
        },
        "id": "OGU6xuHyYyqM",
        "outputId": "5a4b3456-f322-4089-883a-578ddd998a99"
      },
      "source": [
        "sns.displot(data=data[data.trips_in_first_30_days < 20], x='trips_in_first_30_days', col='city')"
      ],
      "execution_count": null,
      "outputs": [
        {
          "output_type": "execute_result",
          "data": {
            "text/plain": [
              "<seaborn.axisgrid.FacetGrid at 0x7f8e427b8588>"
            ]
          },
          "metadata": {
            "tags": []
          },
          "execution_count": 49
        },
        {
          "output_type": "display_data",
          "data": {
            "image/png": "[encoded data removed]",
            "text/plain": [
              "<Figure size 1080x360 with 3 Axes>"
            ]
          },
          "metadata": {
            "tags": []
          }
        }
      ]
    },
    {
      "cell_type": "code",
      "metadata": {
        "colab": {
          "base_uri": "https://localhost:8080/",
          "height": 356
        },
        "id": "xxbTL7LeX9Af",
        "outputId": "8c1ed033-1693-4b6e-a3c3-3de5d6b5470e"
      },
      "source": [
        "sns.boxplot(data=data, x='trips_in_first_30_days', y='city')"
      ],
      "execution_count": null,
      "outputs": [
        {
          "output_type": "execute_result",
          "data": {
            "text/plain": [
              "<matplotlib.axes._subplots.AxesSubplot at 0x7f8e3e9f1b00>"
            ]
          },
          "metadata": {
            "tags": []
          },
          "execution_count": 50
        },
        {
          "output_type": "display_data",
          "data": {
            "image/png": "[encoded data removed]",
            "text/plain": [
              "<Figure size 720x360 with 1 Axes>"
            ]
          },
          "metadata": {
            "tags": []
          }
        }
      ]
    },
    {
      "cell_type": "code",
      "metadata": {
        "colab": {
          "base_uri": "https://localhost:8080/",
          "height": 166
        },
        "id": "5UAkGy5QX5I7",
        "outputId": "33346510-2029-4237-b165-724d7f71bcb1"
      },
      "source": [
        "data.groupby(['city']).trips_in_first_30_days.describe()"
      ],
      "execution_count": null,
      "outputs": [
        {
          "output_type": "execute_result",
          "data": {
            "text/html": [
              "<div>\n",
              "<style scoped>\n",
              "    .dataframe tbody tr th:only-of-type {\n",
              "        vertical-align: middle;\n",
              "    }\n",
              "\n",
              "    .dataframe tbody tr th {\n",
              "        vertical-align: top;\n",
              "    }\n",
              "\n",
              "    .dataframe thead th {\n",
              "        text-align: right;\n",
              "    }\n",
              "</style>\n",
              "<table border=\"1\" class=\"dataframe\">\n",
              "  <thead>\n",
              "    <tr style=\"text-align: right;\">\n",
              "      <th></th>\n",
              "      <th>count</th>\n",
              "      <th>mean</th>\n",
              "      <th>std</th>\n",
              "      <th>min</th>\n",
              "      <th>25%</th>\n",
              "      <th>50%</th>\n",
              "      <th>75%</th>\n",
              "      <th>max</th>\n",
              "    </tr>\n",
              "    <tr>\n",
              "      <th>city</th>\n",
              "      <th></th>\n",
              "      <th></th>\n",
              "      <th></th>\n",
              "      <th></th>\n",
              "      <th></th>\n",
              "      <th></th>\n",
              "      <th></th>\n",
              "      <th></th>\n",
              "    </tr>\n",
              "  </thead>\n",
              "  <tbody>\n",
              "    <tr>\n",
              "      <th>Astapor</th>\n",
              "      <td>16534.0</td>\n",
              "      <td>1.948651</td>\n",
              "      <td>3.333600</td>\n",
              "      <td>0.0</td>\n",
              "      <td>0.0</td>\n",
              "      <td>1.0</td>\n",
              "      <td>2.0</td>\n",
              "      <td>73.0</td>\n",
              "    </tr>\n",
              "    <tr>\n",
              "      <th>King's Landing</th>\n",
              "      <td>10130.0</td>\n",
              "      <td>2.463672</td>\n",
              "      <td>4.326140</td>\n",
              "      <td>0.0</td>\n",
              "      <td>0.0</td>\n",
              "      <td>1.0</td>\n",
              "      <td>3.0</td>\n",
              "      <td>125.0</td>\n",
              "    </tr>\n",
              "    <tr>\n",
              "      <th>Winterfell</th>\n",
              "      <td>23336.0</td>\n",
              "      <td>2.431179</td>\n",
              "      <td>3.835147</td>\n",
              "      <td>0.0</td>\n",
              "      <td>0.0</td>\n",
              "      <td>1.0</td>\n",
              "      <td>3.0</td>\n",
              "      <td>71.0</td>\n",
              "    </tr>\n",
              "  </tbody>\n",
              "</table>\n",
              "</div>"
            ],
            "text/plain": [
              "                  count      mean       std  min  25%  50%  75%    max\n",
              "city                                                                  \n",
              "Astapor         16534.0  1.948651  3.333600  0.0  0.0  1.0  2.0   73.0\n",
              "King's Landing  10130.0  2.463672  4.326140  0.0  0.0  1.0  3.0  125.0\n",
              "Winterfell      23336.0  2.431179  3.835147  0.0  0.0  1.0  3.0   71.0"
            ]
          },
          "metadata": {
            "tags": []
          },
          "execution_count": 54
        }
      ]
    },
    {
      "cell_type": "markdown",
      "metadata": {
        "id": "NQBvoF6XaLYH"
      },
      "source": [
        "Из графиков и описательной статистики можем сказать:\r\n",
        "*   Распределение ассимитричное, скошенное влево с половиной всех показаний в 0\r\n",
        "*   Медианое количество поездок во всех городах является 1\r\n",
        "*   В городе King's Landing меньшее количество водителей, однако в этом городе имеется самый большой выброс, который увеличивается дисперсию этого распределния. \r\n",
        "\r\n"
      ]
    },
    {
      "cell_type": "markdown",
      "metadata": {
        "id": "xSxiGHsqcDS4"
      },
      "source": [
        "Проверим на нормальность распределния в этих городах с помощью метода Шапиро-Уилка"
      ]
    },
    {
      "cell_type": "code",
      "metadata": {
        "id": "HWDbbNFWgCBa"
      },
      "source": [
        "trips_Astapor = data[data.city == 'Astapor'].trips_in_first_30_days\r\n",
        "trips_Kings = data[data.city == \"King's Landing\"].trips_in_first_30_days\r\n",
        "trips_Winterfell = data[data.city == \"Winterfell\"].trips_in_first_30_days"
      ],
      "execution_count": null,
      "outputs": []
    },
    {
      "cell_type": "code",
      "metadata": {
        "colab": {
          "base_uri": "https://localhost:8080/"
        },
        "id": "8YOOLPk-aJak",
        "outputId": "a03f0bd8-a413-405a-e1fb-f60de70b93f0"
      },
      "source": [
        "shapiro(trips_Astapor.sample(1000,random_state=17))"
      ],
      "execution_count": null,
      "outputs": [
        {
          "output_type": "execute_result",
          "data": {
            "text/plain": [
              "(0.5414707660675049, 4.203895392974451e-45)"
            ]
          },
          "metadata": {
            "tags": []
          },
          "execution_count": 64
        }
      ]
    },
    {
      "cell_type": "code",
      "metadata": {
        "colab": {
          "base_uri": "https://localhost:8080/"
        },
        "id": "SMKeMPZucbWY",
        "outputId": "3c4a8074-b5f0-4242-90a1-92e6eff81c90"
      },
      "source": [
        "shapiro(trips_Kings.sample(1000,random_state=17))"
      ],
      "execution_count": null,
      "outputs": [
        {
          "output_type": "execute_result",
          "data": {
            "text/plain": [
              "(0.6132159233093262, 1.6829594556541053e-42)"
            ]
          },
          "metadata": {
            "tags": []
          },
          "execution_count": 65
        }
      ]
    },
    {
      "cell_type": "code",
      "metadata": {
        "colab": {
          "base_uri": "https://localhost:8080/"
        },
        "id": "1th1feBscyB6",
        "outputId": "27133203-0be6-4452-d232-8144f82dfa79"
      },
      "source": [
        "shapiro(trips_Winterfell.sample(1000,random_state=17))"
      ],
      "execution_count": null,
      "outputs": [
        {
          "output_type": "execute_result",
          "data": {
            "text/plain": [
              "(0.5455795526504517, 7.006492321624085e-45)"
            ]
          },
          "metadata": {
            "tags": []
          },
          "execution_count": 66
        }
      ]
    },
    {
      "cell_type": "markdown",
      "metadata": {
        "id": "OPgudcMudDNY"
      },
      "source": [
        "Для всех трёх городов тест показал статистически значимые различия, что может судить о том, что данные распределены ненормально"
      ]
    },
    {
      "cell_type": "markdown",
      "metadata": {
        "id": "PzVRUcWBeGOa"
      },
      "source": [
        "Данные распределены ненормально, мы не можем применить трансформацию данных, например взять логарифм, так как значительное количество наблюдений равняется 0.\r\n",
        "Также мы имеем 3 группы. Мы приходим к ANOVA, точнее к её непараметрическому аналогу критерию Краскела-Уоллиса"
      ]
    },
    {
      "cell_type": "code",
      "metadata": {
        "id": "TvHqeVjjc1NY"
      },
      "source": [
        "from scipy.stats import kruskal\r\n"
      ],
      "execution_count": null,
      "outputs": []
    },
    {
      "cell_type": "code",
      "metadata": {
        "colab": {
          "base_uri": "https://localhost:8080/"
        },
        "id": "Yqrplh_resmc",
        "outputId": "9689ef95-f05e-467c-8a70-9bdf83f08481"
      },
      "source": [
        "kruskal(trips_Astapor, trips_Kings, trips_Winterfell)"
      ],
      "execution_count": null,
      "outputs": [
        {
          "output_type": "execute_result",
          "data": {
            "text/plain": [
              "KruskalResult(statistic=221.32105325317454, pvalue=8.724567791938856e-49)"
            ]
          },
          "metadata": {
            "tags": []
          },
          "execution_count": 67
        }
      ]
    },
    {
      "cell_type": "markdown",
      "metadata": {
        "id": "sjZVOus0ghfy"
      },
      "source": [
        "Стат-значимые различия есть, осталось понять где."
      ]
    },
    {
      "cell_type": "code",
      "metadata": {
        "colab": {
          "base_uri": "https://localhost:8080/"
        },
        "id": "7_aMQT-mgazR",
        "outputId": "a56b4739-2dcb-45a3-9790-563117dcf5d1"
      },
      "source": [
        "kruskal(trips_Astapor, trips_Kings)"
      ],
      "execution_count": null,
      "outputs": [
        {
          "output_type": "execute_result",
          "data": {
            "text/plain": [
              "KruskalResult(statistic=32.85849427578329, pvalue=9.911703095724167e-09)"
            ]
          },
          "metadata": {
            "tags": []
          },
          "execution_count": 68
        }
      ]
    },
    {
      "cell_type": "code",
      "metadata": {
        "colab": {
          "base_uri": "https://localhost:8080/"
        },
        "id": "VXLvOn2ignzU",
        "outputId": "019bd1c8-7d7b-4626-ad8c-84f56c152735"
      },
      "source": [
        "kruskal(trips_Astapor, trips_Winterfell)"
      ],
      "execution_count": null,
      "outputs": [
        {
          "output_type": "execute_result",
          "data": {
            "text/plain": [
              "KruskalResult(statistic=226.10121736401675, pvalue=4.2231166438494773e-51)"
            ]
          },
          "metadata": {
            "tags": []
          },
          "execution_count": 69
        }
      ]
    },
    {
      "cell_type": "code",
      "metadata": {
        "colab": {
          "base_uri": "https://localhost:8080/"
        },
        "id": "F0q8nkF6gqaK",
        "outputId": "4377b7ef-06ad-4f1b-8209-b87bd646953b"
      },
      "source": [
        "kruskal(trips_Kings, trips_Winterfell)"
      ],
      "execution_count": null,
      "outputs": [
        {
          "output_type": "execute_result",
          "data": {
            "text/plain": [
              "KruskalResult(statistic=35.57113437313601, pvalue=2.45904556774695e-09)"
            ]
          },
          "metadata": {
            "tags": []
          },
          "execution_count": 70
        }
      ]
    },
    {
      "cell_type": "code",
      "metadata": {
        "colab": {
          "base_uri": "https://localhost:8080/"
        },
        "id": "qlJomQCOgtOG",
        "outputId": "030fcb33-2da1-462e-db34-c93ccce3fa8e"
      },
      "source": [
        "%pip install scikit-posthocs\r\n"
      ],
      "execution_count": null,
      "outputs": [
        {
          "output_type": "stream",
          "text": [
            "Collecting scikit-posthocs\n",
            "  Downloading https://files.pythonhosted.org/packages/e8/b3/ab9b240381d6218a3a5e94d11a1552217317d9624988cf279ec527b5f83e/scikit_posthocs-0.6.6-py3-none-any.whl\n",
            "Requirement already satisfied: pandas>=0.20.0 in /usr/local/lib/python3.6/dist-packages (from scikit-posthocs) (1.1.5)\n",
            "Requirement already satisfied: numpy in /usr/local/lib/python3.6/dist-packages (from scikit-posthocs) (1.19.5)\n",
            "Requirement already satisfied: matplotlib in /usr/local/lib/python3.6/dist-packages (from scikit-posthocs) (3.2.2)\n",
            "Requirement already satisfied: scipy in /usr/local/lib/python3.6/dist-packages (from scikit-posthocs) (1.4.1)\n",
            "Requirement already satisfied: seaborn in /usr/local/lib/python3.6/dist-packages (from scikit-posthocs) (0.11.1)\n",
            "Requirement already satisfied: statsmodels in /usr/local/lib/python3.6/dist-packages (from scikit-posthocs) (0.10.2)\n",
            "Requirement already satisfied: pytz>=2017.2 in /usr/local/lib/python3.6/dist-packages (from pandas>=0.20.0->scikit-posthocs) (2018.9)\n",
            "Requirement already satisfied: python-dateutil>=2.7.3 in /usr/local/lib/python3.6/dist-packages (from pandas>=0.20.0->scikit-posthocs) (2.8.1)\n",
            "Requirement already satisfied: cycler>=0.10 in /usr/local/lib/python3.6/dist-packages (from matplotlib->scikit-posthocs) (0.10.0)\n",
            "Requirement already satisfied: pyparsing!=2.0.4,!=2.1.2,!=2.1.6,>=2.0.1 in /usr/local/lib/python3.6/dist-packages (from matplotlib->scikit-posthocs) (2.4.7)\n",
            "Requirement already satisfied: kiwisolver>=1.0.1 in /usr/local/lib/python3.6/dist-packages (from matplotlib->scikit-posthocs) (1.3.1)\n",
            "Requirement already satisfied: patsy>=0.4.0 in /usr/local/lib/python3.6/dist-packages (from statsmodels->scikit-posthocs) (0.5.1)\n",
            "Requirement already satisfied: six>=1.5 in /usr/local/lib/python3.6/dist-packages (from python-dateutil>=2.7.3->pandas>=0.20.0->scikit-posthocs) (1.15.0)\n",
            "Installing collected packages: scikit-posthocs\n",
            "Successfully installed scikit-posthocs-0.6.6\n"
          ],
          "name": "stdout"
        }
      ]
    },
    {
      "cell_type": "code",
      "metadata": {
        "colab": {
          "base_uri": "https://localhost:8080/"
        },
        "id": "xzk4vZkThmTk",
        "outputId": "1278f7c7-801d-44ee-c912-20a6fcc2a665"
      },
      "source": [
        "import scikit_posthocs as sp"
      ],
      "execution_count": null,
      "outputs": [
        {
          "output_type": "stream",
          "text": [
            "/usr/local/lib/python3.6/dist-packages/statsmodels/tools/_testing.py:19: FutureWarning: pandas.util.testing is deprecated. Use the functions in the public API at pandas.testing instead.\n",
            "  import pandas.util.testing as tm\n"
          ],
          "name": "stderr"
        }
      ]
    },
    {
      "cell_type": "code",
      "metadata": {
        "colab": {
          "base_uri": "https://localhost:8080/",
          "height": 136
        },
        "id": "5607leGNh1WS",
        "outputId": "a7ac353f-e1f1-48f7-e605-f02d6255a22b"
      },
      "source": [
        "sp.posthoc_dunn([trips_Astapor, trips_Kings, trips_Winterfell])"
      ],
      "execution_count": null,
      "outputs": [
        {
          "output_type": "execute_result",
          "data": {
            "text/html": [
              "<div>\n",
              "<style scoped>\n",
              "    .dataframe tbody tr th:only-of-type {\n",
              "        vertical-align: middle;\n",
              "    }\n",
              "\n",
              "    .dataframe tbody tr th {\n",
              "        vertical-align: top;\n",
              "    }\n",
              "\n",
              "    .dataframe thead th {\n",
              "        text-align: right;\n",
              "    }\n",
              "</style>\n",
              "<table border=\"1\" class=\"dataframe\">\n",
              "  <thead>\n",
              "    <tr style=\"text-align: right;\">\n",
              "      <th></th>\n",
              "      <th>1</th>\n",
              "      <th>2</th>\n",
              "      <th>3</th>\n",
              "    </tr>\n",
              "  </thead>\n",
              "  <tbody>\n",
              "    <tr>\n",
              "      <th>1</th>\n",
              "      <td>1.000000e+00</td>\n",
              "      <td>1.313616e-09</td>\n",
              "      <td>8.161670e-50</td>\n",
              "    </tr>\n",
              "    <tr>\n",
              "      <th>2</th>\n",
              "      <td>1.313616e-09</td>\n",
              "      <td>1.000000e+00</td>\n",
              "      <td>4.220106e-10</td>\n",
              "    </tr>\n",
              "    <tr>\n",
              "      <th>3</th>\n",
              "      <td>8.161670e-50</td>\n",
              "      <td>4.220106e-10</td>\n",
              "      <td>1.000000e+00</td>\n",
              "    </tr>\n",
              "  </tbody>\n",
              "</table>\n",
              "</div>"
            ],
            "text/plain": [
              "              1             2             3\n",
              "1  1.000000e+00  1.313616e-09  8.161670e-50\n",
              "2  1.313616e-09  1.000000e+00  4.220106e-10\n",
              "3  8.161670e-50  4.220106e-10  1.000000e+00"
            ]
          },
          "metadata": {
            "tags": []
          },
          "execution_count": 75
        }
      ]
    },
    {
      "cell_type": "markdown",
      "metadata": {
        "id": "HBlmR01AiMGe"
      },
      "source": [
        "Попарное сравнение групп и проведение post-hoc Dunn's теста показывает, что стат-значимые различия присутствуют между всеми группами"
      ]
    },
    {
      "cell_type": "markdown",
      "metadata": {
        "id": "ZZU-fROsiush"
      },
      "source": [
        "## 4. Проверим различия между активностью в первые 30 дней с момента регистрации между водителями и показателем оттока"
      ]
    },
    {
      "cell_type": "code",
      "metadata": {
        "colab": {
          "base_uri": "https://localhost:8080/",
          "height": 502
        },
        "id": "ns3pgrsth86L",
        "outputId": "83845a38-0a05-4cd9-9a2b-0a2b08f28c45"
      },
      "source": [
        "trips_churn = data[['trips_in_first_30_days','churn']]\r\n",
        "trips_churn.churn = trips_churn.churn.apply(lambda x: 1 if x == 'churn' else 0)\r\n",
        "trips_churn"
      ],
      "execution_count": null,
      "outputs": [
        {
          "output_type": "stream",
          "text": [
            "/usr/local/lib/python3.6/dist-packages/pandas/core/generic.py:5170: SettingWithCopyWarning: \n",
            "A value is trying to be set on a copy of a slice from a DataFrame.\n",
            "Try using .loc[row_indexer,col_indexer] = value instead\n",
            "\n",
            "See the caveats in the documentation: https://pandas.pydata.org/pandas-docs/stable/user_guide/indexing.html#returning-a-view-versus-a-copy\n",
            "  self[name] = value\n"
          ],
          "name": "stderr"
        },
        {
          "output_type": "execute_result",
          "data": {
            "text/html": [
              "<div>\n",
              "<style scoped>\n",
              "    .dataframe tbody tr th:only-of-type {\n",
              "        vertical-align: middle;\n",
              "    }\n",
              "\n",
              "    .dataframe tbody tr th {\n",
              "        vertical-align: top;\n",
              "    }\n",
              "\n",
              "    .dataframe thead th {\n",
              "        text-align: right;\n",
              "    }\n",
              "</style>\n",
              "<table border=\"1\" class=\"dataframe\">\n",
              "  <thead>\n",
              "    <tr style=\"text-align: right;\">\n",
              "      <th></th>\n",
              "      <th>trips_in_first_30_days</th>\n",
              "      <th>churn</th>\n",
              "    </tr>\n",
              "  </thead>\n",
              "  <tbody>\n",
              "    <tr>\n",
              "      <th>0</th>\n",
              "      <td>4</td>\n",
              "      <td>0</td>\n",
              "    </tr>\n",
              "    <tr>\n",
              "      <th>1</th>\n",
              "      <td>0</td>\n",
              "      <td>1</td>\n",
              "    </tr>\n",
              "    <tr>\n",
              "      <th>2</th>\n",
              "      <td>3</td>\n",
              "      <td>1</td>\n",
              "    </tr>\n",
              "    <tr>\n",
              "      <th>3</th>\n",
              "      <td>9</td>\n",
              "      <td>0</td>\n",
              "    </tr>\n",
              "    <tr>\n",
              "      <th>4</th>\n",
              "      <td>14</td>\n",
              "      <td>1</td>\n",
              "    </tr>\n",
              "    <tr>\n",
              "      <th>...</th>\n",
              "      <td>...</td>\n",
              "      <td>...</td>\n",
              "    </tr>\n",
              "    <tr>\n",
              "      <th>49995</th>\n",
              "      <td>0</td>\n",
              "      <td>0</td>\n",
              "    </tr>\n",
              "    <tr>\n",
              "      <th>49996</th>\n",
              "      <td>1</td>\n",
              "      <td>1</td>\n",
              "    </tr>\n",
              "    <tr>\n",
              "      <th>49997</th>\n",
              "      <td>0</td>\n",
              "      <td>1</td>\n",
              "    </tr>\n",
              "    <tr>\n",
              "      <th>49998</th>\n",
              "      <td>2</td>\n",
              "      <td>1</td>\n",
              "    </tr>\n",
              "    <tr>\n",
              "      <th>49999</th>\n",
              "      <td>0</td>\n",
              "      <td>1</td>\n",
              "    </tr>\n",
              "  </tbody>\n",
              "</table>\n",
              "<p>50000 rows × 2 columns</p>\n",
              "</div>"
            ],
            "text/plain": [
              "       trips_in_first_30_days  churn\n",
              "0                           4      0\n",
              "1                           0      1\n",
              "2                           3      1\n",
              "3                           9      0\n",
              "4                          14      1\n",
              "...                       ...    ...\n",
              "49995                       0      0\n",
              "49996                       1      1\n",
              "49997                       0      1\n",
              "49998                       2      1\n",
              "49999                       0      1\n",
              "\n",
              "[50000 rows x 2 columns]"
            ]
          },
          "metadata": {
            "tags": []
          },
          "execution_count": 84
        }
      ]
    },
    {
      "cell_type": "code",
      "metadata": {
        "colab": {
          "base_uri": "https://localhost:8080/"
        },
        "id": "1bq_S-Jsjqyr",
        "outputId": "d8ea2a10-2bee-4895-a970-634ce706d68c"
      },
      "source": [
        "mannwhitneyu(trips_churn.trips_in_first_30_days, trips_churn.churn )"
      ],
      "execution_count": null,
      "outputs": [
        {
          "output_type": "execute_result",
          "data": {
            "text/plain": [
              "MannwhitneyuResult(statistic=844859804.0, pvalue=0.0)"
            ]
          },
          "metadata": {
            "tags": []
          },
          "execution_count": 85
        }
      ]
    },
    {
      "cell_type": "code",
      "metadata": {
        "id": "gJQvJNB1jyOh"
      },
      "source": [
        ""
      ],
      "execution_count": null,
      "outputs": []
    }
  ]
}