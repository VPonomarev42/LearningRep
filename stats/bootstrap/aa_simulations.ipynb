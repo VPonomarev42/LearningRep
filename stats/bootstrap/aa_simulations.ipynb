{
  "nbformat": 4,
  "nbformat_minor": 0,
  "metadata": {
    "kernelspec": {
      "display_name": "Python 3",
      "language": "python",
      "name": "python3"
    },
    "language_info": {
      "codemirror_mode": {
        "name": "ipython",
        "version": 3
      },
      "file_extension": ".py",
      "mimetype": "text/x-python",
      "name": "python",
      "nbconvert_exporter": "python",
      "pygments_lexer": "ipython3",
      "version": "3.7.6"
    },
    "colab": {
      "name": "aa_simulations.ipynb",
      "provenance": [],
      "include_colab_link": true
    },
    "widgets": {
      "application/vnd.jupyter.widget-state+json": {
        "388c1a5e200e4f99b97199680ed99b19": {
          "model_module": "@jupyter-widgets/controls",
          "model_name": "HBoxModel",
          "state": {
            "_view_name": "HBoxView",
            "_dom_classes": [],
            "_model_name": "HBoxModel",
            "_view_module": "@jupyter-widgets/controls",
            "_model_module_version": "1.5.0",
            "_view_count": null,
            "_view_module_version": "1.5.0",
            "box_style": "",
            "layout": "IPY_MODEL_5d6a38508168490fb7172e3fd01fc355",
            "_model_module": "@jupyter-widgets/controls",
            "children": [
              "IPY_MODEL_a71ff84fd3c7425ebb72bce329f9934d",
              "IPY_MODEL_87b9d08138944f0cb42ef7f0677eae27"
            ]
          }
        },
        "5d6a38508168490fb7172e3fd01fc355": {
          "model_module": "@jupyter-widgets/base",
          "model_name": "LayoutModel",
          "state": {
            "_view_name": "LayoutView",
            "grid_template_rows": null,
            "right": null,
            "justify_content": null,
            "_view_module": "@jupyter-widgets/base",
            "overflow": null,
            "_model_module_version": "1.2.0",
            "_view_count": null,
            "flex_flow": null,
            "width": null,
            "min_width": null,
            "border": null,
            "align_items": null,
            "bottom": null,
            "_model_module": "@jupyter-widgets/base",
            "top": null,
            "grid_column": null,
            "overflow_y": null,
            "overflow_x": null,
            "grid_auto_flow": null,
            "grid_area": null,
            "grid_template_columns": null,
            "flex": null,
            "_model_name": "LayoutModel",
            "justify_items": null,
            "grid_row": null,
            "max_height": null,
            "align_content": null,
            "visibility": null,
            "align_self": null,
            "height": null,
            "min_height": null,
            "padding": null,
            "grid_auto_rows": null,
            "grid_gap": null,
            "max_width": null,
            "order": null,
            "_view_module_version": "1.2.0",
            "grid_template_areas": null,
            "object_position": null,
            "object_fit": null,
            "grid_auto_columns": null,
            "margin": null,
            "display": null,
            "left": null
          }
        },
        "a71ff84fd3c7425ebb72bce329f9934d": {
          "model_module": "@jupyter-widgets/controls",
          "model_name": "FloatProgressModel",
          "state": {
            "_view_name": "ProgressView",
            "style": "IPY_MODEL_87a7cf1afb52416094f1eece15fc48d6",
            "_dom_classes": [],
            "description": "100%",
            "_model_name": "FloatProgressModel",
            "bar_style": "success",
            "max": 1000,
            "_view_module": "@jupyter-widgets/controls",
            "_model_module_version": "1.5.0",
            "value": 1000,
            "_view_count": null,
            "_view_module_version": "1.5.0",
            "orientation": "horizontal",
            "min": 0,
            "description_tooltip": null,
            "_model_module": "@jupyter-widgets/controls",
            "layout": "IPY_MODEL_11206ff6a2f444009ec0e549b110e5aa"
          }
        },
        "87b9d08138944f0cb42ef7f0677eae27": {
          "model_module": "@jupyter-widgets/controls",
          "model_name": "HTMLModel",
          "state": {
            "_view_name": "HTMLView",
            "style": "IPY_MODEL_9cd2650a609a46a6975c0fc2f26df873",
            "_dom_classes": [],
            "description": "",
            "_model_name": "HTMLModel",
            "placeholder": "​",
            "_view_module": "@jupyter-widgets/controls",
            "_model_module_version": "1.5.0",
            "value": " 1000/1000 [00:03&lt;00:00, 259.95it/s]",
            "_view_count": null,
            "_view_module_version": "1.5.0",
            "description_tooltip": null,
            "_model_module": "@jupyter-widgets/controls",
            "layout": "IPY_MODEL_6809d3f9c08348728771d58392a92094"
          }
        },
        "87a7cf1afb52416094f1eece15fc48d6": {
          "model_module": "@jupyter-widgets/controls",
          "model_name": "ProgressStyleModel",
          "state": {
            "_view_name": "StyleView",
            "_model_name": "ProgressStyleModel",
            "description_width": "initial",
            "_view_module": "@jupyter-widgets/base",
            "_model_module_version": "1.5.0",
            "_view_count": null,
            "_view_module_version": "1.2.0",
            "bar_color": null,
            "_model_module": "@jupyter-widgets/controls"
          }
        },
        "11206ff6a2f444009ec0e549b110e5aa": {
          "model_module": "@jupyter-widgets/base",
          "model_name": "LayoutModel",
          "state": {
            "_view_name": "LayoutView",
            "grid_template_rows": null,
            "right": null,
            "justify_content": null,
            "_view_module": "@jupyter-widgets/base",
            "overflow": null,
            "_model_module_version": "1.2.0",
            "_view_count": null,
            "flex_flow": null,
            "width": null,
            "min_width": null,
            "border": null,
            "align_items": null,
            "bottom": null,
            "_model_module": "@jupyter-widgets/base",
            "top": null,
            "grid_column": null,
            "overflow_y": null,
            "overflow_x": null,
            "grid_auto_flow": null,
            "grid_area": null,
            "grid_template_columns": null,
            "flex": null,
            "_model_name": "LayoutModel",
            "justify_items": null,
            "grid_row": null,
            "max_height": null,
            "align_content": null,
            "visibility": null,
            "align_self": null,
            "height": null,
            "min_height": null,
            "padding": null,
            "grid_auto_rows": null,
            "grid_gap": null,
            "max_width": null,
            "order": null,
            "_view_module_version": "1.2.0",
            "grid_template_areas": null,
            "object_position": null,
            "object_fit": null,
            "grid_auto_columns": null,
            "margin": null,
            "display": null,
            "left": null
          }
        },
        "9cd2650a609a46a6975c0fc2f26df873": {
          "model_module": "@jupyter-widgets/controls",
          "model_name": "DescriptionStyleModel",
          "state": {
            "_view_name": "StyleView",
            "_model_name": "DescriptionStyleModel",
            "description_width": "",
            "_view_module": "@jupyter-widgets/base",
            "_model_module_version": "1.5.0",
            "_view_count": null,
            "_view_module_version": "1.2.0",
            "_model_module": "@jupyter-widgets/controls"
          }
        },
        "6809d3f9c08348728771d58392a92094": {
          "model_module": "@jupyter-widgets/base",
          "model_name": "LayoutModel",
          "state": {
            "_view_name": "LayoutView",
            "grid_template_rows": null,
            "right": null,
            "justify_content": null,
            "_view_module": "@jupyter-widgets/base",
            "overflow": null,
            "_model_module_version": "1.2.0",
            "_view_count": null,
            "flex_flow": null,
            "width": null,
            "min_width": null,
            "border": null,
            "align_items": null,
            "bottom": null,
            "_model_module": "@jupyter-widgets/base",
            "top": null,
            "grid_column": null,
            "overflow_y": null,
            "overflow_x": null,
            "grid_auto_flow": null,
            "grid_area": null,
            "grid_template_columns": null,
            "flex": null,
            "_model_name": "LayoutModel",
            "justify_items": null,
            "grid_row": null,
            "max_height": null,
            "align_content": null,
            "visibility": null,
            "align_self": null,
            "height": null,
            "min_height": null,
            "padding": null,
            "grid_auto_rows": null,
            "grid_gap": null,
            "max_width": null,
            "order": null,
            "_view_module_version": "1.2.0",
            "grid_template_areas": null,
            "object_position": null,
            "object_fit": null,
            "grid_auto_columns": null,
            "margin": null,
            "display": null,
            "left": null
          }
        },
        "8b3833ad2f5845ed8c7ef07b019f8b37": {
          "model_module": "@jupyter-widgets/controls",
          "model_name": "HBoxModel",
          "state": {
            "_view_name": "HBoxView",
            "_dom_classes": [],
            "_model_name": "HBoxModel",
            "_view_module": "@jupyter-widgets/controls",
            "_model_module_version": "1.5.0",
            "_view_count": null,
            "_view_module_version": "1.5.0",
            "box_style": "",
            "layout": "IPY_MODEL_8ca2899d3d024f2482095790cf8c8f34",
            "_model_module": "@jupyter-widgets/controls",
            "children": [
              "IPY_MODEL_5d7665d91ca547e8b406630b7261f78a",
              "IPY_MODEL_a41a73c42c9f41d1813de34f702060a5"
            ]
          }
        },
        "8ca2899d3d024f2482095790cf8c8f34": {
          "model_module": "@jupyter-widgets/base",
          "model_name": "LayoutModel",
          "state": {
            "_view_name": "LayoutView",
            "grid_template_rows": null,
            "right": null,
            "justify_content": null,
            "_view_module": "@jupyter-widgets/base",
            "overflow": null,
            "_model_module_version": "1.2.0",
            "_view_count": null,
            "flex_flow": null,
            "width": null,
            "min_width": null,
            "border": null,
            "align_items": null,
            "bottom": null,
            "_model_module": "@jupyter-widgets/base",
            "top": null,
            "grid_column": null,
            "overflow_y": null,
            "overflow_x": null,
            "grid_auto_flow": null,
            "grid_area": null,
            "grid_template_columns": null,
            "flex": null,
            "_model_name": "LayoutModel",
            "justify_items": null,
            "grid_row": null,
            "max_height": null,
            "align_content": null,
            "visibility": null,
            "align_self": null,
            "height": null,
            "min_height": null,
            "padding": null,
            "grid_auto_rows": null,
            "grid_gap": null,
            "max_width": null,
            "order": null,
            "_view_module_version": "1.2.0",
            "grid_template_areas": null,
            "object_position": null,
            "object_fit": null,
            "grid_auto_columns": null,
            "margin": null,
            "display": null,
            "left": null
          }
        },
        "5d7665d91ca547e8b406630b7261f78a": {
          "model_module": "@jupyter-widgets/controls",
          "model_name": "FloatProgressModel",
          "state": {
            "_view_name": "ProgressView",
            "style": "IPY_MODEL_dc828bcd968747e2a28bf21bfcf7a29e",
            "_dom_classes": [],
            "description": "100%",
            "_model_name": "FloatProgressModel",
            "bar_style": "success",
            "max": 1000,
            "_view_module": "@jupyter-widgets/controls",
            "_model_module_version": "1.5.0",
            "value": 1000,
            "_view_count": null,
            "_view_module_version": "1.5.0",
            "orientation": "horizontal",
            "min": 0,
            "description_tooltip": null,
            "_model_module": "@jupyter-widgets/controls",
            "layout": "IPY_MODEL_88a9a42a0b874790b340b42e2ca06007"
          }
        },
        "a41a73c42c9f41d1813de34f702060a5": {
          "model_module": "@jupyter-widgets/controls",
          "model_name": "HTMLModel",
          "state": {
            "_view_name": "HTMLView",
            "style": "IPY_MODEL_8aacd28614d143e5a48b564156ae2bcb",
            "_dom_classes": [],
            "description": "",
            "_model_name": "HTMLModel",
            "placeholder": "​",
            "_view_module": "@jupyter-widgets/controls",
            "_model_module_version": "1.5.0",
            "value": " 1000/1000 [00:06&lt;00:00, 166.39it/s]",
            "_view_count": null,
            "_view_module_version": "1.5.0",
            "description_tooltip": null,
            "_model_module": "@jupyter-widgets/controls",
            "layout": "IPY_MODEL_74993898faaa4dae9f26b453e9729fb6"
          }
        },
        "dc828bcd968747e2a28bf21bfcf7a29e": {
          "model_module": "@jupyter-widgets/controls",
          "model_name": "ProgressStyleModel",
          "state": {
            "_view_name": "StyleView",
            "_model_name": "ProgressStyleModel",
            "description_width": "initial",
            "_view_module": "@jupyter-widgets/base",
            "_model_module_version": "1.5.0",
            "_view_count": null,
            "_view_module_version": "1.2.0",
            "bar_color": null,
            "_model_module": "@jupyter-widgets/controls"
          }
        },
        "88a9a42a0b874790b340b42e2ca06007": {
          "model_module": "@jupyter-widgets/base",
          "model_name": "LayoutModel",
          "state": {
            "_view_name": "LayoutView",
            "grid_template_rows": null,
            "right": null,
            "justify_content": null,
            "_view_module": "@jupyter-widgets/base",
            "overflow": null,
            "_model_module_version": "1.2.0",
            "_view_count": null,
            "flex_flow": null,
            "width": null,
            "min_width": null,
            "border": null,
            "align_items": null,
            "bottom": null,
            "_model_module": "@jupyter-widgets/base",
            "top": null,
            "grid_column": null,
            "overflow_y": null,
            "overflow_x": null,
            "grid_auto_flow": null,
            "grid_area": null,
            "grid_template_columns": null,
            "flex": null,
            "_model_name": "LayoutModel",
            "justify_items": null,
            "grid_row": null,
            "max_height": null,
            "align_content": null,
            "visibility": null,
            "align_self": null,
            "height": null,
            "min_height": null,
            "padding": null,
            "grid_auto_rows": null,
            "grid_gap": null,
            "max_width": null,
            "order": null,
            "_view_module_version": "1.2.0",
            "grid_template_areas": null,
            "object_position": null,
            "object_fit": null,
            "grid_auto_columns": null,
            "margin": null,
            "display": null,
            "left": null
          }
        },
        "8aacd28614d143e5a48b564156ae2bcb": {
          "model_module": "@jupyter-widgets/controls",
          "model_name": "DescriptionStyleModel",
          "state": {
            "_view_name": "StyleView",
            "_model_name": "DescriptionStyleModel",
            "description_width": "",
            "_view_module": "@jupyter-widgets/base",
            "_model_module_version": "1.5.0",
            "_view_count": null,
            "_view_module_version": "1.2.0",
            "_model_module": "@jupyter-widgets/controls"
          }
        },
        "74993898faaa4dae9f26b453e9729fb6": {
          "model_module": "@jupyter-widgets/base",
          "model_name": "LayoutModel",
          "state": {
            "_view_name": "LayoutView",
            "grid_template_rows": null,
            "right": null,
            "justify_content": null,
            "_view_module": "@jupyter-widgets/base",
            "overflow": null,
            "_model_module_version": "1.2.0",
            "_view_count": null,
            "flex_flow": null,
            "width": null,
            "min_width": null,
            "border": null,
            "align_items": null,
            "bottom": null,
            "_model_module": "@jupyter-widgets/base",
            "top": null,
            "grid_column": null,
            "overflow_y": null,
            "overflow_x": null,
            "grid_auto_flow": null,
            "grid_area": null,
            "grid_template_columns": null,
            "flex": null,
            "_model_name": "LayoutModel",
            "justify_items": null,
            "grid_row": null,
            "max_height": null,
            "align_content": null,
            "visibility": null,
            "align_self": null,
            "height": null,
            "min_height": null,
            "padding": null,
            "grid_auto_rows": null,
            "grid_gap": null,
            "max_width": null,
            "order": null,
            "_view_module_version": "1.2.0",
            "grid_template_areas": null,
            "object_position": null,
            "object_fit": null,
            "grid_auto_columns": null,
            "margin": null,
            "display": null,
            "left": null
          }
        },
        "ffc0eb6dc1be4c56b49163be72869f6f": {
          "model_module": "@jupyter-widgets/controls",
          "model_name": "HBoxModel",
          "state": {
            "_view_name": "HBoxView",
            "_dom_classes": [],
            "_model_name": "HBoxModel",
            "_view_module": "@jupyter-widgets/controls",
            "_model_module_version": "1.5.0",
            "_view_count": null,
            "_view_module_version": "1.5.0",
            "box_style": "",
            "layout": "IPY_MODEL_c445bf0b55eb48609e5c84be659ced07",
            "_model_module": "@jupyter-widgets/controls",
            "children": [
              "IPY_MODEL_9837a62880ff4d9db9a7fa8405d2de53",
              "IPY_MODEL_be7df7bd9fd84b4aa18ba331d8c3b838"
            ]
          }
        },
        "c445bf0b55eb48609e5c84be659ced07": {
          "model_module": "@jupyter-widgets/base",
          "model_name": "LayoutModel",
          "state": {
            "_view_name": "LayoutView",
            "grid_template_rows": null,
            "right": null,
            "justify_content": null,
            "_view_module": "@jupyter-widgets/base",
            "overflow": null,
            "_model_module_version": "1.2.0",
            "_view_count": null,
            "flex_flow": null,
            "width": null,
            "min_width": null,
            "border": null,
            "align_items": null,
            "bottom": null,
            "_model_module": "@jupyter-widgets/base",
            "top": null,
            "grid_column": null,
            "overflow_y": null,
            "overflow_x": null,
            "grid_auto_flow": null,
            "grid_area": null,
            "grid_template_columns": null,
            "flex": null,
            "_model_name": "LayoutModel",
            "justify_items": null,
            "grid_row": null,
            "max_height": null,
            "align_content": null,
            "visibility": null,
            "align_self": null,
            "height": null,
            "min_height": null,
            "padding": null,
            "grid_auto_rows": null,
            "grid_gap": null,
            "max_width": null,
            "order": null,
            "_view_module_version": "1.2.0",
            "grid_template_areas": null,
            "object_position": null,
            "object_fit": null,
            "grid_auto_columns": null,
            "margin": null,
            "display": null,
            "left": null
          }
        },
        "9837a62880ff4d9db9a7fa8405d2de53": {
          "model_module": "@jupyter-widgets/controls",
          "model_name": "FloatProgressModel",
          "state": {
            "_view_name": "ProgressView",
            "style": "IPY_MODEL_b3779f14eaaf40148628b0dff296891b",
            "_dom_classes": [],
            "description": "100%",
            "_model_name": "FloatProgressModel",
            "bar_style": "success",
            "max": 1000,
            "_view_module": "@jupyter-widgets/controls",
            "_model_module_version": "1.5.0",
            "value": 1000,
            "_view_count": null,
            "_view_module_version": "1.5.0",
            "orientation": "horizontal",
            "min": 0,
            "description_tooltip": null,
            "_model_module": "@jupyter-widgets/controls",
            "layout": "IPY_MODEL_d87ee7ee4ad747d69577e29d6ecbc107"
          }
        },
        "be7df7bd9fd84b4aa18ba331d8c3b838": {
          "model_module": "@jupyter-widgets/controls",
          "model_name": "HTMLModel",
          "state": {
            "_view_name": "HTMLView",
            "style": "IPY_MODEL_ca626e8c88da4cd2b49304a7578144a4",
            "_dom_classes": [],
            "description": "",
            "_model_name": "HTMLModel",
            "placeholder": "​",
            "_view_module": "@jupyter-widgets/controls",
            "_model_module_version": "1.5.0",
            "value": " 1000/1000 [00:06&lt;00:00, 148.38it/s]",
            "_view_count": null,
            "_view_module_version": "1.5.0",
            "description_tooltip": null,
            "_model_module": "@jupyter-widgets/controls",
            "layout": "IPY_MODEL_fa1f911830f040918101e1fe7a8b294d"
          }
        },
        "b3779f14eaaf40148628b0dff296891b": {
          "model_module": "@jupyter-widgets/controls",
          "model_name": "ProgressStyleModel",
          "state": {
            "_view_name": "StyleView",
            "_model_name": "ProgressStyleModel",
            "description_width": "initial",
            "_view_module": "@jupyter-widgets/base",
            "_model_module_version": "1.5.0",
            "_view_count": null,
            "_view_module_version": "1.2.0",
            "bar_color": null,
            "_model_module": "@jupyter-widgets/controls"
          }
        },
        "d87ee7ee4ad747d69577e29d6ecbc107": {
          "model_module": "@jupyter-widgets/base",
          "model_name": "LayoutModel",
          "state": {
            "_view_name": "LayoutView",
            "grid_template_rows": null,
            "right": null,
            "justify_content": null,
            "_view_module": "@jupyter-widgets/base",
            "overflow": null,
            "_model_module_version": "1.2.0",
            "_view_count": null,
            "flex_flow": null,
            "width": null,
            "min_width": null,
            "border": null,
            "align_items": null,
            "bottom": null,
            "_model_module": "@jupyter-widgets/base",
            "top": null,
            "grid_column": null,
            "overflow_y": null,
            "overflow_x": null,
            "grid_auto_flow": null,
            "grid_area": null,
            "grid_template_columns": null,
            "flex": null,
            "_model_name": "LayoutModel",
            "justify_items": null,
            "grid_row": null,
            "max_height": null,
            "align_content": null,
            "visibility": null,
            "align_self": null,
            "height": null,
            "min_height": null,
            "padding": null,
            "grid_auto_rows": null,
            "grid_gap": null,
            "max_width": null,
            "order": null,
            "_view_module_version": "1.2.0",
            "grid_template_areas": null,
            "object_position": null,
            "object_fit": null,
            "grid_auto_columns": null,
            "margin": null,
            "display": null,
            "left": null
          }
        },
        "ca626e8c88da4cd2b49304a7578144a4": {
          "model_module": "@jupyter-widgets/controls",
          "model_name": "DescriptionStyleModel",
          "state": {
            "_view_name": "StyleView",
            "_model_name": "DescriptionStyleModel",
            "description_width": "",
            "_view_module": "@jupyter-widgets/base",
            "_model_module_version": "1.5.0",
            "_view_count": null,
            "_view_module_version": "1.2.0",
            "_model_module": "@jupyter-widgets/controls"
          }
        },
        "fa1f911830f040918101e1fe7a8b294d": {
          "model_module": "@jupyter-widgets/base",
          "model_name": "LayoutModel",
          "state": {
            "_view_name": "LayoutView",
            "grid_template_rows": null,
            "right": null,
            "justify_content": null,
            "_view_module": "@jupyter-widgets/base",
            "overflow": null,
            "_model_module_version": "1.2.0",
            "_view_count": null,
            "flex_flow": null,
            "width": null,
            "min_width": null,
            "border": null,
            "align_items": null,
            "bottom": null,
            "_model_module": "@jupyter-widgets/base",
            "top": null,
            "grid_column": null,
            "overflow_y": null,
            "overflow_x": null,
            "grid_auto_flow": null,
            "grid_area": null,
            "grid_template_columns": null,
            "flex": null,
            "_model_name": "LayoutModel",
            "justify_items": null,
            "grid_row": null,
            "max_height": null,
            "align_content": null,
            "visibility": null,
            "align_self": null,
            "height": null,
            "min_height": null,
            "padding": null,
            "grid_auto_rows": null,
            "grid_gap": null,
            "max_width": null,
            "order": null,
            "_view_module_version": "1.2.0",
            "grid_template_areas": null,
            "object_position": null,
            "object_fit": null,
            "grid_auto_columns": null,
            "margin": null,
            "display": null,
            "left": null
          }
        }
      }
    }
  },
  "cells": [
    {
      "cell_type": "markdown",
      "metadata": {
        "id": "view-in-github",
        "colab_type": "text"
      },
      "source": [
        "<a href=\"https://colab.research.google.com/github/VPonomarev42/LearningRep/blob/bootstap_2_lesson/stats/bootstrap/aa_simulations.ipynb\" target=\"_parent\"><img src=\"https://colab.research.google.com/assets/colab-badge.svg\" alt=\"Open In Colab\"/></a>"
      ]
    },
    {
      "cell_type": "code",
      "metadata": {
        "id": "Si0CAeG9DleY"
      },
      "source": [
        "import numpy as np\n",
        "import pandas as pd\n",
        "from scipy import stats\n",
        "import matplotlib.pyplot as plt\n",
        "\n",
        "from tqdm.auto import tqdm"
      ],
      "execution_count": 1,
      "outputs": []
    },
    {
      "cell_type": "markdown",
      "metadata": {
        "id": "ViCw_VmlFH2M"
      },
      "source": [
        "А/А-тестирование мобильного приложения. Необходимо посчитать результаты A/A-теста, проверяя метрику качества FPR (будем проверять на конверсии в покупку). Известно, что сплит-система сломана. Требуется проверить утверждение о поломке и найти ее причины, если сплит-система действительно сломана\r\n",
        "\r\n",
        "**Описание колонок**\r\n",
        " - experimentVariant – вариант эксперимента\r\n",
        " - version – версия приложения\r\n",
        " - purchase – факт покупки\r\n",
        " \r\n",
        "**Задача**    \r\n",
        "1. Запустите A/A-тест\r\n",
        "2. Посчитайте FPR на уровне альфа = 0.05 (ставьте подвыборки без возвращения объемом 1000). Вы увидите, что FPR > альфа! Нам нужно наоборот – чтобы было меньше.\r\n",
        "3. Найдите причины поломки сплит-системы, ориентируясь на результаты эксперимента (подсказка: найдите аномалию в версии приложения)\r\n",
        "4. Напишите выводы, которые можно сделать на основе анализа результатов A/A-теста"
      ]
    },
    {
      "cell_type": "markdown",
      "metadata": {
        "id": "MmP85OOCNAeI"
      },
      "source": [
        "\r\n",
        "\r\n",
        "---\r\n",
        "\r\n",
        "---\r\n",
        "\r\n",
        "\r\n",
        "\r\n"
      ]
    },
    {
      "cell_type": "markdown",
      "metadata": {
        "id": "epLeYpQkM_Ua"
      },
      "source": [
        "## 1. Загрузим и посмотрим на данные"
      ]
    },
    {
      "cell_type": "code",
      "metadata": {
        "colab": {
          "base_uri": "https://localhost:8080/",
          "height": 402
        },
        "id": "GBGLnoFRNFy-",
        "outputId": "250f6216-b5c7-47ec-82be-c777f764b4e8"
      },
      "source": [
        "data = pd.read_csv('https://stepik.org/media/attachments/lesson/396012/hw_aa.csv', sep=';', index_col=0)\r\n",
        "data"
      ],
      "execution_count": 6,
      "outputs": [
        {
          "output_type": "execute_result",
          "data": {
            "text/html": [
              "<div>\n",
              "<style scoped>\n",
              "    .dataframe tbody tr th:only-of-type {\n",
              "        vertical-align: middle;\n",
              "    }\n",
              "\n",
              "    .dataframe tbody tr th {\n",
              "        vertical-align: top;\n",
              "    }\n",
              "\n",
              "    .dataframe thead th {\n",
              "        text-align: right;\n",
              "    }\n",
              "</style>\n",
              "<table border=\"1\" class=\"dataframe\">\n",
              "  <thead>\n",
              "    <tr style=\"text-align: right;\">\n",
              "      <th></th>\n",
              "      <th>uid</th>\n",
              "      <th>experimentVariant</th>\n",
              "      <th>version</th>\n",
              "      <th>purchase</th>\n",
              "    </tr>\n",
              "  </thead>\n",
              "  <tbody>\n",
              "    <tr>\n",
              "      <th>1</th>\n",
              "      <td>c4ca4238a0b923820dcc509a6f75849b</td>\n",
              "      <td>1</td>\n",
              "      <td>v2.8.0</td>\n",
              "      <td>0</td>\n",
              "    </tr>\n",
              "    <tr>\n",
              "      <th>2</th>\n",
              "      <td>c81e728d9d4c2f636f067f89cc14862c</td>\n",
              "      <td>0</td>\n",
              "      <td>v2.9.0</td>\n",
              "      <td>0</td>\n",
              "    </tr>\n",
              "    <tr>\n",
              "      <th>3</th>\n",
              "      <td>eccbc87e4b5ce2fe28308fd9f2a7baf3</td>\n",
              "      <td>1</td>\n",
              "      <td>v2.9.0</td>\n",
              "      <td>0</td>\n",
              "    </tr>\n",
              "    <tr>\n",
              "      <th>4</th>\n",
              "      <td>a87ff679a2f3e71d9181a67b7542122c</td>\n",
              "      <td>1</td>\n",
              "      <td>v2.8.0</td>\n",
              "      <td>0</td>\n",
              "    </tr>\n",
              "    <tr>\n",
              "      <th>5</th>\n",
              "      <td>e4da3b7fbbce2345d7772b0674a318d5</td>\n",
              "      <td>1</td>\n",
              "      <td>v2.8.0</td>\n",
              "      <td>0</td>\n",
              "    </tr>\n",
              "    <tr>\n",
              "      <th>...</th>\n",
              "      <td>...</td>\n",
              "      <td>...</td>\n",
              "      <td>...</td>\n",
              "      <td>...</td>\n",
              "    </tr>\n",
              "    <tr>\n",
              "      <th>127014</th>\n",
              "      <td>d1f082ede77b17a99a9b0b240daf7bdf</td>\n",
              "      <td>0</td>\n",
              "      <td>v2.8.0</td>\n",
              "      <td>0</td>\n",
              "    </tr>\n",
              "    <tr>\n",
              "      <th>127015</th>\n",
              "      <td>94f0d540830ccdc6b29c1938eea445cc</td>\n",
              "      <td>0</td>\n",
              "      <td>v2.8.0</td>\n",
              "      <td>0</td>\n",
              "    </tr>\n",
              "    <tr>\n",
              "      <th>127016</th>\n",
              "      <td>709f74cf9721328e98be6f216e8a05a8</td>\n",
              "      <td>1</td>\n",
              "      <td>v2.9.0</td>\n",
              "      <td>0</td>\n",
              "    </tr>\n",
              "    <tr>\n",
              "      <th>127017</th>\n",
              "      <td>1767ae3f8ffec269d9ed0ac0ede68d90</td>\n",
              "      <td>1</td>\n",
              "      <td>v2.8.0</td>\n",
              "      <td>0</td>\n",
              "    </tr>\n",
              "    <tr>\n",
              "      <th>127018</th>\n",
              "      <td>8dd8503c49b5e8c6aaea1ed7f0c49765</td>\n",
              "      <td>1</td>\n",
              "      <td>v2.8.0</td>\n",
              "      <td>0</td>\n",
              "    </tr>\n",
              "  </tbody>\n",
              "</table>\n",
              "<p>127018 rows × 4 columns</p>\n",
              "</div>"
            ],
            "text/plain": [
              "                                     uid  experimentVariant version  purchase\n",
              "1       c4ca4238a0b923820dcc509a6f75849b                  1  v2.8.0         0\n",
              "2       c81e728d9d4c2f636f067f89cc14862c                  0  v2.9.0         0\n",
              "3       eccbc87e4b5ce2fe28308fd9f2a7baf3                  1  v2.9.0         0\n",
              "4       a87ff679a2f3e71d9181a67b7542122c                  1  v2.8.0         0\n",
              "5       e4da3b7fbbce2345d7772b0674a318d5                  1  v2.8.0         0\n",
              "...                                  ...                ...     ...       ...\n",
              "127014  d1f082ede77b17a99a9b0b240daf7bdf                  0  v2.8.0         0\n",
              "127015  94f0d540830ccdc6b29c1938eea445cc                  0  v2.8.0         0\n",
              "127016  709f74cf9721328e98be6f216e8a05a8                  1  v2.9.0         0\n",
              "127017  1767ae3f8ffec269d9ed0ac0ede68d90                  1  v2.8.0         0\n",
              "127018  8dd8503c49b5e8c6aaea1ed7f0c49765                  1  v2.8.0         0\n",
              "\n",
              "[127018 rows x 4 columns]"
            ]
          },
          "metadata": {
            "tags": []
          },
          "execution_count": 6
        }
      ]
    },
    {
      "cell_type": "markdown",
      "metadata": {
        "id": "cF6dR7dpZ3cJ"
      },
      "source": [
        "## 2. Проведём А/А тест"
      ]
    },
    {
      "cell_type": "code",
      "metadata": {
        "colab": {
          "base_uri": "https://localhost:8080/",
          "height": 365,
          "referenced_widgets": [
            "388c1a5e200e4f99b97199680ed99b19",
            "5d6a38508168490fb7172e3fd01fc355",
            "a71ff84fd3c7425ebb72bce329f9934d",
            "87b9d08138944f0cb42ef7f0677eae27",
            "87a7cf1afb52416094f1eece15fc48d6",
            "11206ff6a2f444009ec0e549b110e5aa",
            "9cd2650a609a46a6975c0fc2f26df873",
            "6809d3f9c08348728771d58392a92094"
          ]
        },
        "id": "XBedRgkvZ2nh",
        "outputId": "1df3c057-586d-42e9-d723-2e349ffe0d5d"
      },
      "source": [
        "simulations = 1000\r\n",
        "n_s = 1000\r\n",
        "res = []\r\n",
        "\r\n",
        "exp1 = data.query('experimentVariant == 0').purchase\r\n",
        "exp2 = data.query('experimentVariant == 1').purchase\r\n",
        "\r\n",
        "# Запуск симуляций A/A теста\r\n",
        "for i in tqdm(range(simulations)):\r\n",
        "    s1 = exp1.sample(n_s, replace = False).values\r\n",
        "    s2 = exp2.sample(n_s, replace = False).values\r\n",
        "    res.append(stats.ttest_ind(s1, s2, equal_var = False)[1]) # сохраняем pvalue\r\n",
        "\r\n",
        "plt.hist(res, bins = 50)\r\n",
        "plt.style.use('ggplot')\r\n",
        "plt.xlabel('pvalues')\r\n",
        "plt.ylabel('frequency')\r\n",
        "plt.title(\"Histogram of ttest A/A simulations \")\r\n",
        "plt.show()\r\n",
        "\r\n",
        "# Проверяем, что количество ложноположительных случаев не превышает альфа\r\n",
        "print(f\"Показатель FPR = {sum(np.array(res) <0.05) / simulations}, что значительно больше установленного уровня альфа = 0.05\")"
      ],
      "execution_count": 27,
      "outputs": [
        {
          "output_type": "display_data",
          "data": {
            "application/vnd.jupyter.widget-view+json": {
              "model_id": "388c1a5e200e4f99b97199680ed99b19",
              "version_minor": 0,
              "version_major": 2
            },
            "text/plain": [
              "HBox(children=(FloatProgress(value=0.0, max=1000.0), HTML(value='')))"
            ]
          },
          "metadata": {
            "tags": []
          }
        },
        {
          "output_type": "stream",
          "text": [
            "\n"
          ],
          "name": "stdout"
        },
        {
          "output_type": "display_data",
          "data": {
            "image/png": "[encoded data removed]",
            "text/plain": [
              "<Figure size 432x288 with 1 Axes>"
            ]
          },
          "metadata": {
            "tags": []
          }
        },
        {
          "output_type": "stream",
          "text": [
            "Показатель FPR = 0.934, что значительно больше установленного уровня альфа = 0.05\n"
          ],
          "name": "stdout"
        }
      ]
    },
    {
      "cell_type": "markdown",
      "metadata": {
        "id": "FA0la3sMb5Dh"
      },
      "source": [
        "## 3. Исследуем данные на наличие ошибок"
      ]
    },
    {
      "cell_type": "code",
      "metadata": {
        "colab": {
          "base_uri": "https://localhost:8080/"
        },
        "id": "_BiDSFPNOMtq",
        "outputId": "1369ddcd-da14-42b5-be3f-bcbe74507570"
      },
      "source": [
        "data.version.unique()"
      ],
      "execution_count": 9,
      "outputs": [
        {
          "output_type": "execute_result",
          "data": {
            "text/plain": [
              "array(['v2.8.0', 'v2.9.0', 'v3.7.4.0', 'v3.8.0.0'], dtype=object)"
            ]
          },
          "metadata": {
            "tags": []
          },
          "execution_count": 9
        }
      ]
    },
    {
      "cell_type": "code",
      "metadata": {
        "colab": {
          "base_uri": "https://localhost:8080/",
          "height": 313
        },
        "id": "p2QBCfSuObpj",
        "outputId": "780c0381-2fb8-482f-b3f6-fb1cf5de516a"
      },
      "source": [
        "data.version.value_counts().plot.bar()"
      ],
      "execution_count": 28,
      "outputs": [
        {
          "output_type": "execute_result",
          "data": {
            "text/plain": [
              "<matplotlib.axes._subplots.AxesSubplot at 0x7fe1afa2a198>"
            ]
          },
          "metadata": {
            "tags": []
          },
          "execution_count": 28
        },
        {
          "output_type": "display_data",
          "data": {
            "image/png": "[encoded data removed]",
            "text/plain": [
              "<Figure size 432x288 with 1 Axes>"
            ]
          },
          "metadata": {
            "tags": []
          }
        }
      ]
    },
    {
      "cell_type": "markdown",
      "metadata": {
        "id": "wf34tcPYf2r8"
      },
      "source": [
        "Посмотрим на соотношения между группами"
      ]
    },
    {
      "cell_type": "code",
      "metadata": {
        "colab": {
          "base_uri": "https://localhost:8080/",
          "height": 225
        },
        "id": "pXN23yN2f0E4",
        "outputId": "c4c20189-6863-4137-b366-d5eed41971ae"
      },
      "source": [
        "#не сообразил, как запустить StratifiedTable :(\r\n",
        "    \r\n",
        "#from statsmodels.stats.contingency_tables import StratifiedTable\r\n",
        "\r\n",
        "#StratifiedTable.from_data('version', 'purchase', 'experimentVariant' ,data).summary()\r\n",
        "\r\n",
        "pd.crosstab(data.version, data.purchase, margins=True, margins_name='Total')"
      ],
      "execution_count": 33,
      "outputs": [
        {
          "output_type": "execute_result",
          "data": {
            "text/html": [
              "<div>\n",
              "<style scoped>\n",
              "    .dataframe tbody tr th:only-of-type {\n",
              "        vertical-align: middle;\n",
              "    }\n",
              "\n",
              "    .dataframe tbody tr th {\n",
              "        vertical-align: top;\n",
              "    }\n",
              "\n",
              "    .dataframe thead th {\n",
              "        text-align: right;\n",
              "    }\n",
              "</style>\n",
              "<table border=\"1\" class=\"dataframe\">\n",
              "  <thead>\n",
              "    <tr style=\"text-align: right;\">\n",
              "      <th>purchase</th>\n",
              "      <th>0</th>\n",
              "      <th>1</th>\n",
              "      <th>Total</th>\n",
              "    </tr>\n",
              "    <tr>\n",
              "      <th>version</th>\n",
              "      <th></th>\n",
              "      <th></th>\n",
              "      <th></th>\n",
              "    </tr>\n",
              "  </thead>\n",
              "  <tbody>\n",
              "    <tr>\n",
              "      <th>v2.8.0</th>\n",
              "      <td>80899</td>\n",
              "      <td>1936</td>\n",
              "      <td>82835</td>\n",
              "    </tr>\n",
              "    <tr>\n",
              "      <th>v2.9.0</th>\n",
              "      <td>22206</td>\n",
              "      <td>1748</td>\n",
              "      <td>23954</td>\n",
              "    </tr>\n",
              "    <tr>\n",
              "      <th>v3.7.4.0</th>\n",
              "      <td>7907</td>\n",
              "      <td>518</td>\n",
              "      <td>8425</td>\n",
              "    </tr>\n",
              "    <tr>\n",
              "      <th>v3.8.0.0</th>\n",
              "      <td>11092</td>\n",
              "      <td>712</td>\n",
              "      <td>11804</td>\n",
              "    </tr>\n",
              "    <tr>\n",
              "      <th>Total</th>\n",
              "      <td>122104</td>\n",
              "      <td>4914</td>\n",
              "      <td>127018</td>\n",
              "    </tr>\n",
              "  </tbody>\n",
              "</table>\n",
              "</div>"
            ],
            "text/plain": [
              "purchase       0     1   Total\n",
              "version                       \n",
              "v2.8.0     80899  1936   82835\n",
              "v2.9.0     22206  1748   23954\n",
              "v3.7.4.0    7907   518    8425\n",
              "v3.8.0.0   11092   712   11804\n",
              "Total     122104  4914  127018"
            ]
          },
          "metadata": {
            "tags": []
          },
          "execution_count": 33
        }
      ]
    },
    {
      "cell_type": "markdown",
      "metadata": {
        "id": "voOxpi1vcfZu"
      },
      "source": [
        "Проверим распределение событий и покупок между разными версиями приложений, посчитаем конверсию."
      ]
    },
    {
      "cell_type": "code",
      "metadata": {
        "colab": {
          "base_uri": "https://localhost:8080/",
          "height": 195
        },
        "id": "SvrQqAQpOlbp",
        "outputId": "611cebe2-19e7-4553-a3fb-32bec011da57"
      },
      "source": [
        "data_conversion = data.groupby('version').agg({'purchase':'sum', 'experimentVariant':'count'})\\\r\n",
        "    .rename(columns={'purchase':'sum_of_purchase', 'experimentVariant':'quantity_of_events'})\r\n",
        "    \r\n",
        "data_conversion['conversion'] = data_conversion['sum_of_purchase'] / data_conversion['quantity_of_events'] * 100\r\n",
        "data_conversion"
      ],
      "execution_count": 20,
      "outputs": [
        {
          "output_type": "execute_result",
          "data": {
            "text/html": [
              "<div>\n",
              "<style scoped>\n",
              "    .dataframe tbody tr th:only-of-type {\n",
              "        vertical-align: middle;\n",
              "    }\n",
              "\n",
              "    .dataframe tbody tr th {\n",
              "        vertical-align: top;\n",
              "    }\n",
              "\n",
              "    .dataframe thead th {\n",
              "        text-align: right;\n",
              "    }\n",
              "</style>\n",
              "<table border=\"1\" class=\"dataframe\">\n",
              "  <thead>\n",
              "    <tr style=\"text-align: right;\">\n",
              "      <th></th>\n",
              "      <th>sum_of_purchase</th>\n",
              "      <th>quantity_of_events</th>\n",
              "      <th>conversion</th>\n",
              "    </tr>\n",
              "    <tr>\n",
              "      <th>version</th>\n",
              "      <th></th>\n",
              "      <th></th>\n",
              "      <th></th>\n",
              "    </tr>\n",
              "  </thead>\n",
              "  <tbody>\n",
              "    <tr>\n",
              "      <th>v2.8.0</th>\n",
              "      <td>1936</td>\n",
              "      <td>82835</td>\n",
              "      <td>2.337176</td>\n",
              "    </tr>\n",
              "    <tr>\n",
              "      <th>v2.9.0</th>\n",
              "      <td>1748</td>\n",
              "      <td>23954</td>\n",
              "      <td>7.297320</td>\n",
              "    </tr>\n",
              "    <tr>\n",
              "      <th>v3.7.4.0</th>\n",
              "      <td>518</td>\n",
              "      <td>8425</td>\n",
              "      <td>6.148368</td>\n",
              "    </tr>\n",
              "    <tr>\n",
              "      <th>v3.8.0.0</th>\n",
              "      <td>712</td>\n",
              "      <td>11804</td>\n",
              "      <td>6.031854</td>\n",
              "    </tr>\n",
              "  </tbody>\n",
              "</table>\n",
              "</div>"
            ],
            "text/plain": [
              "          sum_of_purchase  quantity_of_events  conversion\n",
              "version                                                  \n",
              "v2.8.0               1936               82835    2.337176\n",
              "v2.9.0               1748               23954    7.297320\n",
              "v3.7.4.0              518                8425    6.148368\n",
              "v3.8.0.0              712               11804    6.031854"
            ]
          },
          "metadata": {
            "tags": []
          },
          "execution_count": 20
        }
      ]
    },
    {
      "cell_type": "markdown",
      "metadata": {
        "id": "aNPmYeDVRjnh"
      },
      "source": [
        "Видно, что конверсия для версии приложения **v2.8.0** значимо отличается от конверсии приложения версии **v2.9.0**. Также количество событий для **v2.8.0** версии приложения в несколько раз превышает количество версий во версии **v2.9.0**. Первый звоночек"
      ]
    },
    {
      "cell_type": "markdown",
      "metadata": {
        "id": "K4BffCmWbDSD"
      },
      "source": [
        "Проверим данные отдельно по экспериментам"
      ]
    },
    {
      "cell_type": "code",
      "metadata": {
        "colab": {
          "base_uri": "https://localhost:8080/",
          "height": 195
        },
        "id": "cEduUwnYQny_",
        "outputId": "051e8daf-4606-4fd6-bda9-0372ab799dcb"
      },
      "source": [
        "data_conversion = data.query('experimentVariant == 1').groupby('version').agg({'purchase':'sum', 'experimentVariant':'count'})\\\r\n",
        "    .rename(columns={'purchase':'sum_of_purchase', 'experimentVariant':'quantity_of_events'})\r\n",
        "    \r\n",
        "data_conversion['conversion'] = data_conversion['sum_of_purchase'] / data_conversion['quantity_of_events'] * 100\r\n",
        "data_conversion"
      ],
      "execution_count": 21,
      "outputs": [
        {
          "output_type": "execute_result",
          "data": {
            "text/html": [
              "<div>\n",
              "<style scoped>\n",
              "    .dataframe tbody tr th:only-of-type {\n",
              "        vertical-align: middle;\n",
              "    }\n",
              "\n",
              "    .dataframe tbody tr th {\n",
              "        vertical-align: top;\n",
              "    }\n",
              "\n",
              "    .dataframe thead th {\n",
              "        text-align: right;\n",
              "    }\n",
              "</style>\n",
              "<table border=\"1\" class=\"dataframe\">\n",
              "  <thead>\n",
              "    <tr style=\"text-align: right;\">\n",
              "      <th></th>\n",
              "      <th>sum_of_purchase</th>\n",
              "      <th>quantity_of_events</th>\n",
              "      <th>conversion</th>\n",
              "    </tr>\n",
              "    <tr>\n",
              "      <th>version</th>\n",
              "      <th></th>\n",
              "      <th></th>\n",
              "      <th></th>\n",
              "    </tr>\n",
              "  </thead>\n",
              "  <tbody>\n",
              "    <tr>\n",
              "      <th>v2.8.0</th>\n",
              "      <td>1895</td>\n",
              "      <td>41552</td>\n",
              "      <td>4.560551</td>\n",
              "    </tr>\n",
              "    <tr>\n",
              "      <th>v2.9.0</th>\n",
              "      <td>858</td>\n",
              "      <td>12033</td>\n",
              "      <td>7.130391</td>\n",
              "    </tr>\n",
              "    <tr>\n",
              "      <th>v3.7.4.0</th>\n",
              "      <td>266</td>\n",
              "      <td>4221</td>\n",
              "      <td>6.301824</td>\n",
              "    </tr>\n",
              "    <tr>\n",
              "      <th>v3.8.0.0</th>\n",
              "      <td>384</td>\n",
              "      <td>6110</td>\n",
              "      <td>6.284779</td>\n",
              "    </tr>\n",
              "  </tbody>\n",
              "</table>\n",
              "</div>"
            ],
            "text/plain": [
              "          sum_of_purchase  quantity_of_events  conversion\n",
              "version                                                  \n",
              "v2.8.0               1895               41552    4.560551\n",
              "v2.9.0                858               12033    7.130391\n",
              "v3.7.4.0              266                4221    6.301824\n",
              "v3.8.0.0              384                6110    6.284779"
            ]
          },
          "metadata": {
            "tags": []
          },
          "execution_count": 21
        }
      ]
    },
    {
      "cell_type": "code",
      "metadata": {
        "colab": {
          "base_uri": "https://localhost:8080/",
          "height": 195
        },
        "id": "90gVcWCtQvTH",
        "outputId": "bb332e96-1503-436b-cd17-2bf1db5a118e"
      },
      "source": [
        "data_conversion = data.query('experimentVariant == 0').groupby('version').agg({'purchase':'sum', 'experimentVariant':'count'})\\\r\n",
        "    .rename(columns={'purchase':'sum_of_purchase', 'experimentVariant':'quantity_of_events'})\r\n",
        "    \r\n",
        "data_conversion['conversion'] = data_conversion['sum_of_purchase'] / data_conversion['quantity_of_events'] * 100\r\n",
        "data_conversion"
      ],
      "execution_count": 22,
      "outputs": [
        {
          "output_type": "execute_result",
          "data": {
            "text/html": [
              "<div>\n",
              "<style scoped>\n",
              "    .dataframe tbody tr th:only-of-type {\n",
              "        vertical-align: middle;\n",
              "    }\n",
              "\n",
              "    .dataframe tbody tr th {\n",
              "        vertical-align: top;\n",
              "    }\n",
              "\n",
              "    .dataframe thead th {\n",
              "        text-align: right;\n",
              "    }\n",
              "</style>\n",
              "<table border=\"1\" class=\"dataframe\">\n",
              "  <thead>\n",
              "    <tr style=\"text-align: right;\">\n",
              "      <th></th>\n",
              "      <th>sum_of_purchase</th>\n",
              "      <th>quantity_of_events</th>\n",
              "      <th>conversion</th>\n",
              "    </tr>\n",
              "    <tr>\n",
              "      <th>version</th>\n",
              "      <th></th>\n",
              "      <th></th>\n",
              "      <th></th>\n",
              "    </tr>\n",
              "  </thead>\n",
              "  <tbody>\n",
              "    <tr>\n",
              "      <th>v2.8.0</th>\n",
              "      <td>41</td>\n",
              "      <td>41283</td>\n",
              "      <td>0.099314</td>\n",
              "    </tr>\n",
              "    <tr>\n",
              "      <th>v2.9.0</th>\n",
              "      <td>890</td>\n",
              "      <td>11921</td>\n",
              "      <td>7.465817</td>\n",
              "    </tr>\n",
              "    <tr>\n",
              "      <th>v3.7.4.0</th>\n",
              "      <td>252</td>\n",
              "      <td>4204</td>\n",
              "      <td>5.994291</td>\n",
              "    </tr>\n",
              "    <tr>\n",
              "      <th>v3.8.0.0</th>\n",
              "      <td>328</td>\n",
              "      <td>5694</td>\n",
              "      <td>5.760450</td>\n",
              "    </tr>\n",
              "  </tbody>\n",
              "</table>\n",
              "</div>"
            ],
            "text/plain": [
              "          sum_of_purchase  quantity_of_events  conversion\n",
              "version                                                  \n",
              "v2.8.0                 41               41283    0.099314\n",
              "v2.9.0                890               11921    7.465817\n",
              "v3.7.4.0              252                4204    5.994291\n",
              "v3.8.0.0              328                5694    5.760450"
            ]
          },
          "metadata": {
            "tags": []
          },
          "execution_count": 22
        }
      ]
    },
    {
      "cell_type": "markdown",
      "metadata": {
        "id": "b9MdhvXRbcef"
      },
      "source": [
        "В обоих экспериментах в группе данных с версией приложения **v2.8.0** очень мало данных по конверсии, особенно в первом эксперименте, при значительном объеме событий. Из-за этого получается сильно перекошенное соотношения данных между подгруппами"
      ]
    },
    {
      "cell_type": "markdown",
      "metadata": {
        "id": "rUlNM2tJeDGW"
      },
      "source": [
        "## Выводы"
      ]
    },
    {
      "cell_type": "code",
      "metadata": {
        "id": "1xtdwXINZ2kA"
      },
      "source": [
        ""
      ],
      "execution_count": null,
      "outputs": []
    },
    {
      "cell_type": "code",
      "metadata": {
        "id": "TspH3eOVZ2gh"
      },
      "source": [
        ""
      ],
      "execution_count": null,
      "outputs": []
    },
    {
      "cell_type": "code",
      "metadata": {
        "colab": {
          "base_uri": "https://localhost:8080/",
          "height": 225
        },
        "id": "8VQ0f7HNZ2cX",
        "outputId": "f7011dd1-83c2-4942-d0a1-7dc7c48b5977"
      },
      "source": [
        ""
      ],
      "execution_count": 31,
      "outputs": [
        {
          "output_type": "execute_result",
          "data": {
            "text/html": [
              "<div>\n",
              "<style scoped>\n",
              "    .dataframe tbody tr th:only-of-type {\n",
              "        vertical-align: middle;\n",
              "    }\n",
              "\n",
              "    .dataframe tbody tr th {\n",
              "        vertical-align: top;\n",
              "    }\n",
              "\n",
              "    .dataframe thead th {\n",
              "        text-align: right;\n",
              "    }\n",
              "</style>\n",
              "<table border=\"1\" class=\"dataframe\">\n",
              "  <thead>\n",
              "    <tr style=\"text-align: right;\">\n",
              "      <th>purchase</th>\n",
              "      <th>0</th>\n",
              "      <th>1</th>\n",
              "      <th>Total</th>\n",
              "    </tr>\n",
              "    <tr>\n",
              "      <th>version</th>\n",
              "      <th></th>\n",
              "      <th></th>\n",
              "      <th></th>\n",
              "    </tr>\n",
              "  </thead>\n",
              "  <tbody>\n",
              "    <tr>\n",
              "      <th>v2.8.0</th>\n",
              "      <td>80899</td>\n",
              "      <td>1936</td>\n",
              "      <td>82835</td>\n",
              "    </tr>\n",
              "    <tr>\n",
              "      <th>v2.9.0</th>\n",
              "      <td>22206</td>\n",
              "      <td>1748</td>\n",
              "      <td>23954</td>\n",
              "    </tr>\n",
              "    <tr>\n",
              "      <th>v3.7.4.0</th>\n",
              "      <td>7907</td>\n",
              "      <td>518</td>\n",
              "      <td>8425</td>\n",
              "    </tr>\n",
              "    <tr>\n",
              "      <th>v3.8.0.0</th>\n",
              "      <td>11092</td>\n",
              "      <td>712</td>\n",
              "      <td>11804</td>\n",
              "    </tr>\n",
              "    <tr>\n",
              "      <th>Total</th>\n",
              "      <td>122104</td>\n",
              "      <td>4914</td>\n",
              "      <td>127018</td>\n",
              "    </tr>\n",
              "  </tbody>\n",
              "</table>\n",
              "</div>"
            ],
            "text/plain": [
              "purchase       0     1   Total\n",
              "version                       \n",
              "v2.8.0     80899  1936   82835\n",
              "v2.9.0     22206  1748   23954\n",
              "v3.7.4.0    7907   518    8425\n",
              "v3.8.0.0   11092   712   11804\n",
              "Total     122104  4914  127018"
            ]
          },
          "metadata": {
            "tags": []
          },
          "execution_count": 31
        }
      ]
    },
    {
      "cell_type": "code",
      "metadata": {
        "id": "DlhoxNHoZ2YU"
      },
      "source": [
        ""
      ],
      "execution_count": 35,
      "outputs": []
    },
    {
      "cell_type": "markdown",
      "metadata": {
        "id": "HNRB7K4ADleq"
      },
      "source": [
        "### A/A-тест, который сходится"
      ]
    },
    {
      "cell_type": "code",
      "metadata": {
        "colab": {
          "base_uri": "https://localhost:8080/",
          "height": 362,
          "referenced_widgets": [
            "8b3833ad2f5845ed8c7ef07b019f8b37",
            "8ca2899d3d024f2482095790cf8c8f34",
            "5d7665d91ca547e8b406630b7261f78a",
            "a41a73c42c9f41d1813de34f702060a5",
            "dc828bcd968747e2a28bf21bfcf7a29e",
            "88a9a42a0b874790b340b42e2ca06007",
            "8aacd28614d143e5a48b564156ae2bcb",
            "74993898faaa4dae9f26b453e9729fb6"
          ]
        },
        "id": "6nz6RKZWDles",
        "outputId": "446566aa-66e3-4e56-8a27-9e9f11067558"
      },
      "source": [
        "n = 100000\n",
        "simulations = 1000\n",
        "n_s = 1000\n",
        "res = []\n",
        "\n",
        "df = pd.DataFrame({\n",
        "    \"s1\": np.random.exponential(scale=1/0.001, size=n),\n",
        "    \"s2\": np.random.exponential(scale=1/0.001, size=n)\n",
        "})\n",
        "\n",
        "# Запуск симуляций A/A теста\n",
        "for i in tqdm(range(simulations)):\n",
        "    s1 = df['s1'].sample(n_s, replace = False).values\n",
        "    s2 = df['s2'].sample(n_s, replace = False).values\n",
        "    res.append(stats.ttest_ind(s1, s2, equal_var = False)[1]) # сохраняем pvalue\n",
        "\n",
        "plt.hist(res, bins = 50)\n",
        "plt.style.use('ggplot')\n",
        "plt.xlabel('pvalues')\n",
        "plt.ylabel('frequency')\n",
        "plt.title(\"Histogram of ttest A/A simulations \")\n",
        "plt.show()\n",
        "\n",
        "# Проверяем, что количество ложноположительных случаев не превышает альфа\n",
        "sum(np.array(res) <0.05) / simulations"
      ],
      "execution_count": 2,
      "outputs": [
        {
          "output_type": "display_data",
          "data": {
            "application/vnd.jupyter.widget-view+json": {
              "model_id": "8b3833ad2f5845ed8c7ef07b019f8b37",
              "version_minor": 0,
              "version_major": 2
            },
            "text/plain": [
              "HBox(children=(FloatProgress(value=0.0, max=1000.0), HTML(value='')))"
            ]
          },
          "metadata": {
            "tags": []
          }
        },
        {
          "output_type": "stream",
          "text": [
            "\n"
          ],
          "name": "stdout"
        },
        {
          "output_type": "display_data",
          "data": {
            "image/png": "[encoded data removed]",
            "text/plain": [
              "<Figure size 432x288 with 1 Axes>"
            ]
          },
          "metadata": {
            "tags": [],
            "needs_background": "light"
          }
        },
        {
          "output_type": "execute_result",
          "data": {
            "text/plain": [
              "0.047"
            ]
          },
          "metadata": {
            "tags": []
          },
          "execution_count": 2
        }
      ]
    },
    {
      "cell_type": "markdown",
      "metadata": {
        "id": "bWYj5gseDlev"
      },
      "source": [
        "### Второй случай, когда A/A-тест не сходится"
      ]
    },
    {
      "cell_type": "code",
      "metadata": {
        "colab": {
          "base_uri": "https://localhost:8080/",
          "height": 365,
          "referenced_widgets": [
            "ffc0eb6dc1be4c56b49163be72869f6f",
            "c445bf0b55eb48609e5c84be659ced07",
            "9837a62880ff4d9db9a7fa8405d2de53",
            "be7df7bd9fd84b4aa18ba331d8c3b838",
            "b3779f14eaaf40148628b0dff296891b",
            "d87ee7ee4ad747d69577e29d6ecbc107",
            "ca626e8c88da4cd2b49304a7578144a4",
            "fa1f911830f040918101e1fe7a8b294d"
          ]
        },
        "id": "czBNZntzDlew",
        "outputId": "4d1a45c9-fae0-450f-d8ed-672bec66293d"
      },
      "source": [
        "n = 100000\n",
        "simulations = 1000\n",
        "n_s = 1000\n",
        "res = []\n",
        "\n",
        "df = pd.DataFrame({\n",
        "    \"s1\": np.random.exponential(scale=1/0.001, size=n),\n",
        "    \"s2\": np.random.exponential(scale=1/0.001, size=n) * 1.1 # добавляем эффект 10%\n",
        "})\n",
        "\n",
        "for i in tqdm(range(simulations)):\n",
        "    s1 = df['s1'].sample(n_s, replace = False).values\n",
        "    s2 = df['s2'].sample(n_s, replace = False).values\n",
        "    res.append(stats.ttest_ind(s1, s2, equal_var = False)[1])\n",
        "\n",
        "plt.hist(res, bins = 50)\n",
        "plt.style.use('ggplot')\n",
        "plt.xlabel('pvalues')\n",
        "plt.ylabel('frequency')\n",
        "plt.title(\"Histogram of ttest A/A simulations \")\n",
        "plt.show()\n",
        "\n",
        "# FPR не сойдется\n",
        "sum(np.array(res) <0.05) / simulations"
      ],
      "execution_count": 3,
      "outputs": [
        {
          "output_type": "display_data",
          "data": {
            "application/vnd.jupyter.widget-view+json": {
              "model_id": "ffc0eb6dc1be4c56b49163be72869f6f",
              "version_minor": 0,
              "version_major": 2
            },
            "text/plain": [
              "HBox(children=(FloatProgress(value=0.0, max=1000.0), HTML(value='')))"
            ]
          },
          "metadata": {
            "tags": []
          }
        },
        {
          "output_type": "stream",
          "text": [
            "\n"
          ],
          "name": "stdout"
        },
        {
          "output_type": "display_data",
          "data": {
            "image/png": "[encoded data removed]",
            "text/plain": [
              "<Figure size 432x288 with 1 Axes>"
            ]
          },
          "metadata": {
            "tags": []
          }
        },
        {
          "output_type": "execute_result",
          "data": {
            "text/plain": [
              "0.549"
            ]
          },
          "metadata": {
            "tags": []
          },
          "execution_count": 3
        }
      ]
    },
    {
      "cell_type": "code",
      "metadata": {
        "id": "Kg1feV0uDley"
      },
      "source": [
        ""
      ],
      "execution_count": null,
      "outputs": []
    }
  ]
}