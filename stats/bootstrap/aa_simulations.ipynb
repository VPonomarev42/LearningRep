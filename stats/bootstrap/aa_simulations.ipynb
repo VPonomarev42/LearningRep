{
  "nbformat": 4,
  "nbformat_minor": 0,
  "metadata": {
    "kernelspec": {
      "display_name": "Python 3",
      "language": "python",
      "name": "python3"
    },
    "language_info": {
      "codemirror_mode": {
        "name": "ipython",
        "version": 3
      },
      "file_extension": ".py",
      "mimetype": "text/x-python",
      "name": "python",
      "nbconvert_exporter": "python",
      "pygments_lexer": "ipython3",
      "version": "3.7.6"
    },
    "colab": {
      "name": "aa_simulations.ipynb",
      "provenance": [],
      "include_colab_link": true
    },
    "widgets": {
      "application/vnd.jupyter.widget-state+json": {
        "e663e24044b64d54b854c2123817cd31": {
          "model_module": "@jupyter-widgets/controls",
          "model_name": "HBoxModel",
          "state": {
            "_view_name": "HBoxView",
            "_dom_classes": [],
            "_model_name": "HBoxModel",
            "_view_module": "@jupyter-widgets/controls",
            "_model_module_version": "1.5.0",
            "_view_count": null,
            "_view_module_version": "1.5.0",
            "box_style": "",
            "layout": "IPY_MODEL_67b86791cbb94e97b581cd6b21d75641",
            "_model_module": "@jupyter-widgets/controls",
            "children": [
              "IPY_MODEL_3861421841c44e7cadfe2e730f91ee22",
              "IPY_MODEL_79d5cd237ec24963ae2fb6293ce3c3c1"
            ]
          }
        },
        "67b86791cbb94e97b581cd6b21d75641": {
          "model_module": "@jupyter-widgets/base",
          "model_name": "LayoutModel",
          "state": {
            "_view_name": "LayoutView",
            "grid_template_rows": null,
            "right": null,
            "justify_content": null,
            "_view_module": "@jupyter-widgets/base",
            "overflow": null,
            "_model_module_version": "1.2.0",
            "_view_count": null,
            "flex_flow": null,
            "width": null,
            "min_width": null,
            "border": null,
            "align_items": null,
            "bottom": null,
            "_model_module": "@jupyter-widgets/base",
            "top": null,
            "grid_column": null,
            "overflow_y": null,
            "overflow_x": null,
            "grid_auto_flow": null,
            "grid_area": null,
            "grid_template_columns": null,
            "flex": null,
            "_model_name": "LayoutModel",
            "justify_items": null,
            "grid_row": null,
            "max_height": null,
            "align_content": null,
            "visibility": null,
            "align_self": null,
            "height": null,
            "min_height": null,
            "padding": null,
            "grid_auto_rows": null,
            "grid_gap": null,
            "max_width": null,
            "order": null,
            "_view_module_version": "1.2.0",
            "grid_template_areas": null,
            "object_position": null,
            "object_fit": null,
            "grid_auto_columns": null,
            "margin": null,
            "display": null,
            "left": null
          }
        },
        "3861421841c44e7cadfe2e730f91ee22": {
          "model_module": "@jupyter-widgets/controls",
          "model_name": "FloatProgressModel",
          "state": {
            "_view_name": "ProgressView",
            "style": "IPY_MODEL_efd9fd4f7dc94f0d89e16ad2dfd8e1d4",
            "_dom_classes": [],
            "description": "100%",
            "_model_name": "FloatProgressModel",
            "bar_style": "success",
            "max": 1000,
            "_view_module": "@jupyter-widgets/controls",
            "_model_module_version": "1.5.0",
            "value": 1000,
            "_view_count": null,
            "_view_module_version": "1.5.0",
            "orientation": "horizontal",
            "min": 0,
            "description_tooltip": null,
            "_model_module": "@jupyter-widgets/controls",
            "layout": "IPY_MODEL_6d1954c8760d4d8ea38bc6b65bbac489"
          }
        },
        "79d5cd237ec24963ae2fb6293ce3c3c1": {
          "model_module": "@jupyter-widgets/controls",
          "model_name": "HTMLModel",
          "state": {
            "_view_name": "HTMLView",
            "style": "IPY_MODEL_441c11b34b2c41958f6144a7a80001d9",
            "_dom_classes": [],
            "description": "",
            "_model_name": "HTMLModel",
            "placeholder": "​",
            "_view_module": "@jupyter-widgets/controls",
            "_model_module_version": "1.5.0",
            "value": " 1000/1000 [00:03&lt;00:00, 262.73it/s]",
            "_view_count": null,
            "_view_module_version": "1.5.0",
            "description_tooltip": null,
            "_model_module": "@jupyter-widgets/controls",
            "layout": "IPY_MODEL_ee6c0363cfbd419a9d0dde07c96006a3"
          }
        },
        "efd9fd4f7dc94f0d89e16ad2dfd8e1d4": {
          "model_module": "@jupyter-widgets/controls",
          "model_name": "ProgressStyleModel",
          "state": {
            "_view_name": "StyleView",
            "_model_name": "ProgressStyleModel",
            "description_width": "initial",
            "_view_module": "@jupyter-widgets/base",
            "_model_module_version": "1.5.0",
            "_view_count": null,
            "_view_module_version": "1.2.0",
            "bar_color": null,
            "_model_module": "@jupyter-widgets/controls"
          }
        },
        "6d1954c8760d4d8ea38bc6b65bbac489": {
          "model_module": "@jupyter-widgets/base",
          "model_name": "LayoutModel",
          "state": {
            "_view_name": "LayoutView",
            "grid_template_rows": null,
            "right": null,
            "justify_content": null,
            "_view_module": "@jupyter-widgets/base",
            "overflow": null,
            "_model_module_version": "1.2.0",
            "_view_count": null,
            "flex_flow": null,
            "width": null,
            "min_width": null,
            "border": null,
            "align_items": null,
            "bottom": null,
            "_model_module": "@jupyter-widgets/base",
            "top": null,
            "grid_column": null,
            "overflow_y": null,
            "overflow_x": null,
            "grid_auto_flow": null,
            "grid_area": null,
            "grid_template_columns": null,
            "flex": null,
            "_model_name": "LayoutModel",
            "justify_items": null,
            "grid_row": null,
            "max_height": null,
            "align_content": null,
            "visibility": null,
            "align_self": null,
            "height": null,
            "min_height": null,
            "padding": null,
            "grid_auto_rows": null,
            "grid_gap": null,
            "max_width": null,
            "order": null,
            "_view_module_version": "1.2.0",
            "grid_template_areas": null,
            "object_position": null,
            "object_fit": null,
            "grid_auto_columns": null,
            "margin": null,
            "display": null,
            "left": null
          }
        },
        "441c11b34b2c41958f6144a7a80001d9": {
          "model_module": "@jupyter-widgets/controls",
          "model_name": "DescriptionStyleModel",
          "state": {
            "_view_name": "StyleView",
            "_model_name": "DescriptionStyleModel",
            "description_width": "",
            "_view_module": "@jupyter-widgets/base",
            "_model_module_version": "1.5.0",
            "_view_count": null,
            "_view_module_version": "1.2.0",
            "_model_module": "@jupyter-widgets/controls"
          }
        },
        "ee6c0363cfbd419a9d0dde07c96006a3": {
          "model_module": "@jupyter-widgets/base",
          "model_name": "LayoutModel",
          "state": {
            "_view_name": "LayoutView",
            "grid_template_rows": null,
            "right": null,
            "justify_content": null,
            "_view_module": "@jupyter-widgets/base",
            "overflow": null,
            "_model_module_version": "1.2.0",
            "_view_count": null,
            "flex_flow": null,
            "width": null,
            "min_width": null,
            "border": null,
            "align_items": null,
            "bottom": null,
            "_model_module": "@jupyter-widgets/base",
            "top": null,
            "grid_column": null,
            "overflow_y": null,
            "overflow_x": null,
            "grid_auto_flow": null,
            "grid_area": null,
            "grid_template_columns": null,
            "flex": null,
            "_model_name": "LayoutModel",
            "justify_items": null,
            "grid_row": null,
            "max_height": null,
            "align_content": null,
            "visibility": null,
            "align_self": null,
            "height": null,
            "min_height": null,
            "padding": null,
            "grid_auto_rows": null,
            "grid_gap": null,
            "max_width": null,
            "order": null,
            "_view_module_version": "1.2.0",
            "grid_template_areas": null,
            "object_position": null,
            "object_fit": null,
            "grid_auto_columns": null,
            "margin": null,
            "display": null,
            "left": null
          }
        },
        "95a9a1346dc74aafb662b9181ac2b6e2": {
          "model_module": "@jupyter-widgets/controls",
          "model_name": "HBoxModel",
          "state": {
            "_view_name": "HBoxView",
            "_dom_classes": [],
            "_model_name": "HBoxModel",
            "_view_module": "@jupyter-widgets/controls",
            "_model_module_version": "1.5.0",
            "_view_count": null,
            "_view_module_version": "1.5.0",
            "box_style": "",
            "layout": "IPY_MODEL_c4a250e22cf54cf4a5a1f80d9226b51f",
            "_model_module": "@jupyter-widgets/controls",
            "children": [
              "IPY_MODEL_2963354bfcc04ca5ad5a3ace2680ac86",
              "IPY_MODEL_b6af745fb9704f44b5e3e08b67a9744d"
            ]
          }
        },
        "c4a250e22cf54cf4a5a1f80d9226b51f": {
          "model_module": "@jupyter-widgets/base",
          "model_name": "LayoutModel",
          "state": {
            "_view_name": "LayoutView",
            "grid_template_rows": null,
            "right": null,
            "justify_content": null,
            "_view_module": "@jupyter-widgets/base",
            "overflow": null,
            "_model_module_version": "1.2.0",
            "_view_count": null,
            "flex_flow": null,
            "width": null,
            "min_width": null,
            "border": null,
            "align_items": null,
            "bottom": null,
            "_model_module": "@jupyter-widgets/base",
            "top": null,
            "grid_column": null,
            "overflow_y": null,
            "overflow_x": null,
            "grid_auto_flow": null,
            "grid_area": null,
            "grid_template_columns": null,
            "flex": null,
            "_model_name": "LayoutModel",
            "justify_items": null,
            "grid_row": null,
            "max_height": null,
            "align_content": null,
            "visibility": null,
            "align_self": null,
            "height": null,
            "min_height": null,
            "padding": null,
            "grid_auto_rows": null,
            "grid_gap": null,
            "max_width": null,
            "order": null,
            "_view_module_version": "1.2.0",
            "grid_template_areas": null,
            "object_position": null,
            "object_fit": null,
            "grid_auto_columns": null,
            "margin": null,
            "display": null,
            "left": null
          }
        },
        "2963354bfcc04ca5ad5a3ace2680ac86": {
          "model_module": "@jupyter-widgets/controls",
          "model_name": "FloatProgressModel",
          "state": {
            "_view_name": "ProgressView",
            "style": "IPY_MODEL_0d57162519c4436dbcf3e339244d6749",
            "_dom_classes": [],
            "description": "100%",
            "_model_name": "FloatProgressModel",
            "bar_style": "success",
            "max": 1000,
            "_view_module": "@jupyter-widgets/controls",
            "_model_module_version": "1.5.0",
            "value": 1000,
            "_view_count": null,
            "_view_module_version": "1.5.0",
            "orientation": "horizontal",
            "min": 0,
            "description_tooltip": null,
            "_model_module": "@jupyter-widgets/controls",
            "layout": "IPY_MODEL_9d0692ba30194865a0c97c44300e0800"
          }
        },
        "b6af745fb9704f44b5e3e08b67a9744d": {
          "model_module": "@jupyter-widgets/controls",
          "model_name": "HTMLModel",
          "state": {
            "_view_name": "HTMLView",
            "style": "IPY_MODEL_1fd9584fdde9424ebb37b9a38d5f257b",
            "_dom_classes": [],
            "description": "",
            "_model_name": "HTMLModel",
            "placeholder": "​",
            "_view_module": "@jupyter-widgets/controls",
            "_model_module_version": "1.5.0",
            "value": " 1000/1000 [00:01&lt;00:00, 577.62it/s]",
            "_view_count": null,
            "_view_module_version": "1.5.0",
            "description_tooltip": null,
            "_model_module": "@jupyter-widgets/controls",
            "layout": "IPY_MODEL_04543025445e44b5a2759e2d82466a8f"
          }
        },
        "0d57162519c4436dbcf3e339244d6749": {
          "model_module": "@jupyter-widgets/controls",
          "model_name": "ProgressStyleModel",
          "state": {
            "_view_name": "StyleView",
            "_model_name": "ProgressStyleModel",
            "description_width": "initial",
            "_view_module": "@jupyter-widgets/base",
            "_model_module_version": "1.5.0",
            "_view_count": null,
            "_view_module_version": "1.2.0",
            "bar_color": null,
            "_model_module": "@jupyter-widgets/controls"
          }
        },
        "9d0692ba30194865a0c97c44300e0800": {
          "model_module": "@jupyter-widgets/base",
          "model_name": "LayoutModel",
          "state": {
            "_view_name": "LayoutView",
            "grid_template_rows": null,
            "right": null,
            "justify_content": null,
            "_view_module": "@jupyter-widgets/base",
            "overflow": null,
            "_model_module_version": "1.2.0",
            "_view_count": null,
            "flex_flow": null,
            "width": null,
            "min_width": null,
            "border": null,
            "align_items": null,
            "bottom": null,
            "_model_module": "@jupyter-widgets/base",
            "top": null,
            "grid_column": null,
            "overflow_y": null,
            "overflow_x": null,
            "grid_auto_flow": null,
            "grid_area": null,
            "grid_template_columns": null,
            "flex": null,
            "_model_name": "LayoutModel",
            "justify_items": null,
            "grid_row": null,
            "max_height": null,
            "align_content": null,
            "visibility": null,
            "align_self": null,
            "height": null,
            "min_height": null,
            "padding": null,
            "grid_auto_rows": null,
            "grid_gap": null,
            "max_width": null,
            "order": null,
            "_view_module_version": "1.2.0",
            "grid_template_areas": null,
            "object_position": null,
            "object_fit": null,
            "grid_auto_columns": null,
            "margin": null,
            "display": null,
            "left": null
          }
        },
        "1fd9584fdde9424ebb37b9a38d5f257b": {
          "model_module": "@jupyter-widgets/controls",
          "model_name": "DescriptionStyleModel",
          "state": {
            "_view_name": "StyleView",
            "_model_name": "DescriptionStyleModel",
            "description_width": "",
            "_view_module": "@jupyter-widgets/base",
            "_model_module_version": "1.5.0",
            "_view_count": null,
            "_view_module_version": "1.2.0",
            "_model_module": "@jupyter-widgets/controls"
          }
        },
        "04543025445e44b5a2759e2d82466a8f": {
          "model_module": "@jupyter-widgets/base",
          "model_name": "LayoutModel",
          "state": {
            "_view_name": "LayoutView",
            "grid_template_rows": null,
            "right": null,
            "justify_content": null,
            "_view_module": "@jupyter-widgets/base",
            "overflow": null,
            "_model_module_version": "1.2.0",
            "_view_count": null,
            "flex_flow": null,
            "width": null,
            "min_width": null,
            "border": null,
            "align_items": null,
            "bottom": null,
            "_model_module": "@jupyter-widgets/base",
            "top": null,
            "grid_column": null,
            "overflow_y": null,
            "overflow_x": null,
            "grid_auto_flow": null,
            "grid_area": null,
            "grid_template_columns": null,
            "flex": null,
            "_model_name": "LayoutModel",
            "justify_items": null,
            "grid_row": null,
            "max_height": null,
            "align_content": null,
            "visibility": null,
            "align_self": null,
            "height": null,
            "min_height": null,
            "padding": null,
            "grid_auto_rows": null,
            "grid_gap": null,
            "max_width": null,
            "order": null,
            "_view_module_version": "1.2.0",
            "grid_template_areas": null,
            "object_position": null,
            "object_fit": null,
            "grid_auto_columns": null,
            "margin": null,
            "display": null,
            "left": null
          }
        }
      }
    }
  },
  "cells": [
    {
      "cell_type": "markdown",
      "metadata": {
        "id": "view-in-github",
        "colab_type": "text"
      },
      "source": [
        "<a href=\"https://colab.research.google.com/github/VPonomarev42/LearningRep/blob/bootstap_2_lesson/stats/bootstrap/aa_simulations.ipynb\" target=\"_parent\"><img src=\"https://colab.research.google.com/assets/colab-badge.svg\" alt=\"Open In Colab\"/></a>"
      ]
    },
    {
      "cell_type": "code",
      "metadata": {
        "id": "Si0CAeG9DleY"
      },
      "source": [
        "import numpy as np\n",
        "import pandas as pd\n",
        "from scipy import stats\n",
        "import matplotlib.pyplot as plt\n",
        "\n",
        "from tqdm.auto import tqdm"
      ],
      "execution_count": 1,
      "outputs": []
    },
    {
      "cell_type": "markdown",
      "metadata": {
        "id": "ViCw_VmlFH2M"
      },
      "source": [
        "А/А-тестирование мобильного приложения. Необходимо посчитать результаты A/A-теста, проверяя метрику качества FPR (будем проверять на конверсии в покупку). Известно, что сплит-система сломана. Требуется проверить утверждение о поломке и найти ее причины, если сплит-система действительно сломана\r\n",
        "\r\n",
        "**Описание колонок**\r\n",
        " - experimentVariant – вариант эксперимента\r\n",
        " - version – версия приложения\r\n",
        " - purchase – факт покупки\r\n",
        " \r\n",
        "**Задача**    \r\n",
        "1. Запустите A/A-тест\r\n",
        "2. Посчитайте FPR на уровне альфа = 0.05 (ставьте подвыборки без возвращения объемом 1000). Вы увидите, что FPR > альфа! Нам нужно наоборот – чтобы было меньше.\r\n",
        "3. Найдите причины поломки сплит-системы, ориентируясь на результаты эксперимента (подсказка: найдите аномалию в версии приложения)\r\n",
        "4. Напишите выводы, которые можно сделать на основе анализа результатов A/A-теста"
      ]
    },
    {
      "cell_type": "markdown",
      "metadata": {
        "id": "MmP85OOCNAeI"
      },
      "source": [
        "\r\n",
        "\r\n",
        "---\r\n",
        "\r\n",
        "---\r\n",
        "\r\n",
        "\r\n",
        "\r\n"
      ]
    },
    {
      "cell_type": "markdown",
      "metadata": {
        "id": "epLeYpQkM_Ua"
      },
      "source": [
        "## 1. Загрузим и посмотрим на данные"
      ]
    },
    {
      "cell_type": "code",
      "metadata": {
        "colab": {
          "base_uri": "https://localhost:8080/",
          "height": 402
        },
        "id": "GBGLnoFRNFy-",
        "outputId": "8424c1f3-7a4b-449a-b388-be175f8f4820"
      },
      "source": [
        "data = pd.read_csv('https://stepik.org/media/attachments/lesson/396012/hw_aa.csv', sep=';', index_col=0)\r\n",
        "data"
      ],
      "execution_count": 2,
      "outputs": [
        {
          "output_type": "execute_result",
          "data": {
            "text/html": [
              "<div>\n",
              "<style scoped>\n",
              "    .dataframe tbody tr th:only-of-type {\n",
              "        vertical-align: middle;\n",
              "    }\n",
              "\n",
              "    .dataframe tbody tr th {\n",
              "        vertical-align: top;\n",
              "    }\n",
              "\n",
              "    .dataframe thead th {\n",
              "        text-align: right;\n",
              "    }\n",
              "</style>\n",
              "<table border=\"1\" class=\"dataframe\">\n",
              "  <thead>\n",
              "    <tr style=\"text-align: right;\">\n",
              "      <th></th>\n",
              "      <th>uid</th>\n",
              "      <th>experimentVariant</th>\n",
              "      <th>version</th>\n",
              "      <th>purchase</th>\n",
              "    </tr>\n",
              "  </thead>\n",
              "  <tbody>\n",
              "    <tr>\n",
              "      <th>1</th>\n",
              "      <td>c4ca4238a0b923820dcc509a6f75849b</td>\n",
              "      <td>1</td>\n",
              "      <td>v2.8.0</td>\n",
              "      <td>0</td>\n",
              "    </tr>\n",
              "    <tr>\n",
              "      <th>2</th>\n",
              "      <td>c81e728d9d4c2f636f067f89cc14862c</td>\n",
              "      <td>0</td>\n",
              "      <td>v2.9.0</td>\n",
              "      <td>0</td>\n",
              "    </tr>\n",
              "    <tr>\n",
              "      <th>3</th>\n",
              "      <td>eccbc87e4b5ce2fe28308fd9f2a7baf3</td>\n",
              "      <td>1</td>\n",
              "      <td>v2.9.0</td>\n",
              "      <td>0</td>\n",
              "    </tr>\n",
              "    <tr>\n",
              "      <th>4</th>\n",
              "      <td>a87ff679a2f3e71d9181a67b7542122c</td>\n",
              "      <td>1</td>\n",
              "      <td>v2.8.0</td>\n",
              "      <td>0</td>\n",
              "    </tr>\n",
              "    <tr>\n",
              "      <th>5</th>\n",
              "      <td>e4da3b7fbbce2345d7772b0674a318d5</td>\n",
              "      <td>1</td>\n",
              "      <td>v2.8.0</td>\n",
              "      <td>0</td>\n",
              "    </tr>\n",
              "    <tr>\n",
              "      <th>...</th>\n",
              "      <td>...</td>\n",
              "      <td>...</td>\n",
              "      <td>...</td>\n",
              "      <td>...</td>\n",
              "    </tr>\n",
              "    <tr>\n",
              "      <th>127014</th>\n",
              "      <td>d1f082ede77b17a99a9b0b240daf7bdf</td>\n",
              "      <td>0</td>\n",
              "      <td>v2.8.0</td>\n",
              "      <td>0</td>\n",
              "    </tr>\n",
              "    <tr>\n",
              "      <th>127015</th>\n",
              "      <td>94f0d540830ccdc6b29c1938eea445cc</td>\n",
              "      <td>0</td>\n",
              "      <td>v2.8.0</td>\n",
              "      <td>0</td>\n",
              "    </tr>\n",
              "    <tr>\n",
              "      <th>127016</th>\n",
              "      <td>709f74cf9721328e98be6f216e8a05a8</td>\n",
              "      <td>1</td>\n",
              "      <td>v2.9.0</td>\n",
              "      <td>0</td>\n",
              "    </tr>\n",
              "    <tr>\n",
              "      <th>127017</th>\n",
              "      <td>1767ae3f8ffec269d9ed0ac0ede68d90</td>\n",
              "      <td>1</td>\n",
              "      <td>v2.8.0</td>\n",
              "      <td>0</td>\n",
              "    </tr>\n",
              "    <tr>\n",
              "      <th>127018</th>\n",
              "      <td>8dd8503c49b5e8c6aaea1ed7f0c49765</td>\n",
              "      <td>1</td>\n",
              "      <td>v2.8.0</td>\n",
              "      <td>0</td>\n",
              "    </tr>\n",
              "  </tbody>\n",
              "</table>\n",
              "<p>127018 rows × 4 columns</p>\n",
              "</div>"
            ],
            "text/plain": [
              "                                     uid  experimentVariant version  purchase\n",
              "1       c4ca4238a0b923820dcc509a6f75849b                  1  v2.8.0         0\n",
              "2       c81e728d9d4c2f636f067f89cc14862c                  0  v2.9.0         0\n",
              "3       eccbc87e4b5ce2fe28308fd9f2a7baf3                  1  v2.9.0         0\n",
              "4       a87ff679a2f3e71d9181a67b7542122c                  1  v2.8.0         0\n",
              "5       e4da3b7fbbce2345d7772b0674a318d5                  1  v2.8.0         0\n",
              "...                                  ...                ...     ...       ...\n",
              "127014  d1f082ede77b17a99a9b0b240daf7bdf                  0  v2.8.0         0\n",
              "127015  94f0d540830ccdc6b29c1938eea445cc                  0  v2.8.0         0\n",
              "127016  709f74cf9721328e98be6f216e8a05a8                  1  v2.9.0         0\n",
              "127017  1767ae3f8ffec269d9ed0ac0ede68d90                  1  v2.8.0         0\n",
              "127018  8dd8503c49b5e8c6aaea1ed7f0c49765                  1  v2.8.0         0\n",
              "\n",
              "[127018 rows x 4 columns]"
            ]
          },
          "metadata": {
            "tags": []
          },
          "execution_count": 2
        }
      ]
    },
    {
      "cell_type": "markdown",
      "metadata": {
        "id": "cF6dR7dpZ3cJ"
      },
      "source": [
        "## 2. Проведём А/А тест"
      ]
    },
    {
      "cell_type": "code",
      "metadata": {
        "colab": {
          "base_uri": "https://localhost:8080/",
          "height": 362,
          "referenced_widgets": [
            "e663e24044b64d54b854c2123817cd31",
            "67b86791cbb94e97b581cd6b21d75641",
            "3861421841c44e7cadfe2e730f91ee22",
            "79d5cd237ec24963ae2fb6293ce3c3c1",
            "efd9fd4f7dc94f0d89e16ad2dfd8e1d4",
            "6d1954c8760d4d8ea38bc6b65bbac489",
            "441c11b34b2c41958f6144a7a80001d9",
            "ee6c0363cfbd419a9d0dde07c96006a3"
          ]
        },
        "id": "XBedRgkvZ2nh",
        "outputId": "25a60acc-a41e-4873-9770-8f98a5680019"
      },
      "source": [
        "simulations = 1000\r\n",
        "n_s = 1000\r\n",
        "res = []\r\n",
        "\r\n",
        "exp1 = data.query('experimentVariant == 0').purchase\r\n",
        "exp2 = data.query('experimentVariant == 1').purchase\r\n",
        "\r\n",
        "# Запуск симуляций A/A теста\r\n",
        "for i in tqdm(range(simulations)):\r\n",
        "    s1 = exp1.sample(n_s, replace = False).values\r\n",
        "    s2 = exp2.sample(n_s, replace = False).values\r\n",
        "    res.append(stats.ttest_ind(s1, s2, equal_var = False)[1]) # сохраняем pvalue\r\n",
        "\r\n",
        "plt.hist(res, bins = 50)\r\n",
        "plt.style.use('ggplot')\r\n",
        "plt.xlabel('pvalues')\r\n",
        "plt.ylabel('frequency')\r\n",
        "plt.title(\"Histogram of ttest A/A simulations \")\r\n",
        "plt.show()\r\n",
        "\r\n",
        "# Проверяем, что количество ложноположительных случаев не превышает альфа\r\n",
        "print(f\"Показатель FPR = {sum(np.array(res) <0.05) / simulations}, что значительно больше установленного уровня альфа = 0.05\")"
      ],
      "execution_count": 3,
      "outputs": [
        {
          "output_type": "display_data",
          "data": {
            "application/vnd.jupyter.widget-view+json": {
              "model_id": "e663e24044b64d54b854c2123817cd31",
              "version_minor": 0,
              "version_major": 2
            },
            "text/plain": [
              "HBox(children=(FloatProgress(value=0.0, max=1000.0), HTML(value='')))"
            ]
          },
          "metadata": {
            "tags": []
          }
        },
        {
          "output_type": "stream",
          "text": [
            "\n"
          ],
          "name": "stdout"
        },
        {
          "output_type": "display_data",
          "data": {
            "image/png": "[encoded data removed]",
            "text/plain": [
              "<Figure size 432x288 with 1 Axes>"
            ]
          },
          "metadata": {
            "tags": [],
            "needs_background": "light"
          }
        },
        {
          "output_type": "stream",
          "text": [
            "Показатель FPR = 0.938, что значительно больше установленного уровня альфа = 0.05\n"
          ],
          "name": "stdout"
        }
      ]
    },
    {
      "cell_type": "markdown",
      "metadata": {
        "id": "FA0la3sMb5Dh"
      },
      "source": [
        "## 3. Исследуем данные на наличие ошибок"
      ]
    },
    {
      "cell_type": "code",
      "metadata": {
        "colab": {
          "base_uri": "https://localhost:8080/"
        },
        "id": "_BiDSFPNOMtq",
        "outputId": "18974e6f-3ff6-4715-8589-0c57edda2226"
      },
      "source": [
        "data.version.unique()"
      ],
      "execution_count": 4,
      "outputs": [
        {
          "output_type": "execute_result",
          "data": {
            "text/plain": [
              "array(['v2.8.0', 'v2.9.0', 'v3.7.4.0', 'v3.8.0.0'], dtype=object)"
            ]
          },
          "metadata": {
            "tags": []
          },
          "execution_count": 4
        }
      ]
    },
    {
      "cell_type": "code",
      "metadata": {
        "colab": {
          "base_uri": "https://localhost:8080/",
          "height": 313
        },
        "id": "p2QBCfSuObpj",
        "outputId": "0399fa86-39df-46ff-9fb0-a47b5978b70e"
      },
      "source": [
        "data.version.value_counts().plot.bar()"
      ],
      "execution_count": 5,
      "outputs": [
        {
          "output_type": "execute_result",
          "data": {
            "text/plain": [
              "<matplotlib.axes._subplots.AxesSubplot at 0x7f6e85f4d9b0>"
            ]
          },
          "metadata": {
            "tags": []
          },
          "execution_count": 5
        },
        {
          "output_type": "display_data",
          "data": {
            "image/png": "[encoded data removed]",
            "text/plain": [
              "<Figure size 432x288 with 1 Axes>"
            ]
          },
          "metadata": {
            "tags": []
          }
        }
      ]
    },
    {
      "cell_type": "markdown",
      "metadata": {
        "id": "wf34tcPYf2r8"
      },
      "source": [
        "Посмотрим на соотношения между группами"
      ]
    },
    {
      "cell_type": "code",
      "metadata": {
        "colab": {
          "base_uri": "https://localhost:8080/",
          "height": 225
        },
        "id": "pXN23yN2f0E4",
        "outputId": "3d8a2e7f-3329-42c5-806f-022b641e02a3"
      },
      "source": [
        "#не сообразил, как запустить StratifiedTable :(\r\n",
        "    \r\n",
        "#from statsmodels.stats.contingency_tables import StratifiedTable\r\n",
        "\r\n",
        "#StratifiedTable.from_data('version', 'purchase', 'experimentVariant' ,data).summary()\r\n",
        "\r\n",
        "pd.crosstab(data.version, data.purchase, margins=True, margins_name='Total')"
      ],
      "execution_count": 6,
      "outputs": [
        {
          "output_type": "execute_result",
          "data": {
            "text/html": [
              "<div>\n",
              "<style scoped>\n",
              "    .dataframe tbody tr th:only-of-type {\n",
              "        vertical-align: middle;\n",
              "    }\n",
              "\n",
              "    .dataframe tbody tr th {\n",
              "        vertical-align: top;\n",
              "    }\n",
              "\n",
              "    .dataframe thead th {\n",
              "        text-align: right;\n",
              "    }\n",
              "</style>\n",
              "<table border=\"1\" class=\"dataframe\">\n",
              "  <thead>\n",
              "    <tr style=\"text-align: right;\">\n",
              "      <th>purchase</th>\n",
              "      <th>0</th>\n",
              "      <th>1</th>\n",
              "      <th>Total</th>\n",
              "    </tr>\n",
              "    <tr>\n",
              "      <th>version</th>\n",
              "      <th></th>\n",
              "      <th></th>\n",
              "      <th></th>\n",
              "    </tr>\n",
              "  </thead>\n",
              "  <tbody>\n",
              "    <tr>\n",
              "      <th>v2.8.0</th>\n",
              "      <td>80899</td>\n",
              "      <td>1936</td>\n",
              "      <td>82835</td>\n",
              "    </tr>\n",
              "    <tr>\n",
              "      <th>v2.9.0</th>\n",
              "      <td>22206</td>\n",
              "      <td>1748</td>\n",
              "      <td>23954</td>\n",
              "    </tr>\n",
              "    <tr>\n",
              "      <th>v3.7.4.0</th>\n",
              "      <td>7907</td>\n",
              "      <td>518</td>\n",
              "      <td>8425</td>\n",
              "    </tr>\n",
              "    <tr>\n",
              "      <th>v3.8.0.0</th>\n",
              "      <td>11092</td>\n",
              "      <td>712</td>\n",
              "      <td>11804</td>\n",
              "    </tr>\n",
              "    <tr>\n",
              "      <th>Total</th>\n",
              "      <td>122104</td>\n",
              "      <td>4914</td>\n",
              "      <td>127018</td>\n",
              "    </tr>\n",
              "  </tbody>\n",
              "</table>\n",
              "</div>"
            ],
            "text/plain": [
              "purchase       0     1   Total\n",
              "version                       \n",
              "v2.8.0     80899  1936   82835\n",
              "v2.9.0     22206  1748   23954\n",
              "v3.7.4.0    7907   518    8425\n",
              "v3.8.0.0   11092   712   11804\n",
              "Total     122104  4914  127018"
            ]
          },
          "metadata": {
            "tags": []
          },
          "execution_count": 6
        }
      ]
    },
    {
      "cell_type": "markdown",
      "metadata": {
        "id": "voOxpi1vcfZu"
      },
      "source": [
        "Проверим распределение событий и покупок между разными версиями приложений, посчитаем конверсию."
      ]
    },
    {
      "cell_type": "code",
      "metadata": {
        "colab": {
          "base_uri": "https://localhost:8080/",
          "height": 195
        },
        "id": "SvrQqAQpOlbp",
        "outputId": "90e30b3c-8b02-440b-c3ac-d0673b087a95"
      },
      "source": [
        "data_conversion = data.groupby('version').agg({'purchase':'sum', 'experimentVariant':'count'})\\\r\n",
        "    .rename(columns={'purchase':'sum_of_purchase', 'experimentVariant':'quantity_of_events'})\r\n",
        "    \r\n",
        "data_conversion['conversion'] = data_conversion['sum_of_purchase'] / data_conversion['quantity_of_events'] * 100\r\n",
        "data_conversion"
      ],
      "execution_count": 7,
      "outputs": [
        {
          "output_type": "execute_result",
          "data": {
            "text/html": [
              "<div>\n",
              "<style scoped>\n",
              "    .dataframe tbody tr th:only-of-type {\n",
              "        vertical-align: middle;\n",
              "    }\n",
              "\n",
              "    .dataframe tbody tr th {\n",
              "        vertical-align: top;\n",
              "    }\n",
              "\n",
              "    .dataframe thead th {\n",
              "        text-align: right;\n",
              "    }\n",
              "</style>\n",
              "<table border=\"1\" class=\"dataframe\">\n",
              "  <thead>\n",
              "    <tr style=\"text-align: right;\">\n",
              "      <th></th>\n",
              "      <th>sum_of_purchase</th>\n",
              "      <th>quantity_of_events</th>\n",
              "      <th>conversion</th>\n",
              "    </tr>\n",
              "    <tr>\n",
              "      <th>version</th>\n",
              "      <th></th>\n",
              "      <th></th>\n",
              "      <th></th>\n",
              "    </tr>\n",
              "  </thead>\n",
              "  <tbody>\n",
              "    <tr>\n",
              "      <th>v2.8.0</th>\n",
              "      <td>1936</td>\n",
              "      <td>82835</td>\n",
              "      <td>2.337176</td>\n",
              "    </tr>\n",
              "    <tr>\n",
              "      <th>v2.9.0</th>\n",
              "      <td>1748</td>\n",
              "      <td>23954</td>\n",
              "      <td>7.297320</td>\n",
              "    </tr>\n",
              "    <tr>\n",
              "      <th>v3.7.4.0</th>\n",
              "      <td>518</td>\n",
              "      <td>8425</td>\n",
              "      <td>6.148368</td>\n",
              "    </tr>\n",
              "    <tr>\n",
              "      <th>v3.8.0.0</th>\n",
              "      <td>712</td>\n",
              "      <td>11804</td>\n",
              "      <td>6.031854</td>\n",
              "    </tr>\n",
              "  </tbody>\n",
              "</table>\n",
              "</div>"
            ],
            "text/plain": [
              "          sum_of_purchase  quantity_of_events  conversion\n",
              "version                                                  \n",
              "v2.8.0               1936               82835    2.337176\n",
              "v2.9.0               1748               23954    7.297320\n",
              "v3.7.4.0              518                8425    6.148368\n",
              "v3.8.0.0              712               11804    6.031854"
            ]
          },
          "metadata": {
            "tags": []
          },
          "execution_count": 7
        }
      ]
    },
    {
      "cell_type": "markdown",
      "metadata": {
        "id": "aNPmYeDVRjnh"
      },
      "source": [
        "Видно, что конверсия для версии приложения **v2.8.0** значимо отличается от конверсии приложения версии **v2.9.0**. Также количество событий для **v2.8.0** версии приложения в несколько раз превышает количество версий во версии **v2.9.0**. Первый звоночек"
      ]
    },
    {
      "cell_type": "markdown",
      "metadata": {
        "id": "K4BffCmWbDSD"
      },
      "source": [
        "Проверим данные отдельно по экспериментам"
      ]
    },
    {
      "cell_type": "code",
      "metadata": {
        "colab": {
          "base_uri": "https://localhost:8080/",
          "height": 195
        },
        "id": "cEduUwnYQny_",
        "outputId": "d31ca380-f832-45f2-de1e-28f2c5a464b5"
      },
      "source": [
        "data_conversion = data.query('experimentVariant == 1').groupby('version').agg({'purchase':'sum', 'experimentVariant':'count'})\\\r\n",
        "    .rename(columns={'purchase':'sum_of_purchase', 'experimentVariant':'quantity_of_events'})\r\n",
        "    \r\n",
        "data_conversion['conversion'] = data_conversion['sum_of_purchase'] / data_conversion['quantity_of_events'] * 100\r\n",
        "data_conversion"
      ],
      "execution_count": 8,
      "outputs": [
        {
          "output_type": "execute_result",
          "data": {
            "text/html": [
              "<div>\n",
              "<style scoped>\n",
              "    .dataframe tbody tr th:only-of-type {\n",
              "        vertical-align: middle;\n",
              "    }\n",
              "\n",
              "    .dataframe tbody tr th {\n",
              "        vertical-align: top;\n",
              "    }\n",
              "\n",
              "    .dataframe thead th {\n",
              "        text-align: right;\n",
              "    }\n",
              "</style>\n",
              "<table border=\"1\" class=\"dataframe\">\n",
              "  <thead>\n",
              "    <tr style=\"text-align: right;\">\n",
              "      <th></th>\n",
              "      <th>sum_of_purchase</th>\n",
              "      <th>quantity_of_events</th>\n",
              "      <th>conversion</th>\n",
              "    </tr>\n",
              "    <tr>\n",
              "      <th>version</th>\n",
              "      <th></th>\n",
              "      <th></th>\n",
              "      <th></th>\n",
              "    </tr>\n",
              "  </thead>\n",
              "  <tbody>\n",
              "    <tr>\n",
              "      <th>v2.8.0</th>\n",
              "      <td>1895</td>\n",
              "      <td>41552</td>\n",
              "      <td>4.560551</td>\n",
              "    </tr>\n",
              "    <tr>\n",
              "      <th>v2.9.0</th>\n",
              "      <td>858</td>\n",
              "      <td>12033</td>\n",
              "      <td>7.130391</td>\n",
              "    </tr>\n",
              "    <tr>\n",
              "      <th>v3.7.4.0</th>\n",
              "      <td>266</td>\n",
              "      <td>4221</td>\n",
              "      <td>6.301824</td>\n",
              "    </tr>\n",
              "    <tr>\n",
              "      <th>v3.8.0.0</th>\n",
              "      <td>384</td>\n",
              "      <td>6110</td>\n",
              "      <td>6.284779</td>\n",
              "    </tr>\n",
              "  </tbody>\n",
              "</table>\n",
              "</div>"
            ],
            "text/plain": [
              "          sum_of_purchase  quantity_of_events  conversion\n",
              "version                                                  \n",
              "v2.8.0               1895               41552    4.560551\n",
              "v2.9.0                858               12033    7.130391\n",
              "v3.7.4.0              266                4221    6.301824\n",
              "v3.8.0.0              384                6110    6.284779"
            ]
          },
          "metadata": {
            "tags": []
          },
          "execution_count": 8
        }
      ]
    },
    {
      "cell_type": "code",
      "metadata": {
        "colab": {
          "base_uri": "https://localhost:8080/",
          "height": 195
        },
        "id": "90gVcWCtQvTH",
        "outputId": "6cc4035f-0c27-4eaa-f879-a26b861383a0"
      },
      "source": [
        "data_conversion = data.query('experimentVariant == 0').groupby('version').agg({'purchase':'sum', 'experimentVariant':'count'})\\\r\n",
        "    .rename(columns={'purchase':'sum_of_purchase', 'experimentVariant':'quantity_of_events'})\r\n",
        "    \r\n",
        "data_conversion['conversion'] = data_conversion['sum_of_purchase'] / data_conversion['quantity_of_events'] * 100\r\n",
        "data_conversion"
      ],
      "execution_count": 9,
      "outputs": [
        {
          "output_type": "execute_result",
          "data": {
            "text/html": [
              "<div>\n",
              "<style scoped>\n",
              "    .dataframe tbody tr th:only-of-type {\n",
              "        vertical-align: middle;\n",
              "    }\n",
              "\n",
              "    .dataframe tbody tr th {\n",
              "        vertical-align: top;\n",
              "    }\n",
              "\n",
              "    .dataframe thead th {\n",
              "        text-align: right;\n",
              "    }\n",
              "</style>\n",
              "<table border=\"1\" class=\"dataframe\">\n",
              "  <thead>\n",
              "    <tr style=\"text-align: right;\">\n",
              "      <th></th>\n",
              "      <th>sum_of_purchase</th>\n",
              "      <th>quantity_of_events</th>\n",
              "      <th>conversion</th>\n",
              "    </tr>\n",
              "    <tr>\n",
              "      <th>version</th>\n",
              "      <th></th>\n",
              "      <th></th>\n",
              "      <th></th>\n",
              "    </tr>\n",
              "  </thead>\n",
              "  <tbody>\n",
              "    <tr>\n",
              "      <th>v2.8.0</th>\n",
              "      <td>41</td>\n",
              "      <td>41283</td>\n",
              "      <td>0.099314</td>\n",
              "    </tr>\n",
              "    <tr>\n",
              "      <th>v2.9.0</th>\n",
              "      <td>890</td>\n",
              "      <td>11921</td>\n",
              "      <td>7.465817</td>\n",
              "    </tr>\n",
              "    <tr>\n",
              "      <th>v3.7.4.0</th>\n",
              "      <td>252</td>\n",
              "      <td>4204</td>\n",
              "      <td>5.994291</td>\n",
              "    </tr>\n",
              "    <tr>\n",
              "      <th>v3.8.0.0</th>\n",
              "      <td>328</td>\n",
              "      <td>5694</td>\n",
              "      <td>5.760450</td>\n",
              "    </tr>\n",
              "  </tbody>\n",
              "</table>\n",
              "</div>"
            ],
            "text/plain": [
              "          sum_of_purchase  quantity_of_events  conversion\n",
              "version                                                  \n",
              "v2.8.0                 41               41283    0.099314\n",
              "v2.9.0                890               11921    7.465817\n",
              "v3.7.4.0              252                4204    5.994291\n",
              "v3.8.0.0              328                5694    5.760450"
            ]
          },
          "metadata": {
            "tags": []
          },
          "execution_count": 9
        }
      ]
    },
    {
      "cell_type": "markdown",
      "metadata": {
        "id": "b9MdhvXRbcef"
      },
      "source": [
        "В обоих экспериментах в группе данных с версией приложения **v2.8.0** очень мало данных по конверсии, особенно в первом эксперименте, при значительном объеме событий. Из-за этого получается сильно перекошенное соотношения данных между подгруппами"
      ]
    },
    {
      "cell_type": "markdown",
      "metadata": {
        "id": "g5-fMShNTXya"
      },
      "source": [
        "## 4. Исключим некорректную версию из выборки и повторим эксперимент"
      ]
    },
    {
      "cell_type": "code",
      "metadata": {
        "colab": {
          "base_uri": "https://localhost:8080/",
          "height": 365,
          "referenced_widgets": [
            "95a9a1346dc74aafb662b9181ac2b6e2",
            "c4a250e22cf54cf4a5a1f80d9226b51f",
            "2963354bfcc04ca5ad5a3ace2680ac86",
            "b6af745fb9704f44b5e3e08b67a9744d",
            "0d57162519c4436dbcf3e339244d6749",
            "9d0692ba30194865a0c97c44300e0800",
            "1fd9584fdde9424ebb37b9a38d5f257b",
            "04543025445e44b5a2759e2d82466a8f"
          ]
        },
        "id": "U-A-HNOnTh_k",
        "outputId": "1f78721c-0b87-4759-d12a-1226f9ac273b"
      },
      "source": [
        "simulations = 1000\r\n",
        "n_s = 1000\r\n",
        "res = []\r\n",
        "\r\n",
        "exp1 = data.query('experimentVariant == 0 & version != \"v2.8.0\"').purchase\r\n",
        "exp2 = data.query('experimentVariant == 1 & version != \"v2.8.0\"').purchase\r\n",
        "\r\n",
        "# Запуск симуляций A/A теста\r\n",
        "for i in tqdm(range(simulations)):\r\n",
        "    s1 = exp1.sample(n_s, replace = False).values\r\n",
        "    s2 = exp2.sample(n_s, replace = False).values\r\n",
        "    res.append(stats.ttest_ind(s1, s2, equal_var = False)[1]) # сохраняем pvalue\r\n",
        "\r\n",
        "plt.hist(res, bins = 50)\r\n",
        "plt.style.use('ggplot')\r\n",
        "plt.xlabel('pvalues')\r\n",
        "plt.ylabel('frequency')\r\n",
        "plt.title(\"Histogram of ttest A/A simulations \")\r\n",
        "plt.show()\r\n",
        "\r\n",
        "# Проверяем, что количество ложноположительных случаев не превышает альфа\r\n",
        "print(f\"Показатель FPR = {sum(np.array(res) <0.05) / simulations}, что меньше установленного уровня альфа = 0.05\")"
      ],
      "execution_count": 16,
      "outputs": [
        {
          "output_type": "display_data",
          "data": {
            "application/vnd.jupyter.widget-view+json": {
              "model_id": "95a9a1346dc74aafb662b9181ac2b6e2",
              "version_minor": 0,
              "version_major": 2
            },
            "text/plain": [
              "HBox(children=(FloatProgress(value=0.0, max=1000.0), HTML(value='')))"
            ]
          },
          "metadata": {
            "tags": []
          }
        },
        {
          "output_type": "stream",
          "text": [
            "\n"
          ],
          "name": "stdout"
        },
        {
          "output_type": "display_data",
          "data": {
            "image/png": "[encoded data removed]",
            "text/plain": [
              "<Figure size 432x288 with 1 Axes>"
            ]
          },
          "metadata": {
            "tags": []
          }
        },
        {
          "output_type": "stream",
          "text": [
            "Показатель FPR = 0.035, что меньше установленного уровня альфа = 0.05\n"
          ],
          "name": "stdout"
        }
      ]
    },
    {
      "cell_type": "markdown",
      "metadata": {
        "id": "rUlNM2tJeDGW"
      },
      "source": [
        "## Выводы"
      ]
    },
    {
      "cell_type": "markdown",
      "metadata": {
        "id": "qjPo8vpwTDAn"
      },
      "source": [
        "Результаты А/А теста показали, что текущая система сплитирования работает некорректно: версия приложения **v2.8.0** содержала малое количество конверсий с учётом общего количества событий по отношению к другим версиям приложения.В дальнейшем стоит провести исследование причины такого поведения\r\n",
        "\r\n",
        "После исключения данной версии приложения из обеих эксперементальных выборок и повтора А/А теста показатель **FPR** стал меньше установленного уровня точности альфа, что говорит нам об успешности А/А теста и корректности системы сплитирования."
      ]
    },
    {
      "cell_type": "code",
      "metadata": {
        "id": "phd6a_eyWPTR"
      },
      "source": [
        ""
      ],
      "execution_count": null,
      "outputs": []
    }
  ]
}