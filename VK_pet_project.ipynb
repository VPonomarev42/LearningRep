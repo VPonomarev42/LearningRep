{
  "nbformat": 4,
  "nbformat_minor": 0,
  "metadata": {
    "colab": {
      "name": "VK_pet_project.ipynb",
      "provenance": [],
      "authorship_tag": "ABX9TyMc1RNF/lwp6U9yX/rWJI4p"
    },
    "kernelspec": {
      "name": "python3",
      "display_name": "Python 3"
    },
    "widgets": {
      "application/vnd.jupyter.widget-state+json": {
        "197fea63ed8849c98fd789821ee902b5": {
          "model_module": "@jupyter-widgets/controls",
          "model_name": "HBoxModel",
          "state": {
            "_view_name": "HBoxView",
            "_dom_classes": [],
            "_model_name": "HBoxModel",
            "_view_module": "@jupyter-widgets/controls",
            "_model_module_version": "1.5.0",
            "_view_count": null,
            "_view_module_version": "1.5.0",
            "box_style": "",
            "layout": "IPY_MODEL_dbc4de40d73f422690f94c74d6ff8d43",
            "_model_module": "@jupyter-widgets/controls",
            "children": [
              "IPY_MODEL_094c3ddcf87f41209108e5f24c75e368",
              "IPY_MODEL_b0f9df2aa4ac4e19b6e663fd9874fd3b"
            ]
          }
        },
        "dbc4de40d73f422690f94c74d6ff8d43": {
          "model_module": "@jupyter-widgets/base",
          "model_name": "LayoutModel",
          "state": {
            "_view_name": "LayoutView",
            "grid_template_rows": null,
            "right": null,
            "justify_content": null,
            "_view_module": "@jupyter-widgets/base",
            "overflow": null,
            "_model_module_version": "1.2.0",
            "_view_count": null,
            "flex_flow": null,
            "width": null,
            "min_width": null,
            "border": null,
            "align_items": null,
            "bottom": null,
            "_model_module": "@jupyter-widgets/base",
            "top": null,
            "grid_column": null,
            "overflow_y": null,
            "overflow_x": null,
            "grid_auto_flow": null,
            "grid_area": null,
            "grid_template_columns": null,
            "flex": null,
            "_model_name": "LayoutModel",
            "justify_items": null,
            "grid_row": null,
            "max_height": null,
            "align_content": null,
            "visibility": null,
            "align_self": null,
            "height": null,
            "min_height": null,
            "padding": null,
            "grid_auto_rows": null,
            "grid_gap": null,
            "max_width": null,
            "order": null,
            "_view_module_version": "1.2.0",
            "grid_template_areas": null,
            "object_position": null,
            "object_fit": null,
            "grid_auto_columns": null,
            "margin": null,
            "display": null,
            "left": null
          }
        },
        "094c3ddcf87f41209108e5f24c75e368": {
          "model_module": "@jupyter-widgets/controls",
          "model_name": "FloatProgressModel",
          "state": {
            "_view_name": "ProgressView",
            "style": "IPY_MODEL_d8f308b8655349ec8db7585558152b01",
            "_dom_classes": [],
            "description": "100%",
            "_model_name": "FloatProgressModel",
            "bar_style": "success",
            "max": 5000,
            "_view_module": "@jupyter-widgets/controls",
            "_model_module_version": "1.5.0",
            "value": 5000,
            "_view_count": null,
            "_view_module_version": "1.5.0",
            "orientation": "horizontal",
            "min": 0,
            "description_tooltip": null,
            "_model_module": "@jupyter-widgets/controls",
            "layout": "IPY_MODEL_714e7358a8564587ac71f9726e04207e"
          }
        },
        "b0f9df2aa4ac4e19b6e663fd9874fd3b": {
          "model_module": "@jupyter-widgets/controls",
          "model_name": "HTMLModel",
          "state": {
            "_view_name": "HTMLView",
            "style": "IPY_MODEL_d5066a61828141b9b4289f2222ead179",
            "_dom_classes": [],
            "description": "",
            "_model_name": "HTMLModel",
            "placeholder": "​",
            "_view_module": "@jupyter-widgets/controls",
            "_model_module_version": "1.5.0",
            "value": " 5000/5000 [41:34&lt;00:00,  2.00it/s]",
            "_view_count": null,
            "_view_module_version": "1.5.0",
            "description_tooltip": null,
            "_model_module": "@jupyter-widgets/controls",
            "layout": "IPY_MODEL_c491b26202a1416a9e49785112e24e56"
          }
        },
        "d8f308b8655349ec8db7585558152b01": {
          "model_module": "@jupyter-widgets/controls",
          "model_name": "ProgressStyleModel",
          "state": {
            "_view_name": "StyleView",
            "_model_name": "ProgressStyleModel",
            "description_width": "initial",
            "_view_module": "@jupyter-widgets/base",
            "_model_module_version": "1.5.0",
            "_view_count": null,
            "_view_module_version": "1.2.0",
            "bar_color": null,
            "_model_module": "@jupyter-widgets/controls"
          }
        },
        "714e7358a8564587ac71f9726e04207e": {
          "model_module": "@jupyter-widgets/base",
          "model_name": "LayoutModel",
          "state": {
            "_view_name": "LayoutView",
            "grid_template_rows": null,
            "right": null,
            "justify_content": null,
            "_view_module": "@jupyter-widgets/base",
            "overflow": null,
            "_model_module_version": "1.2.0",
            "_view_count": null,
            "flex_flow": null,
            "width": null,
            "min_width": null,
            "border": null,
            "align_items": null,
            "bottom": null,
            "_model_module": "@jupyter-widgets/base",
            "top": null,
            "grid_column": null,
            "overflow_y": null,
            "overflow_x": null,
            "grid_auto_flow": null,
            "grid_area": null,
            "grid_template_columns": null,
            "flex": null,
            "_model_name": "LayoutModel",
            "justify_items": null,
            "grid_row": null,
            "max_height": null,
            "align_content": null,
            "visibility": null,
            "align_self": null,
            "height": null,
            "min_height": null,
            "padding": null,
            "grid_auto_rows": null,
            "grid_gap": null,
            "max_width": null,
            "order": null,
            "_view_module_version": "1.2.0",
            "grid_template_areas": null,
            "object_position": null,
            "object_fit": null,
            "grid_auto_columns": null,
            "margin": null,
            "display": null,
            "left": null
          }
        },
        "d5066a61828141b9b4289f2222ead179": {
          "model_module": "@jupyter-widgets/controls",
          "model_name": "DescriptionStyleModel",
          "state": {
            "_view_name": "StyleView",
            "_model_name": "DescriptionStyleModel",
            "description_width": "",
            "_view_module": "@jupyter-widgets/base",
            "_model_module_version": "1.5.0",
            "_view_count": null,
            "_view_module_version": "1.2.0",
            "_model_module": "@jupyter-widgets/controls"
          }
        },
        "c491b26202a1416a9e49785112e24e56": {
          "model_module": "@jupyter-widgets/base",
          "model_name": "LayoutModel",
          "state": {
            "_view_name": "LayoutView",
            "grid_template_rows": null,
            "right": null,
            "justify_content": null,
            "_view_module": "@jupyter-widgets/base",
            "overflow": null,
            "_model_module_version": "1.2.0",
            "_view_count": null,
            "flex_flow": null,
            "width": null,
            "min_width": null,
            "border": null,
            "align_items": null,
            "bottom": null,
            "_model_module": "@jupyter-widgets/base",
            "top": null,
            "grid_column": null,
            "overflow_y": null,
            "overflow_x": null,
            "grid_auto_flow": null,
            "grid_area": null,
            "grid_template_columns": null,
            "flex": null,
            "_model_name": "LayoutModel",
            "justify_items": null,
            "grid_row": null,
            "max_height": null,
            "align_content": null,
            "visibility": null,
            "align_self": null,
            "height": null,
            "min_height": null,
            "padding": null,
            "grid_auto_rows": null,
            "grid_gap": null,
            "max_width": null,
            "order": null,
            "_view_module_version": "1.2.0",
            "grid_template_areas": null,
            "object_position": null,
            "object_fit": null,
            "grid_auto_columns": null,
            "margin": null,
            "display": null,
            "left": null
          }
        }
      }
    }
  },
  "cells": [
    {
      "cell_type": "code",
      "metadata": {
        "id": "FuUptiOm1oot"
      },
      "source": [
        "import pandas as pd\r\n",
        "import requests\r\n",
        "import seaborn as sns\r\n",
        "import matplotlib.pylab as plt\r\n",
        "from tqdm.auto import tqdm\r\n",
        "\r\n",
        "%matplotlib inline\r\n",
        "sns.set(rc={'figure.figsize':(15,9)}, style='whitegrid')"
      ],
      "execution_count": 115,
      "outputs": []
    },
    {
      "cell_type": "code",
      "metadata": {
        "colab": {
          "base_uri": "https://localhost:8080/"
        },
        "id": "G5vF6qh71u52",
        "outputId": "ad89751b-d9d3-4678-fe8d-7ed3a3df40e6"
      },
      "source": [
        "%pip install vk_api"
      ],
      "execution_count": 2,
      "outputs": [
        {
          "output_type": "stream",
          "text": [
            "Collecting vk_api\n",
            "  Downloading https://files.pythonhosted.org/packages/25/55/e15721b00dabb5eff7ec87918016ee20a0a73f6c7f5c152643330ae86e84/vk_api-11.9.1.tar.gz\n",
            "Requirement already satisfied: requests in /usr/local/lib/python3.6/dist-packages (from vk_api) (2.23.0)\n",
            "Requirement already satisfied: six in /usr/local/lib/python3.6/dist-packages (from vk_api) (1.15.0)\n",
            "Requirement already satisfied: chardet<4,>=3.0.2 in /usr/local/lib/python3.6/dist-packages (from requests->vk_api) (3.0.4)\n",
            "Requirement already satisfied: idna<3,>=2.5 in /usr/local/lib/python3.6/dist-packages (from requests->vk_api) (2.10)\n",
            "Requirement already satisfied: urllib3!=1.25.0,!=1.25.1,<1.26,>=1.21.1 in /usr/local/lib/python3.6/dist-packages (from requests->vk_api) (1.24.3)\n",
            "Requirement already satisfied: certifi>=2017.4.17 in /usr/local/lib/python3.6/dist-packages (from requests->vk_api) (2020.12.5)\n",
            "Building wheels for collected packages: vk-api\n",
            "  Building wheel for vk-api (setup.py) ... \u001b[?25l\u001b[?25hdone\n",
            "  Created wheel for vk-api: filename=vk_api-11.9.1-cp36-none-any.whl size=44097 sha256=437ed5ac3d77813a409dbdce55bd9906beacc9a70db908ac53c15ecddb3c088c\n",
            "  Stored in directory: /root/.cache/pip/wheels/fc/43/59/8fba75529a5b85d5ff706007d699ab18bb90b7b54e074797c5\n",
            "Successfully built vk-api\n",
            "Installing collected packages: vk-api\n",
            "Successfully installed vk-api-11.9.1\n"
          ],
          "name": "stdout"
        }
      ]
    },
    {
      "cell_type": "code",
      "metadata": {
        "id": "sLbxY_fH2j-C"
      },
      "source": [
        "import vk_api"
      ],
      "execution_count": 3,
      "outputs": []
    },
    {
      "cell_type": "markdown",
      "metadata": {
        "id": "RPQvGlfd12dY"
      },
      "source": [
        "## Задача\r\n",
        "Проанализировать сообщества пользователя: \r\n",
        "1. Найти сообщества, с наибольшим общим количеством друзей; \r\n",
        "2. Найти самое популярное сообщество среди друзей.\r\n"
      ]
    },
    {
      "cell_type": "markdown",
      "metadata": {
        "id": "wtTT6X6D2e__"
      },
      "source": [
        "\r\n",
        "\r\n",
        "---\r\n",
        "\r\n",
        "---\r\n",
        "\r\n",
        "\r\n",
        "\r\n"
      ]
    },
    {
      "cell_type": "markdown",
      "metadata": {
        "id": "rxO3dA2N2cav"
      },
      "source": [
        "## 1."
      ]
    },
    {
      "cell_type": "code",
      "metadata": {
        "id": "moq-WJsm1xss"
      },
      "source": [
        "\r\n",
        "def auth_handler():\r\n",
        "    \"\"\" При двухфакторной аутентификации вызывается эта функция.\r\n",
        "    \"\"\"\r\n",
        "    # Код двухфакторной аутентификации\r\n",
        "    key = input(\"Enter authentication code: \")\r\n",
        "    # Если: True - сохранить, False - не сохранять.\r\n",
        "    remember_device = True\r\n",
        "    return key, remember_device\r\n",
        "\r\n",
        "def vk_session_init(user_login, user_password):\r\n",
        "  vk_session = vk_api.VkApi(\r\n",
        "    user_login, user_password,\r\n",
        "    auth_handler=auth_handler # функция для обработки двухфакторной аутентификации\r\n",
        "  )\r\n",
        "  return vk_session"
      ],
      "execution_count": 75,
      "outputs": []
    },
    {
      "cell_type": "code",
      "metadata": {
        "colab": {
          "base_uri": "https://localhost:8080/"
        },
        "id": "BwmMY2Oa3Xqp",
        "outputId": "3fd038f9-d944-4dcd-afe6-3bf879e0412e"
      },
      "source": [
        "user_login = ''\r\n",
        "user_password = ''\r\n",
        "vk_session = vk_session_init(user_login, user_password)\r\n",
        "try:\r\n",
        "    vk_session.auth()\r\n",
        "except vk_api.AuthError as error_msg:\r\n",
        "    print(error_msg)\r\n",
        "vk = vk_session.get_api()"
      ],
      "execution_count": 76,
      "outputs": [
        {
          "output_type": "stream",
          "text": [
            "Enter authentication code: 746261\n"
          ],
          "name": "stdout"
        }
      ]
    },
    {
      "cell_type": "markdown",
      "metadata": {
        "id": "hP9rwjj26smL"
      },
      "source": [
        "Получим список групп пользователя, список друзей и список групп друзей, а в конце объединим эти два списка."
      ]
    },
    {
      "cell_type": "code",
      "metadata": {
        "colab": {
          "base_uri": "https://localhost:8080/"
        },
        "id": "IADczg_N4PcX",
        "outputId": "fa8d5f40-9549-4b98-a2ed-c748df8e3f36"
      },
      "source": [
        "user_id = vk.users.get()[0]['id'] #получаем id авторизованного пользователя\r\n",
        "#user_id = 55420799\r\n",
        "user_id"
      ],
      "execution_count": 80,
      "outputs": [
        {
          "output_type": "execute_result",
          "data": {
            "text/plain": [
              "55420799"
            ]
          },
          "metadata": {
            "tags": []
          },
          "execution_count": 80
        }
      ]
    },
    {
      "cell_type": "code",
      "metadata": {
        "colab": {
          "base_uri": "https://localhost:8080/",
          "height": 299
        },
        "id": "jwC1xvW_3WwP",
        "outputId": "8c2205eb-b9a9-44ef-da06-78b89ec098d0"
      },
      "source": [
        "user_groups = vk.groups.get(user_id=user_id, extended=1)\r\n",
        "user_groups_df = pd.DataFrame(user_groups['items'])\r\n",
        "user_groups_df['user_id'] = user_id\r\n",
        "user_groups_df.head()"
      ],
      "execution_count": 81,
      "outputs": [
        {
          "output_type": "execute_result",
          "data": {
            "text/html": [
              "<div>\n",
              "<style scoped>\n",
              "    .dataframe tbody tr th:only-of-type {\n",
              "        vertical-align: middle;\n",
              "    }\n",
              "\n",
              "    .dataframe tbody tr th {\n",
              "        vertical-align: top;\n",
              "    }\n",
              "\n",
              "    .dataframe thead th {\n",
              "        text-align: right;\n",
              "    }\n",
              "</style>\n",
              "<table border=\"1\" class=\"dataframe\">\n",
              "  <thead>\n",
              "    <tr style=\"text-align: right;\">\n",
              "      <th></th>\n",
              "      <th>id</th>\n",
              "      <th>name</th>\n",
              "      <th>screen_name</th>\n",
              "      <th>is_closed</th>\n",
              "      <th>type</th>\n",
              "      <th>is_admin</th>\n",
              "      <th>is_member</th>\n",
              "      <th>is_advertiser</th>\n",
              "      <th>photo_50</th>\n",
              "      <th>photo_100</th>\n",
              "      <th>photo_200</th>\n",
              "      <th>admin_level</th>\n",
              "      <th>user_id</th>\n",
              "    </tr>\n",
              "  </thead>\n",
              "  <tbody>\n",
              "    <tr>\n",
              "      <th>0</th>\n",
              "      <td>125004421</td>\n",
              "      <td>Настоящий Лентач</td>\n",
              "      <td>true_lentach</td>\n",
              "      <td>0</td>\n",
              "      <td>page</td>\n",
              "      <td>0</td>\n",
              "      <td>1</td>\n",
              "      <td>0</td>\n",
              "      <td>https://sun9-67.userapi.com/s/v1/ig2/35DtoNB6E...</td>\n",
              "      <td>https://sun9-67.userapi.com/s/v1/ig2/6ajcAns_T...</td>\n",
              "      <td>https://sun9-67.userapi.com/s/v1/ig2/JjkFmbalT...</td>\n",
              "      <td>NaN</td>\n",
              "      <td>55420799</td>\n",
              "    </tr>\n",
              "    <tr>\n",
              "      <th>1</th>\n",
              "      <td>33880573</td>\n",
              "      <td>THE DUMP</td>\n",
              "      <td>dumpers</td>\n",
              "      <td>0</td>\n",
              "      <td>page</td>\n",
              "      <td>0</td>\n",
              "      <td>1</td>\n",
              "      <td>0</td>\n",
              "      <td>https://sun9-43.userapi.com/s/v1/if1/099Fhum7g...</td>\n",
              "      <td>https://sun9-43.userapi.com/s/v1/if1/ul0c2EM4t...</td>\n",
              "      <td>https://sun9-43.userapi.com/s/v1/if1/LKWp0K0Sv...</td>\n",
              "      <td>NaN</td>\n",
              "      <td>55420799</td>\n",
              "    </tr>\n",
              "    <tr>\n",
              "      <th>2</th>\n",
              "      <td>169934613</td>\n",
              "      <td>KARPOV.COURSES</td>\n",
              "      <td>karpovcourses</td>\n",
              "      <td>0</td>\n",
              "      <td>page</td>\n",
              "      <td>0</td>\n",
              "      <td>1</td>\n",
              "      <td>0</td>\n",
              "      <td>https://sun9-23.userapi.com/s/v1/ig2/C1Ke892N5...</td>\n",
              "      <td>https://sun9-23.userapi.com/s/v1/ig2/wrGIlPa-_...</td>\n",
              "      <td>https://sun9-23.userapi.com/s/v1/ig2/cAbZcIBLF...</td>\n",
              "      <td>NaN</td>\n",
              "      <td>55420799</td>\n",
              "    </tr>\n",
              "    <tr>\n",
              "      <th>3</th>\n",
              "      <td>20629724</td>\n",
              "      <td>Хабр</td>\n",
              "      <td>habr</td>\n",
              "      <td>0</td>\n",
              "      <td>page</td>\n",
              "      <td>0</td>\n",
              "      <td>1</td>\n",
              "      <td>0</td>\n",
              "      <td>https://sun9-44.userapi.com/s/v1/ig1/cvgInBNS_...</td>\n",
              "      <td>https://sun9-44.userapi.com/s/v1/ig1/eMUYlx1UV...</td>\n",
              "      <td>https://sun9-44.userapi.com/s/v1/ig1/xiDx2spXM...</td>\n",
              "      <td>NaN</td>\n",
              "      <td>55420799</td>\n",
              "    </tr>\n",
              "    <tr>\n",
              "      <th>4</th>\n",
              "      <td>31480508</td>\n",
              "      <td>Пикабу</td>\n",
              "      <td>pikabu</td>\n",
              "      <td>0</td>\n",
              "      <td>page</td>\n",
              "      <td>0</td>\n",
              "      <td>1</td>\n",
              "      <td>0</td>\n",
              "      <td>https://sun9-76.userapi.com/s/v1/if1/v0HEGsil2...</td>\n",
              "      <td>https://sun9-76.userapi.com/s/v1/if1/SKPh1hvjc...</td>\n",
              "      <td>https://sun9-76.userapi.com/s/v1/if1/qLMUnORnQ...</td>\n",
              "      <td>NaN</td>\n",
              "      <td>55420799</td>\n",
              "    </tr>\n",
              "  </tbody>\n",
              "</table>\n",
              "</div>"
            ],
            "text/plain": [
              "          id              name  ... admin_level   user_id\n",
              "0  125004421  Настоящий Лентач  ...         NaN  55420799\n",
              "1   33880573          THE DUMP  ...         NaN  55420799\n",
              "2  169934613    KARPOV.COURSES  ...         NaN  55420799\n",
              "3   20629724              Хабр  ...         NaN  55420799\n",
              "4   31480508            Пикабу  ...         NaN  55420799\n",
              "\n",
              "[5 rows x 13 columns]"
            ]
          },
          "metadata": {
            "tags": []
          },
          "execution_count": 81
        }
      ]
    },
    {
      "cell_type": "code",
      "metadata": {
        "colab": {
          "base_uri": "https://localhost:8080/"
        },
        "id": "WiAKTj6-fif_",
        "outputId": "a60c7e10-f5db-4ecc-acdd-dd5db296531c"
      },
      "source": [
        "user_groups_df.shape"
      ],
      "execution_count": 82,
      "outputs": [
        {
          "output_type": "execute_result",
          "data": {
            "text/plain": [
              "(243, 13)"
            ]
          },
          "metadata": {
            "tags": []
          },
          "execution_count": 82
        }
      ]
    },
    {
      "cell_type": "code",
      "metadata": {
        "id": "ocz50HWwfkn4"
      },
      "source": [
        "user_groups_df.to_csv('user_groups_df.csv')"
      ],
      "execution_count": 83,
      "outputs": []
    },
    {
      "cell_type": "code",
      "metadata": {
        "id": "A6tCHM8d5yFU"
      },
      "source": [
        "user_friends_list = vk.friends.get(user_id=user_id)['items']"
      ],
      "execution_count": 86,
      "outputs": []
    },
    {
      "cell_type": "code",
      "metadata": {
        "id": "xgoKh13h8FQ3"
      },
      "source": [
        "friends_groups_df = pd.read_csv('friends_groups_df.csv') #на случай, если данные уже загружены, тогда пропускаем след. ячейку"
      ],
      "execution_count": 6,
      "outputs": []
    },
    {
      "cell_type": "code",
      "metadata": {
        "id": "Nok89rMe4xOw"
      },
      "source": [
        "friends_groups_df = pd.DataFrame()\r\n",
        "\r\n",
        "for friend in user_friends_list:\r\n",
        "  try:\r\n",
        "    friend_groups_df = pd.DataFrame(vk.groups.get(user_id=friend, extended=1, v=5.126)['items'])\r\n",
        "    friend_groups_df['user_id'] = friend\r\n",
        "    friends_groups_df = pd.concat([friends_groups_df, friend_groups_df], axis=0)\r\n",
        "  except vk_api.exceptions.VkApiError:\r\n",
        "    print(f'ApiError по пользователю {friend}')\r\n",
        "    continue"
      ],
      "execution_count": null,
      "outputs": []
    },
    {
      "cell_type": "code",
      "metadata": {
        "id": "VFi54MAO53fo"
      },
      "source": [
        "friends_groups_df.to_csv('friends_groups_df.csv') #опционально"
      ],
      "execution_count": null,
      "outputs": []
    },
    {
      "cell_type": "code",
      "metadata": {
        "colab": {
          "base_uri": "https://localhost:8080/"
        },
        "id": "V_55aj6i5-eA",
        "outputId": "3f7a8dbd-d281-417d-e505-e64dbe6a0a50"
      },
      "source": [
        "friends_groups_df.shape"
      ],
      "execution_count": 6,
      "outputs": [
        {
          "output_type": "execute_result",
          "data": {
            "text/plain": [
              "(12910, 14)"
            ]
          },
          "metadata": {
            "tags": []
          },
          "execution_count": 6
        }
      ]
    },
    {
      "cell_type": "code",
      "metadata": {
        "colab": {
          "base_uri": "https://localhost:8080/",
          "height": 333
        },
        "id": "OMhXBShq8Oey",
        "outputId": "3b819458-be7a-45b8-e817-3b242b49abc5"
      },
      "source": [
        "friends_groups_df.head()"
      ],
      "execution_count": 7,
      "outputs": [
        {
          "output_type": "execute_result",
          "data": {
            "text/html": [
              "<div>\n",
              "<style scoped>\n",
              "    .dataframe tbody tr th:only-of-type {\n",
              "        vertical-align: middle;\n",
              "    }\n",
              "\n",
              "    .dataframe tbody tr th {\n",
              "        vertical-align: top;\n",
              "    }\n",
              "\n",
              "    .dataframe thead th {\n",
              "        text-align: right;\n",
              "    }\n",
              "</style>\n",
              "<table border=\"1\" class=\"dataframe\">\n",
              "  <thead>\n",
              "    <tr style=\"text-align: right;\">\n",
              "      <th></th>\n",
              "      <th>Unnamed: 0</th>\n",
              "      <th>id</th>\n",
              "      <th>name</th>\n",
              "      <th>screen_name</th>\n",
              "      <th>is_closed</th>\n",
              "      <th>type</th>\n",
              "      <th>is_admin</th>\n",
              "      <th>is_member</th>\n",
              "      <th>is_advertiser</th>\n",
              "      <th>photo_50</th>\n",
              "      <th>photo_100</th>\n",
              "      <th>photo_200</th>\n",
              "      <th>user_id</th>\n",
              "      <th>deactivated</th>\n",
              "    </tr>\n",
              "  </thead>\n",
              "  <tbody>\n",
              "    <tr>\n",
              "      <th>0</th>\n",
              "      <td>0</td>\n",
              "      <td>92307020.0</td>\n",
              "      <td>Тамара, какого хрена?</td>\n",
              "      <td>odonata_live</td>\n",
              "      <td>0.0</td>\n",
              "      <td>page</td>\n",
              "      <td>0.0</td>\n",
              "      <td>0.0</td>\n",
              "      <td>0.0</td>\n",
              "      <td>https://sun1-22.userapi.com/impf/c836734/v8367...</td>\n",
              "      <td>https://sun1-22.userapi.com/impf/c836734/v8367...</td>\n",
              "      <td>https://sun1-22.userapi.com/impf/c836734/v8367...</td>\n",
              "      <td>56840</td>\n",
              "      <td>NaN</td>\n",
              "    </tr>\n",
              "    <tr>\n",
              "      <th>1</th>\n",
              "      <td>1</td>\n",
              "      <td>194622716.0</td>\n",
              "      <td>Linxdatacenter</td>\n",
              "      <td>linxdc</td>\n",
              "      <td>0.0</td>\n",
              "      <td>page</td>\n",
              "      <td>0.0</td>\n",
              "      <td>1.0</td>\n",
              "      <td>0.0</td>\n",
              "      <td>https://sun1-30.userapi.com/impg/c854220/v8542...</td>\n",
              "      <td>https://sun1-30.userapi.com/impg/c854220/v8542...</td>\n",
              "      <td>https://sun1-30.userapi.com/impg/c854220/v8542...</td>\n",
              "      <td>56840</td>\n",
              "      <td>NaN</td>\n",
              "    </tr>\n",
              "    <tr>\n",
              "      <th>2</th>\n",
              "      <td>2</td>\n",
              "      <td>68696990.0</td>\n",
              "      <td>Удивительная Япония</td>\n",
              "      <td>paradoks_japan</td>\n",
              "      <td>0.0</td>\n",
              "      <td>page</td>\n",
              "      <td>0.0</td>\n",
              "      <td>0.0</td>\n",
              "      <td>0.0</td>\n",
              "      <td>https://sun1-29.userapi.com/impf/c624524/v6245...</td>\n",
              "      <td>https://sun1-29.userapi.com/impf/c624524/v6245...</td>\n",
              "      <td>https://sun1-29.userapi.com/impf/c624524/v6245...</td>\n",
              "      <td>56840</td>\n",
              "      <td>NaN</td>\n",
              "    </tr>\n",
              "    <tr>\n",
              "      <th>3</th>\n",
              "      <td>3</td>\n",
              "      <td>60394841.0</td>\n",
              "      <td>Неизвестная Россия</td>\n",
              "      <td>unknown_russia</td>\n",
              "      <td>0.0</td>\n",
              "      <td>page</td>\n",
              "      <td>0.0</td>\n",
              "      <td>0.0</td>\n",
              "      <td>0.0</td>\n",
              "      <td>https://sun1-27.userapi.com/impg/MNQx6Po5ktv8y...</td>\n",
              "      <td>https://sun1-27.userapi.com/impg/MNQx6Po5ktv8y...</td>\n",
              "      <td>https://sun1-27.userapi.com/impg/MNQx6Po5ktv8y...</td>\n",
              "      <td>56840</td>\n",
              "      <td>NaN</td>\n",
              "    </tr>\n",
              "    <tr>\n",
              "      <th>4</th>\n",
              "      <td>4</td>\n",
              "      <td>53895074.0</td>\n",
              "      <td>Питертранспорт | Изменения маршрутов</td>\n",
              "      <td>pitertransport_routes</td>\n",
              "      <td>0.0</td>\n",
              "      <td>page</td>\n",
              "      <td>0.0</td>\n",
              "      <td>0.0</td>\n",
              "      <td>0.0</td>\n",
              "      <td>https://sun1-90.userapi.com/impf/c638121/v6381...</td>\n",
              "      <td>https://sun1-90.userapi.com/impf/c638121/v6381...</td>\n",
              "      <td>https://sun1-90.userapi.com/impf/c638121/v6381...</td>\n",
              "      <td>56840</td>\n",
              "      <td>NaN</td>\n",
              "    </tr>\n",
              "  </tbody>\n",
              "</table>\n",
              "</div>"
            ],
            "text/plain": [
              "   Unnamed: 0           id  ... user_id deactivated\n",
              "0           0   92307020.0  ...   56840         NaN\n",
              "1           1  194622716.0  ...   56840         NaN\n",
              "2           2   68696990.0  ...   56840         NaN\n",
              "3           3   60394841.0  ...   56840         NaN\n",
              "4           4   53895074.0  ...   56840         NaN\n",
              "\n",
              "[5 rows x 14 columns]"
            ]
          },
          "metadata": {
            "tags": []
          },
          "execution_count": 7
        }
      ]
    },
    {
      "cell_type": "code",
      "metadata": {
        "colab": {
          "base_uri": "https://localhost:8080/"
        },
        "id": "GIx6JCm16EUm",
        "outputId": "ee33b8b8-e05c-4176-f4be-dd766b11ae2f"
      },
      "source": [
        "friends_groups_df = friends_groups_df[friends_groups_df.deactivated.isna()] # отбираем записи только активных пользователей\r\n",
        "friends_groups_df.shape"
      ],
      "execution_count": 8,
      "outputs": [
        {
          "output_type": "execute_result",
          "data": {
            "text/plain": [
              "(12772, 14)"
            ]
          },
          "metadata": {
            "tags": []
          },
          "execution_count": 8
        }
      ]
    },
    {
      "cell_type": "code",
      "metadata": {
        "id": "Bo4e9kIK9ONS"
      },
      "source": [
        "merged_df = pd.read_csv('merged_df.csv') #на случай, если данные уже загружены, тогда пропускаем след. ячейку"
      ],
      "execution_count": 7,
      "outputs": []
    },
    {
      "cell_type": "code",
      "metadata": {
        "id": "YhwTZ4of6PDK"
      },
      "source": [
        "merged_df = pd.concat([friends_groups_df, user_groups_df], axis=0)\r\n",
        "merged_df.id = merged_df.id.astype('int')"
      ],
      "execution_count": null,
      "outputs": []
    },
    {
      "cell_type": "code",
      "metadata": {
        "id": "2Ow2miZP6hMX"
      },
      "source": [
        "merged_df.to_csv('merged_df.csv') #опционально"
      ],
      "execution_count": null,
      "outputs": []
    },
    {
      "cell_type": "code",
      "metadata": {
        "colab": {
          "base_uri": "https://localhost:8080/"
        },
        "id": "j9cJA_YV9adH",
        "outputId": "97867e0d-df41-4e58-ecaf-863fae4d0ae9"
      },
      "source": [
        "merged_df.shape"
      ],
      "execution_count": 9,
      "outputs": [
        {
          "output_type": "execute_result",
          "data": {
            "text/plain": [
              "(13151, 16)"
            ]
          },
          "metadata": {
            "tags": []
          },
          "execution_count": 9
        }
      ]
    },
    {
      "cell_type": "markdown",
      "metadata": {
        "id": "1ViL72VZ6q6V"
      },
      "source": [
        "Проанализируем самые популярные группы"
      ]
    },
    {
      "cell_type": "code",
      "metadata": {
        "colab": {
          "base_uri": "https://localhost:8080/",
          "height": 402
        },
        "id": "IX8CO60C7AGt",
        "outputId": "3d337f6e-8087-4f7b-ceb1-3e5031827aee"
      },
      "source": [
        "freinds_groups_freq = friends_groups_df.groupby(['id', 'name'], as_index=False)['type']\\\r\n",
        "         .count()\\\r\n",
        "         .sort_values(by='type',ascending=False)\\\r\n",
        "         .rename(columns={'type':'count'})\r\n",
        "freinds_groups_freq"
      ],
      "execution_count": 60,
      "outputs": [
        {
          "output_type": "execute_result",
          "data": {
            "text/html": [
              "<div>\n",
              "<style scoped>\n",
              "    .dataframe tbody tr th:only-of-type {\n",
              "        vertical-align: middle;\n",
              "    }\n",
              "\n",
              "    .dataframe tbody tr th {\n",
              "        vertical-align: top;\n",
              "    }\n",
              "\n",
              "    .dataframe thead th {\n",
              "        text-align: right;\n",
              "    }\n",
              "</style>\n",
              "<table border=\"1\" class=\"dataframe\">\n",
              "  <thead>\n",
              "    <tr style=\"text-align: right;\">\n",
              "      <th></th>\n",
              "      <th>id</th>\n",
              "      <th>name</th>\n",
              "      <th>count</th>\n",
              "    </tr>\n",
              "  </thead>\n",
              "  <tbody>\n",
              "    <tr>\n",
              "      <th>1569</th>\n",
              "      <td>31480508.0</td>\n",
              "      <td>Пикабу</td>\n",
              "      <td>24</td>\n",
              "    </tr>\n",
              "    <tr>\n",
              "      <th>1356</th>\n",
              "      <td>29534144.0</td>\n",
              "      <td>Лентач</td>\n",
              "      <td>21</td>\n",
              "    </tr>\n",
              "    <tr>\n",
              "      <th>4144</th>\n",
              "      <td>63731512.0</td>\n",
              "      <td>Vandrouki | Путешествия почти бесплатно (RU)</td>\n",
              "      <td>21</td>\n",
              "    </tr>\n",
              "    <tr>\n",
              "      <th>2073</th>\n",
              "      <td>36338110.0</td>\n",
              "      <td>KudaGo: Санкт-Петербург</td>\n",
              "      <td>20</td>\n",
              "    </tr>\n",
              "    <tr>\n",
              "      <th>1113</th>\n",
              "      <td>26762265.0</td>\n",
              "      <td>Томские.ру</td>\n",
              "      <td>16</td>\n",
              "    </tr>\n",
              "    <tr>\n",
              "      <th>...</th>\n",
              "      <td>...</td>\n",
              "      <td>...</td>\n",
              "      <td>...</td>\n",
              "    </tr>\n",
              "    <tr>\n",
              "      <th>772</th>\n",
              "      <td>22882465.0</td>\n",
              "      <td>ЛАПУШКА  детский развивающий центр в РЫБАЦКОМ</td>\n",
              "      <td>1</td>\n",
              "    </tr>\n",
              "    <tr>\n",
              "      <th>4193</th>\n",
              "      <td>64701405.0</td>\n",
              "      <td>The Best Music</td>\n",
              "      <td>1</td>\n",
              "    </tr>\n",
              "    <tr>\n",
              "      <th>4192</th>\n",
              "      <td>64696640.0</td>\n",
              "      <td>Дата-центр XELENT</td>\n",
              "      <td>1</td>\n",
              "    </tr>\n",
              "    <tr>\n",
              "      <th>4191</th>\n",
              "      <td>64673764.0</td>\n",
              "      <td>PARALAM shop</td>\n",
              "      <td>1</td>\n",
              "    </tr>\n",
              "    <tr>\n",
              "      <th>9450</th>\n",
              "      <td>202026315.0</td>\n",
              "      <td>OLSEN BEATS</td>\n",
              "      <td>1</td>\n",
              "    </tr>\n",
              "  </tbody>\n",
              "</table>\n",
              "<p>9451 rows × 3 columns</p>\n",
              "</div>"
            ],
            "text/plain": [
              "               id                                           name  count\n",
              "1569   31480508.0                                         Пикабу     24\n",
              "1356   29534144.0                                         Лентач     21\n",
              "4144   63731512.0   Vandrouki | Путешествия почти бесплатно (RU)     21\n",
              "2073   36338110.0                        KudaGo: Санкт-Петербург     20\n",
              "1113   26762265.0                                     Томские.ру     16\n",
              "...           ...                                            ...    ...\n",
              "772    22882465.0  ЛАПУШКА  детский развивающий центр в РЫБАЦКОМ      1\n",
              "4193   64701405.0                                 The Best Music      1\n",
              "4192   64696640.0                              Дата-центр XELENT      1\n",
              "4191   64673764.0                                   PARALAM shop      1\n",
              "9450  202026315.0                                    OLSEN BEATS      1\n",
              "\n",
              "[9451 rows x 3 columns]"
            ]
          },
          "metadata": {
            "tags": []
          },
          "execution_count": 60
        }
      ]
    },
    {
      "cell_type": "code",
      "metadata": {
        "colab": {
          "base_uri": "https://localhost:8080/",
          "height": 402
        },
        "id": "CLOt8ucXJTg1",
        "outputId": "461c245e-45fb-45ea-eae5-f0a4cc55c08a"
      },
      "source": [
        "commons_groups_freq = merged_df[merged_df.id.isin(user_groups_df.id)].groupby(['id', 'name'], as_index=False)\\\r\n",
        "         .agg({'type':'count'})\\\r\n",
        "         .sort_values(by='type',ascending=False)\\\r\n",
        "         .rename(columns={'type':'count'})\r\n",
        "commons_groups_freq"
      ],
      "execution_count": 62,
      "outputs": [
        {
          "output_type": "execute_result",
          "data": {
            "text/html": [
              "<div>\n",
              "<style scoped>\n",
              "    .dataframe tbody tr th:only-of-type {\n",
              "        vertical-align: middle;\n",
              "    }\n",
              "\n",
              "    .dataframe tbody tr th {\n",
              "        vertical-align: top;\n",
              "    }\n",
              "\n",
              "    .dataframe thead th {\n",
              "        text-align: right;\n",
              "    }\n",
              "</style>\n",
              "<table border=\"1\" class=\"dataframe\">\n",
              "  <thead>\n",
              "    <tr style=\"text-align: right;\">\n",
              "      <th></th>\n",
              "      <th>id</th>\n",
              "      <th>name</th>\n",
              "      <th>count</th>\n",
              "    </tr>\n",
              "  </thead>\n",
              "  <tbody>\n",
              "    <tr>\n",
              "      <th>70</th>\n",
              "      <td>31480508</td>\n",
              "      <td>Пикабу</td>\n",
              "      <td>25</td>\n",
              "    </tr>\n",
              "    <tr>\n",
              "      <th>130</th>\n",
              "      <td>63731512</td>\n",
              "      <td>Vandrouki | Путешествия почти бесплатно (RU)</td>\n",
              "      <td>22</td>\n",
              "    </tr>\n",
              "    <tr>\n",
              "      <th>61</th>\n",
              "      <td>29534144</td>\n",
              "      <td>Лентач</td>\n",
              "      <td>22</td>\n",
              "    </tr>\n",
              "    <tr>\n",
              "      <th>43</th>\n",
              "      <td>24098496</td>\n",
              "      <td>E.squirе</td>\n",
              "      <td>14</td>\n",
              "    </tr>\n",
              "    <tr>\n",
              "      <th>102</th>\n",
              "      <td>41437811</td>\n",
              "      <td>МХК</td>\n",
              "      <td>14</td>\n",
              "    </tr>\n",
              "    <tr>\n",
              "      <th>...</th>\n",
              "      <td>...</td>\n",
              "      <td>...</td>\n",
              "      <td>...</td>\n",
              "    </tr>\n",
              "    <tr>\n",
              "      <th>96</th>\n",
              "      <td>39369678</td>\n",
              "      <td>Как же это было ￤60-е годы￤</td>\n",
              "      <td>1</td>\n",
              "    </tr>\n",
              "    <tr>\n",
              "      <th>93</th>\n",
              "      <td>37624431</td>\n",
              "      <td>Новости часа</td>\n",
              "      <td>1</td>\n",
              "    </tr>\n",
              "    <tr>\n",
              "      <th>88</th>\n",
              "      <td>36374634</td>\n",
              "      <td>it's all indie</td>\n",
              "      <td>1</td>\n",
              "    </tr>\n",
              "    <tr>\n",
              "      <th>85</th>\n",
              "      <td>35285306</td>\n",
              "      <td>Nature|Природа</td>\n",
              "      <td>1</td>\n",
              "    </tr>\n",
              "    <tr>\n",
              "      <th>240</th>\n",
              "      <td>197700721</td>\n",
              "      <td>Вездекод | Хакатон ВКонтакте</td>\n",
              "      <td>1</td>\n",
              "    </tr>\n",
              "  </tbody>\n",
              "</table>\n",
              "<p>241 rows × 3 columns</p>\n",
              "</div>"
            ],
            "text/plain": [
              "            id                                          name  count\n",
              "70    31480508                                        Пикабу     25\n",
              "130   63731512  Vandrouki | Путешествия почти бесплатно (RU)     22\n",
              "61    29534144                                        Лентач     22\n",
              "43    24098496                                      E.squirе     14\n",
              "102   41437811                                           МХК     14\n",
              "..         ...                                           ...    ...\n",
              "96    39369678                   Как же это было ￤60-е годы￤      1\n",
              "93    37624431                                  Новости часа      1\n",
              "88    36374634                                it's all indie      1\n",
              "85    35285306                                Nature|Природа      1\n",
              "240  197700721                  Вездекод | Хакатон ВКонтакте      1\n",
              "\n",
              "[241 rows x 3 columns]"
            ]
          },
          "metadata": {
            "tags": []
          },
          "execution_count": 62
        }
      ]
    },
    {
      "cell_type": "code",
      "metadata": {
        "colab": {
          "base_uri": "https://localhost:8080/",
          "height": 311
        },
        "id": "Zy0xOEQgKvUe",
        "outputId": "a9db40f9-b7a6-4f86-89ca-4d0d8fea9c85"
      },
      "source": [
        "f = plt.figure(figsize=(20, 6))\r\n",
        "gs = f.add_gridspec(1, 2)\r\n",
        "\r\n",
        "ax = f.add_subplot(gs[0, 0])\r\n",
        "sns.barplot(x=commons_groups_freq['count'][:30], y=commons_groups_freq['name'][:30], saturation=.3, color='blue')\r\n",
        "ax.set_title('Common groups')\r\n",
        "\r\n",
        "ax = f.add_subplot(gs[0, 1])\r\n",
        "sns.barplot(x=freinds_groups_freq['count'][:30], y=freinds_groups_freq['name'][:30], saturation=.3, color='blue')\r\n",
        "ax.set_title('Friends groups')\r\n",
        "f.tight_layout()"
      ],
      "execution_count": 71,
      "outputs": [
        {
          "output_type": "display_data",
          "data": {
            "image/png": "[encoded data removed]",
            "text/plain": [
              "<Figure size 1440x432 with 2 Axes>"
            ]
          },
          "metadata": {
            "tags": []
          }
        }
      ]
    },
    {
      "cell_type": "markdown",
      "metadata": {
        "id": "FBMG4JlkTBv3"
      },
      "source": [
        "Выше представлена графики распределения количества общих групп пользователя и его друзей и отдельно по группам друзей. Можно сразу отметить полное совпадение Топ-3 групп - все мы любим смешные картинки, интересные истории и желание недорого путешествовать."
      ]
    },
    {
      "cell_type": "markdown",
      "metadata": {
        "id": "qz5reM1O-6wK"
      },
      "source": [
        "Также сразу бросается в глаза, что большое количество общих друзей в группах относятся к двух городам - Томск и Санкт-Петербург, видимо, пользователь тесно связан с этими городами. "
      ]
    },
    {
      "cell_type": "code",
      "metadata": {
        "id": "kqU4aF5oDOBK"
      },
      "source": [
        "user_groups_df = merged_df.query(\"user_id == 55420799\")"
      ],
      "execution_count": 40,
      "outputs": []
    },
    {
      "cell_type": "code",
      "metadata": {
        "colab": {
          "base_uri": "https://localhost:8080/",
          "height": 316
        },
        "id": "JRPrVzUbDevr",
        "outputId": "191c6be7-a060-43e3-e062-2cbcc3b5e738"
      },
      "source": [
        "user_groups_df.head()"
      ],
      "execution_count": 41,
      "outputs": [
        {
          "output_type": "execute_result",
          "data": {
            "text/html": [
              "<div>\n",
              "<style scoped>\n",
              "    .dataframe tbody tr th:only-of-type {\n",
              "        vertical-align: middle;\n",
              "    }\n",
              "\n",
              "    .dataframe tbody tr th {\n",
              "        vertical-align: top;\n",
              "    }\n",
              "\n",
              "    .dataframe thead th {\n",
              "        text-align: right;\n",
              "    }\n",
              "</style>\n",
              "<table border=\"1\" class=\"dataframe\">\n",
              "  <thead>\n",
              "    <tr style=\"text-align: right;\">\n",
              "      <th></th>\n",
              "      <th>Unnamed: 0</th>\n",
              "      <th>Unnamed: 0.1</th>\n",
              "      <th>id</th>\n",
              "      <th>name</th>\n",
              "      <th>screen_name</th>\n",
              "      <th>is_closed</th>\n",
              "      <th>type</th>\n",
              "      <th>is_admin</th>\n",
              "      <th>is_member</th>\n",
              "      <th>is_advertiser</th>\n",
              "      <th>photo_50</th>\n",
              "      <th>photo_100</th>\n",
              "      <th>photo_200</th>\n",
              "      <th>user_id</th>\n",
              "      <th>deactivated</th>\n",
              "      <th>admin_level</th>\n",
              "    </tr>\n",
              "  </thead>\n",
              "  <tbody>\n",
              "    <tr>\n",
              "      <th>12910</th>\n",
              "      <td>0</td>\n",
              "      <td>NaN</td>\n",
              "      <td>33880573</td>\n",
              "      <td>THE DUMP</td>\n",
              "      <td>dumpers</td>\n",
              "      <td>0.0</td>\n",
              "      <td>page</td>\n",
              "      <td>0.0</td>\n",
              "      <td>1.0</td>\n",
              "      <td>0.0</td>\n",
              "      <td>https://sun1-24.userapi.com/s/v1/if1/099Fhum7g...</td>\n",
              "      <td>https://sun1-24.userapi.com/s/v1/if1/ul0c2EM4t...</td>\n",
              "      <td>https://sun1-24.userapi.com/s/v1/if1/LKWp0K0Sv...</td>\n",
              "      <td>55420799</td>\n",
              "      <td>NaN</td>\n",
              "      <td>NaN</td>\n",
              "    </tr>\n",
              "    <tr>\n",
              "      <th>12911</th>\n",
              "      <td>1</td>\n",
              "      <td>NaN</td>\n",
              "      <td>31480508</td>\n",
              "      <td>Пикабу</td>\n",
              "      <td>pikabu</td>\n",
              "      <td>0.0</td>\n",
              "      <td>page</td>\n",
              "      <td>0.0</td>\n",
              "      <td>1.0</td>\n",
              "      <td>0.0</td>\n",
              "      <td>https://sun1-16.userapi.com/s/v1/if1/v0HEGsil2...</td>\n",
              "      <td>https://sun1-16.userapi.com/s/v1/if1/SKPh1hvjc...</td>\n",
              "      <td>https://sun1-16.userapi.com/s/v1/if1/qLMUnORnQ...</td>\n",
              "      <td>55420799</td>\n",
              "      <td>NaN</td>\n",
              "      <td>NaN</td>\n",
              "    </tr>\n",
              "    <tr>\n",
              "      <th>12912</th>\n",
              "      <td>2</td>\n",
              "      <td>NaN</td>\n",
              "      <td>169934613</td>\n",
              "      <td>KARPOV.COURSES</td>\n",
              "      <td>karpovcourses</td>\n",
              "      <td>0.0</td>\n",
              "      <td>page</td>\n",
              "      <td>0.0</td>\n",
              "      <td>1.0</td>\n",
              "      <td>0.0</td>\n",
              "      <td>https://sun1-99.userapi.com/impg/HGdldapcVsUAg...</td>\n",
              "      <td>https://sun1-99.userapi.com/impg/HGdldapcVsUAg...</td>\n",
              "      <td>https://sun1-99.userapi.com/impg/HGdldapcVsUAg...</td>\n",
              "      <td>55420799</td>\n",
              "      <td>NaN</td>\n",
              "      <td>NaN</td>\n",
              "    </tr>\n",
              "    <tr>\n",
              "      <th>12913</th>\n",
              "      <td>3</td>\n",
              "      <td>NaN</td>\n",
              "      <td>125004421</td>\n",
              "      <td>Настоящий Лентач</td>\n",
              "      <td>true_lentach</td>\n",
              "      <td>0.0</td>\n",
              "      <td>page</td>\n",
              "      <td>0.0</td>\n",
              "      <td>1.0</td>\n",
              "      <td>0.0</td>\n",
              "      <td>https://sun1-17.userapi.com/s/v1/ig2/35DtoNB6E...</td>\n",
              "      <td>https://sun1-17.userapi.com/s/v1/ig2/6ajcAns_T...</td>\n",
              "      <td>https://sun1-17.userapi.com/s/v1/ig2/JjkFmbalT...</td>\n",
              "      <td>55420799</td>\n",
              "      <td>NaN</td>\n",
              "      <td>NaN</td>\n",
              "    </tr>\n",
              "    <tr>\n",
              "      <th>12914</th>\n",
              "      <td>4</td>\n",
              "      <td>NaN</td>\n",
              "      <td>40232010</td>\n",
              "      <td>Что-то новое</td>\n",
              "      <td>dfzwe4</td>\n",
              "      <td>0.0</td>\n",
              "      <td>page</td>\n",
              "      <td>0.0</td>\n",
              "      <td>1.0</td>\n",
              "      <td>0.0</td>\n",
              "      <td>https://sun1-21.userapi.com/impg/r1ATF1LfIprAa...</td>\n",
              "      <td>https://sun1-21.userapi.com/impg/r1ATF1LfIprAa...</td>\n",
              "      <td>https://sun1-21.userapi.com/impg/r1ATF1LfIprAa...</td>\n",
              "      <td>55420799</td>\n",
              "      <td>NaN</td>\n",
              "      <td>NaN</td>\n",
              "    </tr>\n",
              "  </tbody>\n",
              "</table>\n",
              "</div>"
            ],
            "text/plain": [
              "       Unnamed: 0  Unnamed: 0.1         id  ...   user_id deactivated  admin_level\n",
              "12910           0           NaN   33880573  ...  55420799         NaN          NaN\n",
              "12911           1           NaN   31480508  ...  55420799         NaN          NaN\n",
              "12912           2           NaN  169934613  ...  55420799         NaN          NaN\n",
              "12913           3           NaN  125004421  ...  55420799         NaN          NaN\n",
              "12914           4           NaN   40232010  ...  55420799         NaN          NaN\n",
              "\n",
              "[5 rows x 16 columns]"
            ]
          },
          "metadata": {
            "tags": []
          },
          "execution_count": 41
        }
      ]
    },
    {
      "cell_type": "code",
      "metadata": {
        "colab": {
          "base_uri": "https://localhost:8080/"
        },
        "id": "OdCetfkADjYg",
        "outputId": "fd6125df-b026-46b6-c7e8-d18f9cbec967"
      },
      "source": [
        "user_groups_df.shape"
      ],
      "execution_count": 42,
      "outputs": [
        {
          "output_type": "execute_result",
          "data": {
            "text/plain": [
              "(241, 16)"
            ]
          },
          "metadata": {
            "tags": []
          },
          "execution_count": 42
        }
      ]
    },
    {
      "cell_type": "code",
      "metadata": {
        "colab": {
          "base_uri": "https://localhost:8080/",
          "height": 402
        },
        "id": "ALm186mkCt2S",
        "outputId": "8615ebb0-9d3e-41e4-8069-05931c4e6f52"
      },
      "source": [
        "merged_df[merged_df.id.isin(user_groups_df.id)].groupby(['id', 'name'], as_index=False)['type']\\\r\n",
        "         .count()\\\r\n",
        "         .sort_values(by='type',ascending=False)\\\r\n",
        "         .rename(columns={'type':'count'})"
      ],
      "execution_count": 54,
      "outputs": [
        {
          "output_type": "execute_result",
          "data": {
            "text/html": [
              "<div>\n",
              "<style scoped>\n",
              "    .dataframe tbody tr th:only-of-type {\n",
              "        vertical-align: middle;\n",
              "    }\n",
              "\n",
              "    .dataframe tbody tr th {\n",
              "        vertical-align: top;\n",
              "    }\n",
              "\n",
              "    .dataframe thead th {\n",
              "        text-align: right;\n",
              "    }\n",
              "</style>\n",
              "<table border=\"1\" class=\"dataframe\">\n",
              "  <thead>\n",
              "    <tr style=\"text-align: right;\">\n",
              "      <th></th>\n",
              "      <th>id</th>\n",
              "      <th>name</th>\n",
              "      <th>count</th>\n",
              "    </tr>\n",
              "  </thead>\n",
              "  <tbody>\n",
              "    <tr>\n",
              "      <th>70</th>\n",
              "      <td>31480508</td>\n",
              "      <td>Пикабу</td>\n",
              "      <td>25</td>\n",
              "    </tr>\n",
              "    <tr>\n",
              "      <th>130</th>\n",
              "      <td>63731512</td>\n",
              "      <td>Vandrouki | Путешествия почти бесплатно (RU)</td>\n",
              "      <td>22</td>\n",
              "    </tr>\n",
              "    <tr>\n",
              "      <th>61</th>\n",
              "      <td>29534144</td>\n",
              "      <td>Лентач</td>\n",
              "      <td>22</td>\n",
              "    </tr>\n",
              "    <tr>\n",
              "      <th>43</th>\n",
              "      <td>24098496</td>\n",
              "      <td>E.squirе</td>\n",
              "      <td>14</td>\n",
              "    </tr>\n",
              "    <tr>\n",
              "      <th>102</th>\n",
              "      <td>41437811</td>\n",
              "      <td>МХК</td>\n",
              "      <td>14</td>\n",
              "    </tr>\n",
              "    <tr>\n",
              "      <th>...</th>\n",
              "      <td>...</td>\n",
              "      <td>...</td>\n",
              "      <td>...</td>\n",
              "    </tr>\n",
              "    <tr>\n",
              "      <th>96</th>\n",
              "      <td>39369678</td>\n",
              "      <td>Как же это было ￤60-е годы￤</td>\n",
              "      <td>1</td>\n",
              "    </tr>\n",
              "    <tr>\n",
              "      <th>93</th>\n",
              "      <td>37624431</td>\n",
              "      <td>Новости часа</td>\n",
              "      <td>1</td>\n",
              "    </tr>\n",
              "    <tr>\n",
              "      <th>88</th>\n",
              "      <td>36374634</td>\n",
              "      <td>it's all indie</td>\n",
              "      <td>1</td>\n",
              "    </tr>\n",
              "    <tr>\n",
              "      <th>85</th>\n",
              "      <td>35285306</td>\n",
              "      <td>Nature|Природа</td>\n",
              "      <td>1</td>\n",
              "    </tr>\n",
              "    <tr>\n",
              "      <th>240</th>\n",
              "      <td>197700721</td>\n",
              "      <td>Вездекод | Хакатон ВКонтакте</td>\n",
              "      <td>1</td>\n",
              "    </tr>\n",
              "  </tbody>\n",
              "</table>\n",
              "<p>241 rows × 3 columns</p>\n",
              "</div>"
            ],
            "text/plain": [
              "            id                                          name  count\n",
              "70    31480508                                        Пикабу     25\n",
              "130   63731512  Vandrouki | Путешествия почти бесплатно (RU)     22\n",
              "61    29534144                                        Лентач     22\n",
              "43    24098496                                      E.squirе     14\n",
              "102   41437811                                           МХК     14\n",
              "..         ...                                           ...    ...\n",
              "96    39369678                   Как же это было ￤60-е годы￤      1\n",
              "93    37624431                                  Новости часа      1\n",
              "88    36374634                                it's all indie      1\n",
              "85    35285306                                Nature|Природа      1\n",
              "240  197700721                  Вездекод | Хакатон ВКонтакте      1\n",
              "\n",
              "[241 rows x 3 columns]"
            ]
          },
          "metadata": {
            "tags": []
          },
          "execution_count": 54
        }
      ]
    },
    {
      "cell_type": "code",
      "metadata": {
        "colab": {
          "base_uri": "https://localhost:8080/",
          "height": 690
        },
        "id": "TgrfMwT0IOmR",
        "outputId": "ab9a5650-b4a2-4ca7-e5b6-be6e143003a6"
      },
      "source": [
        "merged_df[merged_df.id.isin(user_groups_df.id)]"
      ],
      "execution_count": 49,
      "outputs": [
        {
          "output_type": "execute_result",
          "data": {
            "text/html": [
              "<div>\n",
              "<style scoped>\n",
              "    .dataframe tbody tr th:only-of-type {\n",
              "        vertical-align: middle;\n",
              "    }\n",
              "\n",
              "    .dataframe tbody tr th {\n",
              "        vertical-align: top;\n",
              "    }\n",
              "\n",
              "    .dataframe thead th {\n",
              "        text-align: right;\n",
              "    }\n",
              "</style>\n",
              "<table border=\"1\" class=\"dataframe\">\n",
              "  <thead>\n",
              "    <tr style=\"text-align: right;\">\n",
              "      <th></th>\n",
              "      <th>Unnamed: 0</th>\n",
              "      <th>Unnamed: 0.1</th>\n",
              "      <th>id</th>\n",
              "      <th>name</th>\n",
              "      <th>screen_name</th>\n",
              "      <th>is_closed</th>\n",
              "      <th>type</th>\n",
              "      <th>is_admin</th>\n",
              "      <th>is_member</th>\n",
              "      <th>is_advertiser</th>\n",
              "      <th>photo_50</th>\n",
              "      <th>photo_100</th>\n",
              "      <th>photo_200</th>\n",
              "      <th>user_id</th>\n",
              "      <th>deactivated</th>\n",
              "      <th>admin_level</th>\n",
              "    </tr>\n",
              "  </thead>\n",
              "  <tbody>\n",
              "    <tr>\n",
              "      <th>1</th>\n",
              "      <td>1</td>\n",
              "      <td>1.0</td>\n",
              "      <td>194622716</td>\n",
              "      <td>Linxdatacenter</td>\n",
              "      <td>linxdc</td>\n",
              "      <td>0.0</td>\n",
              "      <td>page</td>\n",
              "      <td>0.0</td>\n",
              "      <td>1.0</td>\n",
              "      <td>0.0</td>\n",
              "      <td>https://sun1-30.userapi.com/impg/c854220/v8542...</td>\n",
              "      <td>https://sun1-30.userapi.com/impg/c854220/v8542...</td>\n",
              "      <td>https://sun1-30.userapi.com/impg/c854220/v8542...</td>\n",
              "      <td>56840</td>\n",
              "      <td>NaN</td>\n",
              "      <td>NaN</td>\n",
              "    </tr>\n",
              "    <tr>\n",
              "      <th>14</th>\n",
              "      <td>14</td>\n",
              "      <td>14.0</td>\n",
              "      <td>34866950</td>\n",
              "      <td>Журнал «Сеанс»</td>\n",
              "      <td>seance_magazine</td>\n",
              "      <td>0.0</td>\n",
              "      <td>page</td>\n",
              "      <td>0.0</td>\n",
              "      <td>1.0</td>\n",
              "      <td>0.0</td>\n",
              "      <td>https://sun1-95.userapi.com/impf/oeLP-JtmiYpuk...</td>\n",
              "      <td>https://sun1-95.userapi.com/impf/oeLP-JtmiYpuk...</td>\n",
              "      <td>https://sun1-95.userapi.com/impf/oeLP-JtmiYpuk...</td>\n",
              "      <td>56840</td>\n",
              "      <td>NaN</td>\n",
              "      <td>NaN</td>\n",
              "    </tr>\n",
              "    <tr>\n",
              "      <th>19</th>\n",
              "      <td>19</td>\n",
              "      <td>19.0</td>\n",
              "      <td>88497493</td>\n",
              "      <td>British humor</td>\n",
              "      <td>british_prikol</td>\n",
              "      <td>0.0</td>\n",
              "      <td>page</td>\n",
              "      <td>0.0</td>\n",
              "      <td>1.0</td>\n",
              "      <td>0.0</td>\n",
              "      <td>https://sun1-88.userapi.com/impf/c629521/v6295...</td>\n",
              "      <td>https://sun1-88.userapi.com/impf/c629521/v6295...</td>\n",
              "      <td>https://sun1-88.userapi.com/impf/c629521/v6295...</td>\n",
              "      <td>56840</td>\n",
              "      <td>NaN</td>\n",
              "      <td>NaN</td>\n",
              "    </tr>\n",
              "    <tr>\n",
              "      <th>24</th>\n",
              "      <td>24</td>\n",
              "      <td>24.0</td>\n",
              "      <td>20629724</td>\n",
              "      <td>Habr</td>\n",
              "      <td>habr</td>\n",
              "      <td>0.0</td>\n",
              "      <td>page</td>\n",
              "      <td>0.0</td>\n",
              "      <td>1.0</td>\n",
              "      <td>0.0</td>\n",
              "      <td>https://sun1-84.userapi.com/impg/c857024/v8570...</td>\n",
              "      <td>https://sun1-84.userapi.com/impg/c857024/v8570...</td>\n",
              "      <td>https://sun1-84.userapi.com/impg/c857024/v8570...</td>\n",
              "      <td>56840</td>\n",
              "      <td>NaN</td>\n",
              "      <td>NaN</td>\n",
              "    </tr>\n",
              "    <tr>\n",
              "      <th>29</th>\n",
              "      <td>29</td>\n",
              "      <td>29.0</td>\n",
              "      <td>4100014</td>\n",
              "      <td>Новые Альбомы</td>\n",
              "      <td>newalbums</td>\n",
              "      <td>0.0</td>\n",
              "      <td>page</td>\n",
              "      <td>0.0</td>\n",
              "      <td>1.0</td>\n",
              "      <td>0.0</td>\n",
              "      <td>https://sun1-92.userapi.com/impg/3grXb9W_SN0NG...</td>\n",
              "      <td>https://sun1-92.userapi.com/impg/3grXb9W_SN0NG...</td>\n",
              "      <td>https://sun1-92.userapi.com/impg/3grXb9W_SN0NG...</td>\n",
              "      <td>56840</td>\n",
              "      <td>NaN</td>\n",
              "      <td>NaN</td>\n",
              "    </tr>\n",
              "    <tr>\n",
              "      <th>...</th>\n",
              "      <td>...</td>\n",
              "      <td>...</td>\n",
              "      <td>...</td>\n",
              "      <td>...</td>\n",
              "      <td>...</td>\n",
              "      <td>...</td>\n",
              "      <td>...</td>\n",
              "      <td>...</td>\n",
              "      <td>...</td>\n",
              "      <td>...</td>\n",
              "      <td>...</td>\n",
              "      <td>...</td>\n",
              "      <td>...</td>\n",
              "      <td>...</td>\n",
              "      <td>...</td>\n",
              "      <td>...</td>\n",
              "    </tr>\n",
              "    <tr>\n",
              "      <th>13146</th>\n",
              "      <td>236</td>\n",
              "      <td>NaN</td>\n",
              "      <td>30002075</td>\n",
              "      <td>Официальная группа 9 класса \"Губернаторский Св...</td>\n",
              "      <td>club9classa</td>\n",
              "      <td>0.0</td>\n",
              "      <td>group</td>\n",
              "      <td>0.0</td>\n",
              "      <td>1.0</td>\n",
              "      <td>0.0</td>\n",
              "      <td>https://sun9-38.userapi.com/c9326/g30002075/e_...</td>\n",
              "      <td>https://sun9-38.userapi.com/c9326/g30002075/d_...</td>\n",
              "      <td>https://sun9-38.userapi.com/c9326/g30002075/d_...</td>\n",
              "      <td>55420799</td>\n",
              "      <td>NaN</td>\n",
              "      <td>NaN</td>\n",
              "    </tr>\n",
              "    <tr>\n",
              "      <th>13147</th>\n",
              "      <td>237</td>\n",
              "      <td>NaN</td>\n",
              "      <td>70902969</td>\n",
              "      <td>VAlex_Фото события в ГСл</td>\n",
              "      <td>club70902969</td>\n",
              "      <td>2.0</td>\n",
              "      <td>group</td>\n",
              "      <td>0.0</td>\n",
              "      <td>1.0</td>\n",
              "      <td>0.0</td>\n",
              "      <td>https://vk.com/images/community_50.png?ava=1</td>\n",
              "      <td>https://vk.com/images/community_100.png?ava=1</td>\n",
              "      <td>https://vk.com/images/community_200.png?ava=1</td>\n",
              "      <td>55420799</td>\n",
              "      <td>NaN</td>\n",
              "      <td>NaN</td>\n",
              "    </tr>\n",
              "    <tr>\n",
              "      <th>13148</th>\n",
              "      <td>238</td>\n",
              "      <td>NaN</td>\n",
              "      <td>31971903</td>\n",
              "      <td>Тренинг в Губернаторском Светленском лицее 201...</td>\n",
              "      <td>club31971903</td>\n",
              "      <td>1.0</td>\n",
              "      <td>group</td>\n",
              "      <td>0.0</td>\n",
              "      <td>1.0</td>\n",
              "      <td>0.0</td>\n",
              "      <td>https://sun9-65.userapi.com/c10163/g31971903/e...</td>\n",
              "      <td>https://sun9-65.userapi.com/c10163/g31971903/d...</td>\n",
              "      <td>https://sun9-65.userapi.com/c10163/g31971903/d...</td>\n",
              "      <td>55420799</td>\n",
              "      <td>NaN</td>\n",
              "      <td>NaN</td>\n",
              "    </tr>\n",
              "    <tr>\n",
              "      <th>13149</th>\n",
              "      <td>239</td>\n",
              "      <td>NaN</td>\n",
              "      <td>101814709</td>\n",
              "      <td>◄213❤R.O.O.M.❤213►</td>\n",
              "      <td>sexyback213</td>\n",
              "      <td>2.0</td>\n",
              "      <td>group</td>\n",
              "      <td>0.0</td>\n",
              "      <td>1.0</td>\n",
              "      <td>0.0</td>\n",
              "      <td>https://sun1-25.userapi.com/s/v1/if1/ILKY57ocr...</td>\n",
              "      <td>https://sun1-25.userapi.com/s/v1/if1/9HPQppAWb...</td>\n",
              "      <td>https://sun1-25.userapi.com/s/v1/if1/g2IKgU4zy...</td>\n",
              "      <td>55420799</td>\n",
              "      <td>NaN</td>\n",
              "      <td>NaN</td>\n",
              "    </tr>\n",
              "    <tr>\n",
              "      <th>13150</th>\n",
              "      <td>240</td>\n",
              "      <td>NaN</td>\n",
              "      <td>115118567</td>\n",
              "      <td>Избранное_мое</td>\n",
              "      <td>minefav</td>\n",
              "      <td>2.0</td>\n",
              "      <td>group</td>\n",
              "      <td>1.0</td>\n",
              "      <td>1.0</td>\n",
              "      <td>1.0</td>\n",
              "      <td>https://vk.com/images/community_50.png?ava=1</td>\n",
              "      <td>https://vk.com/images/community_100.png?ava=1</td>\n",
              "      <td>https://vk.com/images/community_200.png?ava=1</td>\n",
              "      <td>55420799</td>\n",
              "      <td>NaN</td>\n",
              "      <td>3.0</td>\n",
              "    </tr>\n",
              "  </tbody>\n",
              "</table>\n",
              "<p>760 rows × 16 columns</p>\n",
              "</div>"
            ],
            "text/plain": [
              "       Unnamed: 0  Unnamed: 0.1         id  ...   user_id deactivated  admin_level\n",
              "1               1           1.0  194622716  ...     56840         NaN          NaN\n",
              "14             14          14.0   34866950  ...     56840         NaN          NaN\n",
              "19             19          19.0   88497493  ...     56840         NaN          NaN\n",
              "24             24          24.0   20629724  ...     56840         NaN          NaN\n",
              "29             29          29.0    4100014  ...     56840         NaN          NaN\n",
              "...           ...           ...        ...  ...       ...         ...          ...\n",
              "13146         236           NaN   30002075  ...  55420799         NaN          NaN\n",
              "13147         237           NaN   70902969  ...  55420799         NaN          NaN\n",
              "13148         238           NaN   31971903  ...  55420799         NaN          NaN\n",
              "13149         239           NaN  101814709  ...  55420799         NaN          NaN\n",
              "13150         240           NaN  115118567  ...  55420799         NaN          3.0\n",
              "\n",
              "[760 rows x 16 columns]"
            ]
          },
          "metadata": {
            "tags": []
          },
          "execution_count": 49
        }
      ]
    },
    {
      "cell_type": "code",
      "metadata": {
        "colab": {
          "base_uri": "https://localhost:8080/",
          "height": 674
        },
        "id": "WIZ_D7SBD6Iv",
        "outputId": "5d704560-d6db-49f2-d6d8-969dbe31eed5"
      },
      "source": [
        "merged_df[merged_df.isin({'id':user_groups_df.id})['id']]"
      ],
      "execution_count": 48,
      "outputs": [
        {
          "output_type": "execute_result",
          "data": {
            "text/html": [
              "<div>\n",
              "<style scoped>\n",
              "    .dataframe tbody tr th:only-of-type {\n",
              "        vertical-align: middle;\n",
              "    }\n",
              "\n",
              "    .dataframe tbody tr th {\n",
              "        vertical-align: top;\n",
              "    }\n",
              "\n",
              "    .dataframe thead th {\n",
              "        text-align: right;\n",
              "    }\n",
              "</style>\n",
              "<table border=\"1\" class=\"dataframe\">\n",
              "  <thead>\n",
              "    <tr style=\"text-align: right;\">\n",
              "      <th></th>\n",
              "      <th>Unnamed: 0</th>\n",
              "      <th>Unnamed: 0.1</th>\n",
              "      <th>id</th>\n",
              "      <th>name</th>\n",
              "      <th>screen_name</th>\n",
              "      <th>is_closed</th>\n",
              "      <th>type</th>\n",
              "      <th>is_admin</th>\n",
              "      <th>is_member</th>\n",
              "      <th>is_advertiser</th>\n",
              "      <th>photo_50</th>\n",
              "      <th>photo_100</th>\n",
              "      <th>photo_200</th>\n",
              "      <th>user_id</th>\n",
              "      <th>deactivated</th>\n",
              "      <th>admin_level</th>\n",
              "    </tr>\n",
              "  </thead>\n",
              "  <tbody>\n",
              "    <tr>\n",
              "      <th>12910</th>\n",
              "      <td>0</td>\n",
              "      <td>NaN</td>\n",
              "      <td>33880573</td>\n",
              "      <td>THE DUMP</td>\n",
              "      <td>dumpers</td>\n",
              "      <td>0.0</td>\n",
              "      <td>page</td>\n",
              "      <td>0.0</td>\n",
              "      <td>1.0</td>\n",
              "      <td>0.0</td>\n",
              "      <td>https://sun1-24.userapi.com/s/v1/if1/099Fhum7g...</td>\n",
              "      <td>https://sun1-24.userapi.com/s/v1/if1/ul0c2EM4t...</td>\n",
              "      <td>https://sun1-24.userapi.com/s/v1/if1/LKWp0K0Sv...</td>\n",
              "      <td>55420799</td>\n",
              "      <td>NaN</td>\n",
              "      <td>NaN</td>\n",
              "    </tr>\n",
              "    <tr>\n",
              "      <th>12911</th>\n",
              "      <td>1</td>\n",
              "      <td>NaN</td>\n",
              "      <td>31480508</td>\n",
              "      <td>Пикабу</td>\n",
              "      <td>pikabu</td>\n",
              "      <td>0.0</td>\n",
              "      <td>page</td>\n",
              "      <td>0.0</td>\n",
              "      <td>1.0</td>\n",
              "      <td>0.0</td>\n",
              "      <td>https://sun1-16.userapi.com/s/v1/if1/v0HEGsil2...</td>\n",
              "      <td>https://sun1-16.userapi.com/s/v1/if1/SKPh1hvjc...</td>\n",
              "      <td>https://sun1-16.userapi.com/s/v1/if1/qLMUnORnQ...</td>\n",
              "      <td>55420799</td>\n",
              "      <td>NaN</td>\n",
              "      <td>NaN</td>\n",
              "    </tr>\n",
              "    <tr>\n",
              "      <th>12912</th>\n",
              "      <td>2</td>\n",
              "      <td>NaN</td>\n",
              "      <td>169934613</td>\n",
              "      <td>KARPOV.COURSES</td>\n",
              "      <td>karpovcourses</td>\n",
              "      <td>0.0</td>\n",
              "      <td>page</td>\n",
              "      <td>0.0</td>\n",
              "      <td>1.0</td>\n",
              "      <td>0.0</td>\n",
              "      <td>https://sun1-99.userapi.com/impg/HGdldapcVsUAg...</td>\n",
              "      <td>https://sun1-99.userapi.com/impg/HGdldapcVsUAg...</td>\n",
              "      <td>https://sun1-99.userapi.com/impg/HGdldapcVsUAg...</td>\n",
              "      <td>55420799</td>\n",
              "      <td>NaN</td>\n",
              "      <td>NaN</td>\n",
              "    </tr>\n",
              "    <tr>\n",
              "      <th>12913</th>\n",
              "      <td>3</td>\n",
              "      <td>NaN</td>\n",
              "      <td>125004421</td>\n",
              "      <td>Настоящий Лентач</td>\n",
              "      <td>true_lentach</td>\n",
              "      <td>0.0</td>\n",
              "      <td>page</td>\n",
              "      <td>0.0</td>\n",
              "      <td>1.0</td>\n",
              "      <td>0.0</td>\n",
              "      <td>https://sun1-17.userapi.com/s/v1/ig2/35DtoNB6E...</td>\n",
              "      <td>https://sun1-17.userapi.com/s/v1/ig2/6ajcAns_T...</td>\n",
              "      <td>https://sun1-17.userapi.com/s/v1/ig2/JjkFmbalT...</td>\n",
              "      <td>55420799</td>\n",
              "      <td>NaN</td>\n",
              "      <td>NaN</td>\n",
              "    </tr>\n",
              "    <tr>\n",
              "      <th>12914</th>\n",
              "      <td>4</td>\n",
              "      <td>NaN</td>\n",
              "      <td>40232010</td>\n",
              "      <td>Что-то новое</td>\n",
              "      <td>dfzwe4</td>\n",
              "      <td>0.0</td>\n",
              "      <td>page</td>\n",
              "      <td>0.0</td>\n",
              "      <td>1.0</td>\n",
              "      <td>0.0</td>\n",
              "      <td>https://sun1-21.userapi.com/impg/r1ATF1LfIprAa...</td>\n",
              "      <td>https://sun1-21.userapi.com/impg/r1ATF1LfIprAa...</td>\n",
              "      <td>https://sun1-21.userapi.com/impg/r1ATF1LfIprAa...</td>\n",
              "      <td>55420799</td>\n",
              "      <td>NaN</td>\n",
              "      <td>NaN</td>\n",
              "    </tr>\n",
              "    <tr>\n",
              "      <th>...</th>\n",
              "      <td>...</td>\n",
              "      <td>...</td>\n",
              "      <td>...</td>\n",
              "      <td>...</td>\n",
              "      <td>...</td>\n",
              "      <td>...</td>\n",
              "      <td>...</td>\n",
              "      <td>...</td>\n",
              "      <td>...</td>\n",
              "      <td>...</td>\n",
              "      <td>...</td>\n",
              "      <td>...</td>\n",
              "      <td>...</td>\n",
              "      <td>...</td>\n",
              "      <td>...</td>\n",
              "      <td>...</td>\n",
              "    </tr>\n",
              "    <tr>\n",
              "      <th>13146</th>\n",
              "      <td>236</td>\n",
              "      <td>NaN</td>\n",
              "      <td>30002075</td>\n",
              "      <td>Официальная группа 9 класса \"Губернаторский Св...</td>\n",
              "      <td>club9classa</td>\n",
              "      <td>0.0</td>\n",
              "      <td>group</td>\n",
              "      <td>0.0</td>\n",
              "      <td>1.0</td>\n",
              "      <td>0.0</td>\n",
              "      <td>https://sun9-38.userapi.com/c9326/g30002075/e_...</td>\n",
              "      <td>https://sun9-38.userapi.com/c9326/g30002075/d_...</td>\n",
              "      <td>https://sun9-38.userapi.com/c9326/g30002075/d_...</td>\n",
              "      <td>55420799</td>\n",
              "      <td>NaN</td>\n",
              "      <td>NaN</td>\n",
              "    </tr>\n",
              "    <tr>\n",
              "      <th>13147</th>\n",
              "      <td>237</td>\n",
              "      <td>NaN</td>\n",
              "      <td>70902969</td>\n",
              "      <td>VAlex_Фото события в ГСл</td>\n",
              "      <td>club70902969</td>\n",
              "      <td>2.0</td>\n",
              "      <td>group</td>\n",
              "      <td>0.0</td>\n",
              "      <td>1.0</td>\n",
              "      <td>0.0</td>\n",
              "      <td>https://vk.com/images/community_50.png?ava=1</td>\n",
              "      <td>https://vk.com/images/community_100.png?ava=1</td>\n",
              "      <td>https://vk.com/images/community_200.png?ava=1</td>\n",
              "      <td>55420799</td>\n",
              "      <td>NaN</td>\n",
              "      <td>NaN</td>\n",
              "    </tr>\n",
              "    <tr>\n",
              "      <th>13148</th>\n",
              "      <td>238</td>\n",
              "      <td>NaN</td>\n",
              "      <td>31971903</td>\n",
              "      <td>Тренинг в Губернаторском Светленском лицее 201...</td>\n",
              "      <td>club31971903</td>\n",
              "      <td>1.0</td>\n",
              "      <td>group</td>\n",
              "      <td>0.0</td>\n",
              "      <td>1.0</td>\n",
              "      <td>0.0</td>\n",
              "      <td>https://sun9-65.userapi.com/c10163/g31971903/e...</td>\n",
              "      <td>https://sun9-65.userapi.com/c10163/g31971903/d...</td>\n",
              "      <td>https://sun9-65.userapi.com/c10163/g31971903/d...</td>\n",
              "      <td>55420799</td>\n",
              "      <td>NaN</td>\n",
              "      <td>NaN</td>\n",
              "    </tr>\n",
              "    <tr>\n",
              "      <th>13149</th>\n",
              "      <td>239</td>\n",
              "      <td>NaN</td>\n",
              "      <td>101814709</td>\n",
              "      <td>◄213❤R.O.O.M.❤213►</td>\n",
              "      <td>sexyback213</td>\n",
              "      <td>2.0</td>\n",
              "      <td>group</td>\n",
              "      <td>0.0</td>\n",
              "      <td>1.0</td>\n",
              "      <td>0.0</td>\n",
              "      <td>https://sun1-25.userapi.com/s/v1/if1/ILKY57ocr...</td>\n",
              "      <td>https://sun1-25.userapi.com/s/v1/if1/9HPQppAWb...</td>\n",
              "      <td>https://sun1-25.userapi.com/s/v1/if1/g2IKgU4zy...</td>\n",
              "      <td>55420799</td>\n",
              "      <td>NaN</td>\n",
              "      <td>NaN</td>\n",
              "    </tr>\n",
              "    <tr>\n",
              "      <th>13150</th>\n",
              "      <td>240</td>\n",
              "      <td>NaN</td>\n",
              "      <td>115118567</td>\n",
              "      <td>Избранное_мое</td>\n",
              "      <td>minefav</td>\n",
              "      <td>2.0</td>\n",
              "      <td>group</td>\n",
              "      <td>1.0</td>\n",
              "      <td>1.0</td>\n",
              "      <td>1.0</td>\n",
              "      <td>https://vk.com/images/community_50.png?ava=1</td>\n",
              "      <td>https://vk.com/images/community_100.png?ava=1</td>\n",
              "      <td>https://vk.com/images/community_200.png?ava=1</td>\n",
              "      <td>55420799</td>\n",
              "      <td>NaN</td>\n",
              "      <td>3.0</td>\n",
              "    </tr>\n",
              "  </tbody>\n",
              "</table>\n",
              "<p>241 rows × 16 columns</p>\n",
              "</div>"
            ],
            "text/plain": [
              "       Unnamed: 0  Unnamed: 0.1         id  ...   user_id deactivated  admin_level\n",
              "12910           0           NaN   33880573  ...  55420799         NaN          NaN\n",
              "12911           1           NaN   31480508  ...  55420799         NaN          NaN\n",
              "12912           2           NaN  169934613  ...  55420799         NaN          NaN\n",
              "12913           3           NaN  125004421  ...  55420799         NaN          NaN\n",
              "12914           4           NaN   40232010  ...  55420799         NaN          NaN\n",
              "...           ...           ...        ...  ...       ...         ...          ...\n",
              "13146         236           NaN   30002075  ...  55420799         NaN          NaN\n",
              "13147         237           NaN   70902969  ...  55420799         NaN          NaN\n",
              "13148         238           NaN   31971903  ...  55420799         NaN          NaN\n",
              "13149         239           NaN  101814709  ...  55420799         NaN          NaN\n",
              "13150         240           NaN  115118567  ...  55420799         NaN          3.0\n",
              "\n",
              "[241 rows x 16 columns]"
            ]
          },
          "metadata": {
            "tags": []
          },
          "execution_count": 48
        }
      ]
    },
    {
      "cell_type": "markdown",
      "metadata": {
        "id": "YHmrT4Qu_kWN"
      },
      "source": [
        "\r\n",
        "\r\n",
        "---\r\n",
        "\r\n",
        "---\r\n",
        "\r\n",
        "\r\n",
        "\r\n"
      ]
    },
    {
      "cell_type": "markdown",
      "metadata": {
        "id": "ghVfycjW_hod"
      },
      "source": [
        "## 2"
      ]
    },
    {
      "cell_type": "markdown",
      "metadata": {
        "id": "7U-56akR_lhW"
      },
      "source": [
        "Соберём информацию о группах друзей друзей пользователя.\r\n",
        "Найдем самые популярные"
      ]
    },
    {
      "cell_type": "code",
      "metadata": {
        "id": "mfIfFqtx726A"
      },
      "source": [
        "list_friends_of_friends_df = pd.DataFrame()\r\n",
        "\r\n",
        "for friend in user_friends_list:\r\n",
        "  try:\r\n",
        "    list_friends_of_friend_df = pd.DataFrame( vk.friends.get(user_id=friend, fields=['first_name', 'last_name'])['items'])\r\n",
        "    list_friends_of_friend_df['user_friend_id'] = friend\r\n",
        "    list_friends_of_friends_df = pd.concat([list_friends_of_friends_df, list_friends_of_friend_df], axis=0)\r\n",
        "  except vk_api.exceptions.VkApiError:\r\n",
        "    #print(f'ApiError по пользователю {friend}')\r\n",
        "    continue"
      ],
      "execution_count": 98,
      "outputs": []
    },
    {
      "cell_type": "code",
      "metadata": {
        "colab": {
          "base_uri": "https://localhost:8080/"
        },
        "id": "cloJVtBvjZfK",
        "outputId": "176d6dab-32ae-4898-c041-32b17f9b65cf"
      },
      "source": [
        "print(f'Размер df: {list_friends_of_friends_df.shape}')\r\n",
        "print(f\"Количество повторяющихся друзей: {list_friends_of_friends_df.duplicated(subset=['id']).sum()}\")\r\n",
        "list_friends_of_friends_df = list_friends_of_friends_df.drop_duplicates(subset=['id'])\r\n",
        "print(f'Размер df после удаления повторов: {list_friends_of_friends_df.shape}')"
      ],
      "execution_count": 104,
      "outputs": [
        {
          "output_type": "stream",
          "text": [
            "Размер df: (47286, 9)\n",
            "Количество повторяющихся друзей: 6251\n",
            "Размер df после удаления повторов: (41035, 9)\n"
          ],
          "name": "stdout"
        }
      ]
    },
    {
      "cell_type": "markdown",
      "metadata": {
        "id": "X8LoEu1tlswX"
      },
      "source": [
        "Выгрузим информацию по всем группам друзей друзей пользователя"
      ]
    },
    {
      "cell_type": "code",
      "metadata": {
        "colab": {
          "base_uri": "https://localhost:8080/",
          "height": 66,
          "referenced_widgets": [
            "197fea63ed8849c98fd789821ee902b5",
            "dbc4de40d73f422690f94c74d6ff8d43",
            "094c3ddcf87f41209108e5f24c75e368",
            "b0f9df2aa4ac4e19b6e663fd9874fd3b",
            "d8f308b8655349ec8db7585558152b01",
            "714e7358a8564587ac71f9726e04207e",
            "d5066a61828141b9b4289f2222ead179",
            "c491b26202a1416a9e49785112e24e56"
          ]
        },
        "id": "pnmJtFYDkRdj",
        "outputId": "bab819dd-49c7-4629-b850-a178e4e7c2d5"
      },
      "source": [
        "list_groups_of_friends_of_friends_df = pd.DataFrame()\r\n",
        "\r\n",
        "for friend_of_friend in tqdm(list_friends_of_friends_df.sample(5000)['id']):#выберем только 5000 случайных друзей, чтобы не нагружать API и не делать гигабайтный датасет\r\n",
        "  try:\r\n",
        "    list_groups_of_friend_of_friends_df = pd.DataFrame( vk.groups.get(user_id=friend_of_friend, extended=1, v=5.126)['items'])\r\n",
        "    list_groups_of_friend_of_friends_df['user_friend_id'] = friend_of_friend\r\n",
        "    list_groups_of_friends_of_friends_df = pd.concat([list_groups_of_friends_of_friends_df, list_groups_of_friend_of_friends_df], axis=0)\r\n",
        "  except vk_api.exceptions.VkApiError:\r\n",
        "    #print(f'ApiError по пользователю {friend}')\r\n",
        "    continue\r\n",
        "list_groups_of_friends_of_friends_df.to_csv('list_groups_of_friends_of_friends_df_5000.csv')"
      ],
      "execution_count": 119,
      "outputs": [
        {
          "output_type": "display_data",
          "data": {
            "application/vnd.jupyter.widget-view+json": {
              "model_id": "197fea63ed8849c98fd789821ee902b5",
              "version_minor": 0,
              "version_major": 2
            },
            "text/plain": [
              "HBox(children=(FloatProgress(value=0.0, max=5000.0), HTML(value='')))"
            ]
          },
          "metadata": {
            "tags": []
          }
        },
        {
          "output_type": "stream",
          "text": [
            "\n"
          ],
          "name": "stdout"
        }
      ]
    },
    {
      "cell_type": "code",
      "metadata": {
        "colab": {
          "base_uri": "https://localhost:8080/",
          "height": 350
        },
        "id": "_fuUFqdOLZcl",
        "outputId": "ca8c323c-3b23-46eb-e525-a0f1b9d9a1b4"
      },
      "source": [
        "list_groups_of_friends_of_friends_df.head()"
      ],
      "execution_count": 121,
      "outputs": [
        {
          "output_type": "execute_result",
          "data": {
            "text/html": [
              "<div>\n",
              "<style scoped>\n",
              "    .dataframe tbody tr th:only-of-type {\n",
              "        vertical-align: middle;\n",
              "    }\n",
              "\n",
              "    .dataframe tbody tr th {\n",
              "        vertical-align: top;\n",
              "    }\n",
              "\n",
              "    .dataframe thead th {\n",
              "        text-align: right;\n",
              "    }\n",
              "</style>\n",
              "<table border=\"1\" class=\"dataframe\">\n",
              "  <thead>\n",
              "    <tr style=\"text-align: right;\">\n",
              "      <th></th>\n",
              "      <th>id</th>\n",
              "      <th>name</th>\n",
              "      <th>screen_name</th>\n",
              "      <th>is_closed</th>\n",
              "      <th>type</th>\n",
              "      <th>is_admin</th>\n",
              "      <th>is_member</th>\n",
              "      <th>is_advertiser</th>\n",
              "      <th>photo_50</th>\n",
              "      <th>photo_100</th>\n",
              "      <th>photo_200</th>\n",
              "      <th>user_friend_id</th>\n",
              "      <th>deactivated</th>\n",
              "    </tr>\n",
              "  </thead>\n",
              "  <tbody>\n",
              "    <tr>\n",
              "      <th>0</th>\n",
              "      <td>33880573.0</td>\n",
              "      <td>THE DUMP</td>\n",
              "      <td>dumpers</td>\n",
              "      <td>0.0</td>\n",
              "      <td>page</td>\n",
              "      <td>0.0</td>\n",
              "      <td>1.0</td>\n",
              "      <td>0.0</td>\n",
              "      <td>https://sun9-43.userapi.com/s/v1/if1/099Fhum7g...</td>\n",
              "      <td>https://sun9-43.userapi.com/s/v1/if1/ul0c2EM4t...</td>\n",
              "      <td>https://sun9-43.userapi.com/s/v1/if1/LKWp0K0Sv...</td>\n",
              "      <td>15812372</td>\n",
              "      <td>NaN</td>\n",
              "    </tr>\n",
              "    <tr>\n",
              "      <th>1</th>\n",
              "      <td>62580435.0</td>\n",
              "      <td>ФРУСТРАЦИЯ</td>\n",
              "      <td>frustrat</td>\n",
              "      <td>0.0</td>\n",
              "      <td>page</td>\n",
              "      <td>0.0</td>\n",
              "      <td>0.0</td>\n",
              "      <td>0.0</td>\n",
              "      <td>https://sun9-45.userapi.com/s/v1/ig1/28y1T1KbX...</td>\n",
              "      <td>https://sun9-45.userapi.com/s/v1/ig1/YfSEt-NBf...</td>\n",
              "      <td>https://sun9-45.userapi.com/s/v1/ig1/l2XRcqDrG...</td>\n",
              "      <td>15812372</td>\n",
              "      <td>NaN</td>\n",
              "    </tr>\n",
              "    <tr>\n",
              "      <th>2</th>\n",
              "      <td>72831913.0</td>\n",
              "      <td>Непаблик 18+</td>\n",
              "      <td>nepublic</td>\n",
              "      <td>0.0</td>\n",
              "      <td>page</td>\n",
              "      <td>0.0</td>\n",
              "      <td>0.0</td>\n",
              "      <td>0.0</td>\n",
              "      <td>https://sun9-32.userapi.com/s/v1/if1/hj9ae-VvA...</td>\n",
              "      <td>https://sun9-32.userapi.com/s/v1/if1/PPknx02Xy...</td>\n",
              "      <td>https://sun9-32.userapi.com/s/v1/if1/7vlfXR8cK...</td>\n",
              "      <td>15812372</td>\n",
              "      <td>NaN</td>\n",
              "    </tr>\n",
              "    <tr>\n",
              "      <th>3</th>\n",
              "      <td>460389.0</td>\n",
              "      <td>БОРЩ</td>\n",
              "      <td>borsch</td>\n",
              "      <td>0.0</td>\n",
              "      <td>page</td>\n",
              "      <td>0.0</td>\n",
              "      <td>0.0</td>\n",
              "      <td>0.0</td>\n",
              "      <td>https://sun9-38.userapi.com/s/v1/ig2/BkrOgl2tY...</td>\n",
              "      <td>https://sun9-38.userapi.com/s/v1/ig2/qDgXFYZcs...</td>\n",
              "      <td>https://sun9-38.userapi.com/s/v1/ig2/GU2-ZZLl8...</td>\n",
              "      <td>15812372</td>\n",
              "      <td>NaN</td>\n",
              "    </tr>\n",
              "    <tr>\n",
              "      <th>4</th>\n",
              "      <td>91795517.0</td>\n",
              "      <td>Салон Бытовых Услуг OKEY в Щелково и Балашихе</td>\n",
              "      <td>okey_s</td>\n",
              "      <td>0.0</td>\n",
              "      <td>page</td>\n",
              "      <td>0.0</td>\n",
              "      <td>0.0</td>\n",
              "      <td>0.0</td>\n",
              "      <td>https://sun9-4.userapi.com/s/v1/ig2/nQWtyYDtPU...</td>\n",
              "      <td>https://sun9-4.userapi.com/s/v1/ig2/8CThOkZWo_...</td>\n",
              "      <td>https://sun9-4.userapi.com/s/v1/ig2/UER9TQaBMi...</td>\n",
              "      <td>15812372</td>\n",
              "      <td>NaN</td>\n",
              "    </tr>\n",
              "  </tbody>\n",
              "</table>\n",
              "</div>"
            ],
            "text/plain": [
              "           id  ... deactivated\n",
              "0  33880573.0  ...         NaN\n",
              "1  62580435.0  ...         NaN\n",
              "2  72831913.0  ...         NaN\n",
              "3    460389.0  ...         NaN\n",
              "4  91795517.0  ...         NaN\n",
              "\n",
              "[5 rows x 13 columns]"
            ]
          },
          "metadata": {
            "tags": []
          },
          "execution_count": 121
        }
      ]
    },
    {
      "cell_type": "markdown",
      "metadata": {
        "id": "2HGb6BFALGOv"
      },
      "source": [
        "Посчитаем количество общих групп друзей друзей пользователя"
      ]
    },
    {
      "cell_type": "code",
      "metadata": {
        "colab": {
          "base_uri": "https://localhost:8080/",
          "height": 402
        },
        "id": "t6fmBwHYlDs-",
        "outputId": "8b316975-8346-4695-ac96-34470ad1399e"
      },
      "source": [
        "freinds_of_friends_groups_freq = list_groups_of_friends_of_friends_df.groupby(['id', 'name'], as_index=False)['type']\\\r\n",
        "         .count()\\\r\n",
        "         .sort_values(by='type',ascending=False)\\\r\n",
        "         .rename(columns={'type':'count'})\r\n",
        "freinds_of_friends_groups_freq"
      ],
      "execution_count": 123,
      "outputs": [
        {
          "output_type": "execute_result",
          "data": {
            "text/html": [
              "<div>\n",
              "<style scoped>\n",
              "    .dataframe tbody tr th:only-of-type {\n",
              "        vertical-align: middle;\n",
              "    }\n",
              "\n",
              "    .dataframe tbody tr th {\n",
              "        vertical-align: top;\n",
              "    }\n",
              "\n",
              "    .dataframe thead th {\n",
              "        text-align: right;\n",
              "    }\n",
              "</style>\n",
              "<table border=\"1\" class=\"dataframe\">\n",
              "  <thead>\n",
              "    <tr style=\"text-align: right;\">\n",
              "      <th></th>\n",
              "      <th>id</th>\n",
              "      <th>name</th>\n",
              "      <th>count</th>\n",
              "    </tr>\n",
              "  </thead>\n",
              "  <tbody>\n",
              "    <tr>\n",
              "      <th>72534</th>\n",
              "      <td>60130670.0</td>\n",
              "      <td>Регион-70 | Томск</td>\n",
              "      <td>323</td>\n",
              "    </tr>\n",
              "    <tr>\n",
              "      <th>26260</th>\n",
              "      <td>30022666.0</td>\n",
              "      <td>Лепра</td>\n",
              "      <td>314</td>\n",
              "    </tr>\n",
              "    <tr>\n",
              "      <th>68742</th>\n",
              "      <td>57846937.0</td>\n",
              "      <td>MDK</td>\n",
              "      <td>305</td>\n",
              "    </tr>\n",
              "    <tr>\n",
              "      <th>25514</th>\n",
              "      <td>29534144.0</td>\n",
              "      <td>Лентач</td>\n",
              "      <td>278</td>\n",
              "    </tr>\n",
              "    <tr>\n",
              "      <th>77376</th>\n",
              "      <td>63731512.0</td>\n",
              "      <td>Vandrouki | Путешествия почти бесплатно (RU)</td>\n",
              "      <td>275</td>\n",
              "    </tr>\n",
              "    <tr>\n",
              "      <th>...</th>\n",
              "      <td>...</td>\n",
              "      <td>...</td>\n",
              "      <td>...</td>\n",
              "    </tr>\n",
              "    <tr>\n",
              "      <th>76379</th>\n",
              "      <td>62933281.0</td>\n",
              "      <td>Флоризиана</td>\n",
              "      <td>1</td>\n",
              "    </tr>\n",
              "    <tr>\n",
              "      <th>76380</th>\n",
              "      <td>62934455.0</td>\n",
              "      <td>Castle</td>\n",
              "      <td>1</td>\n",
              "    </tr>\n",
              "    <tr>\n",
              "      <th>76381</th>\n",
              "      <td>62936629.0</td>\n",
              "      <td>قوس قزح كونشا.</td>\n",
              "      <td>1</td>\n",
              "    </tr>\n",
              "    <tr>\n",
              "      <th>76382</th>\n",
              "      <td>62937110.0</td>\n",
              "      <td>Bimmer.</td>\n",
              "      <td>1</td>\n",
              "    </tr>\n",
              "    <tr>\n",
              "      <th>194020</th>\n",
              "      <td>202706196.0</td>\n",
              "      <td>Lina Badulina</td>\n",
              "      <td>1</td>\n",
              "    </tr>\n",
              "  </tbody>\n",
              "</table>\n",
              "<p>194021 rows × 3 columns</p>\n",
              "</div>"
            ],
            "text/plain": [
              "                 id                                          name  count\n",
              "72534    60130670.0                             Регион-70 | Томск    323\n",
              "26260    30022666.0                                         Лепра    314\n",
              "68742    57846937.0                                           MDK    305\n",
              "25514    29534144.0                                        Лентач    278\n",
              "77376    63731512.0  Vandrouki | Путешествия почти бесплатно (RU)    275\n",
              "...             ...                                           ...    ...\n",
              "76379    62933281.0                                    Флоризиана      1\n",
              "76380    62934455.0                                        Castle      1\n",
              "76381    62936629.0                                قوس قزح كونشا.      1\n",
              "76382    62937110.0                                       Bimmer.      1\n",
              "194020  202706196.0                                 Lina Badulina      1\n",
              "\n",
              "[194021 rows x 3 columns]"
            ]
          },
          "metadata": {
            "tags": []
          },
          "execution_count": 123
        }
      ]
    },
    {
      "cell_type": "code",
      "metadata": {
        "colab": {
          "base_uri": "https://localhost:8080/"
        },
        "id": "G6-NY4qOL_4Z",
        "outputId": "7b034abc-120a-449a-8ecb-219b854f2885"
      },
      "source": [
        "merged_friends_of_friends_df = pd.concat([list_groups_of_friends_of_friends_df, user_groups_df], axis=0)\r\n",
        "merged_friends_of_friends_df.shape"
      ],
      "execution_count": 127,
      "outputs": [
        {
          "output_type": "execute_result",
          "data": {
            "text/plain": [
              "(415375, 15)"
            ]
          },
          "metadata": {
            "tags": []
          },
          "execution_count": 127
        }
      ]
    },
    {
      "cell_type": "code",
      "metadata": {
        "colab": {
          "base_uri": "https://localhost:8080/",
          "height": 350
        },
        "id": "etA5n1hAMhxQ",
        "outputId": "5e56a8f2-4560-43a7-b5f3-59160e0dc719"
      },
      "source": [
        "merged_friends_of_friends_df.head()"
      ],
      "execution_count": 128,
      "outputs": [
        {
          "output_type": "execute_result",
          "data": {
            "text/html": [
              "<div>\n",
              "<style scoped>\n",
              "    .dataframe tbody tr th:only-of-type {\n",
              "        vertical-align: middle;\n",
              "    }\n",
              "\n",
              "    .dataframe tbody tr th {\n",
              "        vertical-align: top;\n",
              "    }\n",
              "\n",
              "    .dataframe thead th {\n",
              "        text-align: right;\n",
              "    }\n",
              "</style>\n",
              "<table border=\"1\" class=\"dataframe\">\n",
              "  <thead>\n",
              "    <tr style=\"text-align: right;\">\n",
              "      <th></th>\n",
              "      <th>id</th>\n",
              "      <th>name</th>\n",
              "      <th>screen_name</th>\n",
              "      <th>is_closed</th>\n",
              "      <th>type</th>\n",
              "      <th>is_admin</th>\n",
              "      <th>is_member</th>\n",
              "      <th>is_advertiser</th>\n",
              "      <th>photo_50</th>\n",
              "      <th>photo_100</th>\n",
              "      <th>photo_200</th>\n",
              "      <th>user_friend_id</th>\n",
              "      <th>deactivated</th>\n",
              "      <th>admin_level</th>\n",
              "      <th>user_id</th>\n",
              "    </tr>\n",
              "  </thead>\n",
              "  <tbody>\n",
              "    <tr>\n",
              "      <th>0</th>\n",
              "      <td>33880573.0</td>\n",
              "      <td>THE DUMP</td>\n",
              "      <td>dumpers</td>\n",
              "      <td>0.0</td>\n",
              "      <td>page</td>\n",
              "      <td>0.0</td>\n",
              "      <td>1.0</td>\n",
              "      <td>0.0</td>\n",
              "      <td>https://sun9-43.userapi.com/s/v1/if1/099Fhum7g...</td>\n",
              "      <td>https://sun9-43.userapi.com/s/v1/if1/ul0c2EM4t...</td>\n",
              "      <td>https://sun9-43.userapi.com/s/v1/if1/LKWp0K0Sv...</td>\n",
              "      <td>15812372.0</td>\n",
              "      <td>NaN</td>\n",
              "      <td>NaN</td>\n",
              "      <td>NaN</td>\n",
              "    </tr>\n",
              "    <tr>\n",
              "      <th>1</th>\n",
              "      <td>62580435.0</td>\n",
              "      <td>ФРУСТРАЦИЯ</td>\n",
              "      <td>frustrat</td>\n",
              "      <td>0.0</td>\n",
              "      <td>page</td>\n",
              "      <td>0.0</td>\n",
              "      <td>0.0</td>\n",
              "      <td>0.0</td>\n",
              "      <td>https://sun9-45.userapi.com/s/v1/ig1/28y1T1KbX...</td>\n",
              "      <td>https://sun9-45.userapi.com/s/v1/ig1/YfSEt-NBf...</td>\n",
              "      <td>https://sun9-45.userapi.com/s/v1/ig1/l2XRcqDrG...</td>\n",
              "      <td>15812372.0</td>\n",
              "      <td>NaN</td>\n",
              "      <td>NaN</td>\n",
              "      <td>NaN</td>\n",
              "    </tr>\n",
              "    <tr>\n",
              "      <th>2</th>\n",
              "      <td>72831913.0</td>\n",
              "      <td>Непаблик 18+</td>\n",
              "      <td>nepublic</td>\n",
              "      <td>0.0</td>\n",
              "      <td>page</td>\n",
              "      <td>0.0</td>\n",
              "      <td>0.0</td>\n",
              "      <td>0.0</td>\n",
              "      <td>https://sun9-32.userapi.com/s/v1/if1/hj9ae-VvA...</td>\n",
              "      <td>https://sun9-32.userapi.com/s/v1/if1/PPknx02Xy...</td>\n",
              "      <td>https://sun9-32.userapi.com/s/v1/if1/7vlfXR8cK...</td>\n",
              "      <td>15812372.0</td>\n",
              "      <td>NaN</td>\n",
              "      <td>NaN</td>\n",
              "      <td>NaN</td>\n",
              "    </tr>\n",
              "    <tr>\n",
              "      <th>3</th>\n",
              "      <td>460389.0</td>\n",
              "      <td>БОРЩ</td>\n",
              "      <td>borsch</td>\n",
              "      <td>0.0</td>\n",
              "      <td>page</td>\n",
              "      <td>0.0</td>\n",
              "      <td>0.0</td>\n",
              "      <td>0.0</td>\n",
              "      <td>https://sun9-38.userapi.com/s/v1/ig2/BkrOgl2tY...</td>\n",
              "      <td>https://sun9-38.userapi.com/s/v1/ig2/qDgXFYZcs...</td>\n",
              "      <td>https://sun9-38.userapi.com/s/v1/ig2/GU2-ZZLl8...</td>\n",
              "      <td>15812372.0</td>\n",
              "      <td>NaN</td>\n",
              "      <td>NaN</td>\n",
              "      <td>NaN</td>\n",
              "    </tr>\n",
              "    <tr>\n",
              "      <th>4</th>\n",
              "      <td>91795517.0</td>\n",
              "      <td>Салон Бытовых Услуг OKEY в Щелково и Балашихе</td>\n",
              "      <td>okey_s</td>\n",
              "      <td>0.0</td>\n",
              "      <td>page</td>\n",
              "      <td>0.0</td>\n",
              "      <td>0.0</td>\n",
              "      <td>0.0</td>\n",
              "      <td>https://sun9-4.userapi.com/s/v1/ig2/nQWtyYDtPU...</td>\n",
              "      <td>https://sun9-4.userapi.com/s/v1/ig2/8CThOkZWo_...</td>\n",
              "      <td>https://sun9-4.userapi.com/s/v1/ig2/UER9TQaBMi...</td>\n",
              "      <td>15812372.0</td>\n",
              "      <td>NaN</td>\n",
              "      <td>NaN</td>\n",
              "      <td>NaN</td>\n",
              "    </tr>\n",
              "  </tbody>\n",
              "</table>\n",
              "</div>"
            ],
            "text/plain": [
              "           id  ... user_id\n",
              "0  33880573.0  ...     NaN\n",
              "1  62580435.0  ...     NaN\n",
              "2  72831913.0  ...     NaN\n",
              "3    460389.0  ...     NaN\n",
              "4  91795517.0  ...     NaN\n",
              "\n",
              "[5 rows x 15 columns]"
            ]
          },
          "metadata": {
            "tags": []
          },
          "execution_count": 128
        }
      ]
    },
    {
      "cell_type": "code",
      "metadata": {
        "colab": {
          "base_uri": "https://localhost:8080/",
          "height": 402
        },
        "id": "ITsqzAzHnA_w",
        "outputId": "8ca89df8-428a-4106-ce34-a20cc88137f6"
      },
      "source": [
        "commons_friends_of_friends_groups_freq = merged_friends_of_friends_df[merged_friends_of_friends_df.id.isin(user_groups_df.id)].groupby(['id', 'name'], as_index=False)\\\r\n",
        "         .agg({'type':'count'})\\\r\n",
        "         .sort_values(by='type',ascending=False)\\\r\n",
        "         .rename(columns={'type':'count'})\r\n",
        "commons_friends_of_friends_groups_freq"
      ],
      "execution_count": 129,
      "outputs": [
        {
          "output_type": "execute_result",
          "data": {
            "text/html": [
              "<div>\n",
              "<style scoped>\n",
              "    .dataframe tbody tr th:only-of-type {\n",
              "        vertical-align: middle;\n",
              "    }\n",
              "\n",
              "    .dataframe tbody tr th {\n",
              "        vertical-align: top;\n",
              "    }\n",
              "\n",
              "    .dataframe thead th {\n",
              "        text-align: right;\n",
              "    }\n",
              "</style>\n",
              "<table border=\"1\" class=\"dataframe\">\n",
              "  <thead>\n",
              "    <tr style=\"text-align: right;\">\n",
              "      <th></th>\n",
              "      <th>id</th>\n",
              "      <th>name</th>\n",
              "      <th>count</th>\n",
              "    </tr>\n",
              "  </thead>\n",
              "  <tbody>\n",
              "    <tr>\n",
              "      <th>62</th>\n",
              "      <td>29534144.0</td>\n",
              "      <td>Лентач</td>\n",
              "      <td>279</td>\n",
              "    </tr>\n",
              "    <tr>\n",
              "      <th>131</th>\n",
              "      <td>63731512.0</td>\n",
              "      <td>Vandrouki | Путешествия почти бесплатно (RU)</td>\n",
              "      <td>276</td>\n",
              "    </tr>\n",
              "    <tr>\n",
              "      <th>71</th>\n",
              "      <td>31480508.0</td>\n",
              "      <td>Пикабу</td>\n",
              "      <td>268</td>\n",
              "    </tr>\n",
              "    <tr>\n",
              "      <th>43</th>\n",
              "      <td>24098496.0</td>\n",
              "      <td>E.squirе</td>\n",
              "      <td>188</td>\n",
              "    </tr>\n",
              "    <tr>\n",
              "      <th>38</th>\n",
              "      <td>22822305.0</td>\n",
              "      <td>ВКонтакте</td>\n",
              "      <td>177</td>\n",
              "    </tr>\n",
              "    <tr>\n",
              "      <th>...</th>\n",
              "      <td>...</td>\n",
              "      <td>...</td>\n",
              "      <td>...</td>\n",
              "    </tr>\n",
              "    <tr>\n",
              "      <th>156</th>\n",
              "      <td>78318731.0</td>\n",
              "      <td>2Brothers Casual Showroom</td>\n",
              "      <td>1</td>\n",
              "    </tr>\n",
              "    <tr>\n",
              "      <th>52</th>\n",
              "      <td>26277718.0</td>\n",
              "      <td>Найти IT Online | Санкт-Петербург</td>\n",
              "      <td>1</td>\n",
              "    </tr>\n",
              "    <tr>\n",
              "      <th>44</th>\n",
              "      <td>24151370.0</td>\n",
              "      <td>Mishka bar</td>\n",
              "      <td>1</td>\n",
              "    </tr>\n",
              "    <tr>\n",
              "      <th>36</th>\n",
              "      <td>22631975.0</td>\n",
              "      <td>FutureToday</td>\n",
              "      <td>1</td>\n",
              "    </tr>\n",
              "    <tr>\n",
              "      <th>242</th>\n",
              "      <td>197700721.0</td>\n",
              "      <td>Вездекод | Хакатон ВКонтакте</td>\n",
              "      <td>1</td>\n",
              "    </tr>\n",
              "  </tbody>\n",
              "</table>\n",
              "<p>243 rows × 3 columns</p>\n",
              "</div>"
            ],
            "text/plain": [
              "              id                                          name  count\n",
              "62    29534144.0                                        Лентач    279\n",
              "131   63731512.0  Vandrouki | Путешествия почти бесплатно (RU)    276\n",
              "71    31480508.0                                        Пикабу    268\n",
              "43    24098496.0                                      E.squirе    188\n",
              "38    22822305.0                                     ВКонтакте    177\n",
              "..           ...                                           ...    ...\n",
              "156   78318731.0                     2Brothers Casual Showroom      1\n",
              "52    26277718.0             Найти IT Online | Санкт-Петербург      1\n",
              "44    24151370.0                                    Mishka bar      1\n",
              "36    22631975.0                                   FutureToday      1\n",
              "242  197700721.0                  Вездекод | Хакатон ВКонтакте      1\n",
              "\n",
              "[243 rows x 3 columns]"
            ]
          },
          "metadata": {
            "tags": []
          },
          "execution_count": 129
        }
      ]
    },
    {
      "cell_type": "code",
      "metadata": {
        "colab": {
          "base_uri": "https://localhost:8080/",
          "height": 311
        },
        "id": "_XkPOQzv921Y",
        "outputId": "02f29981-564d-41ba-d21a-9f068e0eecbc"
      },
      "source": [
        "f = plt.figure(figsize=(20, 6))\r\n",
        "gs = f.add_gridspec(1, 2)\r\n",
        "\r\n",
        "ax = f.add_subplot(gs[0, 0])\r\n",
        "sns.barplot(x=commons_friends_of_friends_groups_freq['count'][:30], y=commons_friends_of_friends_groups_freq['name'][:30], saturation=.3, color='blue')\r\n",
        "ax.set_title('Common groups')\r\n",
        "\r\n",
        "ax = f.add_subplot(gs[0, 1])\r\n",
        "sns.barplot(x=freinds_of_friends_groups_freq['count'][:30], y=freinds_of_friends_groups_freq['name'][:30], saturation=.3, color='blue')\r\n",
        "ax.set_title('Friends of friends groups')\r\n",
        "f.tight_layout()"
      ],
      "execution_count": 130,
      "outputs": [
        {
          "output_type": "display_data",
          "data": {
            "image/png": "[encoded data removed]",
            "text/plain": [
              "<Figure size 1440x432 with 2 Axes>"
            ]
          },
          "metadata": {
            "tags": []
          }
        }
      ]
    },
    {
      "cell_type": "markdown",
      "metadata": {
        "id": "XVB0itTiNbSZ"
      },
      "source": [
        "Распределение частоты сообществ немного изменилось.\r\n",
        "Выделилась явная тройка лидеров по общим группам - это Лентач, Vandoruki, Пикабу. Но подавляющее число групп друзей друзей не входит в круг интересов пользователя. Явно преобладают люди из города Томск, много развлекательных групп и групп о творчестве (музыка, кино и даже стихи - 7 место)"
      ]
    },
    {
      "cell_type": "code",
      "metadata": {
        "id": "LJ0y5aymiAwx"
      },
      "source": [
        ""
      ],
      "execution_count": 120,
      "outputs": []
    },
    {
      "cell_type": "code",
      "metadata": {
        "id": "ZPeup-CkBQtZ"
      },
      "source": [
        ""
      ],
      "execution_count": null,
      "outputs": []
    }
  ]
}