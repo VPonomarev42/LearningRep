{
  "nbformat": 4,
  "nbformat_minor": 0,
  "metadata": {
    "colab": {
      "name": "VK_pet_project.ipynb",
      "provenance": [],
      "toc_visible": true,
      "authorship_tag": "ABX9TyPuL7auTPdevaRbhJQk4HoQ"
    },
    "kernelspec": {
      "name": "python3",
      "display_name": "Python 3"
    },
    "widgets": {
      "application/vnd.jupyter.widget-state+json": {
        "ae89a61d01b6445e9b1ce0f30584e191": {
          "model_module": "@jupyter-widgets/controls",
          "model_name": "HBoxModel",
          "state": {
            "_view_name": "HBoxView",
            "_dom_classes": [],
            "_model_name": "HBoxModel",
            "_view_module": "@jupyter-widgets/controls",
            "_model_module_version": "1.5.0",
            "_view_count": null,
            "_view_module_version": "1.5.0",
            "box_style": "",
            "layout": "IPY_MODEL_e581d3e589144ef4b21c44cfed6a2e15",
            "_model_module": "@jupyter-widgets/controls",
            "children": [
              "IPY_MODEL_578158c0c2da4a4bb640c974898425ab",
              "IPY_MODEL_5e91751033d444d2b6f10c07a14c82f6"
            ]
          }
        },
        "e581d3e589144ef4b21c44cfed6a2e15": {
          "model_module": "@jupyter-widgets/base",
          "model_name": "LayoutModel",
          "state": {
            "_view_name": "LayoutView",
            "grid_template_rows": null,
            "right": null,
            "justify_content": null,
            "_view_module": "@jupyter-widgets/base",
            "overflow": null,
            "_model_module_version": "1.2.0",
            "_view_count": null,
            "flex_flow": null,
            "width": null,
            "min_width": null,
            "border": null,
            "align_items": null,
            "bottom": null,
            "_model_module": "@jupyter-widgets/base",
            "top": null,
            "grid_column": null,
            "overflow_y": null,
            "overflow_x": null,
            "grid_auto_flow": null,
            "grid_area": null,
            "grid_template_columns": null,
            "flex": null,
            "_model_name": "LayoutModel",
            "justify_items": null,
            "grid_row": null,
            "max_height": null,
            "align_content": null,
            "visibility": null,
            "align_self": null,
            "height": null,
            "min_height": null,
            "padding": null,
            "grid_auto_rows": null,
            "grid_gap": null,
            "max_width": null,
            "order": null,
            "_view_module_version": "1.2.0",
            "grid_template_areas": null,
            "object_position": null,
            "object_fit": null,
            "grid_auto_columns": null,
            "margin": null,
            "display": null,
            "left": null
          }
        },
        "578158c0c2da4a4bb640c974898425ab": {
          "model_module": "@jupyter-widgets/controls",
          "model_name": "FloatProgressModel",
          "state": {
            "_view_name": "ProgressView",
            "style": "IPY_MODEL_8fde188f79d449328ff812d664ff6fc9",
            "_dom_classes": [],
            "description": "100%",
            "_model_name": "FloatProgressModel",
            "bar_style": "success",
            "max": 117,
            "_view_module": "@jupyter-widgets/controls",
            "_model_module_version": "1.5.0",
            "value": 117,
            "_view_count": null,
            "_view_module_version": "1.5.0",
            "orientation": "horizontal",
            "min": 0,
            "description_tooltip": null,
            "_model_module": "@jupyter-widgets/controls",
            "layout": "IPY_MODEL_8aaf78b5b819466380b916595b137e9f"
          }
        },
        "5e91751033d444d2b6f10c07a14c82f6": {
          "model_module": "@jupyter-widgets/controls",
          "model_name": "HTMLModel",
          "state": {
            "_view_name": "HTMLView",
            "style": "IPY_MODEL_f2fa9597a6954347b647c55f9757a7f9",
            "_dom_classes": [],
            "description": "",
            "_model_name": "HTMLModel",
            "placeholder": "​",
            "_view_module": "@jupyter-widgets/controls",
            "_model_module_version": "1.5.0",
            "value": " 117/117 [01:17&lt;00:00,  1.51it/s]",
            "_view_count": null,
            "_view_module_version": "1.5.0",
            "description_tooltip": null,
            "_model_module": "@jupyter-widgets/controls",
            "layout": "IPY_MODEL_a688ac4b58d548889c4b14c5020114b1"
          }
        },
        "8fde188f79d449328ff812d664ff6fc9": {
          "model_module": "@jupyter-widgets/controls",
          "model_name": "ProgressStyleModel",
          "state": {
            "_view_name": "StyleView",
            "_model_name": "ProgressStyleModel",
            "description_width": "initial",
            "_view_module": "@jupyter-widgets/base",
            "_model_module_version": "1.5.0",
            "_view_count": null,
            "_view_module_version": "1.2.0",
            "bar_color": null,
            "_model_module": "@jupyter-widgets/controls"
          }
        },
        "8aaf78b5b819466380b916595b137e9f": {
          "model_module": "@jupyter-widgets/base",
          "model_name": "LayoutModel",
          "state": {
            "_view_name": "LayoutView",
            "grid_template_rows": null,
            "right": null,
            "justify_content": null,
            "_view_module": "@jupyter-widgets/base",
            "overflow": null,
            "_model_module_version": "1.2.0",
            "_view_count": null,
            "flex_flow": null,
            "width": null,
            "min_width": null,
            "border": null,
            "align_items": null,
            "bottom": null,
            "_model_module": "@jupyter-widgets/base",
            "top": null,
            "grid_column": null,
            "overflow_y": null,
            "overflow_x": null,
            "grid_auto_flow": null,
            "grid_area": null,
            "grid_template_columns": null,
            "flex": null,
            "_model_name": "LayoutModel",
            "justify_items": null,
            "grid_row": null,
            "max_height": null,
            "align_content": null,
            "visibility": null,
            "align_self": null,
            "height": null,
            "min_height": null,
            "padding": null,
            "grid_auto_rows": null,
            "grid_gap": null,
            "max_width": null,
            "order": null,
            "_view_module_version": "1.2.0",
            "grid_template_areas": null,
            "object_position": null,
            "object_fit": null,
            "grid_auto_columns": null,
            "margin": null,
            "display": null,
            "left": null
          }
        },
        "f2fa9597a6954347b647c55f9757a7f9": {
          "model_module": "@jupyter-widgets/controls",
          "model_name": "DescriptionStyleModel",
          "state": {
            "_view_name": "StyleView",
            "_model_name": "DescriptionStyleModel",
            "description_width": "",
            "_view_module": "@jupyter-widgets/base",
            "_model_module_version": "1.5.0",
            "_view_count": null,
            "_view_module_version": "1.2.0",
            "_model_module": "@jupyter-widgets/controls"
          }
        },
        "a688ac4b58d548889c4b14c5020114b1": {
          "model_module": "@jupyter-widgets/base",
          "model_name": "LayoutModel",
          "state": {
            "_view_name": "LayoutView",
            "grid_template_rows": null,
            "right": null,
            "justify_content": null,
            "_view_module": "@jupyter-widgets/base",
            "overflow": null,
            "_model_module_version": "1.2.0",
            "_view_count": null,
            "flex_flow": null,
            "width": null,
            "min_width": null,
            "border": null,
            "align_items": null,
            "bottom": null,
            "_model_module": "@jupyter-widgets/base",
            "top": null,
            "grid_column": null,
            "overflow_y": null,
            "overflow_x": null,
            "grid_auto_flow": null,
            "grid_area": null,
            "grid_template_columns": null,
            "flex": null,
            "_model_name": "LayoutModel",
            "justify_items": null,
            "grid_row": null,
            "max_height": null,
            "align_content": null,
            "visibility": null,
            "align_self": null,
            "height": null,
            "min_height": null,
            "padding": null,
            "grid_auto_rows": null,
            "grid_gap": null,
            "max_width": null,
            "order": null,
            "_view_module_version": "1.2.0",
            "grid_template_areas": null,
            "object_position": null,
            "object_fit": null,
            "grid_auto_columns": null,
            "margin": null,
            "display": null,
            "left": null
          }
        },
        "197fea63ed8849c98fd789821ee902b5": {
          "model_module": "@jupyter-widgets/controls",
          "model_name": "HBoxModel",
          "state": {
            "_view_name": "HBoxView",
            "_dom_classes": [],
            "_model_name": "HBoxModel",
            "_view_module": "@jupyter-widgets/controls",
            "_model_module_version": "1.5.0",
            "_view_count": null,
            "_view_module_version": "1.5.0",
            "box_style": "",
            "layout": "IPY_MODEL_dbc4de40d73f422690f94c74d6ff8d43",
            "_model_module": "@jupyter-widgets/controls",
            "children": [
              "IPY_MODEL_094c3ddcf87f41209108e5f24c75e368",
              "IPY_MODEL_b0f9df2aa4ac4e19b6e663fd9874fd3b"
            ]
          }
        },
        "dbc4de40d73f422690f94c74d6ff8d43": {
          "model_module": "@jupyter-widgets/base",
          "model_name": "LayoutModel",
          "state": {
            "_view_name": "LayoutView",
            "grid_template_rows": null,
            "right": null,
            "justify_content": null,
            "_view_module": "@jupyter-widgets/base",
            "overflow": null,
            "_model_module_version": "1.2.0",
            "_view_count": null,
            "flex_flow": null,
            "width": null,
            "min_width": null,
            "border": null,
            "align_items": null,
            "bottom": null,
            "_model_module": "@jupyter-widgets/base",
            "top": null,
            "grid_column": null,
            "overflow_y": null,
            "overflow_x": null,
            "grid_auto_flow": null,
            "grid_area": null,
            "grid_template_columns": null,
            "flex": null,
            "_model_name": "LayoutModel",
            "justify_items": null,
            "grid_row": null,
            "max_height": null,
            "align_content": null,
            "visibility": null,
            "align_self": null,
            "height": null,
            "min_height": null,
            "padding": null,
            "grid_auto_rows": null,
            "grid_gap": null,
            "max_width": null,
            "order": null,
            "_view_module_version": "1.2.0",
            "grid_template_areas": null,
            "object_position": null,
            "object_fit": null,
            "grid_auto_columns": null,
            "margin": null,
            "display": null,
            "left": null
          }
        },
        "094c3ddcf87f41209108e5f24c75e368": {
          "model_module": "@jupyter-widgets/controls",
          "model_name": "FloatProgressModel",
          "state": {
            "_view_name": "ProgressView",
            "style": "IPY_MODEL_d8f308b8655349ec8db7585558152b01",
            "_dom_classes": [],
            "description": "100%",
            "_model_name": "FloatProgressModel",
            "bar_style": "success",
            "max": 5000,
            "_view_module": "@jupyter-widgets/controls",
            "_model_module_version": "1.5.0",
            "value": 5000,
            "_view_count": null,
            "_view_module_version": "1.5.0",
            "orientation": "horizontal",
            "min": 0,
            "description_tooltip": null,
            "_model_module": "@jupyter-widgets/controls",
            "layout": "IPY_MODEL_714e7358a8564587ac71f9726e04207e"
          }
        },
        "b0f9df2aa4ac4e19b6e663fd9874fd3b": {
          "model_module": "@jupyter-widgets/controls",
          "model_name": "HTMLModel",
          "state": {
            "_view_name": "HTMLView",
            "style": "IPY_MODEL_d5066a61828141b9b4289f2222ead179",
            "_dom_classes": [],
            "description": "",
            "_model_name": "HTMLModel",
            "placeholder": "​",
            "_view_module": "@jupyter-widgets/controls",
            "_model_module_version": "1.5.0",
            "value": " 5000/5000 [41:34&lt;00:00,  2.00it/s]",
            "_view_count": null,
            "_view_module_version": "1.5.0",
            "description_tooltip": null,
            "_model_module": "@jupyter-widgets/controls",
            "layout": "IPY_MODEL_c491b26202a1416a9e49785112e24e56"
          }
        },
        "d8f308b8655349ec8db7585558152b01": {
          "model_module": "@jupyter-widgets/controls",
          "model_name": "ProgressStyleModel",
          "state": {
            "_view_name": "StyleView",
            "_model_name": "ProgressStyleModel",
            "description_width": "initial",
            "_view_module": "@jupyter-widgets/base",
            "_model_module_version": "1.5.0",
            "_view_count": null,
            "_view_module_version": "1.2.0",
            "bar_color": null,
            "_model_module": "@jupyter-widgets/controls"
          }
        },
        "714e7358a8564587ac71f9726e04207e": {
          "model_module": "@jupyter-widgets/base",
          "model_name": "LayoutModel",
          "state": {
            "_view_name": "LayoutView",
            "grid_template_rows": null,
            "right": null,
            "justify_content": null,
            "_view_module": "@jupyter-widgets/base",
            "overflow": null,
            "_model_module_version": "1.2.0",
            "_view_count": null,
            "flex_flow": null,
            "width": null,
            "min_width": null,
            "border": null,
            "align_items": null,
            "bottom": null,
            "_model_module": "@jupyter-widgets/base",
            "top": null,
            "grid_column": null,
            "overflow_y": null,
            "overflow_x": null,
            "grid_auto_flow": null,
            "grid_area": null,
            "grid_template_columns": null,
            "flex": null,
            "_model_name": "LayoutModel",
            "justify_items": null,
            "grid_row": null,
            "max_height": null,
            "align_content": null,
            "visibility": null,
            "align_self": null,
            "height": null,
            "min_height": null,
            "padding": null,
            "grid_auto_rows": null,
            "grid_gap": null,
            "max_width": null,
            "order": null,
            "_view_module_version": "1.2.0",
            "grid_template_areas": null,
            "object_position": null,
            "object_fit": null,
            "grid_auto_columns": null,
            "margin": null,
            "display": null,
            "left": null
          }
        },
        "d5066a61828141b9b4289f2222ead179": {
          "model_module": "@jupyter-widgets/controls",
          "model_name": "DescriptionStyleModel",
          "state": {
            "_view_name": "StyleView",
            "_model_name": "DescriptionStyleModel",
            "description_width": "",
            "_view_module": "@jupyter-widgets/base",
            "_model_module_version": "1.5.0",
            "_view_count": null,
            "_view_module_version": "1.2.0",
            "_model_module": "@jupyter-widgets/controls"
          }
        },
        "c491b26202a1416a9e49785112e24e56": {
          "model_module": "@jupyter-widgets/base",
          "model_name": "LayoutModel",
          "state": {
            "_view_name": "LayoutView",
            "grid_template_rows": null,
            "right": null,
            "justify_content": null,
            "_view_module": "@jupyter-widgets/base",
            "overflow": null,
            "_model_module_version": "1.2.0",
            "_view_count": null,
            "flex_flow": null,
            "width": null,
            "min_width": null,
            "border": null,
            "align_items": null,
            "bottom": null,
            "_model_module": "@jupyter-widgets/base",
            "top": null,
            "grid_column": null,
            "overflow_y": null,
            "overflow_x": null,
            "grid_auto_flow": null,
            "grid_area": null,
            "grid_template_columns": null,
            "flex": null,
            "_model_name": "LayoutModel",
            "justify_items": null,
            "grid_row": null,
            "max_height": null,
            "align_content": null,
            "visibility": null,
            "align_self": null,
            "height": null,
            "min_height": null,
            "padding": null,
            "grid_auto_rows": null,
            "grid_gap": null,
            "max_width": null,
            "order": null,
            "_view_module_version": "1.2.0",
            "grid_template_areas": null,
            "object_position": null,
            "object_fit": null,
            "grid_auto_columns": null,
            "margin": null,
            "display": null,
            "left": null
          }
        }
      }
    }
  },
  "cells": [
    {
      "cell_type": "markdown",
      "metadata": {
        "id": "RPQvGlfd12dY"
      },
      "source": [
        "## Задача\r\n",
        "Проанализировать сообщества пользователя во Вконтакте: \r\n",
        "1. Найти сообщества, с наибольшим общим количеством друзей \r\n",
        "2. Найти сообщества, с наибольшим общим количеством друзей друзей пользователя\r\n",
        "3. Предложить гипотезу по применению полученной информации"
      ]
    },
    {
      "cell_type": "code",
      "metadata": {
        "id": "FuUptiOm1oot"
      },
      "source": [
        "import pandas as pd\r\n",
        "import requests\r\n",
        "import seaborn as sns\r\n",
        "import matplotlib.pylab as plt\r\n",
        "from tqdm.auto import tqdm\r\n",
        "\r\n",
        "%matplotlib inline\r\n",
        "sns.set(rc={'figure.figsize':(15,9)}, style='whitegrid')"
      ],
      "execution_count": null,
      "outputs": []
    },
    {
      "cell_type": "code",
      "metadata": {
        "colab": {
          "base_uri": "https://localhost:8080/"
        },
        "id": "G5vF6qh71u52",
        "outputId": "1f857fb6-0be0-488d-a65e-b6945b523fcf"
      },
      "source": [
        "%pip install vk_api"
      ],
      "execution_count": null,
      "outputs": [
        {
          "output_type": "stream",
          "text": [
            "Collecting vk_api\n",
            "  Downloading https://files.pythonhosted.org/packages/25/55/e15721b00dabb5eff7ec87918016ee20a0a73f6c7f5c152643330ae86e84/vk_api-11.9.1.tar.gz\n",
            "Requirement already satisfied: requests in /usr/local/lib/python3.6/dist-packages (from vk_api) (2.23.0)\n",
            "Requirement already satisfied: six in /usr/local/lib/python3.6/dist-packages (from vk_api) (1.15.0)\n",
            "Requirement already satisfied: urllib3!=1.25.0,!=1.25.1,<1.26,>=1.21.1 in /usr/local/lib/python3.6/dist-packages (from requests->vk_api) (1.24.3)\n",
            "Requirement already satisfied: idna<3,>=2.5 in /usr/local/lib/python3.6/dist-packages (from requests->vk_api) (2.10)\n",
            "Requirement already satisfied: certifi>=2017.4.17 in /usr/local/lib/python3.6/dist-packages (from requests->vk_api) (2020.12.5)\n",
            "Requirement already satisfied: chardet<4,>=3.0.2 in /usr/local/lib/python3.6/dist-packages (from requests->vk_api) (3.0.4)\n",
            "Building wheels for collected packages: vk-api\n",
            "  Building wheel for vk-api (setup.py) ... \u001b[?25l\u001b[?25hdone\n",
            "  Created wheel for vk-api: filename=vk_api-11.9.1-cp36-none-any.whl size=44097 sha256=e1422180a244b2dfc3e2af55b9dee62820374f2d5d9379f6088fcf91ebb94f4e\n",
            "  Stored in directory: /root/.cache/pip/wheels/fc/43/59/8fba75529a5b85d5ff706007d699ab18bb90b7b54e074797c5\n",
            "Successfully built vk-api\n",
            "Installing collected packages: vk-api\n",
            "Successfully installed vk-api-11.9.1\n"
          ],
          "name": "stdout"
        }
      ]
    },
    {
      "cell_type": "code",
      "metadata": {
        "id": "sLbxY_fH2j-C"
      },
      "source": [
        "import vk_api"
      ],
      "execution_count": null,
      "outputs": []
    },
    {
      "cell_type": "markdown",
      "metadata": {
        "id": "wtTT6X6D2e__"
      },
      "source": [
        "\r\n",
        "\r\n",
        "---\r\n",
        "\r\n",
        "---\r\n",
        "\r\n",
        "\r\n",
        "\r\n"
      ]
    },
    {
      "cell_type": "markdown",
      "metadata": {
        "id": "rxO3dA2N2cav"
      },
      "source": [
        "## 1."
      ]
    },
    {
      "cell_type": "code",
      "metadata": {
        "id": "moq-WJsm1xss"
      },
      "source": [
        "\r\n",
        "def auth_handler():\r\n",
        "    \"\"\" При двухфакторной аутентификации вызывается эта функция.\r\n",
        "    \"\"\"\r\n",
        "    # Код двухфакторной аутентификации\r\n",
        "    key = input(\"Enter authentication code: \")\r\n",
        "    # Если: True - сохранить, False - не сохранять.\r\n",
        "    remember_device = True\r\n",
        "    return key, remember_device\r\n",
        "\r\n",
        "def vk_session_init(user_login, user_password):\r\n",
        "  vk_session = vk_api.VkApi(\r\n",
        "    user_login, user_password,\r\n",
        "    auth_handler=auth_handler # функция для обработки двухфакторной аутентификации\r\n",
        "  )\r\n",
        "  return vk_session"
      ],
      "execution_count": null,
      "outputs": []
    },
    {
      "cell_type": "code",
      "metadata": {
        "colab": {
          "base_uri": "https://localhost:8080/"
        },
        "id": "BwmMY2Oa3Xqp",
        "outputId": "e3298398-4df0-47c8-a719-93639335fc4d"
      },
      "source": [
        "user_login = ''\r\n",
        "user_password = ''\r\n",
        "vk_session = vk_session_init(user_login, user_password)\r\n",
        "try:\r\n",
        "    vk_session.auth()\r\n",
        "except vk_api.AuthError as error_msg:\r\n",
        "    print(error_msg)\r\n",
        "vk = vk_session.get_api()"
      ],
      "execution_count": null,
      "outputs": [
        {
          "output_type": "stream",
          "text": [
            "Enter authentication code: 265715\n"
          ],
          "name": "stdout"
        }
      ]
    },
    {
      "cell_type": "markdown",
      "metadata": {
        "id": "hP9rwjj26smL"
      },
      "source": [
        "Получим список групп пользователя, список друзей и список групп друзей, а в конце объединим эти два списка."
      ]
    },
    {
      "cell_type": "code",
      "metadata": {
        "id": "IADczg_N4PcX"
      },
      "source": [
        "#user_id = vk.users.get()[0]['id'] #получаем id авторизованного пользователя\r\n",
        "user_id = 55420799\r\n",
        "#user_id"
      ],
      "execution_count": 46,
      "outputs": []
    },
    {
      "cell_type": "code",
      "metadata": {
        "id": "5-VCt2KeL9Hg"
      },
      "source": [
        "user_groups_df = pd.read_csv('user_groups_df.csv') #на случай, если данные уже загружены, тогда пропускаем след. ячейку"
      ],
      "execution_count": null,
      "outputs": []
    },
    {
      "cell_type": "code",
      "metadata": {
        "colab": {
          "base_uri": "https://localhost:8080/",
          "height": 299
        },
        "id": "jwC1xvW_3WwP",
        "outputId": "3ed88d32-3af6-41eb-8cc5-7facbfdee260"
      },
      "source": [
        "user_groups = vk.groups.get(user_id=user_id, extended=1)\r\n",
        "user_groups_df = pd.DataFrame(user_groups['items'])\r\n",
        "user_groups_df['user_id'] = user_id\r\n",
        "user_groups_df.head()"
      ],
      "execution_count": null,
      "outputs": [
        {
          "output_type": "execute_result",
          "data": {
            "text/html": [
              "<div>\n",
              "<style scoped>\n",
              "    .dataframe tbody tr th:only-of-type {\n",
              "        vertical-align: middle;\n",
              "    }\n",
              "\n",
              "    .dataframe tbody tr th {\n",
              "        vertical-align: top;\n",
              "    }\n",
              "\n",
              "    .dataframe thead th {\n",
              "        text-align: right;\n",
              "    }\n",
              "</style>\n",
              "<table border=\"1\" class=\"dataframe\">\n",
              "  <thead>\n",
              "    <tr style=\"text-align: right;\">\n",
              "      <th></th>\n",
              "      <th>id</th>\n",
              "      <th>name</th>\n",
              "      <th>screen_name</th>\n",
              "      <th>is_closed</th>\n",
              "      <th>type</th>\n",
              "      <th>is_admin</th>\n",
              "      <th>is_member</th>\n",
              "      <th>is_advertiser</th>\n",
              "      <th>photo_50</th>\n",
              "      <th>photo_100</th>\n",
              "      <th>photo_200</th>\n",
              "      <th>admin_level</th>\n",
              "      <th>user_id</th>\n",
              "    </tr>\n",
              "  </thead>\n",
              "  <tbody>\n",
              "    <tr>\n",
              "      <th>0</th>\n",
              "      <td>125004421</td>\n",
              "      <td>Настоящий Лентач</td>\n",
              "      <td>true_lentach</td>\n",
              "      <td>0</td>\n",
              "      <td>page</td>\n",
              "      <td>0</td>\n",
              "      <td>1</td>\n",
              "      <td>0</td>\n",
              "      <td>https://sun1-17.userapi.com/s/v1/ig2/35DtoNB6E...</td>\n",
              "      <td>https://sun1-17.userapi.com/s/v1/ig2/6ajcAns_T...</td>\n",
              "      <td>https://sun1-17.userapi.com/s/v1/ig2/JjkFmbalT...</td>\n",
              "      <td>NaN</td>\n",
              "      <td>55420799</td>\n",
              "    </tr>\n",
              "    <tr>\n",
              "      <th>1</th>\n",
              "      <td>33880573</td>\n",
              "      <td>THE DUMP</td>\n",
              "      <td>dumpers</td>\n",
              "      <td>0</td>\n",
              "      <td>page</td>\n",
              "      <td>0</td>\n",
              "      <td>1</td>\n",
              "      <td>0</td>\n",
              "      <td>https://sun1-24.userapi.com/s/v1/if1/099Fhum7g...</td>\n",
              "      <td>https://sun1-24.userapi.com/s/v1/if1/ul0c2EM4t...</td>\n",
              "      <td>https://sun1-24.userapi.com/s/v1/if1/LKWp0K0Sv...</td>\n",
              "      <td>NaN</td>\n",
              "      <td>55420799</td>\n",
              "    </tr>\n",
              "    <tr>\n",
              "      <th>2</th>\n",
              "      <td>169934613</td>\n",
              "      <td>KARPOV.COURSES</td>\n",
              "      <td>karpovcourses</td>\n",
              "      <td>0</td>\n",
              "      <td>page</td>\n",
              "      <td>0</td>\n",
              "      <td>1</td>\n",
              "      <td>0</td>\n",
              "      <td>https://sun1-99.userapi.com/s/v1/ig2/C1Ke892N5...</td>\n",
              "      <td>https://sun1-99.userapi.com/s/v1/ig2/wrGIlPa-_...</td>\n",
              "      <td>https://sun1-99.userapi.com/s/v1/ig2/cAbZcIBLF...</td>\n",
              "      <td>NaN</td>\n",
              "      <td>55420799</td>\n",
              "    </tr>\n",
              "    <tr>\n",
              "      <th>3</th>\n",
              "      <td>31480508</td>\n",
              "      <td>Пикабу</td>\n",
              "      <td>pikabu</td>\n",
              "      <td>0</td>\n",
              "      <td>page</td>\n",
              "      <td>0</td>\n",
              "      <td>1</td>\n",
              "      <td>0</td>\n",
              "      <td>https://sun1-16.userapi.com/s/v1/if1/v0HEGsil2...</td>\n",
              "      <td>https://sun1-16.userapi.com/s/v1/if1/SKPh1hvjc...</td>\n",
              "      <td>https://sun1-16.userapi.com/s/v1/if1/qLMUnORnQ...</td>\n",
              "      <td>NaN</td>\n",
              "      <td>55420799</td>\n",
              "    </tr>\n",
              "    <tr>\n",
              "      <th>4</th>\n",
              "      <td>20629724</td>\n",
              "      <td>Хабр</td>\n",
              "      <td>habr</td>\n",
              "      <td>0</td>\n",
              "      <td>page</td>\n",
              "      <td>0</td>\n",
              "      <td>1</td>\n",
              "      <td>0</td>\n",
              "      <td>https://sun1-84.userapi.com/s/v1/ig1/cvgInBNS_...</td>\n",
              "      <td>https://sun1-84.userapi.com/s/v1/ig1/eMUYlx1UV...</td>\n",
              "      <td>https://sun1-84.userapi.com/s/v1/ig1/xiDx2spXM...</td>\n",
              "      <td>NaN</td>\n",
              "      <td>55420799</td>\n",
              "    </tr>\n",
              "  </tbody>\n",
              "</table>\n",
              "</div>"
            ],
            "text/plain": [
              "          id              name  ... admin_level   user_id\n",
              "0  125004421  Настоящий Лентач  ...         NaN  55420799\n",
              "1   33880573          THE DUMP  ...         NaN  55420799\n",
              "2  169934613    KARPOV.COURSES  ...         NaN  55420799\n",
              "3   31480508            Пикабу  ...         NaN  55420799\n",
              "4   20629724              Хабр  ...         NaN  55420799\n",
              "\n",
              "[5 rows x 13 columns]"
            ]
          },
          "metadata": {
            "tags": []
          },
          "execution_count": 9
        }
      ]
    },
    {
      "cell_type": "code",
      "metadata": {
        "colab": {
          "base_uri": "https://localhost:8080/"
        },
        "id": "WiAKTj6-fif_",
        "outputId": "7676fe50-a3d3-4576-d268-881bd32b2297"
      },
      "source": [
        "user_groups_df.shape"
      ],
      "execution_count": null,
      "outputs": [
        {
          "output_type": "execute_result",
          "data": {
            "text/plain": [
              "(243, 14)"
            ]
          },
          "metadata": {
            "tags": []
          },
          "execution_count": 5
        }
      ]
    },
    {
      "cell_type": "code",
      "metadata": {
        "id": "ocz50HWwfkn4"
      },
      "source": [
        "user_groups_df.to_csv('user_groups_df.csv')"
      ],
      "execution_count": null,
      "outputs": []
    },
    {
      "cell_type": "code",
      "metadata": {
        "id": "A6tCHM8d5yFU"
      },
      "source": [
        "user_friends_list = vk.friends.get(user_id=user_id)['items']"
      ],
      "execution_count": null,
      "outputs": []
    },
    {
      "cell_type": "code",
      "metadata": {
        "id": "uOXytRFPhLLW"
      },
      "source": [
        "pd.DataFrame(user_friends_list).to_csv('user_friends_list.csv')"
      ],
      "execution_count": null,
      "outputs": []
    },
    {
      "cell_type": "code",
      "metadata": {
        "id": "xgoKh13h8FQ3"
      },
      "source": [
        "friends_groups_df = pd.read_csv('friends_groups_df.csv') #на случай, если данные уже загружены, тогда пропускаем след. ячейку"
      ],
      "execution_count": null,
      "outputs": []
    },
    {
      "cell_type": "code",
      "metadata": {
        "id": "Nok89rMe4xOw"
      },
      "source": [
        "friends_groups_df = pd.DataFrame()\r\n",
        "\r\n",
        "for friend in user_friends_list:\r\n",
        "  try:\r\n",
        "    friend_groups_df = pd.DataFrame(vk.groups.get(user_id=friend, extended=1, v=5.126)['items'])\r\n",
        "    friend_groups_df['user_id'] = friend\r\n",
        "    friends_groups_df = pd.concat([friends_groups_df, friend_groups_df], axis=0)\r\n",
        "  except vk_api.exceptions.VkApiError:\r\n",
        "    print(f'ApiError по пользователю {friend}')\r\n",
        "    continue"
      ],
      "execution_count": null,
      "outputs": []
    },
    {
      "cell_type": "code",
      "metadata": {
        "id": "VFi54MAO53fo"
      },
      "source": [
        "friends_groups_df.to_csv('friends_groups_df.csv') #опционально"
      ],
      "execution_count": null,
      "outputs": []
    },
    {
      "cell_type": "code",
      "metadata": {
        "colab": {
          "base_uri": "https://localhost:8080/"
        },
        "id": "V_55aj6i5-eA",
        "outputId": "3f7a8dbd-d281-417d-e505-e64dbe6a0a50"
      },
      "source": [
        "friends_groups_df.shape"
      ],
      "execution_count": null,
      "outputs": [
        {
          "output_type": "execute_result",
          "data": {
            "text/plain": [
              "(12910, 14)"
            ]
          },
          "metadata": {
            "tags": []
          },
          "execution_count": 6
        }
      ]
    },
    {
      "cell_type": "code",
      "metadata": {
        "colab": {
          "base_uri": "https://localhost:8080/",
          "height": 333
        },
        "id": "OMhXBShq8Oey",
        "outputId": "3b819458-be7a-45b8-e817-3b242b49abc5"
      },
      "source": [
        "friends_groups_df.head()"
      ],
      "execution_count": null,
      "outputs": [
        {
          "output_type": "execute_result",
          "data": {
            "text/html": [
              "<div>\n",
              "<style scoped>\n",
              "    .dataframe tbody tr th:only-of-type {\n",
              "        vertical-align: middle;\n",
              "    }\n",
              "\n",
              "    .dataframe tbody tr th {\n",
              "        vertical-align: top;\n",
              "    }\n",
              "\n",
              "    .dataframe thead th {\n",
              "        text-align: right;\n",
              "    }\n",
              "</style>\n",
              "<table border=\"1\" class=\"dataframe\">\n",
              "  <thead>\n",
              "    <tr style=\"text-align: right;\">\n",
              "      <th></th>\n",
              "      <th>Unnamed: 0</th>\n",
              "      <th>id</th>\n",
              "      <th>name</th>\n",
              "      <th>screen_name</th>\n",
              "      <th>is_closed</th>\n",
              "      <th>type</th>\n",
              "      <th>is_admin</th>\n",
              "      <th>is_member</th>\n",
              "      <th>is_advertiser</th>\n",
              "      <th>photo_50</th>\n",
              "      <th>photo_100</th>\n",
              "      <th>photo_200</th>\n",
              "      <th>user_id</th>\n",
              "      <th>deactivated</th>\n",
              "    </tr>\n",
              "  </thead>\n",
              "  <tbody>\n",
              "    <tr>\n",
              "      <th>0</th>\n",
              "      <td>0</td>\n",
              "      <td>92307020.0</td>\n",
              "      <td>Тамара, какого хрена?</td>\n",
              "      <td>odonata_live</td>\n",
              "      <td>0.0</td>\n",
              "      <td>page</td>\n",
              "      <td>0.0</td>\n",
              "      <td>0.0</td>\n",
              "      <td>0.0</td>\n",
              "      <td>https://sun1-22.userapi.com/impf/c836734/v8367...</td>\n",
              "      <td>https://sun1-22.userapi.com/impf/c836734/v8367...</td>\n",
              "      <td>https://sun1-22.userapi.com/impf/c836734/v8367...</td>\n",
              "      <td>56840</td>\n",
              "      <td>NaN</td>\n",
              "    </tr>\n",
              "    <tr>\n",
              "      <th>1</th>\n",
              "      <td>1</td>\n",
              "      <td>194622716.0</td>\n",
              "      <td>Linxdatacenter</td>\n",
              "      <td>linxdc</td>\n",
              "      <td>0.0</td>\n",
              "      <td>page</td>\n",
              "      <td>0.0</td>\n",
              "      <td>1.0</td>\n",
              "      <td>0.0</td>\n",
              "      <td>https://sun1-30.userapi.com/impg/c854220/v8542...</td>\n",
              "      <td>https://sun1-30.userapi.com/impg/c854220/v8542...</td>\n",
              "      <td>https://sun1-30.userapi.com/impg/c854220/v8542...</td>\n",
              "      <td>56840</td>\n",
              "      <td>NaN</td>\n",
              "    </tr>\n",
              "    <tr>\n",
              "      <th>2</th>\n",
              "      <td>2</td>\n",
              "      <td>68696990.0</td>\n",
              "      <td>Удивительная Япония</td>\n",
              "      <td>paradoks_japan</td>\n",
              "      <td>0.0</td>\n",
              "      <td>page</td>\n",
              "      <td>0.0</td>\n",
              "      <td>0.0</td>\n",
              "      <td>0.0</td>\n",
              "      <td>https://sun1-29.userapi.com/impf/c624524/v6245...</td>\n",
              "      <td>https://sun1-29.userapi.com/impf/c624524/v6245...</td>\n",
              "      <td>https://sun1-29.userapi.com/impf/c624524/v6245...</td>\n",
              "      <td>56840</td>\n",
              "      <td>NaN</td>\n",
              "    </tr>\n",
              "    <tr>\n",
              "      <th>3</th>\n",
              "      <td>3</td>\n",
              "      <td>60394841.0</td>\n",
              "      <td>Неизвестная Россия</td>\n",
              "      <td>unknown_russia</td>\n",
              "      <td>0.0</td>\n",
              "      <td>page</td>\n",
              "      <td>0.0</td>\n",
              "      <td>0.0</td>\n",
              "      <td>0.0</td>\n",
              "      <td>https://sun1-27.userapi.com/impg/MNQx6Po5ktv8y...</td>\n",
              "      <td>https://sun1-27.userapi.com/impg/MNQx6Po5ktv8y...</td>\n",
              "      <td>https://sun1-27.userapi.com/impg/MNQx6Po5ktv8y...</td>\n",
              "      <td>56840</td>\n",
              "      <td>NaN</td>\n",
              "    </tr>\n",
              "    <tr>\n",
              "      <th>4</th>\n",
              "      <td>4</td>\n",
              "      <td>53895074.0</td>\n",
              "      <td>Питертранспорт | Изменения маршрутов</td>\n",
              "      <td>pitertransport_routes</td>\n",
              "      <td>0.0</td>\n",
              "      <td>page</td>\n",
              "      <td>0.0</td>\n",
              "      <td>0.0</td>\n",
              "      <td>0.0</td>\n",
              "      <td>https://sun1-90.userapi.com/impf/c638121/v6381...</td>\n",
              "      <td>https://sun1-90.userapi.com/impf/c638121/v6381...</td>\n",
              "      <td>https://sun1-90.userapi.com/impf/c638121/v6381...</td>\n",
              "      <td>56840</td>\n",
              "      <td>NaN</td>\n",
              "    </tr>\n",
              "  </tbody>\n",
              "</table>\n",
              "</div>"
            ],
            "text/plain": [
              "   Unnamed: 0           id  ... user_id deactivated\n",
              "0           0   92307020.0  ...   56840         NaN\n",
              "1           1  194622716.0  ...   56840         NaN\n",
              "2           2   68696990.0  ...   56840         NaN\n",
              "3           3   60394841.0  ...   56840         NaN\n",
              "4           4   53895074.0  ...   56840         NaN\n",
              "\n",
              "[5 rows x 14 columns]"
            ]
          },
          "metadata": {
            "tags": []
          },
          "execution_count": 7
        }
      ]
    },
    {
      "cell_type": "code",
      "metadata": {
        "colab": {
          "base_uri": "https://localhost:8080/"
        },
        "id": "GIx6JCm16EUm",
        "outputId": "ee33b8b8-e05c-4176-f4be-dd766b11ae2f"
      },
      "source": [
        "friends_groups_df = friends_groups_df[friends_groups_df.deactivated.isna()] # отбираем записи только активных пользователей\r\n",
        "friends_groups_df.shape"
      ],
      "execution_count": null,
      "outputs": [
        {
          "output_type": "execute_result",
          "data": {
            "text/plain": [
              "(12772, 14)"
            ]
          },
          "metadata": {
            "tags": []
          },
          "execution_count": 8
        }
      ]
    },
    {
      "cell_type": "code",
      "metadata": {
        "id": "Bo4e9kIK9ONS"
      },
      "source": [
        "merged_df = pd.read_csv('merged_df.csv') #на случай, если данные уже загружены, тогда пропускаем след. ячейку"
      ],
      "execution_count": null,
      "outputs": []
    },
    {
      "cell_type": "code",
      "metadata": {
        "id": "YhwTZ4of6PDK"
      },
      "source": [
        "merged_df = pd.concat([friends_groups_df, user_groups_df], axis=0)\r\n",
        "merged_df.id = merged_df.id.astype('int')"
      ],
      "execution_count": null,
      "outputs": []
    },
    {
      "cell_type": "code",
      "metadata": {
        "id": "2Ow2miZP6hMX"
      },
      "source": [
        "merged_df.to_csv('merged_df.csv') #опционально"
      ],
      "execution_count": null,
      "outputs": []
    },
    {
      "cell_type": "code",
      "metadata": {
        "colab": {
          "base_uri": "https://localhost:8080/"
        },
        "id": "j9cJA_YV9adH",
        "outputId": "97867e0d-df41-4e58-ecaf-863fae4d0ae9"
      },
      "source": [
        "merged_df.shape"
      ],
      "execution_count": null,
      "outputs": [
        {
          "output_type": "execute_result",
          "data": {
            "text/plain": [
              "(13151, 16)"
            ]
          },
          "metadata": {
            "tags": []
          },
          "execution_count": 9
        }
      ]
    },
    {
      "cell_type": "code",
      "metadata": {
        "id": "AwUKpfMYxqBx"
      },
      "source": [
        "#friends_groups_df = merged_df.query(\"user_id != @user_id\")"
      ],
      "execution_count": 70,
      "outputs": []
    },
    {
      "cell_type": "markdown",
      "metadata": {
        "id": "1ViL72VZ6q6V"
      },
      "source": [
        "Проанализируем самые популярные группы среди друзей пользователя, а также пересечения с пользователем"
      ]
    },
    {
      "cell_type": "code",
      "metadata": {
        "colab": {
          "base_uri": "https://localhost:8080/",
          "height": 195
        },
        "id": "IX8CO60C7AGt",
        "outputId": "60018442-e6a4-4969-a8b5-3e0a65455d6d"
      },
      "source": [
        "freinds_groups_freq = friends_groups_df.groupby(['id', 'name'], as_index=False)['type']\\\r\n",
        "         .count()\\\r\n",
        "         .sort_values(by='type',ascending=False)\\\r\n",
        "         .rename(columns={'type':'count'})\r\n",
        "freinds_groups_freq.head()"
      ],
      "execution_count": 72,
      "outputs": [
        {
          "output_type": "execute_result",
          "data": {
            "text/html": [
              "<div>\n",
              "<style scoped>\n",
              "    .dataframe tbody tr th:only-of-type {\n",
              "        vertical-align: middle;\n",
              "    }\n",
              "\n",
              "    .dataframe tbody tr th {\n",
              "        vertical-align: top;\n",
              "    }\n",
              "\n",
              "    .dataframe thead th {\n",
              "        text-align: right;\n",
              "    }\n",
              "</style>\n",
              "<table border=\"1\" class=\"dataframe\">\n",
              "  <thead>\n",
              "    <tr style=\"text-align: right;\">\n",
              "      <th></th>\n",
              "      <th>id</th>\n",
              "      <th>name</th>\n",
              "      <th>count</th>\n",
              "    </tr>\n",
              "  </thead>\n",
              "  <tbody>\n",
              "    <tr>\n",
              "      <th>1590</th>\n",
              "      <td>31480508</td>\n",
              "      <td>Пикабу</td>\n",
              "      <td>24</td>\n",
              "    </tr>\n",
              "    <tr>\n",
              "      <th>4206</th>\n",
              "      <td>63731512</td>\n",
              "      <td>Vandrouki | Путешествия почти бесплатно (RU)</td>\n",
              "      <td>21</td>\n",
              "    </tr>\n",
              "    <tr>\n",
              "      <th>1375</th>\n",
              "      <td>29534144</td>\n",
              "      <td>Лентач</td>\n",
              "      <td>21</td>\n",
              "    </tr>\n",
              "    <tr>\n",
              "      <th>2102</th>\n",
              "      <td>36338110</td>\n",
              "      <td>KudaGo: Санкт-Петербург</td>\n",
              "      <td>20</td>\n",
              "    </tr>\n",
              "    <tr>\n",
              "      <th>1125</th>\n",
              "      <td>26762265</td>\n",
              "      <td>Томские.ру</td>\n",
              "      <td>16</td>\n",
              "    </tr>\n",
              "  </tbody>\n",
              "</table>\n",
              "</div>"
            ],
            "text/plain": [
              "            id                                          name  count\n",
              "1590  31480508                                        Пикабу     24\n",
              "4206  63731512  Vandrouki | Путешествия почти бесплатно (RU)     21\n",
              "1375  29534144                                        Лентач     21\n",
              "2102  36338110                       KudaGo: Санкт-Петербург     20\n",
              "1125  26762265                                    Томские.ру     16"
            ]
          },
          "metadata": {
            "tags": []
          },
          "execution_count": 72
        }
      ]
    },
    {
      "cell_type": "code",
      "metadata": {
        "colab": {
          "base_uri": "https://localhost:8080/",
          "height": 195
        },
        "id": "CLOt8ucXJTg1",
        "outputId": "5e0f20b2-1fc6-4992-959d-377725418021"
      },
      "source": [
        "common_groups_freq = merged_df[merged_df.id.isin(user_groups_df.id)].groupby(['id', 'name'], as_index=False)\\\r\n",
        "         .agg({'type':'count'})\\\r\n",
        "         .sort_values(by='type',ascending=False)\\\r\n",
        "         .rename(columns={'type':'count'})\r\n",
        "common_groups_freq.head()"
      ],
      "execution_count": 79,
      "outputs": [
        {
          "output_type": "execute_result",
          "data": {
            "text/html": [
              "<div>\n",
              "<style scoped>\n",
              "    .dataframe tbody tr th:only-of-type {\n",
              "        vertical-align: middle;\n",
              "    }\n",
              "\n",
              "    .dataframe tbody tr th {\n",
              "        vertical-align: top;\n",
              "    }\n",
              "\n",
              "    .dataframe thead th {\n",
              "        text-align: right;\n",
              "    }\n",
              "</style>\n",
              "<table border=\"1\" class=\"dataframe\">\n",
              "  <thead>\n",
              "    <tr style=\"text-align: right;\">\n",
              "      <th></th>\n",
              "      <th>id</th>\n",
              "      <th>name</th>\n",
              "      <th>count</th>\n",
              "    </tr>\n",
              "  </thead>\n",
              "  <tbody>\n",
              "    <tr>\n",
              "      <th>71</th>\n",
              "      <td>31480508</td>\n",
              "      <td>Пикабу</td>\n",
              "      <td>25</td>\n",
              "    </tr>\n",
              "    <tr>\n",
              "      <th>131</th>\n",
              "      <td>63731512</td>\n",
              "      <td>Vandrouki | Путешествия почти бесплатно (RU)</td>\n",
              "      <td>22</td>\n",
              "    </tr>\n",
              "    <tr>\n",
              "      <th>62</th>\n",
              "      <td>29534144</td>\n",
              "      <td>Лентач</td>\n",
              "      <td>22</td>\n",
              "    </tr>\n",
              "    <tr>\n",
              "      <th>155</th>\n",
              "      <td>76982440</td>\n",
              "      <td>«Медуза»</td>\n",
              "      <td>14</td>\n",
              "    </tr>\n",
              "    <tr>\n",
              "      <th>43</th>\n",
              "      <td>24098496</td>\n",
              "      <td>E.squirе</td>\n",
              "      <td>14</td>\n",
              "    </tr>\n",
              "  </tbody>\n",
              "</table>\n",
              "</div>"
            ],
            "text/plain": [
              "           id                                          name  count\n",
              "71   31480508                                        Пикабу     25\n",
              "131  63731512  Vandrouki | Путешествия почти бесплатно (RU)     22\n",
              "62   29534144                                        Лентач     22\n",
              "155  76982440                                      «Медуза»     14\n",
              "43   24098496                                      E.squirе     14"
            ]
          },
          "metadata": {
            "tags": []
          },
          "execution_count": 79
        }
      ]
    },
    {
      "cell_type": "code",
      "metadata": {
        "id": "W6UYL3X0ymZk"
      },
      "source": [
        "def group_freq_vizualization(data_x_1, data_y_1, data_x_2, data_y_2, title_1='Common groups', title_2='Friends groups', count_groups=30, len_tick = 15):\r\n",
        "  f = plt.figure(figsize=(20, 8))\r\n",
        "  gs = f.add_gridspec(1, 2)\r\n",
        "\r\n",
        "  ax = f.add_subplot(gs[0, 0])\r\n",
        "  sns.barplot(x=data_x_1[:count_groups], y=data_y_1[:count_groups], saturation=.3, color='blue')\r\n",
        "  ax.set_title(title_1)\r\n",
        "  yticks_1 = data_y_1[:count_groups] #названия групп бывают довольно длинные, ограничим их\r\n",
        "  yticks_1 = [x if len(x) < len_tick else x[0:len_tick] + '...' for x in yticks_1]\r\n",
        "  ax.set_yticklabels(yticks_1)\r\n",
        "  ax.set_ylabel('')\r\n",
        "\r\n",
        "  ax = f.add_subplot(gs[0, 1])\r\n",
        "  sns.barplot(x=data_x_2[:count_groups], y=data_y_2[:count_groups], saturation=.3, color='blue')\r\n",
        "  ax.set_title('Friends groups')\r\n",
        "  yticks_2 = data_y_2[:count_groups] #названия групп бывают довольно длинные, ограничим их\r\n",
        "  yticks_2 = [x if len(x) < len_tick else x[0:len_tick] + '...' for x in yticks_2]\r\n",
        "  ax.set_yticklabels(yticks_2)\r\n",
        "  ax.set_ylabel('')\r\n",
        "  f.tight_layout()"
      ],
      "execution_count": 74,
      "outputs": []
    },
    {
      "cell_type": "code",
      "metadata": {
        "colab": {
          "base_uri": "https://localhost:8080/",
          "height": 458
        },
        "id": "Rcj-pxO4zK7C",
        "outputId": "86a4dcaa-5b0e-4f59-cdf5-500e7de203a5"
      },
      "source": [
        "group_freq_vizualization(common_groups_freq['count'], common_groups_freq['name'], freinds_groups_freq['count'], freinds_groups_freq['name'] )"
      ],
      "execution_count": 75,
      "outputs": [
        {
          "output_type": "display_data",
          "data": {
            "image/png": "[encoded data removed]",
            "text/plain": [
              "<Figure size 1440x576 with 2 Axes>"
            ]
          },
          "metadata": {
            "tags": [],
            "needs_background": "light"
          }
        }
      ]
    },
    {
      "cell_type": "markdown",
      "metadata": {
        "id": "FBMG4JlkTBv3"
      },
      "source": [
        "Выше представлена графики распределения количества общих групп пользователя и его друзей и отдельно по группам друзей. Можно сразу отметить полное совпадение Топ-3 групп - все мы любим смешные картинки, интересные истории и желание недорого путешествовать."
      ]
    },
    {
      "cell_type": "markdown",
      "metadata": {
        "id": "qz5reM1O-6wK"
      },
      "source": [
        "Также сразу бросается в глаза, что большое количество общих друзей в группах относятся к двум городам - Томск и Санкт-Петербург, видимо, пользователь тесно связан с этими городами. "
      ]
    },
    {
      "cell_type": "markdown",
      "metadata": {
        "id": "ghVfycjW_hod"
      },
      "source": [
        "## 2"
      ]
    },
    {
      "cell_type": "markdown",
      "metadata": {
        "id": "7U-56akR_lhW"
      },
      "source": [
        "Соберём информацию о группах друзей друзей пользователя.\r\n",
        "Найдем самые популярные"
      ]
    },
    {
      "cell_type": "markdown",
      "metadata": {
        "id": "enDOpCtTItBH"
      },
      "source": [
        "Получим список друзей друзей пользователя"
      ]
    },
    {
      "cell_type": "code",
      "metadata": {
        "id": "Ph6dyGJINFrV"
      },
      "source": [
        "list_friends_of_friends_df = pd.read_csv('list_friends_of_friends_df.csv') #на случай, если данные уже загружены, тогда пропускаем след. ячейку"
      ],
      "execution_count": null,
      "outputs": []
    },
    {
      "cell_type": "code",
      "metadata": {
        "colab": {
          "base_uri": "https://localhost:8080/",
          "height": 66,
          "referenced_widgets": [
            "ae89a61d01b6445e9b1ce0f30584e191",
            "e581d3e589144ef4b21c44cfed6a2e15",
            "578158c0c2da4a4bb640c974898425ab",
            "5e91751033d444d2b6f10c07a14c82f6",
            "8fde188f79d449328ff812d664ff6fc9",
            "8aaf78b5b819466380b916595b137e9f",
            "f2fa9597a6954347b647c55f9757a7f9",
            "a688ac4b58d548889c4b14c5020114b1"
          ]
        },
        "id": "mfIfFqtx726A",
        "outputId": "2fd19747-47fe-46a5-a623-9eb99842b93c"
      },
      "source": [
        "list_friends_of_friends_df = pd.DataFrame()\r\n",
        "\r\n",
        "for friend in tqdm(user_friends_list):\r\n",
        "  try:\r\n",
        "    list_friends_of_friend_df = pd.DataFrame( vk.friends.get(user_id=friend, fields=['first_name', 'last_name'])['items'])\r\n",
        "    list_friends_of_friend_df['user_friend_id'] = friend\r\n",
        "    list_friends_of_friends_df = pd.concat([list_friends_of_friends_df, list_friends_of_friend_df], axis=0)\r\n",
        "  except vk_api.exceptions.VkApiError:\r\n",
        "    #print(f'ApiError по пользователю {friend}')\r\n",
        "    continue"
      ],
      "execution_count": null,
      "outputs": [
        {
          "output_type": "display_data",
          "data": {
            "application/vnd.jupyter.widget-view+json": {
              "model_id": "ae89a61d01b6445e9b1ce0f30584e191",
              "version_minor": 0,
              "version_major": 2
            },
            "text/plain": [
              "HBox(children=(FloatProgress(value=0.0, max=117.0), HTML(value='')))"
            ]
          },
          "metadata": {
            "tags": []
          }
        },
        {
          "output_type": "stream",
          "text": [
            "\n"
          ],
          "name": "stdout"
        }
      ]
    },
    {
      "cell_type": "code",
      "metadata": {
        "colab": {
          "base_uri": "https://localhost:8080/"
        },
        "id": "cloJVtBvjZfK",
        "outputId": "df1a4729-ced2-47b8-d60b-8dbe452784a6"
      },
      "source": [
        "print(f'Размер df: {list_friends_of_friends_df.shape}')\r\n",
        "print(f\"Количество повторяющихся друзей: {list_friends_of_friends_df.duplicated(subset=['id']).sum()}\")\r\n",
        "list_friends_of_friends_df = list_friends_of_friends_df.drop_duplicates(subset=['id'])\r\n",
        "print(f'Размер df после удаления повторов: {list_friends_of_friends_df.shape}')"
      ],
      "execution_count": null,
      "outputs": [
        {
          "output_type": "stream",
          "text": [
            "Размер df: (47299, 9)\n",
            "Количество повторяющихся друзей: 6252\n",
            "Размер df после удаления повторов: (41047, 9)\n"
          ],
          "name": "stdout"
        }
      ]
    },
    {
      "cell_type": "code",
      "metadata": {
        "colab": {
          "base_uri": "https://localhost:8080/",
          "height": 215
        },
        "id": "cTRAZ2-Mie-R",
        "outputId": "8adc2c1c-f0f6-4e64-934f-353bad1796dc"
      },
      "source": [
        "list_friends_of_friends_df.head()"
      ],
      "execution_count": null,
      "outputs": [
        {
          "output_type": "execute_result",
          "data": {
            "text/html": [
              "<div>\n",
              "<style scoped>\n",
              "    .dataframe tbody tr th:only-of-type {\n",
              "        vertical-align: middle;\n",
              "    }\n",
              "\n",
              "    .dataframe tbody tr th {\n",
              "        vertical-align: top;\n",
              "    }\n",
              "\n",
              "    .dataframe thead th {\n",
              "        text-align: right;\n",
              "    }\n",
              "</style>\n",
              "<table border=\"1\" class=\"dataframe\">\n",
              "  <thead>\n",
              "    <tr style=\"text-align: right;\">\n",
              "      <th></th>\n",
              "      <th>first_name</th>\n",
              "      <th>id</th>\n",
              "      <th>last_name</th>\n",
              "      <th>can_access_closed</th>\n",
              "      <th>is_closed</th>\n",
              "      <th>track_code</th>\n",
              "      <th>deactivated</th>\n",
              "      <th>lists</th>\n",
              "      <th>user_friend_id</th>\n",
              "    </tr>\n",
              "  </thead>\n",
              "  <tbody>\n",
              "    <tr>\n",
              "      <th>0</th>\n",
              "      <td>Ms</td>\n",
              "      <td>8554</td>\n",
              "      <td>Dudina</td>\n",
              "      <td>False</td>\n",
              "      <td>True</td>\n",
              "      <td>196598c0UCy8K5xADADrKj5DeTVDsYA0Sx2qMEjpm2Viqi...</td>\n",
              "      <td>NaN</td>\n",
              "      <td>NaN</td>\n",
              "      <td>56840</td>\n",
              "    </tr>\n",
              "    <tr>\n",
              "      <th>1</th>\n",
              "      <td>Pavel</td>\n",
              "      <td>8790</td>\n",
              "      <td>Stepanov</td>\n",
              "      <td>False</td>\n",
              "      <td>True</td>\n",
              "      <td>811dfd65kXuWZhjls1uADLOqZ5Ry6tuMPnksX76yMEs3pS...</td>\n",
              "      <td>NaN</td>\n",
              "      <td>NaN</td>\n",
              "      <td>56840</td>\n",
              "    </tr>\n",
              "    <tr>\n",
              "      <th>2</th>\n",
              "      <td>Margarita</td>\n",
              "      <td>9598</td>\n",
              "      <td>Konovalova</td>\n",
              "      <td>True</td>\n",
              "      <td>False</td>\n",
              "      <td>a64280d2h7ac_XkuIiopULGahjvct8Spyn1uKeuikEUpiY...</td>\n",
              "      <td>NaN</td>\n",
              "      <td>NaN</td>\n",
              "      <td>56840</td>\n",
              "    </tr>\n",
              "    <tr>\n",
              "      <th>3</th>\n",
              "      <td>Alexander</td>\n",
              "      <td>30693</td>\n",
              "      <td>Pchelyakov</td>\n",
              "      <td>True</td>\n",
              "      <td>False</td>\n",
              "      <td>b547a229_nkLrLIXhAqTqov1sD5M_w8a6FJ5NB7F_hRT5Z...</td>\n",
              "      <td>NaN</td>\n",
              "      <td>NaN</td>\n",
              "      <td>56840</td>\n",
              "    </tr>\n",
              "    <tr>\n",
              "      <th>4</th>\n",
              "      <td>Ho</td>\n",
              "      <td>35725</td>\n",
              "      <td>Mer</td>\n",
              "      <td>True</td>\n",
              "      <td>False</td>\n",
              "      <td>610a1f0dpHZVvS2zlJgX3u9pXbJ3i_rpMHdEp2HSBGOFuq...</td>\n",
              "      <td>NaN</td>\n",
              "      <td>NaN</td>\n",
              "      <td>56840</td>\n",
              "    </tr>\n",
              "  </tbody>\n",
              "</table>\n",
              "</div>"
            ],
            "text/plain": [
              "  first_name     id   last_name  ... deactivated lists user_friend_id\n",
              "0         Ms   8554      Dudina  ...         NaN   NaN          56840\n",
              "1      Pavel   8790    Stepanov  ...         NaN   NaN          56840\n",
              "2  Margarita   9598  Konovalova  ...         NaN   NaN          56840\n",
              "3  Alexander  30693  Pchelyakov  ...         NaN   NaN          56840\n",
              "4         Ho  35725         Mer  ...         NaN   NaN          56840\n",
              "\n",
              "[5 rows x 9 columns]"
            ]
          },
          "metadata": {
            "tags": []
          },
          "execution_count": 17
        }
      ]
    },
    {
      "cell_type": "code",
      "metadata": {
        "id": "OlMGAtXbimj8"
      },
      "source": [
        "list_friends_of_friends_df.to_csv('list_friends_of_friends_df.csv')"
      ],
      "execution_count": null,
      "outputs": []
    },
    {
      "cell_type": "markdown",
      "metadata": {
        "id": "X8LoEu1tlswX"
      },
      "source": [
        "Выгрузим информацию по всем группам друзей друзей пользователя. Выберем только 5000 случайных друзей, чтобы не нагружать API и не делать гигабайтный датасет"
      ]
    },
    {
      "cell_type": "code",
      "metadata": {
        "id": "e0DtKckgNZio"
      },
      "source": [
        "list_groups_of_friends_of_friends_df = pd.read_csv('list_groups_of_friends_of_friends_df_5000.csv', index_col=0) #на случай, если данные уже загружены, тогда пропускаем след. ячейку"
      ],
      "execution_count": null,
      "outputs": []
    },
    {
      "cell_type": "code",
      "metadata": {
        "colab": {
          "base_uri": "https://localhost:8080/",
          "height": 66,
          "referenced_widgets": [
            "197fea63ed8849c98fd789821ee902b5",
            "dbc4de40d73f422690f94c74d6ff8d43",
            "094c3ddcf87f41209108e5f24c75e368",
            "b0f9df2aa4ac4e19b6e663fd9874fd3b",
            "d8f308b8655349ec8db7585558152b01",
            "714e7358a8564587ac71f9726e04207e",
            "d5066a61828141b9b4289f2222ead179",
            "c491b26202a1416a9e49785112e24e56"
          ]
        },
        "id": "pnmJtFYDkRdj",
        "outputId": "bab819dd-49c7-4629-b850-a178e4e7c2d5"
      },
      "source": [
        "list_groups_of_friends_of_friends_df = pd.DataFrame()\r\n",
        "\r\n",
        "for friend_of_friend in tqdm(list_friends_of_friends_df.sample(5000)['id']):\r\n",
        "  try:\r\n",
        "    list_groups_of_friend_of_friends_df = pd.DataFrame( vk.groups.get(user_id=friend_of_friend, extended=1, v=5.126)['items'])\r\n",
        "    list_groups_of_friend_of_friends_df['user_friend_id'] = friend_of_friend\r\n",
        "    list_groups_of_friends_of_friends_df = pd.concat([list_groups_of_friends_of_friends_df, list_groups_of_friend_of_friends_df], axis=0)\r\n",
        "  except vk_api.exceptions.VkApiError:\r\n",
        "    #print(f'ApiError по пользователю {friend}')\r\n",
        "    continue\r\n",
        "list_groups_of_friends_of_friends_df.to_csv('list_groups_of_friends_of_friends_df_5000.csv')"
      ],
      "execution_count": null,
      "outputs": [
        {
          "output_type": "display_data",
          "data": {
            "application/vnd.jupyter.widget-view+json": {
              "model_id": "197fea63ed8849c98fd789821ee902b5",
              "version_minor": 0,
              "version_major": 2
            },
            "text/plain": [
              "HBox(children=(FloatProgress(value=0.0, max=5000.0), HTML(value='')))"
            ]
          },
          "metadata": {
            "tags": []
          }
        },
        {
          "output_type": "stream",
          "text": [
            "\n"
          ],
          "name": "stdout"
        }
      ]
    },
    {
      "cell_type": "code",
      "metadata": {
        "colab": {
          "base_uri": "https://localhost:8080/",
          "height": 350
        },
        "id": "_fuUFqdOLZcl",
        "outputId": "5656fe78-6122-46ed-9071-ac8fd31f4d3f"
      },
      "source": [
        "list_groups_of_friends_of_friends_df.head()"
      ],
      "execution_count": null,
      "outputs": [
        {
          "output_type": "execute_result",
          "data": {
            "text/html": [
              "<div>\n",
              "<style scoped>\n",
              "    .dataframe tbody tr th:only-of-type {\n",
              "        vertical-align: middle;\n",
              "    }\n",
              "\n",
              "    .dataframe tbody tr th {\n",
              "        vertical-align: top;\n",
              "    }\n",
              "\n",
              "    .dataframe thead th {\n",
              "        text-align: right;\n",
              "    }\n",
              "</style>\n",
              "<table border=\"1\" class=\"dataframe\">\n",
              "  <thead>\n",
              "    <tr style=\"text-align: right;\">\n",
              "      <th></th>\n",
              "      <th>id</th>\n",
              "      <th>name</th>\n",
              "      <th>screen_name</th>\n",
              "      <th>is_closed</th>\n",
              "      <th>type</th>\n",
              "      <th>is_admin</th>\n",
              "      <th>is_member</th>\n",
              "      <th>is_advertiser</th>\n",
              "      <th>photo_50</th>\n",
              "      <th>photo_100</th>\n",
              "      <th>photo_200</th>\n",
              "      <th>user_friend_id</th>\n",
              "      <th>deactivated</th>\n",
              "    </tr>\n",
              "  </thead>\n",
              "  <tbody>\n",
              "    <tr>\n",
              "      <th>0</th>\n",
              "      <td>33880573.0</td>\n",
              "      <td>THE DUMP</td>\n",
              "      <td>dumpers</td>\n",
              "      <td>0.0</td>\n",
              "      <td>page</td>\n",
              "      <td>0.0</td>\n",
              "      <td>1.0</td>\n",
              "      <td>0.0</td>\n",
              "      <td>https://sun9-43.userapi.com/s/v1/if1/099Fhum7g...</td>\n",
              "      <td>https://sun9-43.userapi.com/s/v1/if1/ul0c2EM4t...</td>\n",
              "      <td>https://sun9-43.userapi.com/s/v1/if1/LKWp0K0Sv...</td>\n",
              "      <td>15812372</td>\n",
              "      <td>NaN</td>\n",
              "    </tr>\n",
              "    <tr>\n",
              "      <th>1</th>\n",
              "      <td>62580435.0</td>\n",
              "      <td>ФРУСТРАЦИЯ</td>\n",
              "      <td>frustrat</td>\n",
              "      <td>0.0</td>\n",
              "      <td>page</td>\n",
              "      <td>0.0</td>\n",
              "      <td>0.0</td>\n",
              "      <td>0.0</td>\n",
              "      <td>https://sun9-45.userapi.com/s/v1/ig1/28y1T1KbX...</td>\n",
              "      <td>https://sun9-45.userapi.com/s/v1/ig1/YfSEt-NBf...</td>\n",
              "      <td>https://sun9-45.userapi.com/s/v1/ig1/l2XRcqDrG...</td>\n",
              "      <td>15812372</td>\n",
              "      <td>NaN</td>\n",
              "    </tr>\n",
              "    <tr>\n",
              "      <th>2</th>\n",
              "      <td>72831913.0</td>\n",
              "      <td>Непаблик 18+</td>\n",
              "      <td>nepublic</td>\n",
              "      <td>0.0</td>\n",
              "      <td>page</td>\n",
              "      <td>0.0</td>\n",
              "      <td>0.0</td>\n",
              "      <td>0.0</td>\n",
              "      <td>https://sun9-32.userapi.com/s/v1/if1/hj9ae-VvA...</td>\n",
              "      <td>https://sun9-32.userapi.com/s/v1/if1/PPknx02Xy...</td>\n",
              "      <td>https://sun9-32.userapi.com/s/v1/if1/7vlfXR8cK...</td>\n",
              "      <td>15812372</td>\n",
              "      <td>NaN</td>\n",
              "    </tr>\n",
              "    <tr>\n",
              "      <th>3</th>\n",
              "      <td>460389.0</td>\n",
              "      <td>БОРЩ</td>\n",
              "      <td>borsch</td>\n",
              "      <td>0.0</td>\n",
              "      <td>page</td>\n",
              "      <td>0.0</td>\n",
              "      <td>0.0</td>\n",
              "      <td>0.0</td>\n",
              "      <td>https://sun9-38.userapi.com/s/v1/ig2/BkrOgl2tY...</td>\n",
              "      <td>https://sun9-38.userapi.com/s/v1/ig2/qDgXFYZcs...</td>\n",
              "      <td>https://sun9-38.userapi.com/s/v1/ig2/GU2-ZZLl8...</td>\n",
              "      <td>15812372</td>\n",
              "      <td>NaN</td>\n",
              "    </tr>\n",
              "    <tr>\n",
              "      <th>4</th>\n",
              "      <td>91795517.0</td>\n",
              "      <td>Салон Бытовых Услуг OKEY в Щелково и Балашихе</td>\n",
              "      <td>okey_s</td>\n",
              "      <td>0.0</td>\n",
              "      <td>page</td>\n",
              "      <td>0.0</td>\n",
              "      <td>0.0</td>\n",
              "      <td>0.0</td>\n",
              "      <td>https://sun9-4.userapi.com/s/v1/ig2/nQWtyYDtPU...</td>\n",
              "      <td>https://sun9-4.userapi.com/s/v1/ig2/8CThOkZWo_...</td>\n",
              "      <td>https://sun9-4.userapi.com/s/v1/ig2/UER9TQaBMi...</td>\n",
              "      <td>15812372</td>\n",
              "      <td>NaN</td>\n",
              "    </tr>\n",
              "  </tbody>\n",
              "</table>\n",
              "</div>"
            ],
            "text/plain": [
              "           id  ... deactivated\n",
              "0  33880573.0  ...         NaN\n",
              "1  62580435.0  ...         NaN\n",
              "2  72831913.0  ...         NaN\n",
              "3    460389.0  ...         NaN\n",
              "4  91795517.0  ...         NaN\n",
              "\n",
              "[5 rows x 13 columns]"
            ]
          },
          "metadata": {
            "tags": []
          },
          "execution_count": 13
        }
      ]
    },
    {
      "cell_type": "markdown",
      "metadata": {
        "id": "2HGb6BFALGOv"
      },
      "source": [
        "Посчитаем частоту включений групп друзей друзей пользователя"
      ]
    },
    {
      "cell_type": "code",
      "metadata": {
        "colab": {
          "base_uri": "https://localhost:8080/",
          "height": 195
        },
        "id": "t6fmBwHYlDs-",
        "outputId": "b6561c6b-b6f5-4ced-c259-2e1a424cda84"
      },
      "source": [
        "freinds_of_friends_groups_freq = list_groups_of_friends_of_friends_df.groupby(['id', 'name'], as_index=False)['type']\\\r\n",
        "         .count()\\\r\n",
        "         .sort_values(by='type',ascending=False)\\\r\n",
        "         .rename(columns={'type':'count'})\r\n",
        "freinds_of_friends_groups_freq.head()"
      ],
      "execution_count": 78,
      "outputs": [
        {
          "output_type": "execute_result",
          "data": {
            "text/html": [
              "<div>\n",
              "<style scoped>\n",
              "    .dataframe tbody tr th:only-of-type {\n",
              "        vertical-align: middle;\n",
              "    }\n",
              "\n",
              "    .dataframe tbody tr th {\n",
              "        vertical-align: top;\n",
              "    }\n",
              "\n",
              "    .dataframe thead th {\n",
              "        text-align: right;\n",
              "    }\n",
              "</style>\n",
              "<table border=\"1\" class=\"dataframe\">\n",
              "  <thead>\n",
              "    <tr style=\"text-align: right;\">\n",
              "      <th></th>\n",
              "      <th>id</th>\n",
              "      <th>name</th>\n",
              "      <th>count</th>\n",
              "    </tr>\n",
              "  </thead>\n",
              "  <tbody>\n",
              "    <tr>\n",
              "      <th>72502</th>\n",
              "      <td>60130670.0</td>\n",
              "      <td>Регион-70 | Томск</td>\n",
              "      <td>323</td>\n",
              "    </tr>\n",
              "    <tr>\n",
              "      <th>26251</th>\n",
              "      <td>30022666.0</td>\n",
              "      <td>Лепра</td>\n",
              "      <td>314</td>\n",
              "    </tr>\n",
              "    <tr>\n",
              "      <th>68710</th>\n",
              "      <td>57846937.0</td>\n",
              "      <td>MDK</td>\n",
              "      <td>305</td>\n",
              "    </tr>\n",
              "    <tr>\n",
              "      <th>25505</th>\n",
              "      <td>29534144.0</td>\n",
              "      <td>Лентач</td>\n",
              "      <td>278</td>\n",
              "    </tr>\n",
              "    <tr>\n",
              "      <th>77342</th>\n",
              "      <td>63731512.0</td>\n",
              "      <td>Vandrouki | Путешествия почти бесплатно (RU)</td>\n",
              "      <td>275</td>\n",
              "    </tr>\n",
              "  </tbody>\n",
              "</table>\n",
              "</div>"
            ],
            "text/plain": [
              "               id                                          name  count\n",
              "72502  60130670.0                             Регион-70 | Томск    323\n",
              "26251  30022666.0                                         Лепра    314\n",
              "68710  57846937.0                                           MDK    305\n",
              "25505  29534144.0                                        Лентач    278\n",
              "77342  63731512.0  Vandrouki | Путешествия почти бесплатно (RU)    275"
            ]
          },
          "metadata": {
            "tags": []
          },
          "execution_count": 78
        }
      ]
    },
    {
      "cell_type": "markdown",
      "metadata": {
        "id": "78oJpqa9JHZL"
      },
      "source": [
        "Объединим массивы, чтобы было удобнее сравнивать и считать группы"
      ]
    },
    {
      "cell_type": "code",
      "metadata": {
        "colab": {
          "base_uri": "https://localhost:8080/"
        },
        "id": "G6-NY4qOL_4Z",
        "outputId": "0e6435e8-cdac-4ac8-921e-07b1d097a56a"
      },
      "source": [
        "merged_friends_of_friends_df = pd.concat([list_groups_of_friends_of_friends_df, user_groups_df], axis=0)\r\n",
        "merged_friends_of_friends_df.shape"
      ],
      "execution_count": null,
      "outputs": [
        {
          "output_type": "execute_result",
          "data": {
            "text/plain": [
              "(415375, 16)"
            ]
          },
          "metadata": {
            "tags": []
          },
          "execution_count": 15
        }
      ]
    },
    {
      "cell_type": "code",
      "metadata": {
        "colab": {
          "base_uri": "https://localhost:8080/",
          "height": 366
        },
        "id": "etA5n1hAMhxQ",
        "outputId": "5ded5309-e6f4-44dc-c7cc-7fd7415584b3"
      },
      "source": [
        "merged_friends_of_friends_df.head()"
      ],
      "execution_count": null,
      "outputs": [
        {
          "output_type": "execute_result",
          "data": {
            "text/html": [
              "<div>\n",
              "<style scoped>\n",
              "    .dataframe tbody tr th:only-of-type {\n",
              "        vertical-align: middle;\n",
              "    }\n",
              "\n",
              "    .dataframe tbody tr th {\n",
              "        vertical-align: top;\n",
              "    }\n",
              "\n",
              "    .dataframe thead th {\n",
              "        text-align: right;\n",
              "    }\n",
              "</style>\n",
              "<table border=\"1\" class=\"dataframe\">\n",
              "  <thead>\n",
              "    <tr style=\"text-align: right;\">\n",
              "      <th></th>\n",
              "      <th>id</th>\n",
              "      <th>name</th>\n",
              "      <th>screen_name</th>\n",
              "      <th>is_closed</th>\n",
              "      <th>type</th>\n",
              "      <th>is_admin</th>\n",
              "      <th>is_member</th>\n",
              "      <th>is_advertiser</th>\n",
              "      <th>photo_50</th>\n",
              "      <th>photo_100</th>\n",
              "      <th>photo_200</th>\n",
              "      <th>user_friend_id</th>\n",
              "      <th>deactivated</th>\n",
              "      <th>Unnamed: 0</th>\n",
              "      <th>admin_level</th>\n",
              "      <th>user_id</th>\n",
              "    </tr>\n",
              "  </thead>\n",
              "  <tbody>\n",
              "    <tr>\n",
              "      <th>0</th>\n",
              "      <td>33880573.0</td>\n",
              "      <td>THE DUMP</td>\n",
              "      <td>dumpers</td>\n",
              "      <td>0.0</td>\n",
              "      <td>page</td>\n",
              "      <td>0.0</td>\n",
              "      <td>1.0</td>\n",
              "      <td>0.0</td>\n",
              "      <td>https://sun9-43.userapi.com/s/v1/if1/099Fhum7g...</td>\n",
              "      <td>https://sun9-43.userapi.com/s/v1/if1/ul0c2EM4t...</td>\n",
              "      <td>https://sun9-43.userapi.com/s/v1/if1/LKWp0K0Sv...</td>\n",
              "      <td>15812372.0</td>\n",
              "      <td>NaN</td>\n",
              "      <td>NaN</td>\n",
              "      <td>NaN</td>\n",
              "      <td>NaN</td>\n",
              "    </tr>\n",
              "    <tr>\n",
              "      <th>1</th>\n",
              "      <td>62580435.0</td>\n",
              "      <td>ФРУСТРАЦИЯ</td>\n",
              "      <td>frustrat</td>\n",
              "      <td>0.0</td>\n",
              "      <td>page</td>\n",
              "      <td>0.0</td>\n",
              "      <td>0.0</td>\n",
              "      <td>0.0</td>\n",
              "      <td>https://sun9-45.userapi.com/s/v1/ig1/28y1T1KbX...</td>\n",
              "      <td>https://sun9-45.userapi.com/s/v1/ig1/YfSEt-NBf...</td>\n",
              "      <td>https://sun9-45.userapi.com/s/v1/ig1/l2XRcqDrG...</td>\n",
              "      <td>15812372.0</td>\n",
              "      <td>NaN</td>\n",
              "      <td>NaN</td>\n",
              "      <td>NaN</td>\n",
              "      <td>NaN</td>\n",
              "    </tr>\n",
              "    <tr>\n",
              "      <th>2</th>\n",
              "      <td>72831913.0</td>\n",
              "      <td>Непаблик 18+</td>\n",
              "      <td>nepublic</td>\n",
              "      <td>0.0</td>\n",
              "      <td>page</td>\n",
              "      <td>0.0</td>\n",
              "      <td>0.0</td>\n",
              "      <td>0.0</td>\n",
              "      <td>https://sun9-32.userapi.com/s/v1/if1/hj9ae-VvA...</td>\n",
              "      <td>https://sun9-32.userapi.com/s/v1/if1/PPknx02Xy...</td>\n",
              "      <td>https://sun9-32.userapi.com/s/v1/if1/7vlfXR8cK...</td>\n",
              "      <td>15812372.0</td>\n",
              "      <td>NaN</td>\n",
              "      <td>NaN</td>\n",
              "      <td>NaN</td>\n",
              "      <td>NaN</td>\n",
              "    </tr>\n",
              "    <tr>\n",
              "      <th>3</th>\n",
              "      <td>460389.0</td>\n",
              "      <td>БОРЩ</td>\n",
              "      <td>borsch</td>\n",
              "      <td>0.0</td>\n",
              "      <td>page</td>\n",
              "      <td>0.0</td>\n",
              "      <td>0.0</td>\n",
              "      <td>0.0</td>\n",
              "      <td>https://sun9-38.userapi.com/s/v1/ig2/BkrOgl2tY...</td>\n",
              "      <td>https://sun9-38.userapi.com/s/v1/ig2/qDgXFYZcs...</td>\n",
              "      <td>https://sun9-38.userapi.com/s/v1/ig2/GU2-ZZLl8...</td>\n",
              "      <td>15812372.0</td>\n",
              "      <td>NaN</td>\n",
              "      <td>NaN</td>\n",
              "      <td>NaN</td>\n",
              "      <td>NaN</td>\n",
              "    </tr>\n",
              "    <tr>\n",
              "      <th>4</th>\n",
              "      <td>91795517.0</td>\n",
              "      <td>Салон Бытовых Услуг OKEY в Щелково и Балашихе</td>\n",
              "      <td>okey_s</td>\n",
              "      <td>0.0</td>\n",
              "      <td>page</td>\n",
              "      <td>0.0</td>\n",
              "      <td>0.0</td>\n",
              "      <td>0.0</td>\n",
              "      <td>https://sun9-4.userapi.com/s/v1/ig2/nQWtyYDtPU...</td>\n",
              "      <td>https://sun9-4.userapi.com/s/v1/ig2/8CThOkZWo_...</td>\n",
              "      <td>https://sun9-4.userapi.com/s/v1/ig2/UER9TQaBMi...</td>\n",
              "      <td>15812372.0</td>\n",
              "      <td>NaN</td>\n",
              "      <td>NaN</td>\n",
              "      <td>NaN</td>\n",
              "      <td>NaN</td>\n",
              "    </tr>\n",
              "  </tbody>\n",
              "</table>\n",
              "</div>"
            ],
            "text/plain": [
              "           id  ... user_id\n",
              "0  33880573.0  ...     NaN\n",
              "1  62580435.0  ...     NaN\n",
              "2  72831913.0  ...     NaN\n",
              "3    460389.0  ...     NaN\n",
              "4  91795517.0  ...     NaN\n",
              "\n",
              "[5 rows x 16 columns]"
            ]
          },
          "metadata": {
            "tags": []
          },
          "execution_count": 16
        }
      ]
    },
    {
      "cell_type": "code",
      "metadata": {
        "colab": {
          "base_uri": "https://localhost:8080/",
          "height": 195
        },
        "id": "ITsqzAzHnA_w",
        "outputId": "6247d563-3090-4bb4-bc56-ee5e14edf63d"
      },
      "source": [
        "commons_friends_of_friends_groups_freq = merged_friends_of_friends_df[merged_friends_of_friends_df.id.isin(user_groups_df.id)].groupby(['id', 'name'], as_index=False)\\\r\n",
        "         .agg({'type':'count'})\\\r\n",
        "         .sort_values(by='type',ascending=False)\\\r\n",
        "         .rename(columns={'type':'count'})\r\n",
        "commons_friends_of_friends_groups_freq.head()"
      ],
      "execution_count": 77,
      "outputs": [
        {
          "output_type": "execute_result",
          "data": {
            "text/html": [
              "<div>\n",
              "<style scoped>\n",
              "    .dataframe tbody tr th:only-of-type {\n",
              "        vertical-align: middle;\n",
              "    }\n",
              "\n",
              "    .dataframe tbody tr th {\n",
              "        vertical-align: top;\n",
              "    }\n",
              "\n",
              "    .dataframe thead th {\n",
              "        text-align: right;\n",
              "    }\n",
              "</style>\n",
              "<table border=\"1\" class=\"dataframe\">\n",
              "  <thead>\n",
              "    <tr style=\"text-align: right;\">\n",
              "      <th></th>\n",
              "      <th>id</th>\n",
              "      <th>name</th>\n",
              "      <th>count</th>\n",
              "    </tr>\n",
              "  </thead>\n",
              "  <tbody>\n",
              "    <tr>\n",
              "      <th>62</th>\n",
              "      <td>29534144.0</td>\n",
              "      <td>Лентач</td>\n",
              "      <td>279</td>\n",
              "    </tr>\n",
              "    <tr>\n",
              "      <th>131</th>\n",
              "      <td>63731512.0</td>\n",
              "      <td>Vandrouki | Путешествия почти бесплатно (RU)</td>\n",
              "      <td>276</td>\n",
              "    </tr>\n",
              "    <tr>\n",
              "      <th>71</th>\n",
              "      <td>31480508.0</td>\n",
              "      <td>Пикабу</td>\n",
              "      <td>268</td>\n",
              "    </tr>\n",
              "    <tr>\n",
              "      <th>43</th>\n",
              "      <td>24098496.0</td>\n",
              "      <td>E.squirе</td>\n",
              "      <td>188</td>\n",
              "    </tr>\n",
              "    <tr>\n",
              "      <th>38</th>\n",
              "      <td>22822305.0</td>\n",
              "      <td>ВКонтакте</td>\n",
              "      <td>177</td>\n",
              "    </tr>\n",
              "  </tbody>\n",
              "</table>\n",
              "</div>"
            ],
            "text/plain": [
              "             id                                          name  count\n",
              "62   29534144.0                                        Лентач    279\n",
              "131  63731512.0  Vandrouki | Путешествия почти бесплатно (RU)    276\n",
              "71   31480508.0                                        Пикабу    268\n",
              "43   24098496.0                                      E.squirе    188\n",
              "38   22822305.0                                     ВКонтакте    177"
            ]
          },
          "metadata": {
            "tags": []
          },
          "execution_count": 77
        }
      ]
    },
    {
      "cell_type": "code",
      "metadata": {
        "colab": {
          "base_uri": "https://localhost:8080/",
          "height": 458
        },
        "id": "ehVdTSUh1esa",
        "outputId": "dc635a85-dbfd-4b2e-a2e5-7d43531bd11b"
      },
      "source": [
        "group_freq_vizualization(commons_friends_of_friends_groups_freq['count'], commons_friends_of_friends_groups_freq['name'], freinds_of_friends_groups_freq['count'], freinds_of_friends_groups_freq['name'])"
      ],
      "execution_count": 76,
      "outputs": [
        {
          "output_type": "display_data",
          "data": {
            "image/png": "[encoded data removed]",
            "text/plain": [
              "<Figure size 1440x576 with 2 Axes>"
            ]
          },
          "metadata": {
            "tags": [],
            "needs_background": "light"
          }
        }
      ]
    },
    {
      "cell_type": "markdown",
      "metadata": {
        "id": "XVB0itTiNbSZ"
      },
      "source": [
        "Распределение частоты сообществ немного изменилось.\r\n",
        "Выделилась явная тройка лидеров по общим группам - это Лентач, Vandoruki, Пикабу. Но подавляющее число групп друзей друзей не входит в круг интересов пользователя. Явно преобладают люди из города Томск, много развлекательных групп и групп о творчестве (музыка, кино и даже стихи - 7 место)"
      ]
    },
    {
      "cell_type": "markdown",
      "metadata": {
        "id": "ckwBKejl8TLu"
      },
      "source": [
        "### 3. "
      ]
    },
    {
      "cell_type": "markdown",
      "metadata": {
        "id": "mG4gt69F671Z"
      },
      "source": [
        "Встает вопрос, а что с этой информацией делать?\r\n",
        "\r\n",
        "**Гипотеза**. Предложить пользователю в друзья тех людей, с которыми у него много общих групп. Это позволит расширить социальный граф пользователя, он может начать с нимим знакомиться, общаться, тем самым начнёт проводить больше времени в социальной сети. Это способствует повышению удержанию (Retention'у) - одной из ключевых метрик продукта."
      ]
    },
    {
      "cell_type": "code",
      "metadata": {
        "id": "2D9vr3hItA-7",
        "colab": {
          "base_uri": "https://localhost:8080/",
          "height": 195
        },
        "outputId": "2ae5d634-f2a1-48e6-a627-7d1b0256996e"
      },
      "source": [
        "list_people_numb_common_groups = list_groups_of_friends_of_friends_df[list_groups_of_friends_of_friends_df.id.isin(user_groups_df.id)]\\\r\n",
        "                                    .groupby('user_friend_id')\\\r\n",
        "                                    .agg({'name': 'count'})\\\r\n",
        "                                    .sort_values(by='name', ascending=False)\\\r\n",
        "                                    .rename(columns={'name':'numb_of_common_groups'})\\\r\n",
        "                                    .reset_index()\r\n",
        "list_people_numb_common_groups.head()"
      ],
      "execution_count": 88,
      "outputs": [
        {
          "output_type": "execute_result",
          "data": {
            "text/html": [
              "<div>\n",
              "<style scoped>\n",
              "    .dataframe tbody tr th:only-of-type {\n",
              "        vertical-align: middle;\n",
              "    }\n",
              "\n",
              "    .dataframe tbody tr th {\n",
              "        vertical-align: top;\n",
              "    }\n",
              "\n",
              "    .dataframe thead th {\n",
              "        text-align: right;\n",
              "    }\n",
              "</style>\n",
              "<table border=\"1\" class=\"dataframe\">\n",
              "  <thead>\n",
              "    <tr style=\"text-align: right;\">\n",
              "      <th></th>\n",
              "      <th>user_friend_id</th>\n",
              "      <th>numb_of_common_groups</th>\n",
              "    </tr>\n",
              "  </thead>\n",
              "  <tbody>\n",
              "    <tr>\n",
              "      <th>0</th>\n",
              "      <td>508742</td>\n",
              "      <td>42</td>\n",
              "    </tr>\n",
              "    <tr>\n",
              "      <th>1</th>\n",
              "      <td>66226692</td>\n",
              "      <td>31</td>\n",
              "    </tr>\n",
              "    <tr>\n",
              "      <th>2</th>\n",
              "      <td>23530185</td>\n",
              "      <td>31</td>\n",
              "    </tr>\n",
              "    <tr>\n",
              "      <th>3</th>\n",
              "      <td>35704901</td>\n",
              "      <td>31</td>\n",
              "    </tr>\n",
              "    <tr>\n",
              "      <th>4</th>\n",
              "      <td>56491468</td>\n",
              "      <td>30</td>\n",
              "    </tr>\n",
              "  </tbody>\n",
              "</table>\n",
              "</div>"
            ],
            "text/plain": [
              "   user_friend_id  numb_of_common_groups\n",
              "0          508742                     42\n",
              "1        66226692                     31\n",
              "2        23530185                     31\n",
              "3        35704901                     31\n",
              "4        56491468                     30"
            ]
          },
          "metadata": {
            "tags": []
          },
          "execution_count": 88
        }
      ]
    },
    {
      "cell_type": "markdown",
      "metadata": {
        "id": "U6iJ9eoSF3BD"
      },
      "source": [
        "В целом, результат получен. Мы имеем список id-пользователей, которые имеют наибольшее количество общих групп с изначальным пользователем. \r\n",
        "\r\n",
        "\r\n",
        "При первом же просмотре этих людей выяснилось, что они имеют мало общего с пользователем, так как связаны через друга, у которого большое количество друзей, больше тысячи. Это страницы популярных людей, музыкальны групп, коллективов, которые на себе объединяют большое количество посторонних людей.\r\n",
        "\r\n",
        "Чтобы как-то улучшить данный подход можно исключить из выборки тех друзей пользователя, у которых количество друзей больше определенного порога, например, 1000. Это наивный подход, но подобрав оптимальное количество друзей для отсечки, можно с определенной точностью гарантировать, что пользователь и его друг знакомы и использовать эти данные для расширения списка знакомств пользователя через знакомых его друга, знакомые знакомых."
      ]
    },
    {
      "cell_type": "markdown",
      "metadata": {
        "id": "gwThpyQuJg0B"
      },
      "source": [
        "На этом шаге можно не останавливаться, а подобрать дополнительные критерии для отбора предлагаемых в друзья людей. Например, считать количество лайков/просмотров/визитов в определенные группы и матчить между собой тех людей, которые отдают большие предпочтения определенным группам. Но средствами публичного API Вконтакте сделать это не представляется возможным, но внутренние инструменты Вконтакте, уверен, могут позволить это сделать."
      ]
    },
    {
      "cell_type": "code",
      "metadata": {
        "id": "D_MjfX6KuFCs"
      },
      "source": [
        ""
      ],
      "execution_count": null,
      "outputs": []
    }
  ]
}
