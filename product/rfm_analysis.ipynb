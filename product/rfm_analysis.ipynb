{
  "nbformat": 4,
  "nbformat_minor": 0,
  "metadata": {
    "colab": {
      "name": "rfm_analysis.ipynb",
      "provenance": [],
      "authorship_tag": "ABX9TyPM/lTO/09roTLudIpdN4Dg",
      "include_colab_link": true
    },
    "kernelspec": {
      "name": "python3",
      "display_name": "Python 3"
    }
  },
  "cells": [
    {
      "cell_type": "markdown",
      "metadata": {
        "id": "view-in-github",
        "colab_type": "text"
      },
      "source": [
        "<a href=\"https://colab.research.google.com/github/VPonomarev42/LearningRep/blob/main/product/rfm_analysis.ipynb\" target=\"_parent\"><img src=\"https://colab.research.google.com/assets/colab-badge.svg\" alt=\"Open In Colab\"/></a>"
      ]
    },
    {
      "cell_type": "markdown",
      "metadata": {
        "id": "Vobkgz7LvphX"
      },
      "source": [
        "## Задача\r\n",
        "\r\n",
        "Проведение ***RFM ***анализа пользователей. В каждом подсегменте поделим пользователей на 4 класса. Отсчитаем количество дней, прошедших с момента последней покупки, с максимальной даты покупки в датасете.\r\n",
        "\r\n",
        "## Вопросы\r\n",
        "\r\n",
        "- Какое максимальное кол-во покупок было совершено одним пользователем?\r\n",
        "- Какая верхняя граница у суммы покупок у пользователей с классом 4 в подсегменте М? (Другими словами: пользователи, у которых сумма покупок от 0 до Х попадают в 4 класс в подсегменте М)\r\n",
        "- Какая нижняя граница у количества покупок у пользователей с классом 1 в подсегменте F?\r\n",
        "- Какая верхняя граница у количества покупок у пользователей с классом 2 в подсегменте R?\r\n",
        "- Сколько пользователей попало в сегмент 111?\r\n",
        "- Сколько пользователей попало в сегмент 311?\r\n",
        "- В каком RFM-сегменте самое большое кол-во пользователей?\r\n",
        "- В каком RFM-сегменте самое маленькое кол-во пользователей?\r\n",
        "- Какое количество пользователей попало в самый малочисленный сегмент?"
      ]
    },
    {
      "cell_type": "code",
      "metadata": {
        "id": "NT4N6IuwwnET"
      },
      "source": [
        "import numpy as np\r\n",
        "import pandas as pd\r\n",
        "import seaborn as sns\r\n",
        "import matplotlib.pylab as plt\r\n",
        "\r\n",
        "%matplotlib inline\r\n",
        "sns.set(rc={'figure.figsize':(10,5)}, style='whitegrid')"
      ],
      "execution_count": 1,
      "outputs": []
    },
    {
      "cell_type": "code",
      "metadata": {
        "colab": {
          "base_uri": "https://localhost:8080/",
          "height": 229
        },
        "id": "KTu1IHtnwrHg",
        "outputId": "080da0a0-4df1-46d2-d2eb-70482f8cad1d"
      },
      "source": [
        "df = pd.read_csv('https://stepik.org/media/attachments/lesson/413464/RFM_ht_data.csv')\r\n",
        "df.head()"
      ],
      "execution_count": 2,
      "outputs": [
        {
          "output_type": "stream",
          "text": [
            "/usr/local/lib/python3.7/dist-packages/IPython/core/interactiveshell.py:2718: DtypeWarning: Columns (1) have mixed types.Specify dtype option on import or set low_memory=False.\n",
            "  interactivity=interactivity, compiler=compiler, result=result)\n"
          ],
          "name": "stderr"
        },
        {
          "output_type": "execute_result",
          "data": {
            "text/html": [
              "<div>\n",
              "<style scoped>\n",
              "    .dataframe tbody tr th:only-of-type {\n",
              "        vertical-align: middle;\n",
              "    }\n",
              "\n",
              "    .dataframe tbody tr th {\n",
              "        vertical-align: top;\n",
              "    }\n",
              "\n",
              "    .dataframe thead th {\n",
              "        text-align: right;\n",
              "    }\n",
              "</style>\n",
              "<table border=\"1\" class=\"dataframe\">\n",
              "  <thead>\n",
              "    <tr style=\"text-align: right;\">\n",
              "      <th></th>\n",
              "      <th>InvoiceNo</th>\n",
              "      <th>CustomerCode</th>\n",
              "      <th>InvoiceDate</th>\n",
              "      <th>Amount</th>\n",
              "    </tr>\n",
              "  </thead>\n",
              "  <tbody>\n",
              "    <tr>\n",
              "      <th>0</th>\n",
              "      <td>C0011810010001</td>\n",
              "      <td>19067290</td>\n",
              "      <td>2020-09-01</td>\n",
              "      <td>1716.00</td>\n",
              "    </tr>\n",
              "    <tr>\n",
              "      <th>1</th>\n",
              "      <td>C0011810010017</td>\n",
              "      <td>13233933</td>\n",
              "      <td>2020-09-01</td>\n",
              "      <td>1489.74</td>\n",
              "    </tr>\n",
              "    <tr>\n",
              "      <th>2</th>\n",
              "      <td>C0011810010020</td>\n",
              "      <td>99057968</td>\n",
              "      <td>2020-09-01</td>\n",
              "      <td>151.47</td>\n",
              "    </tr>\n",
              "    <tr>\n",
              "      <th>3</th>\n",
              "      <td>C0011810010021</td>\n",
              "      <td>80007276</td>\n",
              "      <td>2020-09-01</td>\n",
              "      <td>146.72</td>\n",
              "    </tr>\n",
              "    <tr>\n",
              "      <th>4</th>\n",
              "      <td>C0011810010024</td>\n",
              "      <td>13164076</td>\n",
              "      <td>2020-09-01</td>\n",
              "      <td>104.00</td>\n",
              "    </tr>\n",
              "  </tbody>\n",
              "</table>\n",
              "</div>"
            ],
            "text/plain": [
              "        InvoiceNo CustomerCode InvoiceDate   Amount\n",
              "0  C0011810010001     19067290  2020-09-01  1716.00\n",
              "1  C0011810010017     13233933  2020-09-01  1489.74\n",
              "2  C0011810010020     99057968  2020-09-01   151.47\n",
              "3  C0011810010021     80007276  2020-09-01   146.72\n",
              "4  C0011810010024     13164076  2020-09-01   104.00"
            ]
          },
          "metadata": {
            "tags": []
          },
          "execution_count": 2
        }
      ]
    },
    {
      "cell_type": "code",
      "metadata": {
        "colab": {
          "base_uri": "https://localhost:8080/"
        },
        "id": "kFrhk3tVvnEI",
        "outputId": "ff62b5a6-acae-46b9-8f01-78a8e49cf0e8"
      },
      "source": [
        "df.info()"
      ],
      "execution_count": 32,
      "outputs": [
        {
          "output_type": "stream",
          "text": [
            "<class 'pandas.core.frame.DataFrame'>\n",
            "RangeIndex: 332730 entries, 0 to 332729\n",
            "Data columns (total 5 columns):\n",
            " #   Column             Non-Null Count   Dtype         \n",
            "---  ------             --------------   -----         \n",
            " 0   InvoiceNo          332730 non-null  object        \n",
            " 1   CustomerCode       332730 non-null  object        \n",
            " 2   InvoiceDate        332730 non-null  datetime64[ns]\n",
            " 3   Amount             332730 non-null  float64       \n",
            " 4   last_invoice_days  332730 non-null  int64         \n",
            "dtypes: datetime64[ns](1), float64(1), int64(1), object(2)\n",
            "memory usage: 12.7+ MB\n"
          ],
          "name": "stdout"
        }
      ]
    },
    {
      "cell_type": "code",
      "metadata": {
        "id": "rnpP5sk7w_8v"
      },
      "source": [
        "df.CustomerCode = df.CustomerCode.apply(lambda x: str(x))"
      ],
      "execution_count": 81,
      "outputs": []
    },
    {
      "cell_type": "markdown",
      "metadata": {
        "id": "ubdJWGS_xk66"
      },
      "source": [
        "Не можем привести колонку **CustomerCode** к целочисленному типа, т.к. содержатся ячейки комбинированного типа."
      ]
    },
    {
      "cell_type": "code",
      "metadata": {
        "id": "mPni5VmNxkpR"
      },
      "source": [
        "df.InvoiceDate = pd.to_datetime(df.InvoiceDate)"
      ],
      "execution_count": 82,
      "outputs": []
    },
    {
      "cell_type": "code",
      "metadata": {
        "colab": {
          "base_uri": "https://localhost:8080/"
        },
        "id": "bp__xFHLw4OO",
        "outputId": "e9335690-9278-4384-a59e-5c63c5f76ea8"
      },
      "source": [
        "df.info()"
      ],
      "execution_count": 83,
      "outputs": [
        {
          "output_type": "stream",
          "text": [
            "<class 'pandas.core.frame.DataFrame'>\n",
            "RangeIndex: 332730 entries, 0 to 332729\n",
            "Data columns (total 5 columns):\n",
            " #   Column             Non-Null Count   Dtype         \n",
            "---  ------             --------------   -----         \n",
            " 0   InvoiceNo          332730 non-null  object        \n",
            " 1   CustomerCode       332730 non-null  object        \n",
            " 2   InvoiceDate        332730 non-null  datetime64[ns]\n",
            " 3   Amount             332730 non-null  float64       \n",
            " 4   last_invoice_days  332730 non-null  int64         \n",
            "dtypes: datetime64[ns](1), float64(1), int64(1), object(2)\n",
            "memory usage: 12.7+ MB\n"
          ],
          "name": "stdout"
        }
      ]
    },
    {
      "cell_type": "code",
      "metadata": {
        "colab": {
          "base_uri": "https://localhost:8080/"
        },
        "id": "XaUsxX2wx379",
        "outputId": "f0628a99-acf5-4261-ddd2-50eb93fd42a4"
      },
      "source": [
        "df.shape"
      ],
      "execution_count": 84,
      "outputs": [
        {
          "output_type": "execute_result",
          "data": {
            "text/plain": [
              "(332730, 5)"
            ]
          },
          "metadata": {
            "tags": []
          },
          "execution_count": 84
        }
      ]
    },
    {
      "cell_type": "code",
      "metadata": {
        "colab": {
          "base_uri": "https://localhost:8080/"
        },
        "id": "JCxXfmn_x-p0",
        "outputId": "a1e6b212-2d10-492e-c26c-453ea5f3ed8d"
      },
      "source": [
        "df.isnull().sum()"
      ],
      "execution_count": 85,
      "outputs": [
        {
          "output_type": "execute_result",
          "data": {
            "text/plain": [
              "InvoiceNo            0\n",
              "CustomerCode         0\n",
              "InvoiceDate          0\n",
              "Amount               0\n",
              "last_invoice_days    0\n",
              "dtype: int64"
            ]
          },
          "metadata": {
            "tags": []
          },
          "execution_count": 85
        }
      ]
    },
    {
      "cell_type": "markdown",
      "metadata": {
        "id": "EKYY7yoA4uvC"
      },
      "source": [
        "## 0. Отсчитаем количество дней, прошедших с момента последней покупки"
      ]
    },
    {
      "cell_type": "code",
      "metadata": {
        "colab": {
          "base_uri": "https://localhost:8080/"
        },
        "id": "5Uj5jWW5yCba",
        "outputId": "eb76a65c-a762-4f98-9871-e964d2ae33aa"
      },
      "source": [
        "df.InvoiceDate.describe()"
      ],
      "execution_count": 86,
      "outputs": [
        {
          "output_type": "stream",
          "text": [
            "/usr/local/lib/python3.7/dist-packages/ipykernel_launcher.py:1: FutureWarning: Treating datetime data as categorical rather than numeric in `.describe` is deprecated and will be removed in a future version of pandas. Specify `datetime_is_numeric=True` to silence this warning and adopt the future behavior now.\n",
            "  \"\"\"Entry point for launching an IPython kernel.\n"
          ],
          "name": "stderr"
        },
        {
          "output_type": "execute_result",
          "data": {
            "text/plain": [
              "count                  332730\n",
              "unique                     30\n",
              "top       2020-09-30 00:00:00\n",
              "freq                    19781\n",
              "first     2020-09-01 00:00:00\n",
              "last      2020-09-30 00:00:00\n",
              "Name: InvoiceDate, dtype: object"
            ]
          },
          "metadata": {
            "tags": []
          },
          "execution_count": 86
        }
      ]
    },
    {
      "cell_type": "code",
      "metadata": {
        "colab": {
          "base_uri": "https://localhost:8080/"
        },
        "id": "Y8GCXQdA42Fi",
        "outputId": "5a900249-2078-42d2-ddff-123d949cfc6a"
      },
      "source": [
        "last_invoice_date = df.InvoiceDate.max()\r\n",
        "last_invoice_date"
      ],
      "execution_count": 87,
      "outputs": [
        {
          "output_type": "execute_result",
          "data": {
            "text/plain": [
              "Timestamp('2020-09-30 00:00:00')"
            ]
          },
          "metadata": {
            "tags": []
          },
          "execution_count": 87
        }
      ]
    },
    {
      "cell_type": "code",
      "metadata": {
        "id": "fBWhhbJE5Cgg"
      },
      "source": [
        ""
      ],
      "execution_count": 87,
      "outputs": []
    },
    {
      "cell_type": "markdown",
      "metadata": {
        "id": "C1-Ozqzk6Phz"
      },
      "source": [
        "## 1. Какое максимальное количество покупок совершил один пользователь"
      ]
    },
    {
      "cell_type": "code",
      "metadata": {
        "colab": {
          "base_uri": "https://localhost:8080/"
        },
        "id": "qKKE-aln6PMx",
        "outputId": "14ff676d-1aa3-4b2f-e0a5-5a8a3917933a"
      },
      "source": [
        "df.query('Amount > 0').groupby('CustomerCode').InvoiceNo.count().sort_values(ascending=False)"
      ],
      "execution_count": 88,
      "outputs": [
        {
          "output_type": "execute_result",
          "data": {
            "text/plain": [
              "CustomerCode\n",
              "19057820    204\n",
              "13215452    113\n",
              "13032521    106\n",
              "19080880     99\n",
              "99003061     90\n",
              "           ... \n",
              "18053013      1\n",
              "18053019      1\n",
              "18053055      1\n",
              "18053072      1\n",
              "02213019      1\n",
              "Name: InvoiceNo, Length: 123731, dtype: int64"
            ]
          },
          "metadata": {
            "tags": []
          },
          "execution_count": 88
        }
      ]
    },
    {
      "cell_type": "markdown",
      "metadata": {
        "id": "FpktSPkfbWV-"
      },
      "source": [
        "## 2. Какая верхняя граница у суммы покупок у пользователей с классом 4 в подсегменте М? "
      ]
    },
    {
      "cell_type": "code",
      "metadata": {
        "colab": {
          "base_uri": "https://localhost:8080/",
          "height": 225
        },
        "id": "Df1sj4grP8uj",
        "outputId": "7397b268-71ca-4801-ae7a-d18e8c14aee1"
      },
      "source": [
        "rfmTable = df.groupby('CustomerCode').agg({'InvoiceDate': lambda x: (last_invoice_date - x.max()).days, \r\n",
        "                                'InvoiceNo': lambda x: len(x), \r\n",
        "                                'Amount': lambda x: sum(x)})\r\n",
        "rfmTable = rfmTable.rename(columns={'InvoiceDate': 'Recency',\r\n",
        "                                    'InvoiceNo': 'Frequency',\r\n",
        "                                    'Amount':'Monetary'})\r\n",
        "rfmTable.head()"
      ],
      "execution_count": 89,
      "outputs": [
        {
          "output_type": "execute_result",
          "data": {
            "text/html": [
              "<div>\n",
              "<style scoped>\n",
              "    .dataframe tbody tr th:only-of-type {\n",
              "        vertical-align: middle;\n",
              "    }\n",
              "\n",
              "    .dataframe tbody tr th {\n",
              "        vertical-align: top;\n",
              "    }\n",
              "\n",
              "    .dataframe thead th {\n",
              "        text-align: right;\n",
              "    }\n",
              "</style>\n",
              "<table border=\"1\" class=\"dataframe\">\n",
              "  <thead>\n",
              "    <tr style=\"text-align: right;\">\n",
              "      <th></th>\n",
              "      <th>Recency</th>\n",
              "      <th>Frequency</th>\n",
              "      <th>Monetary</th>\n",
              "    </tr>\n",
              "    <tr>\n",
              "      <th>CustomerCode</th>\n",
              "      <th></th>\n",
              "      <th></th>\n",
              "      <th></th>\n",
              "    </tr>\n",
              "  </thead>\n",
              "  <tbody>\n",
              "    <tr>\n",
              "      <th>02213019</th>\n",
              "      <td>19</td>\n",
              "      <td>1</td>\n",
              "      <td>1609.20</td>\n",
              "    </tr>\n",
              "    <tr>\n",
              "      <th>02213042</th>\n",
              "      <td>22</td>\n",
              "      <td>3</td>\n",
              "      <td>9685.48</td>\n",
              "    </tr>\n",
              "    <tr>\n",
              "      <th>02213071</th>\n",
              "      <td>29</td>\n",
              "      <td>1</td>\n",
              "      <td>415.00</td>\n",
              "    </tr>\n",
              "    <tr>\n",
              "      <th>02213088</th>\n",
              "      <td>23</td>\n",
              "      <td>1</td>\n",
              "      <td>305.00</td>\n",
              "    </tr>\n",
              "    <tr>\n",
              "      <th>02213092</th>\n",
              "      <td>25</td>\n",
              "      <td>1</td>\n",
              "      <td>1412.88</td>\n",
              "    </tr>\n",
              "  </tbody>\n",
              "</table>\n",
              "</div>"
            ],
            "text/plain": [
              "              Recency  Frequency  Monetary\n",
              "CustomerCode                              \n",
              "02213019           19          1   1609.20\n",
              "02213042           22          3   9685.48\n",
              "02213071           29          1    415.00\n",
              "02213088           23          1    305.00\n",
              "02213092           25          1   1412.88"
            ]
          },
          "metadata": {
            "tags": []
          },
          "execution_count": 89
        }
      ]
    },
    {
      "cell_type": "code",
      "metadata": {
        "colab": {
          "base_uri": "https://localhost:8080/",
          "height": 284
        },
        "id": "_JR24hMy5Og6",
        "outputId": "3431ee5a-aee0-41f3-93b9-f1ef8a8746a4"
      },
      "source": [
        "rfmTable.describe()"
      ],
      "execution_count": 90,
      "outputs": [
        {
          "output_type": "execute_result",
          "data": {
            "text/html": [
              "<div>\n",
              "<style scoped>\n",
              "    .dataframe tbody tr th:only-of-type {\n",
              "        vertical-align: middle;\n",
              "    }\n",
              "\n",
              "    .dataframe tbody tr th {\n",
              "        vertical-align: top;\n",
              "    }\n",
              "\n",
              "    .dataframe thead th {\n",
              "        text-align: right;\n",
              "    }\n",
              "</style>\n",
              "<table border=\"1\" class=\"dataframe\">\n",
              "  <thead>\n",
              "    <tr style=\"text-align: right;\">\n",
              "      <th></th>\n",
              "      <th>Recency</th>\n",
              "      <th>Frequency</th>\n",
              "      <th>Monetary</th>\n",
              "    </tr>\n",
              "  </thead>\n",
              "  <tbody>\n",
              "    <tr>\n",
              "      <th>count</th>\n",
              "      <td>123733.000000</td>\n",
              "      <td>123733.000000</td>\n",
              "      <td>123733.000000</td>\n",
              "    </tr>\n",
              "    <tr>\n",
              "      <th>mean</th>\n",
              "      <td>9.797742</td>\n",
              "      <td>2.689097</td>\n",
              "      <td>3331.870758</td>\n",
              "    </tr>\n",
              "    <tr>\n",
              "      <th>std</th>\n",
              "      <td>8.560802</td>\n",
              "      <td>2.894494</td>\n",
              "      <td>6131.418681</td>\n",
              "    </tr>\n",
              "    <tr>\n",
              "      <th>min</th>\n",
              "      <td>0.000000</td>\n",
              "      <td>1.000000</td>\n",
              "      <td>-80.000000</td>\n",
              "    </tr>\n",
              "    <tr>\n",
              "      <th>25%</th>\n",
              "      <td>2.000000</td>\n",
              "      <td>1.000000</td>\n",
              "      <td>765.000000</td>\n",
              "    </tr>\n",
              "    <tr>\n",
              "      <th>50%</th>\n",
              "      <td>8.000000</td>\n",
              "      <td>2.000000</td>\n",
              "      <td>1834.480000</td>\n",
              "    </tr>\n",
              "    <tr>\n",
              "      <th>75%</th>\n",
              "      <td>16.000000</td>\n",
              "      <td>3.000000</td>\n",
              "      <td>4008.840000</td>\n",
              "    </tr>\n",
              "    <tr>\n",
              "      <th>max</th>\n",
              "      <td>29.000000</td>\n",
              "      <td>204.000000</td>\n",
              "      <td>711487.710000</td>\n",
              "    </tr>\n",
              "  </tbody>\n",
              "</table>\n",
              "</div>"
            ],
            "text/plain": [
              "             Recency      Frequency       Monetary\n",
              "count  123733.000000  123733.000000  123733.000000\n",
              "mean        9.797742       2.689097    3331.870758\n",
              "std         8.560802       2.894494    6131.418681\n",
              "min         0.000000       1.000000     -80.000000\n",
              "25%         2.000000       1.000000     765.000000\n",
              "50%         8.000000       2.000000    1834.480000\n",
              "75%        16.000000       3.000000    4008.840000\n",
              "max        29.000000     204.000000  711487.710000"
            ]
          },
          "metadata": {
            "tags": []
          },
          "execution_count": 90
        }
      ]
    },
    {
      "cell_type": "code",
      "metadata": {
        "colab": {
          "base_uri": "https://localhost:8080/",
          "height": 136
        },
        "id": "uQLbtjyCS-N8",
        "outputId": "fe3ea389-fe42-40bf-c7d0-b742c89b04aa"
      },
      "source": [
        "quntiles = rfmTable.quantile([0.25,0.5,0.75])\r\n",
        "quntiles"
      ],
      "execution_count": 91,
      "outputs": [
        {
          "output_type": "execute_result",
          "data": {
            "text/html": [
              "<div>\n",
              "<style scoped>\n",
              "    .dataframe tbody tr th:only-of-type {\n",
              "        vertical-align: middle;\n",
              "    }\n",
              "\n",
              "    .dataframe tbody tr th {\n",
              "        vertical-align: top;\n",
              "    }\n",
              "\n",
              "    .dataframe thead th {\n",
              "        text-align: right;\n",
              "    }\n",
              "</style>\n",
              "<table border=\"1\" class=\"dataframe\">\n",
              "  <thead>\n",
              "    <tr style=\"text-align: right;\">\n",
              "      <th></th>\n",
              "      <th>Recency</th>\n",
              "      <th>Frequency</th>\n",
              "      <th>Monetary</th>\n",
              "    </tr>\n",
              "  </thead>\n",
              "  <tbody>\n",
              "    <tr>\n",
              "      <th>0.25</th>\n",
              "      <td>2.0</td>\n",
              "      <td>1.0</td>\n",
              "      <td>765.00</td>\n",
              "    </tr>\n",
              "    <tr>\n",
              "      <th>0.50</th>\n",
              "      <td>8.0</td>\n",
              "      <td>2.0</td>\n",
              "      <td>1834.48</td>\n",
              "    </tr>\n",
              "    <tr>\n",
              "      <th>0.75</th>\n",
              "      <td>16.0</td>\n",
              "      <td>3.0</td>\n",
              "      <td>4008.84</td>\n",
              "    </tr>\n",
              "  </tbody>\n",
              "</table>\n",
              "</div>"
            ],
            "text/plain": [
              "      Recency  Frequency  Monetary\n",
              "0.25      2.0        1.0    765.00\n",
              "0.50      8.0        2.0   1834.48\n",
              "0.75     16.0        3.0   4008.84"
            ]
          },
          "metadata": {
            "tags": []
          },
          "execution_count": 91
        }
      ]
    },
    {
      "cell_type": "code",
      "metadata": {
        "id": "2fk1asBMTVU2"
      },
      "source": [
        "def Rclassifier(value, parameter_name, quntiles_table):\r\n",
        "  if value <= quntiles_table[parameter_name][0.25]: return 1\r\n",
        "  if value <= quntiles_table[parameter_name][0.5]: return 2\r\n",
        "  if value <= quntiles_table[parameter_name][0.75]: return 3\r\n",
        "  return 4\r\n",
        "def FMclassifier(value, parameter_name, quntiles_table):\r\n",
        "  if value <= quntiles_table[parameter_name][0.25]: return 4\r\n",
        "  if value <= quntiles_table[parameter_name][0.5]: return 3\r\n",
        "  if value <= quntiles_table[parameter_name][0.75]: return 2\r\n",
        "  return 1"
      ],
      "execution_count": 92,
      "outputs": []
    },
    {
      "cell_type": "code",
      "metadata": {
        "id": "51sXZr9aZc_j"
      },
      "source": [
        "rfmTable['R'] = rfmTable['Recency'].apply(Rclassifier, args=('Recency', quntiles))\r\n",
        "rfmTable['F'] = rfmTable['Frequency'].apply(FMclassifier, args=('Frequency', quntiles))\r\n",
        "rfmTable['M'] = rfmTable['Monetary'].apply(FMclassifier, args=('Monetary', quntiles))\r\n",
        "rfmTable['RFM'] = rfmTable['R'].map(str) + rfmTable['F'].map(str) + rfmTable['M'].map(str)\r\n"
      ],
      "execution_count": 102,
      "outputs": []
    },
    {
      "cell_type": "code",
      "metadata": {
        "colab": {
          "base_uri": "https://localhost:8080/",
          "height": 225
        },
        "id": "qPWdATCzZxzI",
        "outputId": "5902cba9-5d16-415e-ee71-f8c3153916b3"
      },
      "source": [
        "rfmTable.head()"
      ],
      "execution_count": 94,
      "outputs": [
        {
          "output_type": "execute_result",
          "data": {
            "text/html": [
              "<div>\n",
              "<style scoped>\n",
              "    .dataframe tbody tr th:only-of-type {\n",
              "        vertical-align: middle;\n",
              "    }\n",
              "\n",
              "    .dataframe tbody tr th {\n",
              "        vertical-align: top;\n",
              "    }\n",
              "\n",
              "    .dataframe thead th {\n",
              "        text-align: right;\n",
              "    }\n",
              "</style>\n",
              "<table border=\"1\" class=\"dataframe\">\n",
              "  <thead>\n",
              "    <tr style=\"text-align: right;\">\n",
              "      <th></th>\n",
              "      <th>Recency</th>\n",
              "      <th>Frequency</th>\n",
              "      <th>Monetary</th>\n",
              "      <th>R</th>\n",
              "      <th>F</th>\n",
              "      <th>M</th>\n",
              "      <th>RFM</th>\n",
              "    </tr>\n",
              "    <tr>\n",
              "      <th>CustomerCode</th>\n",
              "      <th></th>\n",
              "      <th></th>\n",
              "      <th></th>\n",
              "      <th></th>\n",
              "      <th></th>\n",
              "      <th></th>\n",
              "      <th></th>\n",
              "    </tr>\n",
              "  </thead>\n",
              "  <tbody>\n",
              "    <tr>\n",
              "      <th>02213019</th>\n",
              "      <td>19</td>\n",
              "      <td>1</td>\n",
              "      <td>1609.20</td>\n",
              "      <td>4</td>\n",
              "      <td>1</td>\n",
              "      <td>2</td>\n",
              "      <td>412</td>\n",
              "    </tr>\n",
              "    <tr>\n",
              "      <th>02213042</th>\n",
              "      <td>22</td>\n",
              "      <td>3</td>\n",
              "      <td>9685.48</td>\n",
              "      <td>4</td>\n",
              "      <td>3</td>\n",
              "      <td>4</td>\n",
              "      <td>434</td>\n",
              "    </tr>\n",
              "    <tr>\n",
              "      <th>02213071</th>\n",
              "      <td>29</td>\n",
              "      <td>1</td>\n",
              "      <td>415.00</td>\n",
              "      <td>4</td>\n",
              "      <td>1</td>\n",
              "      <td>1</td>\n",
              "      <td>411</td>\n",
              "    </tr>\n",
              "    <tr>\n",
              "      <th>02213088</th>\n",
              "      <td>23</td>\n",
              "      <td>1</td>\n",
              "      <td>305.00</td>\n",
              "      <td>4</td>\n",
              "      <td>1</td>\n",
              "      <td>1</td>\n",
              "      <td>411</td>\n",
              "    </tr>\n",
              "    <tr>\n",
              "      <th>02213092</th>\n",
              "      <td>25</td>\n",
              "      <td>1</td>\n",
              "      <td>1412.88</td>\n",
              "      <td>4</td>\n",
              "      <td>1</td>\n",
              "      <td>2</td>\n",
              "      <td>412</td>\n",
              "    </tr>\n",
              "  </tbody>\n",
              "</table>\n",
              "</div>"
            ],
            "text/plain": [
              "              Recency  Frequency  Monetary  R  F  M  RFM\n",
              "CustomerCode                                            \n",
              "02213019           19          1   1609.20  4  1  2  412\n",
              "02213042           22          3   9685.48  4  3  4  434\n",
              "02213071           29          1    415.00  4  1  1  411\n",
              "02213088           23          1    305.00  4  1  1  411\n",
              "02213092           25          1   1412.88  4  1  2  412"
            ]
          },
          "metadata": {
            "tags": []
          },
          "execution_count": 94
        }
      ]
    },
    {
      "cell_type": "code",
      "metadata": {
        "colab": {
          "base_uri": "https://localhost:8080/"
        },
        "id": "H6qqnK8hfODu",
        "outputId": "aae524ec-2ff8-4639-be6a-3ef75ce679c8"
      },
      "source": [
        " print(f\"Верхняя граница у суммы покупок у пользователей с классом 4 в подсегменте М = {quntiles['Monetary'][0.25]}\")"
      ],
      "execution_count": 108,
      "outputs": [
        {
          "output_type": "stream",
          "text": [
            "Верхняя граница у суммы покупок у пользователей с классом 4 в подсегменте М = 765.0\n"
          ],
          "name": "stdout"
        }
      ]
    },
    {
      "cell_type": "code",
      "metadata": {
        "colab": {
          "base_uri": "https://localhost:8080/"
        },
        "id": "N57PG4mWf0ds",
        "outputId": "e2897ef9-c06e-45bd-8819-566e4a880bbf"
      },
      "source": [
        " print(f\"Нижняя граница у количества покупок у пользователей с классом 1 в подсегменте F = {rfmTable[rfmTable.F == 1].Frequency.min()}\")"
      ],
      "execution_count": 111,
      "outputs": [
        {
          "output_type": "stream",
          "text": [
            "Нижняя граница у количества покупок у пользователей с классом 1 в подсегменте F = 4\n"
          ],
          "name": "stdout"
        }
      ]
    },
    {
      "cell_type": "code",
      "metadata": {
        "colab": {
          "base_uri": "https://localhost:8080/"
        },
        "id": "FVGy4Ix3f8cE",
        "outputId": "e544faf9-bdf1-4c82-dc51-349a0bb5b29a"
      },
      "source": [
        " print(f\"Максимальное количество дней, которое должно пройти с момента последней покупки для того, чтобы пользователь попал в класс 2 в подсегменте R = {rfmTable[rfmTable.R == 2].Recency.max()}\") "
      ],
      "execution_count": 113,
      "outputs": [
        {
          "output_type": "stream",
          "text": [
            "Максимальное количество дней, которое должно пройти с момента последней покупки для того, чтобы пользователь попал в класс 2 в подсегменте R = 8\n"
          ],
          "name": "stdout"
        }
      ]
    },
    {
      "cell_type": "code",
      "metadata": {
        "colab": {
          "base_uri": "https://localhost:8080/"
        },
        "id": "ACoaqESYgX2I",
        "outputId": "4e2bd6bd-6791-47ec-b46f-9165e7c5529f"
      },
      "source": [
        " print(f\"В сегмент 111 попало {rfmTable[rfmTable.RFM == '111'].RFM.count()} пользователей\")"
      ],
      "execution_count": 116,
      "outputs": [
        {
          "output_type": "stream",
          "text": [
            "В сегмент 111 попало 9705 пользователей\n"
          ],
          "name": "stdout"
        }
      ]
    },
    {
      "cell_type": "code",
      "metadata": {
        "colab": {
          "base_uri": "https://localhost:8080/"
        },
        "id": "ZJIZ--WBg9WQ",
        "outputId": "d0a8ac9a-e87c-4999-8414-0f3d27ad1348"
      },
      "source": [
        " print(f\"В сегмент 311 попало {rfmTable[rfmTable.RFM == '311'].RFM.count()} пользователей\")"
      ],
      "execution_count": 117,
      "outputs": [
        {
          "output_type": "stream",
          "text": [
            "В сегмент 311 попало 1609 пользователей\n"
          ],
          "name": "stdout"
        }
      ]
    },
    {
      "cell_type": "code",
      "metadata": {
        "colab": {
          "base_uri": "https://localhost:8080/"
        },
        "id": "XYF2WL7rg_-b",
        "outputId": "e95d6639-6672-4a81-c524-bf20b48abada"
      },
      "source": [
        "print(f\"В RFM-сегменте {rfmTable.RFM.value_counts().idxmax()} самое большое кол-во пользователей\")"
      ],
      "execution_count": 118,
      "outputs": [
        {
          "output_type": "stream",
          "text": [
            "В RFM-сегменте 444 самое большое кол-во пользователей\n"
          ],
          "name": "stdout"
        }
      ]
    },
    {
      "cell_type": "code",
      "metadata": {
        "colab": {
          "base_uri": "https://localhost:8080/"
        },
        "id": "M4wnc12NhULN",
        "outputId": "605fa0dc-c23d-4df4-b2f2-bb99db5872f3"
      },
      "source": [
        "print(f\"В RFM-сегменте {rfmTable.RFM.value_counts().idxmin()} самое маленькое кол-во пользователей. Их количество = {rfmTable.RFM.value_counts().min()}\")"
      ],
      "execution_count": 121,
      "outputs": [
        {
          "output_type": "stream",
          "text": [
            "В RFM-сегменте 414 самое маленькое кол-во пользователей. Их количество = 2\n"
          ],
          "name": "stdout"
        }
      ]
    },
    {
      "cell_type": "code",
      "metadata": {
        "colab": {
          "base_uri": "https://localhost:8080/",
          "height": 195
        },
        "id": "K73XKhCUbN5N",
        "outputId": "13ba8e9a-9c6f-486e-a51a-f6e0852831fe"
      },
      "source": [
        "pd.crosstab(rfmTable['R'], rfmTable['F'])"
      ],
      "execution_count": 119,
      "outputs": [
        {
          "output_type": "execute_result",
          "data": {
            "text/html": [
              "<div>\n",
              "<style scoped>\n",
              "    .dataframe tbody tr th:only-of-type {\n",
              "        vertical-align: middle;\n",
              "    }\n",
              "\n",
              "    .dataframe tbody tr th {\n",
              "        vertical-align: top;\n",
              "    }\n",
              "\n",
              "    .dataframe thead th {\n",
              "        text-align: right;\n",
              "    }\n",
              "</style>\n",
              "<table border=\"1\" class=\"dataframe\">\n",
              "  <thead>\n",
              "    <tr style=\"text-align: right;\">\n",
              "      <th>F</th>\n",
              "      <th>1</th>\n",
              "      <th>2</th>\n",
              "      <th>3</th>\n",
              "      <th>4</th>\n",
              "    </tr>\n",
              "    <tr>\n",
              "      <th>R</th>\n",
              "      <th></th>\n",
              "      <th></th>\n",
              "      <th></th>\n",
              "      <th></th>\n",
              "    </tr>\n",
              "  </thead>\n",
              "  <tbody>\n",
              "    <tr>\n",
              "      <th>1</th>\n",
              "      <td>14433</td>\n",
              "      <td>4671</td>\n",
              "      <td>5795</td>\n",
              "      <td>6074</td>\n",
              "    </tr>\n",
              "    <tr>\n",
              "      <th>2</th>\n",
              "      <td>9634</td>\n",
              "      <td>5889</td>\n",
              "      <td>8633</td>\n",
              "      <td>10399</td>\n",
              "    </tr>\n",
              "    <tr>\n",
              "      <th>3</th>\n",
              "      <td>3091</td>\n",
              "      <td>3748</td>\n",
              "      <td>7734</td>\n",
              "      <td>13263</td>\n",
              "    </tr>\n",
              "    <tr>\n",
              "      <th>4</th>\n",
              "      <td>542</td>\n",
              "      <td>1311</td>\n",
              "      <td>5415</td>\n",
              "      <td>23101</td>\n",
              "    </tr>\n",
              "  </tbody>\n",
              "</table>\n",
              "</div>"
            ],
            "text/plain": [
              "F      1     2     3      4\n",
              "R                          \n",
              "1  14433  4671  5795   6074\n",
              "2   9634  5889  8633  10399\n",
              "3   3091  3748  7734  13263\n",
              "4    542  1311  5415  23101"
            ]
          },
          "metadata": {
            "tags": []
          },
          "execution_count": 119
        }
      ]
    },
    {
      "cell_type": "code",
      "metadata": {
        "colab": {
          "base_uri": "https://localhost:8080/",
          "height": 285
        },
        "id": "EUfn2xDXdw3D",
        "outputId": "06bed40e-6bbd-4ccf-97cf-aa30ae0885fd"
      },
      "source": [
        "rfm_table_pivot = rfmTable.pivot_table(\r\n",
        "                        index='R', \r\n",
        "                        columns='F', \r\n",
        "                        values='Monetary', \r\n",
        "                        aggfunc=np.median).applymap(int)\r\n",
        "sns.heatmap(rfm_table_pivot, cmap=\"YlGnBu\", annot=True, fmt=\".0f\", linewidths=4.15, annot_kws={\"size\": 10},yticklabels=4);"
      ],
      "execution_count": 122,
      "outputs": [
        {
          "output_type": "display_data",
          "data": {
            "image/png": "[encoded data removed]",
            "text/plain": [
              "<Figure size 432x288 with 2 Axes>"
            ]
          },
          "metadata": {
            "tags": [],
            "needs_background": "light"
          }
        }
      ]
    },
    {
      "cell_type": "code",
      "metadata": {
        "id": "WoJbVWxUeA3n"
      },
      "source": [
        ""
      ],
      "execution_count": null,
      "outputs": []
    }
  ]
}