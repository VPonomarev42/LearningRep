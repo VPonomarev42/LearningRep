{
  "nbformat": 4,
  "nbformat_minor": 0,
  "metadata": {
    "colab": {
      "name": "product_metrics.ipynb",
      "provenance": [],
      "authorship_tag": "ABX9TyNhtQ1Ubyo8/Eqaz9R+Nbbq",
      "include_colab_link": true
    },
    "kernelspec": {
      "name": "python3",
      "display_name": "Python 3"
    }
  },
  "cells": [
    {
      "cell_type": "markdown",
      "metadata": {
        "id": "view-in-github",
        "colab_type": "text"
      },
      "source": [
        "<a href=\"https://colab.research.google.com/github/VPonomarev42/LearningRep/blob/product_metric/product/product_metrics.ipynb\" target=\"_parent\"><img src=\"https://colab.research.google.com/assets/colab-badge.svg\" alt=\"Open In Colab\"/></a>"
      ]
    },
    {
      "cell_type": "markdown",
      "metadata": {
        "id": "uviCeHkShtDq"
      },
      "source": [
        "## Задание\r\n",
        "Используя данные из выгрузки посчитать метрики:\r\n",
        "\r\n",
        "* Число уникальных пользователей\r\n",
        "* Конверсия (в покупку)\r\n",
        "* ARPU\r\n",
        "* ARPPU\r\n",
        "* Средний чек\r\n",
        "* Повторные покупки (среднее количество покупок на пользователя)"
      ]
    },
    {
      "cell_type": "markdown",
      "metadata": {
        "id": "-fI5C3Tth9cY"
      },
      "source": [
        "## Описание данных\r\n",
        "Коллега прислал вам следующие данные:\r\n",
        "\r\n",
        "* ga:date – дата\r\n",
        "* ga:clientid – идентификатор пользователя (из основной системы аналитики)\r\n",
        "* userID – идентификатор пользователя (из другой системы)\r\n",
        "* ga:transaction_id – id транзакции\r\n",
        "* ga:revenue – доход\r\n",
        "* ga:user – колонка с единственной ячейкой, в ней хранится число уникальных пользователей"
      ]
    },
    {
      "cell_type": "code",
      "metadata": {
        "id": "tqHma_VRhYWE"
      },
      "source": [
        "import pandas as pd\r\n",
        "import seaborn as sns\r\n",
        "import matplotlib as plt\r\n",
        "\r\n",
        "%matplotlib inline"
      ],
      "execution_count": 2,
      "outputs": []
    },
    {
      "cell_type": "code",
      "metadata": {
        "id": "AhIixsauhlxS"
      },
      "source": [
        ""
      ],
      "execution_count": null,
      "outputs": []
    }
  ]
}