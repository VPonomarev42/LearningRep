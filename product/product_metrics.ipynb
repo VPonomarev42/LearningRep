{
  "nbformat": 4,
  "nbformat_minor": 0,
  "metadata": {
    "colab": {
      "name": "product_metrics.ipynb",
      "provenance": [],
      "authorship_tag": "ABX9TyO6L2Bnaew2UXVHsE2b25SJ"
    },
    "kernelspec": {
      "name": "python3",
      "display_name": "Python 3"
    }
  },
  "cells": [
    {
      "cell_type": "markdown",
      "metadata": {
        "id": "uviCeHkShtDq"
      },
      "source": [
        "## Задание\r\n",
        "Используя данные из выгрузки посчитать метрики:\r\n",
        "\r\n",
        "* Число уникальных пользователей\r\n",
        "* Конверсия (в покупку)\r\n",
        "* ARPU\r\n",
        "* ARPPU\r\n",
        "* Средний чек\r\n",
        "* Повторные покупки (среднее количество покупок на пользователя)"
      ]
    },
    {
      "cell_type": "markdown",
      "metadata": {
        "id": "-fI5C3Tth9cY"
      },
      "source": [
        "## Описание данных\r\n",
        "Коллега прислал вам следующие данные:\r\n",
        "\r\n",
        "* ga:date – дата\r\n",
        "* ga:clientid – идентификатор пользователя (из основной системы аналитики)\r\n",
        "* userID – идентификатор пользователя (из другой системы)\r\n",
        "* ga:transaction_id – id транзакции\r\n",
        "* ga:revenue – доход\r\n",
        "* ga:user – колонка с единственной ячейкой, в ней хранится число уникальных пользователей"
      ]
    },
    {
      "cell_type": "code",
      "metadata": {
        "id": "tqHma_VRhYWE"
      },
      "source": [
        "import pandas as pd\r\n",
        "import seaborn as sns\r\n",
        "import matplotlib as plt\r\n",
        "import numpy as np\r\n",
        "\r\n",
        "%matplotlib inline"
      ],
      "execution_count": 1,
      "outputs": []
    },
    {
      "cell_type": "code",
      "metadata": {
        "id": "AhIixsauhlxS"
      },
      "source": [
        "data = pd.read_csv('https://stepik.org/media/attachments/lesson/423116/august_data.csv', parse_dates=[0])"
      ],
      "execution_count": 2,
      "outputs": []
    },
    {
      "cell_type": "code",
      "metadata": {
        "id": "vLiT230ii9j9"
      },
      "source": [
        "data.columns = [x.replace('ga:','') for x in data.columns]"
      ],
      "execution_count": 3,
      "outputs": []
    },
    {
      "cell_type": "markdown",
      "metadata": {
        "id": "lLbUYqPOi1P7"
      },
      "source": [
        "## 1. Уникальные пользователи"
      ]
    },
    {
      "cell_type": "code",
      "metadata": {
        "colab": {
          "base_uri": "https://localhost:8080/",
          "height": 195
        },
        "id": "x8rL_nani0j3",
        "outputId": "c5446c7c-daec-4153-d71f-a216e7f3bb2a"
      },
      "source": [
        "data.head()"
      ],
      "execution_count": 4,
      "outputs": [
        {
          "output_type": "execute_result",
          "data": {
            "text/html": [
              "<div>\n",
              "<style scoped>\n",
              "    .dataframe tbody tr th:only-of-type {\n",
              "        vertical-align: middle;\n",
              "    }\n",
              "\n",
              "    .dataframe tbody tr th {\n",
              "        vertical-align: top;\n",
              "    }\n",
              "\n",
              "    .dataframe thead th {\n",
              "        text-align: right;\n",
              "    }\n",
              "</style>\n",
              "<table border=\"1\" class=\"dataframe\">\n",
              "  <thead>\n",
              "    <tr style=\"text-align: right;\">\n",
              "      <th></th>\n",
              "      <th>date</th>\n",
              "      <th>clientid</th>\n",
              "      <th>userID</th>\n",
              "      <th>transaction_id</th>\n",
              "      <th>revenue</th>\n",
              "      <th>Unnamed: 5</th>\n",
              "      <th>user</th>\n",
              "    </tr>\n",
              "  </thead>\n",
              "  <tbody>\n",
              "    <tr>\n",
              "      <th>0</th>\n",
              "      <td>2019-08-28 12:29:24</td>\n",
              "      <td>2.802509e+08</td>\n",
              "      <td>7,186,054</td>\n",
              "      <td>383919</td>\n",
              "      <td>28103</td>\n",
              "      <td>NaN</td>\n",
              "      <td>141000.0</td>\n",
              "    </tr>\n",
              "    <tr>\n",
              "      <th>1</th>\n",
              "      <td>2019-08-28 12:27:12</td>\n",
              "      <td>8.196637e+08</td>\n",
              "      <td>7,186,010</td>\n",
              "      <td>97225</td>\n",
              "      <td>177697</td>\n",
              "      <td>NaN</td>\n",
              "      <td>NaN</td>\n",
              "    </tr>\n",
              "    <tr>\n",
              "      <th>2</th>\n",
              "      <td>2019-08-28 11:43:24</td>\n",
              "      <td>1.751156e+09</td>\n",
              "      <td>7,184,859</td>\n",
              "      <td>385087</td>\n",
              "      <td>64892</td>\n",
              "      <td>NaN</td>\n",
              "      <td>NaN</td>\n",
              "    </tr>\n",
              "    <tr>\n",
              "      <th>3</th>\n",
              "      <td>2019-08-28 11:40:50</td>\n",
              "      <td>5.515333e+08</td>\n",
              "      <td>7,186,029</td>\n",
              "      <td>385392</td>\n",
              "      <td>38816</td>\n",
              "      <td>NaN</td>\n",
              "      <td>NaN</td>\n",
              "    </tr>\n",
              "    <tr>\n",
              "      <th>4</th>\n",
              "      <td>2019-08-28 11:25:31</td>\n",
              "      <td>4.527935e+08</td>\n",
              "      <td>7,183,548</td>\n",
              "      <td>385871</td>\n",
              "      <td>3112</td>\n",
              "      <td>NaN</td>\n",
              "      <td>NaN</td>\n",
              "    </tr>\n",
              "  </tbody>\n",
              "</table>\n",
              "</div>"
            ],
            "text/plain": [
              "                 date      clientid     userID  ... revenue  Unnamed: 5     user \n",
              "0 2019-08-28 12:29:24  2.802509e+08  7,186,054  ...   28103         NaN  141000.0\n",
              "1 2019-08-28 12:27:12  8.196637e+08  7,186,010  ...  177697         NaN       NaN\n",
              "2 2019-08-28 11:43:24  1.751156e+09  7,184,859  ...   64892         NaN       NaN\n",
              "3 2019-08-28 11:40:50  5.515333e+08  7,186,029  ...   38816         NaN       NaN\n",
              "4 2019-08-28 11:25:31  4.527935e+08  7,183,548  ...    3112         NaN       NaN\n",
              "\n",
              "[5 rows x 7 columns]"
            ]
          },
          "metadata": {
            "tags": []
          },
          "execution_count": 4
        }
      ]
    },
    {
      "cell_type": "code",
      "metadata": {
        "id": "aoGJsy4ki8MV"
      },
      "source": [
        "data = data.drop(columns=['userID','Unnamed: 5']) #удаляем идентифиактор из другой системы аналитики и пустой столбец, они нам не нужны для расчет"
      ],
      "execution_count": 5,
      "outputs": []
    },
    {
      "cell_type": "code",
      "metadata": {
        "colab": {
          "base_uri": "https://localhost:8080/",
          "height": 195
        },
        "id": "uEv9dTcejxTB",
        "outputId": "7f1824b0-477d-4496-b58c-19b5aa7b6f27"
      },
      "source": [
        "data.head()"
      ],
      "execution_count": 6,
      "outputs": [
        {
          "output_type": "execute_result",
          "data": {
            "text/html": [
              "<div>\n",
              "<style scoped>\n",
              "    .dataframe tbody tr th:only-of-type {\n",
              "        vertical-align: middle;\n",
              "    }\n",
              "\n",
              "    .dataframe tbody tr th {\n",
              "        vertical-align: top;\n",
              "    }\n",
              "\n",
              "    .dataframe thead th {\n",
              "        text-align: right;\n",
              "    }\n",
              "</style>\n",
              "<table border=\"1\" class=\"dataframe\">\n",
              "  <thead>\n",
              "    <tr style=\"text-align: right;\">\n",
              "      <th></th>\n",
              "      <th>date</th>\n",
              "      <th>clientid</th>\n",
              "      <th>transaction_id</th>\n",
              "      <th>revenue</th>\n",
              "      <th>user</th>\n",
              "    </tr>\n",
              "  </thead>\n",
              "  <tbody>\n",
              "    <tr>\n",
              "      <th>0</th>\n",
              "      <td>2019-08-28 12:29:24</td>\n",
              "      <td>2.802509e+08</td>\n",
              "      <td>383919</td>\n",
              "      <td>28103</td>\n",
              "      <td>141000.0</td>\n",
              "    </tr>\n",
              "    <tr>\n",
              "      <th>1</th>\n",
              "      <td>2019-08-28 12:27:12</td>\n",
              "      <td>8.196637e+08</td>\n",
              "      <td>97225</td>\n",
              "      <td>177697</td>\n",
              "      <td>NaN</td>\n",
              "    </tr>\n",
              "    <tr>\n",
              "      <th>2</th>\n",
              "      <td>2019-08-28 11:43:24</td>\n",
              "      <td>1.751156e+09</td>\n",
              "      <td>385087</td>\n",
              "      <td>64892</td>\n",
              "      <td>NaN</td>\n",
              "    </tr>\n",
              "    <tr>\n",
              "      <th>3</th>\n",
              "      <td>2019-08-28 11:40:50</td>\n",
              "      <td>5.515333e+08</td>\n",
              "      <td>385392</td>\n",
              "      <td>38816</td>\n",
              "      <td>NaN</td>\n",
              "    </tr>\n",
              "    <tr>\n",
              "      <th>4</th>\n",
              "      <td>2019-08-28 11:25:31</td>\n",
              "      <td>4.527935e+08</td>\n",
              "      <td>385871</td>\n",
              "      <td>3112</td>\n",
              "      <td>NaN</td>\n",
              "    </tr>\n",
              "  </tbody>\n",
              "</table>\n",
              "</div>"
            ],
            "text/plain": [
              "                 date      clientid transaction_id  revenue     user \n",
              "0 2019-08-28 12:29:24  2.802509e+08         383919    28103  141000.0\n",
              "1 2019-08-28 12:27:12  8.196637e+08          97225   177697       NaN\n",
              "2 2019-08-28 11:43:24  1.751156e+09         385087    64892       NaN\n",
              "3 2019-08-28 11:40:50  5.515333e+08         385392    38816       NaN\n",
              "4 2019-08-28 11:25:31  4.527935e+08         385871     3112       NaN"
            ]
          },
          "metadata": {
            "tags": []
          },
          "execution_count": 6
        }
      ]
    },
    {
      "cell_type": "code",
      "metadata": {
        "colab": {
          "base_uri": "https://localhost:8080/"
        },
        "id": "9vZb8I0ojydR",
        "outputId": "ece069c5-547b-4a28-e5b3-83c40e117964"
      },
      "source": [
        "unique_users = int(data.iloc[0,4])\r\n",
        "print(f'Количество уникальных пользователей равняется = {unique_users}')"
      ],
      "execution_count": 7,
      "outputs": [
        {
          "output_type": "stream",
          "text": [
            "Количество уникальных пользователей равняется = 141000\n"
          ],
          "name": "stdout"
        }
      ]
    },
    {
      "cell_type": "markdown",
      "metadata": {
        "id": "MLTHWjxPlUuD"
      },
      "source": [
        "## 2. Количество платящих пользователей(клиентов)"
      ]
    },
    {
      "cell_type": "code",
      "metadata": {
        "colab": {
          "base_uri": "https://localhost:8080/"
        },
        "id": "fAmRUxOdkD0H",
        "outputId": "bbe53446-ea59-454a-b5b6-3f86b36a149b"
      },
      "source": [
        "payer_user = int(data.query('revenue > 0').clientid.nunique())\r\n",
        "print(f\"Количество клиентов равняется = {payer_user}\")"
      ],
      "execution_count": 8,
      "outputs": [
        {
          "output_type": "stream",
          "text": [
            "Количество клиентов равняется = 685\n"
          ],
          "name": "stdout"
        }
      ]
    },
    {
      "cell_type": "markdown",
      "metadata": {
        "id": "OAQ3CLq1l057"
      },
      "source": [
        "## 3. Конверсия"
      ]
    },
    {
      "cell_type": "code",
      "metadata": {
        "colab": {
          "base_uri": "https://localhost:8080/"
        },
        "id": "F7SgijOIkYBZ",
        "outputId": "4902283f-de8d-4518-81fd-2e6002aff2b3"
      },
      "source": [
        "conversion = np.round(payer_user / unique_users * 100, 2)\r\n",
        "print(f\"Конверсия равняется = {conversion}%\")"
      ],
      "execution_count": 9,
      "outputs": [
        {
          "output_type": "stream",
          "text": [
            "Конверсия равняется = 0.49%\n"
          ],
          "name": "stdout"
        }
      ]
    },
    {
      "cell_type": "markdown",
      "metadata": {
        "id": "lpPwQkVNn6qC"
      },
      "source": [
        "## 4. Средний чек"
      ]
    },
    {
      "cell_type": "code",
      "metadata": {
        "colab": {
          "base_uri": "https://localhost:8080/"
        },
        "id": "ZnUO5olzoIlL",
        "outputId": "7aea9a22-c4ba-460e-ceb7-8b21b9436b44"
      },
      "source": [
        "np.round(data.revenue.sum() / data.query('revenue > 0').revenue.count(), 0)"
      ],
      "execution_count": 20,
      "outputs": [
        {
          "output_type": "execute_result",
          "data": {
            "text/plain": [
              "34458.0"
            ]
          },
          "metadata": {
            "tags": []
          },
          "execution_count": 20
        }
      ]
    },
    {
      "cell_type": "code",
      "metadata": {
        "colab": {
          "base_uri": "https://localhost:8080/"
        },
        "id": "XEVxf9JamRgO",
        "outputId": "07b3580a-48b0-47c6-a115-6e81c931ebbb"
      },
      "source": [
        "avg_check = np.round(np.round(data.revenue.sum() / data.query('revenue > 0').revenue.count(), 0), 0)\r\n",
        "print(f\"Средний чек равняется = {int(avg_check)}\")"
      ],
      "execution_count": 21,
      "outputs": [
        {
          "output_type": "stream",
          "text": [
            "Средний чек равняется = 34458\n"
          ],
          "name": "stdout"
        }
      ]
    },
    {
      "cell_type": "markdown",
      "metadata": {
        "id": "DFTzM8ds6TMz"
      },
      "source": [
        "## 5. Повторные покупки"
      ]
    },
    {
      "cell_type": "code",
      "metadata": {
        "colab": {
          "base_uri": "https://localhost:8080/"
        },
        "id": "aUFNRqmcoen7",
        "outputId": "3c148617-22e7-4d66-e016-abe44fbdbacf"
      },
      "source": [
        "repeat_purschase = data.query('revenue > 0').revenue.count() / payer_user\r\n",
        "print(f\"Количество повторных покупок равняется = {np.round(repeat_purschase, 2)}\")"
      ],
      "execution_count": 24,
      "outputs": [
        {
          "output_type": "stream",
          "text": [
            "Количество повторных покупок равняется = 1.36\n"
          ],
          "name": "stdout"
        }
      ]
    },
    {
      "cell_type": "markdown",
      "metadata": {
        "id": "J8c0Jqqg7Doq"
      },
      "source": [
        "## 6. Средний доход на платящего пользователя (ARPPU)"
      ]
    },
    {
      "cell_type": "code",
      "metadata": {
        "colab": {
          "base_uri": "https://localhost:8080/"
        },
        "id": "UCLAS_1v7Ijm",
        "outputId": "013d0de2-398f-47cf-a9d7-eeb904234cc3"
      },
      "source": [
        "arppu = repeat_purschase * avg_check\r\n",
        "print(f\"Средний доход на платящего пользователя равняется = {np.round(arppu, 0)}\")"
      ],
      "execution_count": 26,
      "outputs": [
        {
          "output_type": "stream",
          "text": [
            "Количество повторных покупок равняется = 46883.0\n"
          ],
          "name": "stdout"
        }
      ]
    },
    {
      "cell_type": "markdown",
      "metadata": {
        "id": "ZgsSb1nJ7Vov"
      },
      "source": [
        "## 7. Средний доход на пользователя (ARPU)"
      ]
    },
    {
      "cell_type": "code",
      "metadata": {
        "colab": {
          "base_uri": "https://localhost:8080/"
        },
        "id": "8TUzVT6bqOgK",
        "outputId": "b381e219-7b7f-4603-f938-06cf4a94e829"
      },
      "source": [
        "arpu = (payer_user / unique_users) * (data.revenue.sum() / payer_user)\r\n",
        "print(f\"Средний доход на пользователя равняется = {np.round(arpu, 0)}\")"
      ],
      "execution_count": 35,
      "outputs": [
        {
          "output_type": "stream",
          "text": [
            "Средний доход на пользователя равняется = 228.0\n"
          ],
          "name": "stdout"
        }
      ]
    },
    {
      "cell_type": "code",
      "metadata": {
        "id": "dw_RICSUrEkV"
      },
      "source": [
        ""
      ],
      "execution_count": 35,
      "outputs": []
    },
    {
      "cell_type": "code",
      "metadata": {
        "id": "STQwbEkqryQs"
      },
      "source": [
        ""
      ],
      "execution_count": 35,
      "outputs": []
    },
    {
      "cell_type": "code",
      "metadata": {
        "id": "UTsgNIzT80hF"
      },
      "source": [
        ""
      ],
      "execution_count": null,
      "outputs": []
    }
  ]
}