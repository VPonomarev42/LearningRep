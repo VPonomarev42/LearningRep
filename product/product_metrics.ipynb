{
  "nbformat": 4,
  "nbformat_minor": 0,
  "metadata": {
    "colab": {
      "name": "product_metrics.ipynb",
      "provenance": [],
      "authorship_tag": "ABX9TyPa+jrApCZRAIiLu8lV3bZf",
      "include_colab_link": true
    },
    "kernelspec": {
      "name": "python3",
      "display_name": "Python 3"
    }
  },
  "cells": [
    {
      "cell_type": "markdown",
      "metadata": {
        "id": "view-in-github",
        "colab_type": "text"
      },
      "source": [
        "<a href=\"https://colab.research.google.com/github/VPonomarev42/LearningRep/blob/product_metric/product/product_metrics.ipynb\" target=\"_parent\"><img src=\"https://colab.research.google.com/assets/colab-badge.svg\" alt=\"Open In Colab\"/></a>"
      ]
    },
    {
      "cell_type": "markdown",
      "metadata": {
        "id": "uviCeHkShtDq"
      },
      "source": [
        "## Задание\r\n",
        "Используя данные из выгрузки посчитать метрики:\r\n",
        "\r\n",
        "* Число уникальных пользователей\r\n",
        "* Конверсия (в покупку)\r\n",
        "* ARPU\r\n",
        "* ARPPU\r\n",
        "* Средний чек\r\n",
        "* Повторные покупки (среднее количество покупок на пользователя)"
      ]
    },
    {
      "cell_type": "markdown",
      "metadata": {
        "id": "-fI5C3Tth9cY"
      },
      "source": [
        "## Описание данных\r\n",
        "Коллега прислал вам следующие данные:\r\n",
        "\r\n",
        "* ga:date – дата\r\n",
        "* ga:clientid – идентификатор пользователя (из основной системы аналитики)\r\n",
        "* userID – идентификатор пользователя (из другой системы)\r\n",
        "* ga:transaction_id – id транзакции\r\n",
        "* ga:revenue – доход\r\n",
        "* ga:user – колонка с единственной ячейкой, в ней хранится число уникальных пользователей"
      ]
    },
    {
      "cell_type": "code",
      "metadata": {
        "id": "tqHma_VRhYWE"
      },
      "source": [
        "import pandas as pd\r\n",
        "import seaborn as sns\r\n",
        "import matplotlib as plt\r\n",
        "import numpy as np\r\n",
        "\r\n",
        "%matplotlib inline"
      ],
      "execution_count": 38,
      "outputs": []
    },
    {
      "cell_type": "code",
      "metadata": {
        "id": "AhIixsauhlxS"
      },
      "source": [
        "data = pd.read_csv('https://stepik.org/media/attachments/lesson/423116/august_data.csv', parse_dates=[0])"
      ],
      "execution_count": 14,
      "outputs": []
    },
    {
      "cell_type": "code",
      "metadata": {
        "id": "vLiT230ii9j9"
      },
      "source": [
        "data.columns = [x.replace('ga:','') for x in data.columns]"
      ],
      "execution_count": 15,
      "outputs": []
    },
    {
      "cell_type": "markdown",
      "metadata": {
        "id": "lLbUYqPOi1P7"
      },
      "source": [
        "## 1. Уникальные пользователи"
      ]
    },
    {
      "cell_type": "code",
      "metadata": {
        "colab": {
          "base_uri": "https://localhost:8080/",
          "height": 195
        },
        "id": "x8rL_nani0j3",
        "outputId": "03f671e0-4ca8-4448-ac59-e9307b7add45"
      },
      "source": [
        "data.head()"
      ],
      "execution_count": 16,
      "outputs": [
        {
          "output_type": "execute_result",
          "data": {
            "text/html": [
              "<div>\n",
              "<style scoped>\n",
              "    .dataframe tbody tr th:only-of-type {\n",
              "        vertical-align: middle;\n",
              "    }\n",
              "\n",
              "    .dataframe tbody tr th {\n",
              "        vertical-align: top;\n",
              "    }\n",
              "\n",
              "    .dataframe thead th {\n",
              "        text-align: right;\n",
              "    }\n",
              "</style>\n",
              "<table border=\"1\" class=\"dataframe\">\n",
              "  <thead>\n",
              "    <tr style=\"text-align: right;\">\n",
              "      <th></th>\n",
              "      <th>date</th>\n",
              "      <th>clientid</th>\n",
              "      <th>userID</th>\n",
              "      <th>transaction_id</th>\n",
              "      <th>revenue</th>\n",
              "      <th>Unnamed: 5</th>\n",
              "      <th>user</th>\n",
              "    </tr>\n",
              "  </thead>\n",
              "  <tbody>\n",
              "    <tr>\n",
              "      <th>0</th>\n",
              "      <td>2019-08-28 12:29:24</td>\n",
              "      <td>2.802509e+08</td>\n",
              "      <td>7,186,054</td>\n",
              "      <td>383919</td>\n",
              "      <td>28103</td>\n",
              "      <td>NaN</td>\n",
              "      <td>141000.0</td>\n",
              "    </tr>\n",
              "    <tr>\n",
              "      <th>1</th>\n",
              "      <td>2019-08-28 12:27:12</td>\n",
              "      <td>8.196637e+08</td>\n",
              "      <td>7,186,010</td>\n",
              "      <td>97225</td>\n",
              "      <td>177697</td>\n",
              "      <td>NaN</td>\n",
              "      <td>NaN</td>\n",
              "    </tr>\n",
              "    <tr>\n",
              "      <th>2</th>\n",
              "      <td>2019-08-28 11:43:24</td>\n",
              "      <td>1.751156e+09</td>\n",
              "      <td>7,184,859</td>\n",
              "      <td>385087</td>\n",
              "      <td>64892</td>\n",
              "      <td>NaN</td>\n",
              "      <td>NaN</td>\n",
              "    </tr>\n",
              "    <tr>\n",
              "      <th>3</th>\n",
              "      <td>2019-08-28 11:40:50</td>\n",
              "      <td>5.515333e+08</td>\n",
              "      <td>7,186,029</td>\n",
              "      <td>385392</td>\n",
              "      <td>38816</td>\n",
              "      <td>NaN</td>\n",
              "      <td>NaN</td>\n",
              "    </tr>\n",
              "    <tr>\n",
              "      <th>4</th>\n",
              "      <td>2019-08-28 11:25:31</td>\n",
              "      <td>4.527935e+08</td>\n",
              "      <td>7,183,548</td>\n",
              "      <td>385871</td>\n",
              "      <td>3112</td>\n",
              "      <td>NaN</td>\n",
              "      <td>NaN</td>\n",
              "    </tr>\n",
              "  </tbody>\n",
              "</table>\n",
              "</div>"
            ],
            "text/plain": [
              "                 date      clientid     userID  ... revenue  Unnamed: 5     user \n",
              "0 2019-08-28 12:29:24  2.802509e+08  7,186,054  ...   28103         NaN  141000.0\n",
              "1 2019-08-28 12:27:12  8.196637e+08  7,186,010  ...  177697         NaN       NaN\n",
              "2 2019-08-28 11:43:24  1.751156e+09  7,184,859  ...   64892         NaN       NaN\n",
              "3 2019-08-28 11:40:50  5.515333e+08  7,186,029  ...   38816         NaN       NaN\n",
              "4 2019-08-28 11:25:31  4.527935e+08  7,183,548  ...    3112         NaN       NaN\n",
              "\n",
              "[5 rows x 7 columns]"
            ]
          },
          "metadata": {
            "tags": []
          },
          "execution_count": 16
        }
      ]
    },
    {
      "cell_type": "code",
      "metadata": {
        "id": "aoGJsy4ki8MV"
      },
      "source": [
        "data = data.drop(columns=['userID','Unnamed: 5']) #удаляем идентифиактор из другой системы аналитики и пустой столбец, они нам не нужны для расчет"
      ],
      "execution_count": 17,
      "outputs": []
    },
    {
      "cell_type": "code",
      "metadata": {
        "colab": {
          "base_uri": "https://localhost:8080/",
          "height": 195
        },
        "id": "uEv9dTcejxTB",
        "outputId": "c000997b-eabb-4a58-91ec-2d50af2403be"
      },
      "source": [
        "data.head()"
      ],
      "execution_count": 25,
      "outputs": [
        {
          "output_type": "execute_result",
          "data": {
            "text/html": [
              "<div>\n",
              "<style scoped>\n",
              "    .dataframe tbody tr th:only-of-type {\n",
              "        vertical-align: middle;\n",
              "    }\n",
              "\n",
              "    .dataframe tbody tr th {\n",
              "        vertical-align: top;\n",
              "    }\n",
              "\n",
              "    .dataframe thead th {\n",
              "        text-align: right;\n",
              "    }\n",
              "</style>\n",
              "<table border=\"1\" class=\"dataframe\">\n",
              "  <thead>\n",
              "    <tr style=\"text-align: right;\">\n",
              "      <th></th>\n",
              "      <th>date</th>\n",
              "      <th>clientid</th>\n",
              "      <th>transaction_id</th>\n",
              "      <th>revenue</th>\n",
              "      <th>user</th>\n",
              "    </tr>\n",
              "  </thead>\n",
              "  <tbody>\n",
              "    <tr>\n",
              "      <th>0</th>\n",
              "      <td>2019-08-28 12:29:24</td>\n",
              "      <td>2.802509e+08</td>\n",
              "      <td>383919</td>\n",
              "      <td>28103</td>\n",
              "      <td>141000.0</td>\n",
              "    </tr>\n",
              "    <tr>\n",
              "      <th>1</th>\n",
              "      <td>2019-08-28 12:27:12</td>\n",
              "      <td>8.196637e+08</td>\n",
              "      <td>97225</td>\n",
              "      <td>177697</td>\n",
              "      <td>NaN</td>\n",
              "    </tr>\n",
              "    <tr>\n",
              "      <th>2</th>\n",
              "      <td>2019-08-28 11:43:24</td>\n",
              "      <td>1.751156e+09</td>\n",
              "      <td>385087</td>\n",
              "      <td>64892</td>\n",
              "      <td>NaN</td>\n",
              "    </tr>\n",
              "    <tr>\n",
              "      <th>3</th>\n",
              "      <td>2019-08-28 11:40:50</td>\n",
              "      <td>5.515333e+08</td>\n",
              "      <td>385392</td>\n",
              "      <td>38816</td>\n",
              "      <td>NaN</td>\n",
              "    </tr>\n",
              "    <tr>\n",
              "      <th>4</th>\n",
              "      <td>2019-08-28 11:25:31</td>\n",
              "      <td>4.527935e+08</td>\n",
              "      <td>385871</td>\n",
              "      <td>3112</td>\n",
              "      <td>NaN</td>\n",
              "    </tr>\n",
              "  </tbody>\n",
              "</table>\n",
              "</div>"
            ],
            "text/plain": [
              "                 date      clientid transaction_id  revenue     user \n",
              "0 2019-08-28 12:29:24  2.802509e+08         383919    28103  141000.0\n",
              "1 2019-08-28 12:27:12  8.196637e+08          97225   177697       NaN\n",
              "2 2019-08-28 11:43:24  1.751156e+09         385087    64892       NaN\n",
              "3 2019-08-28 11:40:50  5.515333e+08         385392    38816       NaN\n",
              "4 2019-08-28 11:25:31  4.527935e+08         385871     3112       NaN"
            ]
          },
          "metadata": {
            "tags": []
          },
          "execution_count": 25
        }
      ]
    },
    {
      "cell_type": "code",
      "metadata": {
        "colab": {
          "base_uri": "https://localhost:8080/"
        },
        "id": "9vZb8I0ojydR",
        "outputId": "eef04d1e-2d5c-477d-d0a4-01a5eefd26af"
      },
      "source": [
        "unique_users = int(data.iloc[0,4])\r\n",
        "print(f'Количество уникальных пользователей равняется = {unique_users}')"
      ],
      "execution_count": 43,
      "outputs": [
        {
          "output_type": "stream",
          "text": [
            "Количество уникальных пользователей равняется = 141000\n"
          ],
          "name": "stdout"
        }
      ]
    },
    {
      "cell_type": "markdown",
      "metadata": {
        "id": "MLTHWjxPlUuD"
      },
      "source": [
        "## 2. Количество платящих пользователей(клиентов)"
      ]
    },
    {
      "cell_type": "code",
      "metadata": {
        "colab": {
          "base_uri": "https://localhost:8080/"
        },
        "id": "fAmRUxOdkD0H",
        "outputId": "2d72530f-6bff-4ba7-bce1-c51f61ae204b"
      },
      "source": [
        "payer_user = int(data.query('revenue > 0').clientid.nunique())\r\n",
        "print(f\"Количество клиентов равняется = {payer_user}\")"
      ],
      "execution_count": 44,
      "outputs": [
        {
          "output_type": "stream",
          "text": [
            "Количество клиентов равняется = 685\n"
          ],
          "name": "stdout"
        }
      ]
    },
    {
      "cell_type": "markdown",
      "metadata": {
        "id": "OAQ3CLq1l057"
      },
      "source": [
        "## 3. Конверсия"
      ]
    },
    {
      "cell_type": "code",
      "metadata": {
        "colab": {
          "base_uri": "https://localhost:8080/"
        },
        "id": "F7SgijOIkYBZ",
        "outputId": "5280655c-0f9e-4b0a-861d-1dfa128307c9"
      },
      "source": [
        "conversion = np.round(payer_user / unique_users * 100, 2)\r\n",
        "print(f\"Конверсия равняется = {conversion}%\")"
      ],
      "execution_count": 46,
      "outputs": [
        {
          "output_type": "stream",
          "text": [
            "Конверсия равняется = 0.49%\n"
          ],
          "name": "stdout"
        }
      ]
    },
    {
      "cell_type": "code",
      "metadata": {
        "id": "XEVxf9JamRgO"
      },
      "source": [
        ""
      ],
      "execution_count": null,
      "outputs": []
    }
  ]
}